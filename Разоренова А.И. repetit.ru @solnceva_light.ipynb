{
  "cells": [
    {
      "cell_type": "markdown",
      "source": [
        "# Проект для сайта Repetit.ru"
      ],
      "metadata": {
        "id": "obT4hlK3F9Ez"
      }
    },
    {
      "cell_type": "markdown",
      "source": [
        "## Описание проекта\n",
        "Сервис Repetit.ru работает с большим количеством заявок от клиентов с данными о предмете, желаемой стоимости, возрасте ученика, целью занятий и тд. К сожалению, 7 из 8 не доходят до оплаты, при этом обработка заявки консультантом увеличивает конверсию в оплату на 30%.\n",
        "Проблема в том, что консультантов не хватает на все заявки и получается, что чем больше заявок — тем меньше конверсия из заявки в оплату и консультанты тратят время на бесперспективные заявки.\n",
        "\n",
        "### Задача\n",
        "Разработать модель, которая по имеющейся информации о клиенте и заявке будет предсказывать вероятность оплаты заявки клиентом. Заказчик хочет понять, какие заявки будут оплачены, а какие нет, чтобы одни обрабатывать вручную консультантами, а другие нет. Оценка качества модели будет производиться с использованием precision и ROC-AUC.\n"
      ],
      "metadata": {
        "id": "bsC8iUV-GFsG"
      }
    },
    {
      "cell_type": "markdown",
      "source": [
        "## Описание данных\n",
        "***Заявки (orders*.feather)***\n",
        "- order_date - дата создания\n",
        "- subject_id - предмет\n",
        "- purpose - цель занятий\n",
        "- lesson_price - цена\n",
        "- lesson_duration - желаемая проодолжительность урока\n",
        "- home_metro_id - ближайшее метро\n",
        "- add_info - доп инфо\n",
        "- start_date\n",
        "- working_teacher_id\n",
        "- status_id - оплачена ли заявка\n",
        "- comments   \n",
        "- amount_to_pay\n",
        "- planned_lesson_number - клиент планирует N занятий\n",
        "- first_lesson_date - дата 1 занятия\n",
        "- coef - коэффициент\n",
        "- creator_id - кто создал заявку (id сотрудника или клиента)\n",
        "- pupil_category_new_id - возраст ученика\n",
        "- lessons_per_week - занятий а неделю\n",
        "- minimal_price\n",
        "- teacher_sex - пол репетитора\n",
        "- teacher_experience_from - опыт репетитора от\n",
        "- teacher_experience_to- опыт репетитора до\n",
        "- lesson_place_new - онлайн, у ученика, у учителя\n",
        "- pupil_knowledgelvl -уровень знаний ученика\n",
        "- teacher_age_from - желаемый возраст репеитора от\n",
        "- teacher_age_to - желаемый возраст репеитора от\n",
        "- chosen_teachers_only - не предлагать репетиторов кроме выбранных самостоятельно\n",
        "- no_teachers_available - на заявку нет подходящих репов\n",
        "- source_id - где создана заявка (какая часть сайта, не регион)\n",
        "- original_order_id - дублем какой заявки является эта заявка\n",
        "- client_id - айди клиента\n",
        "- additional_status_id\n",
        "- max_metro_distance - максимально готов ехать от метро\n",
        "- estimated_fee\n",
        "- payment_date\n",
        "- test_group - аб тесты\n",
        "- is_display_to_teachers - хочет ли клиент получать отклики репетиторов\n",
        "***Репетиторы (teacher_info.feather)***\n",
        "- date_update\n",
        "- reg_date\n",
        "- birth_date\n",
        "- teaching_start_date\n",
        "- user_id - айди\n",
        "- is_email_confirmed\n",
        "- is_home_lessons\n",
        "- is_external_lessons\n",
        "- external_comments\n",
        "- lesson_duration - продолжит урока\n",
        "- lesson_cost - стоимость урока\n",
        "- status_id\n",
        "- status_relevant_date\n",
        "- status_school_id\n",
        "- status_college_id\n",
        "- status_display\n",
        "- russian_level_id\n",
        "- home_country_id\n",
        "- education\n",
        "- information\n",
        "- is_confirmed\n",
        "- is_display - показывается в каталоге\n",
        "- rating_id\n",
        "- rating - рейтинг\n",
        "- comments\n",
        "- rules_confirmed_date\n",
        "- last_visited - послеждний визит\n",
        "- is_pupils_needed - открыт для заявок\n",
        "- is_cell_phone_confirmed\n",
        "- effective_rating - какой-то еще рейтинг\n",
        "- area_id\n",
        "- registrar_id\n",
        "- pupil_needed_date\n",
        "- sex\n",
        "- amount_to_pay - долг\n",
        "- is_remote_lessons\n",
        "- remote_comments\n",
        "- show_on_map\n",
        "- send_mailing\n",
        "- send_suitable_orders\n",
        "- rating_for_users - рейтинг 2\n",
        "- rating_for_admin - рейтинг 3\n",
        "- passport_id\n",
        "- is_edited\n",
        "- orders_allowed - разрешено назначать на заявки\n",
        "- display_days\n",
        "- verification_status_id\n",
        "- is_individual\n",
        "- partner_id\n",
        "- star_rating - рейтинг 4\n",
        "- rating_for_users_yesterday - рейтинг вчера\n",
        "- review_num - отзывы\n",
        "- relevance_date\n",
        "- is_display_at_partners\n",
        "- video_presentation_id - есть видеопрезентация\n",
        "- status_institution_id\n",
        "- Free_time_relevance_date\n",
        "\n",
        "***Подходящие по фильтру репетиторы (suitable_teachers.feather)***\n",
        "- tteacher_id - id репетитора\n",
        "- order_id - id заявки\n",
        "- contact_result    \n",
        "- enable_auto_assign\n",
        "- enable_assign\n",
        "\n",
        "\n"
      ],
      "metadata": {
        "id": "VO_4zH-tMPhf"
      }
    },
    {
      "cell_type": "markdown",
      "source": [
        "## Загрузка и обработка данных"
      ],
      "metadata": {
        "id": "qJlC0oyGOt28"
      }
    },
    {
      "cell_type": "markdown",
      "source": [
        "Перед началом работы устанавливаем все необходимые нам расширения и загружаем библиотеки, которые будем использовать в работе"
      ],
      "metadata": {
        "id": "kOWQDiGRPeAb"
      }
    },
    {
      "cell_type": "code",
      "execution_count": 1,
      "metadata": {
        "colab": {
          "base_uri": "https://localhost:8080/"
        },
        "id": "foFq9S86y56v",
        "outputId": "2582553f-41aa-40de-84d9-fa3b243fe050"
      },
      "outputs": [
        {
          "output_type": "stream",
          "name": "stdout",
          "text": [
            "\u001b[2K     \u001b[90m━━━━━━━━━━━━━━━━━━━━━━━━━━━━━━━━━━━━━━━━\u001b[0m \u001b[32m413.4/413.4 kB\u001b[0m \u001b[31m6.1 MB/s\u001b[0m eta \u001b[36m0:00:00\u001b[0m\n",
            "\u001b[2K     \u001b[90m━━━━━━━━━━━━━━━━━━━━━━━━━━━━━━━━━━━━━━━━\u001b[0m \u001b[32m233.4/233.4 kB\u001b[0m \u001b[31m9.7 MB/s\u001b[0m eta \u001b[36m0:00:00\u001b[0m\n",
            "\u001b[2K     \u001b[90m━━━━━━━━━━━━━━━━━━━━━━━━━━━━━━━━━━━━━━━━\u001b[0m \u001b[32m78.7/78.7 kB\u001b[0m \u001b[31m8.0 MB/s\u001b[0m eta \u001b[36m0:00:00\u001b[0m\n",
            "\u001b[2K     \u001b[90m━━━━━━━━━━━━━━━━━━━━━━━━━━━━━━━━━━━━━━━━\u001b[0m \u001b[32m98.7/98.7 MB\u001b[0m \u001b[31m7.4 MB/s\u001b[0m eta \u001b[36m0:00:00\u001b[0m\n",
            "\u001b[2K     \u001b[90m━━━━━━━━━━━━━━━━━━━━━━━━━━━━━━━━━━━━━━━━\u001b[0m \u001b[32m324.4/324.4 kB\u001b[0m \u001b[31m4.6 MB/s\u001b[0m eta \u001b[36m0:00:00\u001b[0m\n",
            "\u001b[2K     \u001b[90m━━━━━━━━━━━━━━━━━━━━━━━━━━━━━━━━━━━━━━━━\u001b[0m \u001b[32m357.8/357.8 kB\u001b[0m \u001b[31m9.6 MB/s\u001b[0m eta \u001b[36m0:00:00\u001b[0m\n",
            "\u001b[2K     \u001b[90m━━━━━━━━━━━━━━━━━━━━━━━━━━━━━━━━━━━━━━━━\u001b[0m \u001b[32m102.7/102.7 kB\u001b[0m \u001b[31m8.6 MB/s\u001b[0m eta \u001b[36m0:00:00\u001b[0m\n",
            "\u001b[?25h  Preparing metadata (setup.py) ... \u001b[?25l\u001b[?25hdone\n",
            "\u001b[2K     \u001b[90m━━━━━━━━━━━━━━━━━━━━━━━━━━━━━━━━━━━━━━━━\u001b[0m \u001b[32m686.1/686.1 kB\u001b[0m \u001b[31m12.5 MB/s\u001b[0m eta \u001b[36m0:00:00\u001b[0m\n",
            "\u001b[2K     \u001b[90m━━━━━━━━━━━━━━━━━━━━━━━━━━━━━━━━━━━━━━━━\u001b[0m \u001b[32m293.3/293.3 kB\u001b[0m \u001b[31m11.2 MB/s\u001b[0m eta \u001b[36m0:00:00\u001b[0m\n",
            "\u001b[2K     \u001b[90m━━━━━━━━━━━━━━━━━━━━━━━━━━━━━━━━━━━━━━━━\u001b[0m \u001b[32m296.5/296.5 kB\u001b[0m \u001b[31m11.6 MB/s\u001b[0m eta \u001b[36m0:00:00\u001b[0m\n",
            "\u001b[2K     \u001b[90m━━━━━━━━━━━━━━━━━━━━━━━━━━━━━━━━━━━━━━━━\u001b[0m \u001b[32m4.7/4.7 MB\u001b[0m \u001b[31m21.8 MB/s\u001b[0m eta \u001b[36m0:00:00\u001b[0m\n",
            "\u001b[?25h  Building wheel for htmlmin (setup.py) ... \u001b[?25l\u001b[?25hdone\n",
            "\u001b[31mERROR: pip's dependency resolver does not currently take into account all the packages that are installed. This behaviour is the source of the following dependency conflicts.\n",
            "lida 0.0.10 requires fastapi, which is not installed.\n",
            "lida 0.0.10 requires kaleido, which is not installed.\n",
            "lida 0.0.10 requires python-multipart, which is not installed.\n",
            "lida 0.0.10 requires uvicorn, which is not installed.\u001b[0m\u001b[31m\n",
            "\u001b[0mCollecting pydantic==1.8.2\n",
            "  Downloading pydantic-1.8.2-py3-none-any.whl (126 kB)\n",
            "\u001b[2K     \u001b[90m━━━━━━━━━━━━━━━━━━━━━━━━━━━━━━━━━━━━━━━━\u001b[0m \u001b[32m126.0/126.0 kB\u001b[0m \u001b[31m3.0 MB/s\u001b[0m eta \u001b[36m0:00:00\u001b[0m\n",
            "\u001b[?25hRequirement already satisfied: typing-extensions>=3.7.4.3 in /usr/local/lib/python3.10/dist-packages (from pydantic==1.8.2) (4.9.0)\n",
            "Installing collected packages: pydantic\n",
            "  Attempting uninstall: pydantic\n",
            "    Found existing installation: pydantic 2.6.1\n",
            "    Uninstalling pydantic-2.6.1:\n",
            "      Successfully uninstalled pydantic-2.6.1\n",
            "\u001b[31mERROR: pip's dependency resolver does not currently take into account all the packages that are installed. This behaviour is the source of the following dependency conflicts.\n",
            "lida 0.0.10 requires fastapi, which is not installed.\n",
            "lida 0.0.10 requires kaleido, which is not installed.\n",
            "lida 0.0.10 requires python-multipart, which is not installed.\n",
            "lida 0.0.10 requires uvicorn, which is not installed.\n",
            "llmx 0.0.15a0 requires cohere, which is not installed.\n",
            "llmx 0.0.15a0 requires openai, which is not installed.\n",
            "llmx 0.0.15a0 requires tiktoken, which is not installed.\n",
            "inflect 7.0.0 requires pydantic>=1.9.1, but you have pydantic 1.8.2 which is incompatible.\n",
            "ydata-profiling 4.6.4 requires pydantic>=2, but you have pydantic 1.8.2 which is incompatible.\u001b[0m\u001b[31m\n",
            "\u001b[0mSuccessfully installed pydantic-1.8.2\n",
            "Collecting sweetviz\n",
            "  Downloading sweetviz-2.3.1-py3-none-any.whl (15.1 MB)\n",
            "\u001b[2K     \u001b[90m━━━━━━━━━━━━━━━━━━━━━━━━━━━━━━━━━━━━━━━━\u001b[0m \u001b[32m15.1/15.1 MB\u001b[0m \u001b[31m33.3 MB/s\u001b[0m eta \u001b[36m0:00:00\u001b[0m\n",
            "\u001b[?25hRequirement already satisfied: pandas!=1.0.0,!=1.0.1,!=1.0.2,>=0.25.3 in /usr/local/lib/python3.10/dist-packages (from sweetviz) (1.5.3)\n",
            "Requirement already satisfied: numpy>=1.16.0 in /usr/local/lib/python3.10/dist-packages (from sweetviz) (1.25.2)\n",
            "Requirement already satisfied: matplotlib>=3.1.3 in /usr/local/lib/python3.10/dist-packages (from sweetviz) (3.7.1)\n",
            "Requirement already satisfied: tqdm>=4.43.0 in /usr/local/lib/python3.10/dist-packages (from sweetviz) (4.66.2)\n",
            "Requirement already satisfied: scipy>=1.3.2 in /usr/local/lib/python3.10/dist-packages (from sweetviz) (1.11.4)\n",
            "Requirement already satisfied: jinja2>=2.11.1 in /usr/local/lib/python3.10/dist-packages (from sweetviz) (3.1.3)\n",
            "Requirement already satisfied: importlib-resources>=1.2.0 in /usr/local/lib/python3.10/dist-packages (from sweetviz) (6.1.1)\n",
            "Requirement already satisfied: MarkupSafe>=2.0 in /usr/local/lib/python3.10/dist-packages (from jinja2>=2.11.1->sweetviz) (2.1.5)\n",
            "Requirement already satisfied: contourpy>=1.0.1 in /usr/local/lib/python3.10/dist-packages (from matplotlib>=3.1.3->sweetviz) (1.2.0)\n",
            "Requirement already satisfied: cycler>=0.10 in /usr/local/lib/python3.10/dist-packages (from matplotlib>=3.1.3->sweetviz) (0.12.1)\n",
            "Requirement already satisfied: fonttools>=4.22.0 in /usr/local/lib/python3.10/dist-packages (from matplotlib>=3.1.3->sweetviz) (4.48.1)\n",
            "Requirement already satisfied: kiwisolver>=1.0.1 in /usr/local/lib/python3.10/dist-packages (from matplotlib>=3.1.3->sweetviz) (1.4.5)\n",
            "Requirement already satisfied: packaging>=20.0 in /usr/local/lib/python3.10/dist-packages (from matplotlib>=3.1.3->sweetviz) (23.2)\n",
            "Requirement already satisfied: pillow>=6.2.0 in /usr/local/lib/python3.10/dist-packages (from matplotlib>=3.1.3->sweetviz) (9.4.0)\n",
            "Requirement already satisfied: pyparsing>=2.3.1 in /usr/local/lib/python3.10/dist-packages (from matplotlib>=3.1.3->sweetviz) (3.1.1)\n",
            "Requirement already satisfied: python-dateutil>=2.7 in /usr/local/lib/python3.10/dist-packages (from matplotlib>=3.1.3->sweetviz) (2.8.2)\n",
            "Requirement already satisfied: pytz>=2020.1 in /usr/local/lib/python3.10/dist-packages (from pandas!=1.0.0,!=1.0.1,!=1.0.2,>=0.25.3->sweetviz) (2023.4)\n",
            "Requirement already satisfied: six>=1.5 in /usr/local/lib/python3.10/dist-packages (from python-dateutil>=2.7->matplotlib>=3.1.3->sweetviz) (1.16.0)\n",
            "Installing collected packages: sweetviz\n",
            "Successfully installed sweetviz-2.3.1\n",
            "Collecting fuzzywuzzy\n",
            "  Downloading fuzzywuzzy-0.18.0-py2.py3-none-any.whl (18 kB)\n",
            "Installing collected packages: fuzzywuzzy\n",
            "Successfully installed fuzzywuzzy-0.18.0\n"
          ]
        }
      ],
      "source": [
        "!pip install -q pyarrow\n",
        "!pip install -q lightgbm\n",
        "!pip install -q optuna\n",
        "!pip install -q catboost\n",
        "!pip install -q pandas_profiling\n",
        "!pip install -q pydantic==1.8.2\n",
        "!pip install -q sweetviz\n",
        "!pip install -q fuzzywuzzy\n"
      ]
    },
    {
      "cell_type": "code",
      "execution_count": 2,
      "metadata": {
        "colab": {
          "base_uri": "https://localhost:8080/"
        },
        "id": "sOfXGxB-y560",
        "outputId": "a6350d67-ceb2-411e-fee5-fa9715993097"
      },
      "outputs": [
        {
          "output_type": "stream",
          "name": "stderr",
          "text": [
            "/usr/local/lib/python3.10/dist-packages/numba/core/decorators.py:262: NumbaDeprecationWarning: numba.generated_jit is deprecated. Please see the documentation at: https://numba.readthedocs.io/en/stable/reference/deprecation.html#deprecation-of-generated-jit for more information and advice on a suitable replacement.\n",
            "  warnings.warn(msg, NumbaDeprecationWarning)\n",
            "/usr/local/lib/python3.10/dist-packages/visions/backends/shared/nan_handling.py:51: NumbaDeprecationWarning: The 'nopython' keyword argument was not supplied to the 'numba.jit' decorator. The implicit default value for this argument is currently False, but it will be changed to True in Numba 0.59.0. See https://numba.readthedocs.io/en/stable/reference/deprecation.html#deprecation-of-object-mode-fall-back-behaviour-when-using-jit for details.\n",
            "  def hasna(x: np.ndarray) -> bool:\n",
            "<ipython-input-2-c5c467d7db65>:3: DeprecationWarning: `import pandas_profiling` is going to be deprecated by April 1st. Please use `import ydata_profiling` instead.\n",
            "  import pandas_profiling\n",
            "/usr/local/lib/python3.10/dist-packages/fuzzywuzzy/fuzz.py:11: UserWarning: Using slow pure-python SequenceMatcher. Install python-Levenshtein to remove this warning\n",
            "  warnings.warn('Using slow pure-python SequenceMatcher. Install python-Levenshtein to remove this warning')\n"
          ]
        }
      ],
      "source": [
        "from google.colab import drive\n",
        "import pandas as pd\n",
        "from sklearn.impute import KNNImputer\n",
        "import numpy as np\n",
        "from category_encoders import OrdinalEncoder\n",
        "import pyarrow.feather as feather\n",
        "import optuna\n",
        "from catboost import CatBoostClassifier, Pool\n",
        "from sklearn.metrics import roc_auc_score\n",
        "from sklearn.preprocessing import StandardScaler\n",
        "import pandas_profiling\n",
        "from sklearn.model_selection import train_test_split\n",
        "from sklearn.ensemble import RandomForestClassifier\n",
        "import sweetviz as sv\n",
        "import lightgbm as lgb\n",
        "import matplotlib.pyplot as plt\n",
        "from sklearn.metrics import classification_report\n",
        "from fuzzywuzzy import process, fuzz\n",
        "import warnings\n",
        "warnings.filterwarnings(\"ignore\", category=RuntimeWarning)\n",
        "warnings.filterwarnings(\"ignore\", category=FutureWarning)"
      ]
    },
    {
      "cell_type": "code",
      "execution_count": 3,
      "metadata": {
        "colab": {
          "base_uri": "https://localhost:8080/"
        },
        "id": "ZXomKTIsy562",
        "outputId": "af712877-7d28-44ee-93f9-8cc4cd88b9d2"
      },
      "outputs": [
        {
          "output_type": "stream",
          "name": "stdout",
          "text": [
            "Mounted at /content/drive\n",
            "/content/drive/MyDrive\n"
          ]
        }
      ],
      "source": [
        "drive.mount('/content/drive')\n",
        "%cd /content/drive/MyDrive/"
      ]
    },
    {
      "cell_type": "markdown",
      "source": [
        "Сохраняем имеющиеся у нас данные в отдельных переменных. Просматриваем корректно ли они выгрузились."
      ],
      "metadata": {
        "id": "iOP0AiNnPvwn"
      }
    },
    {
      "cell_type": "code",
      "source": [
        "orders = pd.read_feather(\"orders.feather\")\n",
        "suitable_teachers = pd.read_feather(\"suitable_teachers.feather\")\n",
        "teachers_info = pd.read_feather(\"teachers_info.feather\")"
      ],
      "metadata": {
        "id": "RwhBNlh1zMa8"
      },
      "execution_count": 4,
      "outputs": []
    },
    {
      "cell_type": "code",
      "execution_count": 7,
      "metadata": {
        "colab": {
          "base_uri": "https://localhost:8080/",
          "height": 912
        },
        "id": "lgCEPdOyy564",
        "outputId": "f1998edc-b713-48f5-c369-15967adf8088"
      },
      "outputs": [
        {
          "output_type": "display_data",
          "data": {
            "text/plain": [
              "             id               order_date  subject_id  \\\n",
              "0       2294054  2022-11-01 00:01:38.237         1.0   \n",
              "1       2294055  2022-11-01 00:03:11.753         1.0   \n",
              "2       2294056  2022-11-01 00:04:01.563        21.0   \n",
              "3       2294057  2022-11-01 00:08:47.237         8.0   \n",
              "4       2294058  2022-11-01 00:11:49.417         8.0   \n",
              "...         ...                      ...         ...   \n",
              "437212  2280503  2022-10-24 19:45:30.277         9.0   \n",
              "437213  2280504  2022-10-24 19:45:40.713         1.0   \n",
              "437214  2280505  2022-10-24 19:45:44.477         2.0   \n",
              "437215  2280506  2022-10-24 19:46:02.453        18.0   \n",
              "437216  3605505  0029-07-18 05:28:02.684   3605505.0   \n",
              "\n",
              "                                                  purpose  lesson_price  \\\n",
              "0                                                    None             0   \n",
              "1                                                    None             0   \n",
              "2       Разделы: начертательная геометрия.\\nКатегория ...           800   \n",
              "3       Разделы:  школьный курс.\\nКатегория ученика: ш...           700   \n",
              "4                                                    None             0   \n",
              "...                                                   ...           ...   \n",
              "437212  Разделы:  школьный курс.\\nКатегория ученика:  ...          1000   \n",
              "437213  Разделы:  школьный курс.\\nКатегория ученика: ш...          1000   \n",
              "437214  Разделы: общий курс.\\nКатегория ученика: 1 кла...           600   \n",
              "437215  Разделы: математика.\\nКатегория ученика: школь...           900   \n",
              "437216                                               None       3605505   \n",
              "\n",
              "        lesson_duration lesson_place  home_metro_id  \\\n",
              "0                    60         None            NaN   \n",
              "1                    60         None            NaN   \n",
              "2                    60         None            NaN   \n",
              "3                    60         None            NaN   \n",
              "4                    60         None          122.0   \n",
              "...                 ...          ...            ...   \n",
              "437212               60         None            NaN   \n",
              "437213              120         None            NaN   \n",
              "437214               60         None          489.0   \n",
              "437215               60         None          487.0   \n",
              "437216          3605505         None      3605505.0   \n",
              "\n",
              "                                                 add_info  \\\n",
              "0                                                    None   \n",
              "1                                                    None   \n",
              "2       Место проведения занятий: дистанционно (наприм...   \n",
              "3       Место проведения занятий: дистанционно (наприм...   \n",
              "4                                                    None   \n",
              "...                                                   ...   \n",
              "437212  Место проведения занятий: дистанционно (наприм...   \n",
              "437213  Место проведения занятий: дистанционно (наприм...   \n",
              "437214  Район: Ленинский район.\\nМесто проведения заня...   \n",
              "437215  Район: Автозаводский район.\\nМесто проведения ...   \n",
              "437216                                               None   \n",
              "\n",
              "                     start_date  ...  chosen_teachers_only  \\\n",
              "0                          None  ...                     0   \n",
              "1                          None  ...                     0   \n",
              "2       2022-11-01 10:37:02.567  ...                     0   \n",
              "3       2022-11-01 00:08:47.437  ...                     0   \n",
              "4                          None  ...                     0   \n",
              "...                         ...  ...                   ...   \n",
              "437212  2022-10-24 20:17:29.977  ...                     0   \n",
              "437213  2022-10-24 20:07:25.370  ...                     0   \n",
              "437214  2022-10-24 20:45:51.357  ...                     1   \n",
              "437215                     None  ...                     0   \n",
              "437216  0029-07-18 05:28:02.684  ...                     1   \n",
              "\n",
              "        no_teachers_available source_id  original_order_id client_id  \\\n",
              "0                           0        18          2294000.0    675960   \n",
              "1                           0        18          2294000.0    675960   \n",
              "2                           0        23                NaN   1024439   \n",
              "3                           0        14          2293804.0   1024340   \n",
              "4                           0        16                NaN   1024440   \n",
              "...                       ...       ...                ...       ...   \n",
              "437212                      0        23                NaN    824363   \n",
              "437213                      0        14          2280289.0    362987   \n",
              "437214                      0        23                NaN   1019633   \n",
              "437215                      1        14          2200131.0    791697   \n",
              "437216                      1   3605505          3605505.0   3605505   \n",
              "\n",
              "        additional_status_id max_metro_distance           estimated_fee  \\\n",
              "0                        7.0                NaN                    None   \n",
              "1                        7.0                NaN                    None   \n",
              "2                       10.0                NaN                    1200   \n",
              "3                       17.0                NaN                    2310   \n",
              "4                        5.0                NaN                    None   \n",
              "...                      ...                ...                     ...   \n",
              "437212                   NaN                NaN                    2650   \n",
              "437213                  13.0                NaN                    2700   \n",
              "437214                  17.0                NaN                     900   \n",
              "437215                   8.0                NaN                    2565   \n",
              "437216             3605505.0          3605505.0  4,450342944189884E-308   \n",
              "\n",
              "                   payment_date  is_display_to_teachers  \n",
              "0                          None                       1  \n",
              "1                          None                       1  \n",
              "2                          None                       1  \n",
              "3                          None                       1  \n",
              "4                          None                       1  \n",
              "...                         ...                     ...  \n",
              "437212  2022-11-18 00:06:48.273                       1  \n",
              "437213                     None                       1  \n",
              "437214                     None                       1  \n",
              "437215                     None                       1  \n",
              "437216  0029-07-18 05:28:02.684                       1  \n",
              "\n",
              "[1191861 rows x 38 columns]"
            ],
            "text/html": [
              "\n",
              "  <div id=\"df-2d41e23a-5dbd-4263-9199-769086b98ed7\" class=\"colab-df-container\">\n",
              "    <div>\n",
              "<style scoped>\n",
              "    .dataframe tbody tr th:only-of-type {\n",
              "        vertical-align: middle;\n",
              "    }\n",
              "\n",
              "    .dataframe tbody tr th {\n",
              "        vertical-align: top;\n",
              "    }\n",
              "\n",
              "    .dataframe thead th {\n",
              "        text-align: right;\n",
              "    }\n",
              "</style>\n",
              "<table border=\"1\" class=\"dataframe\">\n",
              "  <thead>\n",
              "    <tr style=\"text-align: right;\">\n",
              "      <th></th>\n",
              "      <th>id</th>\n",
              "      <th>order_date</th>\n",
              "      <th>subject_id</th>\n",
              "      <th>purpose</th>\n",
              "      <th>lesson_price</th>\n",
              "      <th>lesson_duration</th>\n",
              "      <th>lesson_place</th>\n",
              "      <th>home_metro_id</th>\n",
              "      <th>add_info</th>\n",
              "      <th>start_date</th>\n",
              "      <th>...</th>\n",
              "      <th>chosen_teachers_only</th>\n",
              "      <th>no_teachers_available</th>\n",
              "      <th>source_id</th>\n",
              "      <th>original_order_id</th>\n",
              "      <th>client_id</th>\n",
              "      <th>additional_status_id</th>\n",
              "      <th>max_metro_distance</th>\n",
              "      <th>estimated_fee</th>\n",
              "      <th>payment_date</th>\n",
              "      <th>is_display_to_teachers</th>\n",
              "    </tr>\n",
              "  </thead>\n",
              "  <tbody>\n",
              "    <tr>\n",
              "      <th>0</th>\n",
              "      <td>2294054</td>\n",
              "      <td>2022-11-01 00:01:38.237</td>\n",
              "      <td>1.0</td>\n",
              "      <td>None</td>\n",
              "      <td>0</td>\n",
              "      <td>60</td>\n",
              "      <td>None</td>\n",
              "      <td>NaN</td>\n",
              "      <td>None</td>\n",
              "      <td>None</td>\n",
              "      <td>...</td>\n",
              "      <td>0</td>\n",
              "      <td>0</td>\n",
              "      <td>18</td>\n",
              "      <td>2294000.0</td>\n",
              "      <td>675960</td>\n",
              "      <td>7.0</td>\n",
              "      <td>NaN</td>\n",
              "      <td>None</td>\n",
              "      <td>None</td>\n",
              "      <td>1</td>\n",
              "    </tr>\n",
              "    <tr>\n",
              "      <th>1</th>\n",
              "      <td>2294055</td>\n",
              "      <td>2022-11-01 00:03:11.753</td>\n",
              "      <td>1.0</td>\n",
              "      <td>None</td>\n",
              "      <td>0</td>\n",
              "      <td>60</td>\n",
              "      <td>None</td>\n",
              "      <td>NaN</td>\n",
              "      <td>None</td>\n",
              "      <td>None</td>\n",
              "      <td>...</td>\n",
              "      <td>0</td>\n",
              "      <td>0</td>\n",
              "      <td>18</td>\n",
              "      <td>2294000.0</td>\n",
              "      <td>675960</td>\n",
              "      <td>7.0</td>\n",
              "      <td>NaN</td>\n",
              "      <td>None</td>\n",
              "      <td>None</td>\n",
              "      <td>1</td>\n",
              "    </tr>\n",
              "    <tr>\n",
              "      <th>2</th>\n",
              "      <td>2294056</td>\n",
              "      <td>2022-11-01 00:04:01.563</td>\n",
              "      <td>21.0</td>\n",
              "      <td>Разделы: начертательная геометрия.\\nКатегория ...</td>\n",
              "      <td>800</td>\n",
              "      <td>60</td>\n",
              "      <td>None</td>\n",
              "      <td>NaN</td>\n",
              "      <td>Место проведения занятий: дистанционно (наприм...</td>\n",
              "      <td>2022-11-01 10:37:02.567</td>\n",
              "      <td>...</td>\n",
              "      <td>0</td>\n",
              "      <td>0</td>\n",
              "      <td>23</td>\n",
              "      <td>NaN</td>\n",
              "      <td>1024439</td>\n",
              "      <td>10.0</td>\n",
              "      <td>NaN</td>\n",
              "      <td>1200</td>\n",
              "      <td>None</td>\n",
              "      <td>1</td>\n",
              "    </tr>\n",
              "    <tr>\n",
              "      <th>3</th>\n",
              "      <td>2294057</td>\n",
              "      <td>2022-11-01 00:08:47.237</td>\n",
              "      <td>8.0</td>\n",
              "      <td>Разделы:  школьный курс.\\nКатегория ученика: ш...</td>\n",
              "      <td>700</td>\n",
              "      <td>60</td>\n",
              "      <td>None</td>\n",
              "      <td>NaN</td>\n",
              "      <td>Место проведения занятий: дистанционно (наприм...</td>\n",
              "      <td>2022-11-01 00:08:47.437</td>\n",
              "      <td>...</td>\n",
              "      <td>0</td>\n",
              "      <td>0</td>\n",
              "      <td>14</td>\n",
              "      <td>2293804.0</td>\n",
              "      <td>1024340</td>\n",
              "      <td>17.0</td>\n",
              "      <td>NaN</td>\n",
              "      <td>2310</td>\n",
              "      <td>None</td>\n",
              "      <td>1</td>\n",
              "    </tr>\n",
              "    <tr>\n",
              "      <th>4</th>\n",
              "      <td>2294058</td>\n",
              "      <td>2022-11-01 00:11:49.417</td>\n",
              "      <td>8.0</td>\n",
              "      <td>None</td>\n",
              "      <td>0</td>\n",
              "      <td>60</td>\n",
              "      <td>None</td>\n",
              "      <td>122.0</td>\n",
              "      <td>None</td>\n",
              "      <td>None</td>\n",
              "      <td>...</td>\n",
              "      <td>0</td>\n",
              "      <td>0</td>\n",
              "      <td>16</td>\n",
              "      <td>NaN</td>\n",
              "      <td>1024440</td>\n",
              "      <td>5.0</td>\n",
              "      <td>NaN</td>\n",
              "      <td>None</td>\n",
              "      <td>None</td>\n",
              "      <td>1</td>\n",
              "    </tr>\n",
              "    <tr>\n",
              "      <th>...</th>\n",
              "      <td>...</td>\n",
              "      <td>...</td>\n",
              "      <td>...</td>\n",
              "      <td>...</td>\n",
              "      <td>...</td>\n",
              "      <td>...</td>\n",
              "      <td>...</td>\n",
              "      <td>...</td>\n",
              "      <td>...</td>\n",
              "      <td>...</td>\n",
              "      <td>...</td>\n",
              "      <td>...</td>\n",
              "      <td>...</td>\n",
              "      <td>...</td>\n",
              "      <td>...</td>\n",
              "      <td>...</td>\n",
              "      <td>...</td>\n",
              "      <td>...</td>\n",
              "      <td>...</td>\n",
              "      <td>...</td>\n",
              "      <td>...</td>\n",
              "    </tr>\n",
              "    <tr>\n",
              "      <th>437212</th>\n",
              "      <td>2280503</td>\n",
              "      <td>2022-10-24 19:45:30.277</td>\n",
              "      <td>9.0</td>\n",
              "      <td>Разделы:  школьный курс.\\nКатегория ученика:  ...</td>\n",
              "      <td>1000</td>\n",
              "      <td>60</td>\n",
              "      <td>None</td>\n",
              "      <td>NaN</td>\n",
              "      <td>Место проведения занятий: дистанционно (наприм...</td>\n",
              "      <td>2022-10-24 20:17:29.977</td>\n",
              "      <td>...</td>\n",
              "      <td>0</td>\n",
              "      <td>0</td>\n",
              "      <td>23</td>\n",
              "      <td>NaN</td>\n",
              "      <td>824363</td>\n",
              "      <td>NaN</td>\n",
              "      <td>NaN</td>\n",
              "      <td>2650</td>\n",
              "      <td>2022-11-18 00:06:48.273</td>\n",
              "      <td>1</td>\n",
              "    </tr>\n",
              "    <tr>\n",
              "      <th>437213</th>\n",
              "      <td>2280504</td>\n",
              "      <td>2022-10-24 19:45:40.713</td>\n",
              "      <td>1.0</td>\n",
              "      <td>Разделы:  школьный курс.\\nКатегория ученика: ш...</td>\n",
              "      <td>1000</td>\n",
              "      <td>120</td>\n",
              "      <td>None</td>\n",
              "      <td>NaN</td>\n",
              "      <td>Место проведения занятий: дистанционно (наприм...</td>\n",
              "      <td>2022-10-24 20:07:25.370</td>\n",
              "      <td>...</td>\n",
              "      <td>0</td>\n",
              "      <td>0</td>\n",
              "      <td>14</td>\n",
              "      <td>2280289.0</td>\n",
              "      <td>362987</td>\n",
              "      <td>13.0</td>\n",
              "      <td>NaN</td>\n",
              "      <td>2700</td>\n",
              "      <td>None</td>\n",
              "      <td>1</td>\n",
              "    </tr>\n",
              "    <tr>\n",
              "      <th>437214</th>\n",
              "      <td>2280505</td>\n",
              "      <td>2022-10-24 19:45:44.477</td>\n",
              "      <td>2.0</td>\n",
              "      <td>Разделы: общий курс.\\nКатегория ученика: 1 кла...</td>\n",
              "      <td>600</td>\n",
              "      <td>60</td>\n",
              "      <td>None</td>\n",
              "      <td>489.0</td>\n",
              "      <td>Район: Ленинский район.\\nМесто проведения заня...</td>\n",
              "      <td>2022-10-24 20:45:51.357</td>\n",
              "      <td>...</td>\n",
              "      <td>1</td>\n",
              "      <td>0</td>\n",
              "      <td>23</td>\n",
              "      <td>NaN</td>\n",
              "      <td>1019633</td>\n",
              "      <td>17.0</td>\n",
              "      <td>NaN</td>\n",
              "      <td>900</td>\n",
              "      <td>None</td>\n",
              "      <td>1</td>\n",
              "    </tr>\n",
              "    <tr>\n",
              "      <th>437215</th>\n",
              "      <td>2280506</td>\n",
              "      <td>2022-10-24 19:46:02.453</td>\n",
              "      <td>18.0</td>\n",
              "      <td>Разделы: математика.\\nКатегория ученика: школь...</td>\n",
              "      <td>900</td>\n",
              "      <td>60</td>\n",
              "      <td>None</td>\n",
              "      <td>487.0</td>\n",
              "      <td>Район: Автозаводский район.\\nМесто проведения ...</td>\n",
              "      <td>None</td>\n",
              "      <td>...</td>\n",
              "      <td>0</td>\n",
              "      <td>1</td>\n",
              "      <td>14</td>\n",
              "      <td>2200131.0</td>\n",
              "      <td>791697</td>\n",
              "      <td>8.0</td>\n",
              "      <td>NaN</td>\n",
              "      <td>2565</td>\n",
              "      <td>None</td>\n",
              "      <td>1</td>\n",
              "    </tr>\n",
              "    <tr>\n",
              "      <th>437216</th>\n",
              "      <td>3605505</td>\n",
              "      <td>0029-07-18 05:28:02.684</td>\n",
              "      <td>3605505.0</td>\n",
              "      <td>None</td>\n",
              "      <td>3605505</td>\n",
              "      <td>3605505</td>\n",
              "      <td>None</td>\n",
              "      <td>3605505.0</td>\n",
              "      <td>None</td>\n",
              "      <td>0029-07-18 05:28:02.684</td>\n",
              "      <td>...</td>\n",
              "      <td>1</td>\n",
              "      <td>1</td>\n",
              "      <td>3605505</td>\n",
              "      <td>3605505.0</td>\n",
              "      <td>3605505</td>\n",
              "      <td>3605505.0</td>\n",
              "      <td>3605505.0</td>\n",
              "      <td>4,450342944189884E-308</td>\n",
              "      <td>0029-07-18 05:28:02.684</td>\n",
              "      <td>1</td>\n",
              "    </tr>\n",
              "  </tbody>\n",
              "</table>\n",
              "<p>1191861 rows × 38 columns</p>\n",
              "</div>\n",
              "    <div class=\"colab-df-buttons\">\n",
              "\n",
              "  <div class=\"colab-df-container\">\n",
              "    <button class=\"colab-df-convert\" onclick=\"convertToInteractive('df-2d41e23a-5dbd-4263-9199-769086b98ed7')\"\n",
              "            title=\"Convert this dataframe to an interactive table.\"\n",
              "            style=\"display:none;\">\n",
              "\n",
              "  <svg xmlns=\"http://www.w3.org/2000/svg\" height=\"24px\" viewBox=\"0 -960 960 960\">\n",
              "    <path d=\"M120-120v-720h720v720H120Zm60-500h600v-160H180v160Zm220 220h160v-160H400v160Zm0 220h160v-160H400v160ZM180-400h160v-160H180v160Zm440 0h160v-160H620v160ZM180-180h160v-160H180v160Zm440 0h160v-160H620v160Z\"/>\n",
              "  </svg>\n",
              "    </button>\n",
              "\n",
              "  <style>\n",
              "    .colab-df-container {\n",
              "      display:flex;\n",
              "      gap: 12px;\n",
              "    }\n",
              "\n",
              "    .colab-df-convert {\n",
              "      background-color: #E8F0FE;\n",
              "      border: none;\n",
              "      border-radius: 50%;\n",
              "      cursor: pointer;\n",
              "      display: none;\n",
              "      fill: #1967D2;\n",
              "      height: 32px;\n",
              "      padding: 0 0 0 0;\n",
              "      width: 32px;\n",
              "    }\n",
              "\n",
              "    .colab-df-convert:hover {\n",
              "      background-color: #E2EBFA;\n",
              "      box-shadow: 0px 1px 2px rgba(60, 64, 67, 0.3), 0px 1px 3px 1px rgba(60, 64, 67, 0.15);\n",
              "      fill: #174EA6;\n",
              "    }\n",
              "\n",
              "    .colab-df-buttons div {\n",
              "      margin-bottom: 4px;\n",
              "    }\n",
              "\n",
              "    [theme=dark] .colab-df-convert {\n",
              "      background-color: #3B4455;\n",
              "      fill: #D2E3FC;\n",
              "    }\n",
              "\n",
              "    [theme=dark] .colab-df-convert:hover {\n",
              "      background-color: #434B5C;\n",
              "      box-shadow: 0px 1px 3px 1px rgba(0, 0, 0, 0.15);\n",
              "      filter: drop-shadow(0px 1px 2px rgba(0, 0, 0, 0.3));\n",
              "      fill: #FFFFFF;\n",
              "    }\n",
              "  </style>\n",
              "\n",
              "    <script>\n",
              "      const buttonEl =\n",
              "        document.querySelector('#df-2d41e23a-5dbd-4263-9199-769086b98ed7 button.colab-df-convert');\n",
              "      buttonEl.style.display =\n",
              "        google.colab.kernel.accessAllowed ? 'block' : 'none';\n",
              "\n",
              "      async function convertToInteractive(key) {\n",
              "        const element = document.querySelector('#df-2d41e23a-5dbd-4263-9199-769086b98ed7');\n",
              "        const dataTable =\n",
              "          await google.colab.kernel.invokeFunction('convertToInteractive',\n",
              "                                                    [key], {});\n",
              "        if (!dataTable) return;\n",
              "\n",
              "        const docLinkHtml = 'Like what you see? Visit the ' +\n",
              "          '<a target=\"_blank\" href=https://colab.research.google.com/notebooks/data_table.ipynb>data table notebook</a>'\n",
              "          + ' to learn more about interactive tables.';\n",
              "        element.innerHTML = '';\n",
              "        dataTable['output_type'] = 'display_data';\n",
              "        await google.colab.output.renderOutput(dataTable, element);\n",
              "        const docLink = document.createElement('div');\n",
              "        docLink.innerHTML = docLinkHtml;\n",
              "        element.appendChild(docLink);\n",
              "      }\n",
              "    </script>\n",
              "  </div>\n",
              "\n",
              "\n",
              "<div id=\"df-1e669b3d-f732-4338-ba01-39218382988a\">\n",
              "  <button class=\"colab-df-quickchart\" onclick=\"quickchart('df-1e669b3d-f732-4338-ba01-39218382988a')\"\n",
              "            title=\"Suggest charts\"\n",
              "            style=\"display:none;\">\n",
              "\n",
              "<svg xmlns=\"http://www.w3.org/2000/svg\" height=\"24px\"viewBox=\"0 0 24 24\"\n",
              "     width=\"24px\">\n",
              "    <g>\n",
              "        <path d=\"M19 3H5c-1.1 0-2 .9-2 2v14c0 1.1.9 2 2 2h14c1.1 0 2-.9 2-2V5c0-1.1-.9-2-2-2zM9 17H7v-7h2v7zm4 0h-2V7h2v10zm4 0h-2v-4h2v4z\"/>\n",
              "    </g>\n",
              "</svg>\n",
              "  </button>\n",
              "\n",
              "<style>\n",
              "  .colab-df-quickchart {\n",
              "      --bg-color: #E8F0FE;\n",
              "      --fill-color: #1967D2;\n",
              "      --hover-bg-color: #E2EBFA;\n",
              "      --hover-fill-color: #174EA6;\n",
              "      --disabled-fill-color: #AAA;\n",
              "      --disabled-bg-color: #DDD;\n",
              "  }\n",
              "\n",
              "  [theme=dark] .colab-df-quickchart {\n",
              "      --bg-color: #3B4455;\n",
              "      --fill-color: #D2E3FC;\n",
              "      --hover-bg-color: #434B5C;\n",
              "      --hover-fill-color: #FFFFFF;\n",
              "      --disabled-bg-color: #3B4455;\n",
              "      --disabled-fill-color: #666;\n",
              "  }\n",
              "\n",
              "  .colab-df-quickchart {\n",
              "    background-color: var(--bg-color);\n",
              "    border: none;\n",
              "    border-radius: 50%;\n",
              "    cursor: pointer;\n",
              "    display: none;\n",
              "    fill: var(--fill-color);\n",
              "    height: 32px;\n",
              "    padding: 0;\n",
              "    width: 32px;\n",
              "  }\n",
              "\n",
              "  .colab-df-quickchart:hover {\n",
              "    background-color: var(--hover-bg-color);\n",
              "    box-shadow: 0 1px 2px rgba(60, 64, 67, 0.3), 0 1px 3px 1px rgba(60, 64, 67, 0.15);\n",
              "    fill: var(--button-hover-fill-color);\n",
              "  }\n",
              "\n",
              "  .colab-df-quickchart-complete:disabled,\n",
              "  .colab-df-quickchart-complete:disabled:hover {\n",
              "    background-color: var(--disabled-bg-color);\n",
              "    fill: var(--disabled-fill-color);\n",
              "    box-shadow: none;\n",
              "  }\n",
              "\n",
              "  .colab-df-spinner {\n",
              "    border: 2px solid var(--fill-color);\n",
              "    border-color: transparent;\n",
              "    border-bottom-color: var(--fill-color);\n",
              "    animation:\n",
              "      spin 1s steps(1) infinite;\n",
              "  }\n",
              "\n",
              "  @keyframes spin {\n",
              "    0% {\n",
              "      border-color: transparent;\n",
              "      border-bottom-color: var(--fill-color);\n",
              "      border-left-color: var(--fill-color);\n",
              "    }\n",
              "    20% {\n",
              "      border-color: transparent;\n",
              "      border-left-color: var(--fill-color);\n",
              "      border-top-color: var(--fill-color);\n",
              "    }\n",
              "    30% {\n",
              "      border-color: transparent;\n",
              "      border-left-color: var(--fill-color);\n",
              "      border-top-color: var(--fill-color);\n",
              "      border-right-color: var(--fill-color);\n",
              "    }\n",
              "    40% {\n",
              "      border-color: transparent;\n",
              "      border-right-color: var(--fill-color);\n",
              "      border-top-color: var(--fill-color);\n",
              "    }\n",
              "    60% {\n",
              "      border-color: transparent;\n",
              "      border-right-color: var(--fill-color);\n",
              "    }\n",
              "    80% {\n",
              "      border-color: transparent;\n",
              "      border-right-color: var(--fill-color);\n",
              "      border-bottom-color: var(--fill-color);\n",
              "    }\n",
              "    90% {\n",
              "      border-color: transparent;\n",
              "      border-bottom-color: var(--fill-color);\n",
              "    }\n",
              "  }\n",
              "</style>\n",
              "\n",
              "  <script>\n",
              "    async function quickchart(key) {\n",
              "      const quickchartButtonEl =\n",
              "        document.querySelector('#' + key + ' button');\n",
              "      quickchartButtonEl.disabled = true;  // To prevent multiple clicks.\n",
              "      quickchartButtonEl.classList.add('colab-df-spinner');\n",
              "      try {\n",
              "        const charts = await google.colab.kernel.invokeFunction(\n",
              "            'suggestCharts', [key], {});\n",
              "      } catch (error) {\n",
              "        console.error('Error during call to suggestCharts:', error);\n",
              "      }\n",
              "      quickchartButtonEl.classList.remove('colab-df-spinner');\n",
              "      quickchartButtonEl.classList.add('colab-df-quickchart-complete');\n",
              "    }\n",
              "    (() => {\n",
              "      let quickchartButtonEl =\n",
              "        document.querySelector('#df-1e669b3d-f732-4338-ba01-39218382988a button');\n",
              "      quickchartButtonEl.style.display =\n",
              "        google.colab.kernel.accessAllowed ? 'block' : 'none';\n",
              "    })();\n",
              "  </script>\n",
              "</div>\n",
              "\n",
              "  <div id=\"id_70d28c59-804b-4b9a-8aff-26712317a393\">\n",
              "    <style>\n",
              "      .colab-df-generate {\n",
              "        background-color: #E8F0FE;\n",
              "        border: none;\n",
              "        border-radius: 50%;\n",
              "        cursor: pointer;\n",
              "        display: none;\n",
              "        fill: #1967D2;\n",
              "        height: 32px;\n",
              "        padding: 0 0 0 0;\n",
              "        width: 32px;\n",
              "      }\n",
              "\n",
              "      .colab-df-generate:hover {\n",
              "        background-color: #E2EBFA;\n",
              "        box-shadow: 0px 1px 2px rgba(60, 64, 67, 0.3), 0px 1px 3px 1px rgba(60, 64, 67, 0.15);\n",
              "        fill: #174EA6;\n",
              "      }\n",
              "\n",
              "      [theme=dark] .colab-df-generate {\n",
              "        background-color: #3B4455;\n",
              "        fill: #D2E3FC;\n",
              "      }\n",
              "\n",
              "      [theme=dark] .colab-df-generate:hover {\n",
              "        background-color: #434B5C;\n",
              "        box-shadow: 0px 1px 3px 1px rgba(0, 0, 0, 0.15);\n",
              "        filter: drop-shadow(0px 1px 2px rgba(0, 0, 0, 0.3));\n",
              "        fill: #FFFFFF;\n",
              "      }\n",
              "    </style>\n",
              "    <button class=\"colab-df-generate\" onclick=\"generateWithVariable('orders')\"\n",
              "            title=\"Generate code using this dataframe.\"\n",
              "            style=\"display:none;\">\n",
              "\n",
              "  <svg xmlns=\"http://www.w3.org/2000/svg\" height=\"24px\"viewBox=\"0 0 24 24\"\n",
              "       width=\"24px\">\n",
              "    <path d=\"M7,19H8.4L18.45,9,17,7.55,7,17.6ZM5,21V16.75L18.45,3.32a2,2,0,0,1,2.83,0l1.4,1.43a1.91,1.91,0,0,1,.58,1.4,1.91,1.91,0,0,1-.58,1.4L9.25,21ZM18.45,9,17,7.55Zm-12,3A5.31,5.31,0,0,0,4.9,8.1,5.31,5.31,0,0,0,1,6.5,5.31,5.31,0,0,0,4.9,4.9,5.31,5.31,0,0,0,6.5,1,5.31,5.31,0,0,0,8.1,4.9,5.31,5.31,0,0,0,12,6.5,5.46,5.46,0,0,0,6.5,12Z\"/>\n",
              "  </svg>\n",
              "    </button>\n",
              "    <script>\n",
              "      (() => {\n",
              "      const buttonEl =\n",
              "        document.querySelector('#id_70d28c59-804b-4b9a-8aff-26712317a393 button.colab-df-generate');\n",
              "      buttonEl.style.display =\n",
              "        google.colab.kernel.accessAllowed ? 'block' : 'none';\n",
              "\n",
              "      buttonEl.onclick = () => {\n",
              "        google.colab.notebook.generateWithVariable('orders');\n",
              "      }\n",
              "      })();\n",
              "    </script>\n",
              "  </div>\n",
              "\n",
              "    </div>\n",
              "  </div>\n"
            ],
            "application/vnd.google.colaboratory.intrinsic+json": {
              "type": "dataframe",
              "variable_name": "orders"
            }
          },
          "metadata": {}
        }
      ],
      "source": [
        "display(orders)"
      ]
    },
    {
      "cell_type": "markdown",
      "source": [
        "Изучаем информацию нашего первого датасета - датасетами с информацией об оформленных заявках учеников."
      ],
      "metadata": {
        "id": "85FaaMr7QNto"
      }
    },
    {
      "cell_type": "code",
      "execution_count": 8,
      "metadata": {
        "colab": {
          "base_uri": "https://localhost:8080/"
        },
        "id": "xcKEfBjCy566",
        "outputId": "a0224ef0-b606-42fe-898a-5a9742a7e982"
      },
      "outputs": [
        {
          "output_type": "stream",
          "name": "stdout",
          "text": [
            "<class 'pandas.core.frame.DataFrame'>\n",
            "Int64Index: 1191861 entries, 0 to 437216\n",
            "Data columns (total 38 columns):\n",
            " #   Column                   Non-Null Count    Dtype  \n",
            "---  ------                   --------------    -----  \n",
            " 0   id                       1191861 non-null  int32  \n",
            " 1   order_date               1191861 non-null  object \n",
            " 2   subject_id               1181529 non-null  float32\n",
            " 3   purpose                  1025351 non-null  object \n",
            " 4   lesson_price             1191861 non-null  int32  \n",
            " 5   lesson_duration          1191861 non-null  int32  \n",
            " 6   lesson_place             31 non-null       object \n",
            " 7   home_metro_id            642447 non-null   float32\n",
            " 8   add_info                 1044688 non-null  object \n",
            " 9   start_date               705578 non-null   object \n",
            " 10  working_teacher_id       705988 non-null   float32\n",
            " 11  status_id                1191861 non-null  int32  \n",
            " 12  comments                 341468 non-null   object \n",
            " 13  prefered_teacher_id      4 non-null        float32\n",
            " 14  amount_to_pay            1191861 non-null  object \n",
            " 15  planned_lesson_number    1191861 non-null  int32  \n",
            " 16  first_lesson_date        166571 non-null   object \n",
            " 17  creator_id               579698 non-null   float32\n",
            " 18  pupil_category_new_id    1032470 non-null  float32\n",
            " 19  lessons_per_week         1191861 non-null  int32  \n",
            " 20  minimal_price            1191861 non-null  int32  \n",
            " 21  teacher_sex              1191861 non-null  int32  \n",
            " 22  teacher_experience_from  1191861 non-null  int32  \n",
            " 23  teacher_experience_to    1191861 non-null  int32  \n",
            " 24  lesson_place_new         1191861 non-null  int32  \n",
            " 25  pupil_knowledgelvl       1191861 non-null  int32  \n",
            " 26  teacher_age_from         1191861 non-null  int32  \n",
            " 27  teacher_age_to           1191861 non-null  int32  \n",
            " 28  chosen_teachers_only     1191861 non-null  int8   \n",
            " 29  no_teachers_available    1191861 non-null  int8   \n",
            " 30  source_id                1191861 non-null  int32  \n",
            " 31  original_order_id        582588 non-null   float32\n",
            " 32  client_id                1191861 non-null  int32  \n",
            " 33  additional_status_id     1042385 non-null  float32\n",
            " 34  max_metro_distance       13518 non-null    float32\n",
            " 35  estimated_fee            747152 non-null   object \n",
            " 36  payment_date             129665 non-null   object \n",
            " 37  is_display_to_teachers   1191861 non-null  int8   \n",
            "dtypes: float32(9), int32(16), int8(3), object(10)\n",
            "memory usage: 217.1+ MB\n"
          ]
        }
      ],
      "source": [
        "orders.info()"
      ]
    },
    {
      "cell_type": "markdown",
      "source": [
        "Мы видим, что в некоторых столбцах практически отсутствуют даннные, в некоторых столбцах имеются пропуски, а также, что у некоторых переменных неверно указан тип данных. Постепенно исправим эти недочеты, но пока проверим таблицу на наличие полных дубликатов"
      ],
      "metadata": {
        "id": "Y8cU4AIRQguf"
      }
    },
    {
      "cell_type": "code",
      "execution_count": 9,
      "metadata": {
        "colab": {
          "base_uri": "https://localhost:8080/"
        },
        "id": "4I0Nzcpjy567",
        "outputId": "949764f8-4b80-4896-b0c3-739ec5bbaecf"
      },
      "outputs": [
        {
          "output_type": "execute_result",
          "data": {
            "text/plain": [
              "900"
            ]
          },
          "metadata": {},
          "execution_count": 9
        }
      ],
      "source": [
        "orders.duplicated().sum()"
      ]
    },
    {
      "cell_type": "markdown",
      "source": [
        "В наших данных оказалось 900 полных дубликатов. Удаляем их."
      ],
      "metadata": {
        "id": "PjDz-vKYQ_dx"
      }
    },
    {
      "cell_type": "code",
      "execution_count": 10,
      "metadata": {
        "id": "YrZV9D1fy568"
      },
      "outputs": [],
      "source": [
        "orders = orders.drop_duplicates()"
      ]
    },
    {
      "cell_type": "markdown",
      "source": [
        "У нас есть параметр с написанными вручную комментариями.Попробуем вынуть из текста этап обучения заявителя: в каком классе он находится, на каком курсе и пр. Возможно, в будущем этот новый параметр поможет нашей модели в обучении."
      ],
      "metadata": {
        "id": "FnPISHUbRGcT"
      }
    },
    {
      "cell_type": "code",
      "execution_count": 11,
      "metadata": {
        "colab": {
          "base_uri": "https://localhost:8080/"
        },
        "id": "Lb4tGS1Iy568",
        "outputId": "9347295d-88aa-4c34-9489-abd7e1767b72"
      },
      "outputs": [
        {
          "output_type": "execute_result",
          "data": {
            "text/plain": [
              "array([None,\n",
              "       'Разделы: начертательная геометрия.\\nКатегория ученика: студентка 1 курса.\\nЦель занятий: помощь по программе.',\n",
              "       'Разделы:  школьный курс.\\nКатегория ученика: школьник 9 класса.\\nЦель занятий: помощь по школьной программе.',\n",
              "       ...,\n",
              "       'Разделы: алгебра.\\nДополнения: ОГЭ .\\nКатегория ученика: школьник 9 класса.\\nЦель занятий: сдать ОГЭ, подтянуть с 7 класса до 9',\n",
              "       'Разделы:  школьный курс.\\nКатегория ученика:  два школьника 7 класса.\\nЦель занятий: занятия по школьной программе.',\n",
              "       'Разделы: общий курс.\\nКатегория ученика: 1 класс.\\nУровень знаний: с нуля.\\nОЧНЫЕ ЗАНЯТИЯ.'],\n",
              "      dtype=object)"
            ]
          },
          "metadata": {},
          "execution_count": 11
        }
      ],
      "source": [
        "orders['purpose'].unique()"
      ]
    },
    {
      "cell_type": "code",
      "execution_count": 12,
      "metadata": {
        "colab": {
          "base_uri": "https://localhost:8080/"
        },
        "id": "MNXEaO3By569",
        "outputId": "586dcd98-2dbf-49ec-cefe-ff89e02b1d25"
      },
      "outputs": [
        {
          "output_type": "stream",
          "name": "stderr",
          "text": [
            "<ipython-input-12-57aad466764d>:1: SettingWithCopyWarning: \n",
            "A value is trying to be set on a copy of a slice from a DataFrame.\n",
            "Try using .loc[row_indexer,col_indexer] = value instead\n",
            "\n",
            "See the caveats in the documentation: https://pandas.pydata.org/pandas-docs/stable/user_guide/indexing.html#returning-a-view-versus-a-copy\n",
            "  orders['learning_stage'] = orders['purpose'].str.extract(r'Категория ученика: (.*)', expand=False)\n"
          ]
        }
      ],
      "source": [
        "orders['learning_stage'] = orders['purpose'].str.extract(r'Категория ученика: (.*)', expand=False)"
      ]
    },
    {
      "cell_type": "code",
      "execution_count": 13,
      "metadata": {
        "colab": {
          "base_uri": "https://localhost:8080/"
        },
        "id": "MB5HwTyEy569",
        "outputId": "9389b5f8-17b3-4627-ffa1-0f07495a1548"
      },
      "outputs": [
        {
          "output_type": "execute_result",
          "data": {
            "text/plain": [
              "школьник 9 класса.                                                                         75609\n",
              "школьник 11 класса.                                                                        62178\n",
              "9 класс.                                                                                   55768\n",
              "11 класс.                                                                                  44344\n",
              "школьник 10 класса.                                                                        40546\n",
              "                                                                                           ...  \n",
              "группы до 8 человек, дети от 4 до 13 лет.                                                      1\n",
              "школьник 3 класса. Подготовка к ВПР, сопровождение школьного курса, не тянет математику        1\n",
              "9 класс. Говорит простые слова.                                                                1\n",
              "студент 1 курса медицинского колледжа (фармакология)                                           1\n",
              "девушка, 25 лет. Низкий уровень знаний.                                                        1\n",
              "Name: learning_stage, Length: 42964, dtype: int64"
            ]
          },
          "metadata": {},
          "execution_count": 13
        }
      ],
      "source": [
        "orders['learning_stage'].value_counts()"
      ]
    },
    {
      "cell_type": "code",
      "execution_count": 14,
      "metadata": {
        "colab": {
          "base_uri": "https://localhost:8080/"
        },
        "id": "WZi8ot2Ly56-",
        "outputId": "e36a18ba-601c-4cc1-bf1d-8366d08fb8bd"
      },
      "outputs": [
        {
          "output_type": "stream",
          "name": "stderr",
          "text": [
            "WARNING:root:Applied processor reduces input query to empty string, all comparisons will have score 0. [Query: '.']\n",
            "WARNING:root:Applied processor reduces input query to empty string, all comparisons will have score 0. [Query: '.']\n",
            "WARNING:root:Applied processor reduces input query to empty string, all comparisons will have score 0. [Query: '']\n",
            "WARNING:root:Applied processor reduces input query to empty string, all comparisons will have score 0. [Query: '']\n",
            "WARNING:root:Applied processor reduces input query to empty string, all comparisons will have score 0. [Query: '']\n",
            "WARNING:root:Applied processor reduces input query to empty string, all comparisons will have score 0. [Query: '']\n",
            "WARNING:root:Applied processor reduces input query to empty string, all comparisons will have score 0. [Query: '.']\n",
            "WARNING:root:Applied processor reduces input query to empty string, all comparisons will have score 0. [Query: '']\n",
            "WARNING:root:Applied processor reduces input query to empty string, all comparisons will have score 0. [Query: '']\n",
            "WARNING:root:Applied processor reduces input query to empty string, all comparisons will have score 0. [Query: '']\n",
            "WARNING:root:Applied processor reduces input query to empty string, all comparisons will have score 0. [Query: '']\n",
            "WARNING:root:Applied processor reduces input query to empty string, all comparisons will have score 0. [Query: '']\n",
            "WARNING:root:Applied processor reduces input query to empty string, all comparisons will have score 0. [Query: '']\n",
            "WARNING:root:Applied processor reduces input query to empty string, all comparisons will have score 0. [Query: '.']\n",
            "WARNING:root:Applied processor reduces input query to empty string, all comparisons will have score 0. [Query: '.']\n",
            "WARNING:root:Applied processor reduces input query to empty string, all comparisons will have score 0. [Query: '.']\n",
            "WARNING:root:Applied processor reduces input query to empty string, all comparisons will have score 0. [Query: '.']\n",
            "WARNING:root:Applied processor reduces input query to empty string, all comparisons will have score 0. [Query: '.']\n",
            "WARNING:root:Applied processor reduces input query to empty string, all comparisons will have score 0. [Query: '.']\n",
            "WARNING:root:Applied processor reduces input query to empty string, all comparisons will have score 0. [Query: '.']\n",
            "WARNING:root:Applied processor reduces input query to empty string, all comparisons will have score 0. [Query: '']\n",
            "WARNING:root:Applied processor reduces input query to empty string, all comparisons will have score 0. [Query: '']\n",
            "WARNING:root:Applied processor reduces input query to empty string, all comparisons will have score 0. [Query: '.']\n",
            "WARNING:root:Applied processor reduces input query to empty string, all comparisons will have score 0. [Query: '']\n",
            "WARNING:root:Applied processor reduces input query to empty string, all comparisons will have score 0. [Query: '']\n",
            "WARNING:root:Applied processor reduces input query to empty string, all comparisons will have score 0. [Query: '']\n",
            "WARNING:root:Applied processor reduces input query to empty string, all comparisons will have score 0. [Query: '.']\n",
            "WARNING:root:Applied processor reduces input query to empty string, all comparisons will have score 0. [Query: '']\n",
            "WARNING:root:Applied processor reduces input query to empty string, all comparisons will have score 0. [Query: '.']\n",
            "WARNING:root:Applied processor reduces input query to empty string, all comparisons will have score 0. [Query: '.']\n",
            "WARNING:root:Applied processor reduces input query to empty string, all comparisons will have score 0. [Query: '']\n",
            "WARNING:root:Applied processor reduces input query to empty string, all comparisons will have score 0. [Query: '.']\n",
            "WARNING:root:Applied processor reduces input query to empty string, all comparisons will have score 0. [Query: '.']\n",
            "WARNING:root:Applied processor reduces input query to empty string, all comparisons will have score 0. [Query: '']\n",
            "WARNING:root:Applied processor reduces input query to empty string, all comparisons will have score 0. [Query: '???']\n",
            "WARNING:root:Applied processor reduces input query to empty string, all comparisons will have score 0. [Query: '']\n",
            "WARNING:root:Applied processor reduces input query to empty string, all comparisons will have score 0. [Query: '.']\n",
            "WARNING:root:Applied processor reduces input query to empty string, all comparisons will have score 0. [Query: '.']\n",
            "WARNING:root:Applied processor reduces input query to empty string, all comparisons will have score 0. [Query: '.']\n",
            "WARNING:root:Applied processor reduces input query to empty string, all comparisons will have score 0. [Query: '.']\n",
            "WARNING:root:Applied processor reduces input query to empty string, all comparisons will have score 0. [Query: '.']\n",
            "WARNING:root:Applied processor reduces input query to empty string, all comparisons will have score 0. [Query: '']\n",
            "WARNING:root:Applied processor reduces input query to empty string, all comparisons will have score 0. [Query: '.']\n",
            "WARNING:root:Applied processor reduces input query to empty string, all comparisons will have score 0. [Query: '']\n",
            "WARNING:root:Applied processor reduces input query to empty string, all comparisons will have score 0. [Query: '']\n",
            "WARNING:root:Applied processor reduces input query to empty string, all comparisons will have score 0. [Query: '.']\n",
            "WARNING:root:Applied processor reduces input query to empty string, all comparisons will have score 0. [Query: '.']\n",
            "WARNING:root:Applied processor reduces input query to empty string, all comparisons will have score 0. [Query: '.']\n",
            "WARNING:root:Applied processor reduces input query to empty string, all comparisons will have score 0. [Query: '']\n",
            "WARNING:root:Applied processor reduces input query to empty string, all comparisons will have score 0. [Query: '']\n",
            "WARNING:root:Applied processor reduces input query to empty string, all comparisons will have score 0. [Query: '']\n",
            "WARNING:root:Applied processor reduces input query to empty string, all comparisons will have score 0. [Query: '']\n",
            "WARNING:root:Applied processor reduces input query to empty string, all comparisons will have score 0. [Query: '.']\n",
            "WARNING:root:Applied processor reduces input query to empty string, all comparisons will have score 0. [Query: '.']\n",
            "WARNING:root:Applied processor reduces input query to empty string, all comparisons will have score 0. [Query: '']\n",
            "<ipython-input-14-a4ea0be023d3>:10: SettingWithCopyWarning: \n",
            "A value is trying to be set on a copy of a slice from a DataFrame.\n",
            "Try using .loc[row_indexer,col_indexer] = value instead\n",
            "\n",
            "See the caveats in the documentation: https://pandas.pydata.org/pandas-docs/stable/user_guide/indexing.html#returning-a-view-versus-a-copy\n",
            "  orders['learning_stage'] = orders['learning_stage'].apply(get_best_match, choices=replacement_options)\n"
          ]
        }
      ],
      "source": [
        "def get_best_match(query, choices):\n",
        "    if isinstance(query, str):\n",
        "        return process.extractOne(query, choices, scorer=fuzz.partial_ratio)[0]\n",
        "    else:\n",
        "        return query\n",
        "\n",
        "replacement_options = ['Дошкольник', 'Взрослый','Первый класс', '2 класс', '3 класс', '4 класс', '5 класс', '6 класс', '7 класс', '8 класс', '9 класс', '10 класс',\\\n",
        "                        '11 класс','1 курс', '2 курс', '3 курс', '4 курс', '5 курс','6 курс','7 курс', '8 курс' ]\n",
        "\n",
        "orders['learning_stage'] = orders['learning_stage'].apply(get_best_match, choices=replacement_options)\n",
        "\n"
      ]
    },
    {
      "cell_type": "code",
      "execution_count": 15,
      "metadata": {
        "colab": {
          "base_uri": "https://localhost:8080/"
        },
        "id": "Hblc0xDTy56-",
        "outputId": "8543cac5-c0a1-42e7-ef40-a945d60be62b"
      },
      "outputs": [
        {
          "output_type": "execute_result",
          "data": {
            "text/plain": [
              "9 класс         164460\n",
              "11 класс        137680\n",
              "10 класс         99375\n",
              "Взрослый         95704\n",
              "8 класс          82669\n",
              "7 класс          74668\n",
              "6 класс          64667\n",
              "5 класс          53145\n",
              "2 класс          43432\n",
              "4 класс          42508\n",
              "3 класс          36963\n",
              "1 курс           34851\n",
              "Дошкольник       19615\n",
              "Первый класс     14499\n",
              "2 курс           10309\n",
              "3 курс            5087\n",
              "4 курс            3374\n",
              "5 курс             840\n",
              "6 курс             258\n",
              "8 курс             113\n",
              "7 курс              80\n",
              "Name: learning_stage, dtype: int64"
            ]
          },
          "metadata": {},
          "execution_count": 15
        }
      ],
      "source": [
        "orders['learning_stage'].value_counts()"
      ]
    },
    {
      "cell_type": "markdown",
      "source": [
        "Нам удалось разбить заявителей на отдельные категории. Также у нас имеется стобец с датой подачи заявки. Во-первых, тип данных в столбце указан неверно, исправляем это.Во-вторых, у нас нет необходимости полной даты, вытацим из нее признаки, которые могут помочь нашей модели при обучении и удалим изначальный столбец. Новыми признаками будут месяц подачи заявки и день недели, в который была подана заявка"
      ],
      "metadata": {
        "id": "lYH-a36JR0zd"
      }
    },
    {
      "cell_type": "code",
      "execution_count": 16,
      "metadata": {
        "colab": {
          "base_uri": "https://localhost:8080/"
        },
        "id": "Kt_fV-kxy56_",
        "outputId": "6a8f6a8b-2211-4472-afc3-66a0e8ccfc51"
      },
      "outputs": [
        {
          "output_type": "stream",
          "name": "stderr",
          "text": [
            "<ipython-input-16-5668c5cce964>:1: SettingWithCopyWarning: \n",
            "A value is trying to be set on a copy of a slice from a DataFrame.\n",
            "Try using .loc[row_indexer,col_indexer] = value instead\n",
            "\n",
            "See the caveats in the documentation: https://pandas.pydata.org/pandas-docs/stable/user_guide/indexing.html#returning-a-view-versus-a-copy\n",
            "  orders['order_date'] = pd.to_datetime(orders['order_date'], errors='coerce')\n"
          ]
        }
      ],
      "source": [
        "orders['order_date'] = pd.to_datetime(orders['order_date'], errors='coerce')"
      ]
    },
    {
      "cell_type": "code",
      "execution_count": 17,
      "metadata": {
        "colab": {
          "base_uri": "https://localhost:8080/",
          "height": 245
        },
        "id": "mgx_6kiQy56_",
        "outputId": "d7ce099d-c23e-47e4-e850-d74e46a5aaa0"
      },
      "outputs": [
        {
          "output_type": "execute_result",
          "data": {
            "text/plain": [
              "             id order_date  subject_id purpose  lesson_price  lesson_duration  \\\n",
              "105390  3211265        NaT   3211265.0    None       3211265          3211265   \n",
              "109392  3342337        NaT   3342337.0    None       3342337          3342337   \n",
              "437216  3605505        NaT   3605505.0    None       3605505          3605505   \n",
              "\n",
              "       lesson_place  home_metro_id add_info               start_date  ...  \\\n",
              "105390         None      3211265.0     None  0042-01-12 05:09:05.007  ...   \n",
              "109392         None      3342337.0     None  0042-01-12 04:26:08.039  ...   \n",
              "437216         None      3605505.0     None  0029-07-18 05:28:02.684  ...   \n",
              "\n",
              "        no_teachers_available  source_id original_order_id  client_id  \\\n",
              "105390                      1    3211265         3211265.0    3211265   \n",
              "109392                      1    3342337         3342337.0    3342337   \n",
              "437216                      1    3605505         3605505.0    3605505   \n",
              "\n",
              "       additional_status_id  max_metro_distance           estimated_fee  \\\n",
              "105390            3211265.0           3211265.0  8,344264636103745E-308   \n",
              "109392            3342337.0           3342337.0  8,344239172283769E-308   \n",
              "437216            3605505.0           3605505.0  4,450342944189884E-308   \n",
              "\n",
              "                   payment_date  is_display_to_teachers  learning_stage  \n",
              "105390  0042-01-12 05:09:05.007                       1            None  \n",
              "109392  0042-01-12 04:26:08.039                       1            None  \n",
              "437216  0029-07-18 05:28:02.684                       1            None  \n",
              "\n",
              "[3 rows x 39 columns]"
            ],
            "text/html": [
              "\n",
              "  <div id=\"df-c136ebc7-6109-4846-bc2b-b71c5df93c42\" class=\"colab-df-container\">\n",
              "    <div>\n",
              "<style scoped>\n",
              "    .dataframe tbody tr th:only-of-type {\n",
              "        vertical-align: middle;\n",
              "    }\n",
              "\n",
              "    .dataframe tbody tr th {\n",
              "        vertical-align: top;\n",
              "    }\n",
              "\n",
              "    .dataframe thead th {\n",
              "        text-align: right;\n",
              "    }\n",
              "</style>\n",
              "<table border=\"1\" class=\"dataframe\">\n",
              "  <thead>\n",
              "    <tr style=\"text-align: right;\">\n",
              "      <th></th>\n",
              "      <th>id</th>\n",
              "      <th>order_date</th>\n",
              "      <th>subject_id</th>\n",
              "      <th>purpose</th>\n",
              "      <th>lesson_price</th>\n",
              "      <th>lesson_duration</th>\n",
              "      <th>lesson_place</th>\n",
              "      <th>home_metro_id</th>\n",
              "      <th>add_info</th>\n",
              "      <th>start_date</th>\n",
              "      <th>...</th>\n",
              "      <th>no_teachers_available</th>\n",
              "      <th>source_id</th>\n",
              "      <th>original_order_id</th>\n",
              "      <th>client_id</th>\n",
              "      <th>additional_status_id</th>\n",
              "      <th>max_metro_distance</th>\n",
              "      <th>estimated_fee</th>\n",
              "      <th>payment_date</th>\n",
              "      <th>is_display_to_teachers</th>\n",
              "      <th>learning_stage</th>\n",
              "    </tr>\n",
              "  </thead>\n",
              "  <tbody>\n",
              "    <tr>\n",
              "      <th>105390</th>\n",
              "      <td>3211265</td>\n",
              "      <td>NaT</td>\n",
              "      <td>3211265.0</td>\n",
              "      <td>None</td>\n",
              "      <td>3211265</td>\n",
              "      <td>3211265</td>\n",
              "      <td>None</td>\n",
              "      <td>3211265.0</td>\n",
              "      <td>None</td>\n",
              "      <td>0042-01-12 05:09:05.007</td>\n",
              "      <td>...</td>\n",
              "      <td>1</td>\n",
              "      <td>3211265</td>\n",
              "      <td>3211265.0</td>\n",
              "      <td>3211265</td>\n",
              "      <td>3211265.0</td>\n",
              "      <td>3211265.0</td>\n",
              "      <td>8,344264636103745E-308</td>\n",
              "      <td>0042-01-12 05:09:05.007</td>\n",
              "      <td>1</td>\n",
              "      <td>None</td>\n",
              "    </tr>\n",
              "    <tr>\n",
              "      <th>109392</th>\n",
              "      <td>3342337</td>\n",
              "      <td>NaT</td>\n",
              "      <td>3342337.0</td>\n",
              "      <td>None</td>\n",
              "      <td>3342337</td>\n",
              "      <td>3342337</td>\n",
              "      <td>None</td>\n",
              "      <td>3342337.0</td>\n",
              "      <td>None</td>\n",
              "      <td>0042-01-12 04:26:08.039</td>\n",
              "      <td>...</td>\n",
              "      <td>1</td>\n",
              "      <td>3342337</td>\n",
              "      <td>3342337.0</td>\n",
              "      <td>3342337</td>\n",
              "      <td>3342337.0</td>\n",
              "      <td>3342337.0</td>\n",
              "      <td>8,344239172283769E-308</td>\n",
              "      <td>0042-01-12 04:26:08.039</td>\n",
              "      <td>1</td>\n",
              "      <td>None</td>\n",
              "    </tr>\n",
              "    <tr>\n",
              "      <th>437216</th>\n",
              "      <td>3605505</td>\n",
              "      <td>NaT</td>\n",
              "      <td>3605505.0</td>\n",
              "      <td>None</td>\n",
              "      <td>3605505</td>\n",
              "      <td>3605505</td>\n",
              "      <td>None</td>\n",
              "      <td>3605505.0</td>\n",
              "      <td>None</td>\n",
              "      <td>0029-07-18 05:28:02.684</td>\n",
              "      <td>...</td>\n",
              "      <td>1</td>\n",
              "      <td>3605505</td>\n",
              "      <td>3605505.0</td>\n",
              "      <td>3605505</td>\n",
              "      <td>3605505.0</td>\n",
              "      <td>3605505.0</td>\n",
              "      <td>4,450342944189884E-308</td>\n",
              "      <td>0029-07-18 05:28:02.684</td>\n",
              "      <td>1</td>\n",
              "      <td>None</td>\n",
              "    </tr>\n",
              "  </tbody>\n",
              "</table>\n",
              "<p>3 rows × 39 columns</p>\n",
              "</div>\n",
              "    <div class=\"colab-df-buttons\">\n",
              "\n",
              "  <div class=\"colab-df-container\">\n",
              "    <button class=\"colab-df-convert\" onclick=\"convertToInteractive('df-c136ebc7-6109-4846-bc2b-b71c5df93c42')\"\n",
              "            title=\"Convert this dataframe to an interactive table.\"\n",
              "            style=\"display:none;\">\n",
              "\n",
              "  <svg xmlns=\"http://www.w3.org/2000/svg\" height=\"24px\" viewBox=\"0 -960 960 960\">\n",
              "    <path d=\"M120-120v-720h720v720H120Zm60-500h600v-160H180v160Zm220 220h160v-160H400v160Zm0 220h160v-160H400v160ZM180-400h160v-160H180v160Zm440 0h160v-160H620v160ZM180-180h160v-160H180v160Zm440 0h160v-160H620v160Z\"/>\n",
              "  </svg>\n",
              "    </button>\n",
              "\n",
              "  <style>\n",
              "    .colab-df-container {\n",
              "      display:flex;\n",
              "      gap: 12px;\n",
              "    }\n",
              "\n",
              "    .colab-df-convert {\n",
              "      background-color: #E8F0FE;\n",
              "      border: none;\n",
              "      border-radius: 50%;\n",
              "      cursor: pointer;\n",
              "      display: none;\n",
              "      fill: #1967D2;\n",
              "      height: 32px;\n",
              "      padding: 0 0 0 0;\n",
              "      width: 32px;\n",
              "    }\n",
              "\n",
              "    .colab-df-convert:hover {\n",
              "      background-color: #E2EBFA;\n",
              "      box-shadow: 0px 1px 2px rgba(60, 64, 67, 0.3), 0px 1px 3px 1px rgba(60, 64, 67, 0.15);\n",
              "      fill: #174EA6;\n",
              "    }\n",
              "\n",
              "    .colab-df-buttons div {\n",
              "      margin-bottom: 4px;\n",
              "    }\n",
              "\n",
              "    [theme=dark] .colab-df-convert {\n",
              "      background-color: #3B4455;\n",
              "      fill: #D2E3FC;\n",
              "    }\n",
              "\n",
              "    [theme=dark] .colab-df-convert:hover {\n",
              "      background-color: #434B5C;\n",
              "      box-shadow: 0px 1px 3px 1px rgba(0, 0, 0, 0.15);\n",
              "      filter: drop-shadow(0px 1px 2px rgba(0, 0, 0, 0.3));\n",
              "      fill: #FFFFFF;\n",
              "    }\n",
              "  </style>\n",
              "\n",
              "    <script>\n",
              "      const buttonEl =\n",
              "        document.querySelector('#df-c136ebc7-6109-4846-bc2b-b71c5df93c42 button.colab-df-convert');\n",
              "      buttonEl.style.display =\n",
              "        google.colab.kernel.accessAllowed ? 'block' : 'none';\n",
              "\n",
              "      async function convertToInteractive(key) {\n",
              "        const element = document.querySelector('#df-c136ebc7-6109-4846-bc2b-b71c5df93c42');\n",
              "        const dataTable =\n",
              "          await google.colab.kernel.invokeFunction('convertToInteractive',\n",
              "                                                    [key], {});\n",
              "        if (!dataTable) return;\n",
              "\n",
              "        const docLinkHtml = 'Like what you see? Visit the ' +\n",
              "          '<a target=\"_blank\" href=https://colab.research.google.com/notebooks/data_table.ipynb>data table notebook</a>'\n",
              "          + ' to learn more about interactive tables.';\n",
              "        element.innerHTML = '';\n",
              "        dataTable['output_type'] = 'display_data';\n",
              "        await google.colab.output.renderOutput(dataTable, element);\n",
              "        const docLink = document.createElement('div');\n",
              "        docLink.innerHTML = docLinkHtml;\n",
              "        element.appendChild(docLink);\n",
              "      }\n",
              "    </script>\n",
              "  </div>\n",
              "\n",
              "\n",
              "<div id=\"df-fbe9ac57-8fad-408d-9cb7-f70e1e3b4924\">\n",
              "  <button class=\"colab-df-quickchart\" onclick=\"quickchart('df-fbe9ac57-8fad-408d-9cb7-f70e1e3b4924')\"\n",
              "            title=\"Suggest charts\"\n",
              "            style=\"display:none;\">\n",
              "\n",
              "<svg xmlns=\"http://www.w3.org/2000/svg\" height=\"24px\"viewBox=\"0 0 24 24\"\n",
              "     width=\"24px\">\n",
              "    <g>\n",
              "        <path d=\"M19 3H5c-1.1 0-2 .9-2 2v14c0 1.1.9 2 2 2h14c1.1 0 2-.9 2-2V5c0-1.1-.9-2-2-2zM9 17H7v-7h2v7zm4 0h-2V7h2v10zm4 0h-2v-4h2v4z\"/>\n",
              "    </g>\n",
              "</svg>\n",
              "  </button>\n",
              "\n",
              "<style>\n",
              "  .colab-df-quickchart {\n",
              "      --bg-color: #E8F0FE;\n",
              "      --fill-color: #1967D2;\n",
              "      --hover-bg-color: #E2EBFA;\n",
              "      --hover-fill-color: #174EA6;\n",
              "      --disabled-fill-color: #AAA;\n",
              "      --disabled-bg-color: #DDD;\n",
              "  }\n",
              "\n",
              "  [theme=dark] .colab-df-quickchart {\n",
              "      --bg-color: #3B4455;\n",
              "      --fill-color: #D2E3FC;\n",
              "      --hover-bg-color: #434B5C;\n",
              "      --hover-fill-color: #FFFFFF;\n",
              "      --disabled-bg-color: #3B4455;\n",
              "      --disabled-fill-color: #666;\n",
              "  }\n",
              "\n",
              "  .colab-df-quickchart {\n",
              "    background-color: var(--bg-color);\n",
              "    border: none;\n",
              "    border-radius: 50%;\n",
              "    cursor: pointer;\n",
              "    display: none;\n",
              "    fill: var(--fill-color);\n",
              "    height: 32px;\n",
              "    padding: 0;\n",
              "    width: 32px;\n",
              "  }\n",
              "\n",
              "  .colab-df-quickchart:hover {\n",
              "    background-color: var(--hover-bg-color);\n",
              "    box-shadow: 0 1px 2px rgba(60, 64, 67, 0.3), 0 1px 3px 1px rgba(60, 64, 67, 0.15);\n",
              "    fill: var(--button-hover-fill-color);\n",
              "  }\n",
              "\n",
              "  .colab-df-quickchart-complete:disabled,\n",
              "  .colab-df-quickchart-complete:disabled:hover {\n",
              "    background-color: var(--disabled-bg-color);\n",
              "    fill: var(--disabled-fill-color);\n",
              "    box-shadow: none;\n",
              "  }\n",
              "\n",
              "  .colab-df-spinner {\n",
              "    border: 2px solid var(--fill-color);\n",
              "    border-color: transparent;\n",
              "    border-bottom-color: var(--fill-color);\n",
              "    animation:\n",
              "      spin 1s steps(1) infinite;\n",
              "  }\n",
              "\n",
              "  @keyframes spin {\n",
              "    0% {\n",
              "      border-color: transparent;\n",
              "      border-bottom-color: var(--fill-color);\n",
              "      border-left-color: var(--fill-color);\n",
              "    }\n",
              "    20% {\n",
              "      border-color: transparent;\n",
              "      border-left-color: var(--fill-color);\n",
              "      border-top-color: var(--fill-color);\n",
              "    }\n",
              "    30% {\n",
              "      border-color: transparent;\n",
              "      border-left-color: var(--fill-color);\n",
              "      border-top-color: var(--fill-color);\n",
              "      border-right-color: var(--fill-color);\n",
              "    }\n",
              "    40% {\n",
              "      border-color: transparent;\n",
              "      border-right-color: var(--fill-color);\n",
              "      border-top-color: var(--fill-color);\n",
              "    }\n",
              "    60% {\n",
              "      border-color: transparent;\n",
              "      border-right-color: var(--fill-color);\n",
              "    }\n",
              "    80% {\n",
              "      border-color: transparent;\n",
              "      border-right-color: var(--fill-color);\n",
              "      border-bottom-color: var(--fill-color);\n",
              "    }\n",
              "    90% {\n",
              "      border-color: transparent;\n",
              "      border-bottom-color: var(--fill-color);\n",
              "    }\n",
              "  }\n",
              "</style>\n",
              "\n",
              "  <script>\n",
              "    async function quickchart(key) {\n",
              "      const quickchartButtonEl =\n",
              "        document.querySelector('#' + key + ' button');\n",
              "      quickchartButtonEl.disabled = true;  // To prevent multiple clicks.\n",
              "      quickchartButtonEl.classList.add('colab-df-spinner');\n",
              "      try {\n",
              "        const charts = await google.colab.kernel.invokeFunction(\n",
              "            'suggestCharts', [key], {});\n",
              "      } catch (error) {\n",
              "        console.error('Error during call to suggestCharts:', error);\n",
              "      }\n",
              "      quickchartButtonEl.classList.remove('colab-df-spinner');\n",
              "      quickchartButtonEl.classList.add('colab-df-quickchart-complete');\n",
              "    }\n",
              "    (() => {\n",
              "      let quickchartButtonEl =\n",
              "        document.querySelector('#df-fbe9ac57-8fad-408d-9cb7-f70e1e3b4924 button');\n",
              "      quickchartButtonEl.style.display =\n",
              "        google.colab.kernel.accessAllowed ? 'block' : 'none';\n",
              "    })();\n",
              "  </script>\n",
              "</div>\n",
              "\n",
              "    </div>\n",
              "  </div>\n"
            ],
            "application/vnd.google.colaboratory.intrinsic+json": {
              "type": "dataframe"
            }
          },
          "metadata": {},
          "execution_count": 17
        }
      ],
      "source": [
        "orders[orders['order_date'].isna()]"
      ]
    },
    {
      "cell_type": "code",
      "execution_count": 18,
      "metadata": {
        "id": "crvj-moay56_"
      },
      "outputs": [],
      "source": [
        "orders = orders.dropna(subset=['order_date'])"
      ]
    },
    {
      "cell_type": "code",
      "execution_count": 19,
      "metadata": {
        "id": "BCSeDPa7y56_"
      },
      "outputs": [],
      "source": [
        "orders['order_date'] = pd.to_datetime(orders['order_date'], errors='coerce')\n",
        "orders['order_date'] = orders['order_date'].dt.strftime('%Y-%m-%d')\n",
        "orders['order_date'] = pd.to_datetime(orders['order_date'])"
      ]
    },
    {
      "cell_type": "code",
      "execution_count": 20,
      "metadata": {
        "id": "a2cU8gg9y57A"
      },
      "outputs": [],
      "source": [
        "orders['order_month'] = orders['order_date'].dt.month"
      ]
    },
    {
      "cell_type": "code",
      "execution_count": 21,
      "metadata": {
        "id": "GETzfG3ry57A"
      },
      "outputs": [],
      "source": [
        "orders['order_wd'] = orders['order_date'].dt.day_of_week"
      ]
    },
    {
      "cell_type": "markdown",
      "source": [
        "У нас имеется еще один столбец с комментариями. Найти какие-то общие черты в комментариях мы вряд ли сможем, поэтому создадим новый параметр, где будет указано, была ли дополнительная информация в заявке (1) или нет (0)"
      ],
      "metadata": {
        "id": "RAs-rFmkSm3f"
      }
    },
    {
      "cell_type": "code",
      "execution_count": 22,
      "metadata": {
        "id": "2qmDB2t0y57A"
      },
      "outputs": [],
      "source": [
        "orders['add_info_is'] = orders['add_info'].notna().astype(int)"
      ]
    },
    {
      "cell_type": "markdown",
      "source": [
        "Удаляем из данных столбцы с параметрами, которые не несут для нас никакой ценной информации и которые не известны в момент подачи заявки и формируются позже, по мере ее редактирования"
      ],
      "metadata": {
        "id": "Qf6AKWc2S6u3"
      }
    },
    {
      "cell_type": "code",
      "execution_count": 23,
      "metadata": {
        "id": "WVsnseZXy57A"
      },
      "outputs": [],
      "source": [
        "orders = orders.drop( columns=['order_date','add_info','start_date','comments','amount_to_pay','first_lesson_date','additional_status_id',\\\n",
        "                               'estimated_fee','payment_date','lesson_place','prefered_teacher_id','purpose','working_teacher_id'])"
      ]
    },
    {
      "cell_type": "code",
      "execution_count": 24,
      "metadata": {
        "colab": {
          "base_uri": "https://localhost:8080/",
          "height": 659
        },
        "id": "InZTZPkyy57A",
        "outputId": "252901d1-a2be-4b08-d716-8dd5bcca449f"
      },
      "outputs": [
        {
          "output_type": "stream",
          "name": "stdout",
          "text": [
            "<class 'pandas.core.frame.DataFrame'>\n",
            "Int64Index: 1190958 entries, 0 to 437215\n",
            "Data columns (total 29 columns):\n",
            " #   Column                   Non-Null Count    Dtype  \n",
            "---  ------                   --------------    -----  \n",
            " 0   id                       1190958 non-null  int32  \n",
            " 1   subject_id               1180633 non-null  float32\n",
            " 2   lesson_price             1190958 non-null  int32  \n",
            " 3   lesson_duration          1190958 non-null  int32  \n",
            " 4   home_metro_id            642006 non-null   float32\n",
            " 5   status_id                1190958 non-null  int32  \n",
            " 6   planned_lesson_number    1190958 non-null  int32  \n",
            " 7   creator_id               579325 non-null   float32\n",
            " 8   pupil_category_new_id    1031652 non-null  float32\n",
            " 9   lessons_per_week         1190958 non-null  int32  \n",
            " 10  minimal_price            1190958 non-null  int32  \n",
            " 11  teacher_sex              1190958 non-null  int32  \n",
            " 12  teacher_experience_from  1190958 non-null  int32  \n",
            " 13  teacher_experience_to    1190958 non-null  int32  \n",
            " 14  lesson_place_new         1190958 non-null  int32  \n",
            " 15  pupil_knowledgelvl       1190958 non-null  int32  \n",
            " 16  teacher_age_from         1190958 non-null  int32  \n",
            " 17  teacher_age_to           1190958 non-null  int32  \n",
            " 18  chosen_teachers_only     1190958 non-null  int8   \n",
            " 19  no_teachers_available    1190958 non-null  int8   \n",
            " 20  source_id                1190958 non-null  int32  \n",
            " 21  original_order_id        582237 non-null   float32\n",
            " 22  client_id                1190958 non-null  int32  \n",
            " 23  max_metro_distance       13501 non-null    float32\n",
            " 24  is_display_to_teachers   1190958 non-null  int8   \n",
            " 25  learning_stage           984297 non-null   object \n",
            " 26  order_month              1190958 non-null  int64  \n",
            " 27  order_wd                 1190958 non-null  int64  \n",
            " 28  add_info_is              1190958 non-null  int64  \n",
            "dtypes: float32(6), int32(16), int64(3), int8(3), object(1)\n",
            "memory usage: 148.8+ MB\n"
          ]
        },
        {
          "output_type": "display_data",
          "data": {
            "text/plain": [
              "None"
            ]
          },
          "metadata": {}
        }
      ],
      "source": [
        "display(orders.info())"
      ]
    },
    {
      "cell_type": "markdown",
      "source": [
        "Заполняем пропуски в столбце  с id создателя заявки 0. Далее на основании этих данных создаем новый параметр, в котором будет отражено создал ли заявку оператор (если creator_id не равен 0) или же пользователь."
      ],
      "metadata": {
        "id": "4Mu6I1SMToQ6"
      }
    },
    {
      "cell_type": "code",
      "execution_count": 26,
      "metadata": {
        "id": "yz4WMBk9y57B"
      },
      "outputs": [],
      "source": [
        "orders['creator_id'] = orders['creator_id'].fillna(0)"
      ]
    },
    {
      "cell_type": "code",
      "execution_count": 27,
      "metadata": {
        "id": "ZjWX9NtPy57B"
      },
      "outputs": [],
      "source": [
        "orders['order_maker'] = [0 if creat == 0 else 1 for creat in orders['creator_id']]"
      ]
    },
    {
      "cell_type": "code",
      "execution_count": 29,
      "metadata": {
        "id": "OrDjkMPvy57B"
      },
      "outputs": [],
      "source": [
        "orders = orders.drop( columns=['creator_id'])"
      ]
    },
    {
      "cell_type": "markdown",
      "source": [
        "Заполним пропуски в столбце с id предмета, по которому человек хочет подтянуть или получить знания, посредством метода ближайших соседей"
      ],
      "metadata": {
        "id": "8ns8R6x0Uk7M"
      }
    },
    {
      "cell_type": "code",
      "execution_count": 33,
      "metadata": {
        "id": "QYSe_SYOy57C"
      },
      "outputs": [],
      "source": [
        "orders[['subject_id']] = KNNImputer(n_neighbors=5).fit_transform(orders[['subject_id']])"
      ]
    },
    {
      "cell_type": "markdown",
      "source": [
        "В столбце pupil_category_new_id  уникальные значения варьируются от 1 до 18, но пропущено значение 13. Предположим, что пропущенные значения это и есть та самая 13 категория. Заполним пропуски этим значением."
      ],
      "metadata": {
        "id": "evQEnfM6VFcU"
      }
    },
    {
      "cell_type": "code",
      "execution_count": 34,
      "metadata": {
        "id": "ZHwzNqt9y57D"
      },
      "outputs": [],
      "source": [
        "orders['pupil_category_new_id'] = orders['pupil_category_new_id'].fillna(13)"
      ]
    },
    {
      "cell_type": "markdown",
      "source": [
        "Смотрим, в каких данных у нас еще имеются пропуски"
      ],
      "metadata": {
        "id": "nqmL89cTViv9"
      }
    },
    {
      "cell_type": "code",
      "execution_count": 35,
      "metadata": {
        "colab": {
          "base_uri": "https://localhost:8080/"
        },
        "id": "0tp8urEey57D",
        "outputId": "d9ef719b-e5a9-4b72-a43d-c04c2cb88570"
      },
      "outputs": [
        {
          "output_type": "stream",
          "name": "stdout",
          "text": [
            "<class 'pandas.core.frame.DataFrame'>\n",
            "Int64Index: 1190958 entries, 0 to 437215\n",
            "Data columns (total 29 columns):\n",
            " #   Column                   Non-Null Count    Dtype  \n",
            "---  ------                   --------------    -----  \n",
            " 0   id                       1190958 non-null  int32  \n",
            " 1   subject_id               1190958 non-null  float32\n",
            " 2   lesson_price             1190958 non-null  int32  \n",
            " 3   lesson_duration          1190958 non-null  int32  \n",
            " 4   home_metro_id            642006 non-null   float32\n",
            " 5   status_id                1190958 non-null  int32  \n",
            " 6   planned_lesson_number    1190958 non-null  int32  \n",
            " 7   pupil_category_new_id    1190958 non-null  float32\n",
            " 8   lessons_per_week         1190958 non-null  int32  \n",
            " 9   minimal_price            1190958 non-null  int32  \n",
            " 10  teacher_sex              1190958 non-null  int32  \n",
            " 11  teacher_experience_from  1190958 non-null  int32  \n",
            " 12  teacher_experience_to    1190958 non-null  int32  \n",
            " 13  lesson_place_new         1190958 non-null  int32  \n",
            " 14  pupil_knowledgelvl       1190958 non-null  int32  \n",
            " 15  teacher_age_from         1190958 non-null  int32  \n",
            " 16  teacher_age_to           1190958 non-null  int32  \n",
            " 17  chosen_teachers_only     1190958 non-null  int8   \n",
            " 18  no_teachers_available    1190958 non-null  int8   \n",
            " 19  source_id                1190958 non-null  int32  \n",
            " 20  original_order_id        582237 non-null   float32\n",
            " 21  client_id                1190958 non-null  int32  \n",
            " 22  max_metro_distance       13501 non-null    float32\n",
            " 23  is_display_to_teachers   1190958 non-null  int8   \n",
            " 24  learning_stage           984297 non-null   object \n",
            " 25  order_month              1190958 non-null  int64  \n",
            " 26  order_wd                 1190958 non-null  int64  \n",
            " 27  add_info_is              1190958 non-null  int64  \n",
            " 28  order_maker              1190958 non-null  int64  \n",
            "dtypes: float32(5), int32(16), int64(4), int8(3), object(1)\n",
            "memory usage: 153.3+ MB\n"
          ]
        }
      ],
      "source": [
        "orders.info()"
      ]
    },
    {
      "cell_type": "code",
      "execution_count": 36,
      "metadata": {
        "colab": {
          "base_uri": "https://localhost:8080/"
        },
        "id": "sknQN8Say57D",
        "outputId": "e5a64710-da59-4ae7-89cb-4974246c4ccc"
      },
      "outputs": [
        {
          "output_type": "execute_result",
          "data": {
            "text/plain": [
              "4    413198\n",
              "0    118159\n",
              "1      6746\n",
              "2      5164\n",
              "3      2440\n",
              "6      1590\n",
              "5       966\n",
              "7       689\n",
              "Name: lesson_place_new, dtype: int64"
            ]
          },
          "metadata": {},
          "execution_count": 36
        }
      ],
      "source": [
        "orders[orders['home_metro_id'].isna()]['lesson_place_new'].value_counts()"
      ]
    },
    {
      "cell_type": "markdown",
      "source": [
        "Мы провели проверку значений места проведения уроков, при которых отсутствуют значения в индексе ближайшего метро ученика. Можно предположить, что там, где айди метро не указан больше всего то это онлайн-занятия и ученики просто не видят смысла указывать свое ближайшее метро. Поэтому заменим пропуски 0. По этой же логике заполняем 0 пропуски в максимальном расстоянии до метро."
      ],
      "metadata": {
        "id": "rpycKA76WJO6"
      }
    },
    {
      "cell_type": "code",
      "execution_count": 37,
      "metadata": {
        "id": "hvgfa0bhy57D"
      },
      "outputs": [],
      "source": [
        "orders['home_metro_id'] = orders['home_metro_id'].fillna(0)"
      ]
    },
    {
      "cell_type": "code",
      "execution_count": 40,
      "metadata": {
        "colab": {
          "base_uri": "https://localhost:8080/"
        },
        "id": "VrA0i4Dgy57M",
        "outputId": "9f572134-1cba-42b7-dad6-0629566c7e09"
      },
      "outputs": [
        {
          "output_type": "stream",
          "name": "stderr",
          "text": [
            "<ipython-input-40-98b2136b812b>:1: SettingWithCopyWarning: \n",
            "A value is trying to be set on a copy of a slice from a DataFrame.\n",
            "Try using .loc[row_indexer,col_indexer] = value instead\n",
            "\n",
            "See the caveats in the documentation: https://pandas.pydata.org/pandas-docs/stable/user_guide/indexing.html#returning-a-view-versus-a-copy\n",
            "  orders[(orders['max_metro_distance'].isna()) & (orders['lesson_place_new'] == 4)]['max_metro_distance'] = 0\n"
          ]
        }
      ],
      "source": [
        "orders[(orders['max_metro_distance'].isna()) & (orders['lesson_place_new'] == 4)]['max_metro_distance'] = 0"
      ]
    },
    {
      "cell_type": "markdown",
      "source": [
        "Остальные же пропуски заполним средним значением"
      ],
      "metadata": {
        "id": "Q3pPrPTpXbPZ"
      }
    },
    {
      "cell_type": "code",
      "execution_count": 41,
      "metadata": {
        "id": "J_COhk0My57N"
      },
      "outputs": [],
      "source": [
        "orders['max_metro_distance'] = orders['max_metro_distance'].fillna(orders['max_metro_distance'].mean())"
      ]
    },
    {
      "cell_type": "markdown",
      "source": [
        "Таким же значением (0) заполним пропуски в столбце с указанием изначального ацди заявки. Если этого значения нет, значит заявка оставляется впервые"
      ],
      "metadata": {
        "id": "_sGXCNP5Wzkk"
      }
    },
    {
      "cell_type": "code",
      "execution_count": 38,
      "metadata": {
        "id": "KQPaQQw7y57D"
      },
      "outputs": [],
      "source": [
        "orders['original_order_id'] = orders['original_order_id'].fillna(0)"
      ]
    },
    {
      "cell_type": "code",
      "execution_count": 42,
      "metadata": {
        "colab": {
          "base_uri": "https://localhost:8080/"
        },
        "id": "vcjUauWHy57N",
        "outputId": "5cbd6f9b-cf87-495e-a180-f760723c4579"
      },
      "outputs": [
        {
          "output_type": "stream",
          "name": "stdout",
          "text": [
            "<class 'pandas.core.frame.DataFrame'>\n",
            "Int64Index: 1190958 entries, 0 to 437215\n",
            "Data columns (total 29 columns):\n",
            " #   Column                   Non-Null Count    Dtype  \n",
            "---  ------                   --------------    -----  \n",
            " 0   id                       1190958 non-null  int32  \n",
            " 1   subject_id               1190958 non-null  float32\n",
            " 2   lesson_price             1190958 non-null  int32  \n",
            " 3   lesson_duration          1190958 non-null  int32  \n",
            " 4   home_metro_id            1190958 non-null  float32\n",
            " 5   status_id                1190958 non-null  int32  \n",
            " 6   planned_lesson_number    1190958 non-null  int32  \n",
            " 7   pupil_category_new_id    1190958 non-null  float32\n",
            " 8   lessons_per_week         1190958 non-null  int32  \n",
            " 9   minimal_price            1190958 non-null  int32  \n",
            " 10  teacher_sex              1190958 non-null  int32  \n",
            " 11  teacher_experience_from  1190958 non-null  int32  \n",
            " 12  teacher_experience_to    1190958 non-null  int32  \n",
            " 13  lesson_place_new         1190958 non-null  int32  \n",
            " 14  pupil_knowledgelvl       1190958 non-null  int32  \n",
            " 15  teacher_age_from         1190958 non-null  int32  \n",
            " 16  teacher_age_to           1190958 non-null  int32  \n",
            " 17  chosen_teachers_only     1190958 non-null  int8   \n",
            " 18  no_teachers_available    1190958 non-null  int8   \n",
            " 19  source_id                1190958 non-null  int32  \n",
            " 20  original_order_id        1190958 non-null  float32\n",
            " 21  client_id                1190958 non-null  int32  \n",
            " 22  max_metro_distance       1190958 non-null  float32\n",
            " 23  is_display_to_teachers   1190958 non-null  int8   \n",
            " 24  learning_stage           984297 non-null   object \n",
            " 25  order_month              1190958 non-null  int64  \n",
            " 26  order_wd                 1190958 non-null  int64  \n",
            " 27  add_info_is              1190958 non-null  int64  \n",
            " 28  order_maker              1190958 non-null  int64  \n",
            "dtypes: float32(5), int32(16), int64(4), int8(3), object(1)\n",
            "memory usage: 153.3+ MB\n"
          ]
        }
      ],
      "source": [
        "orders.info()"
      ]
    },
    {
      "cell_type": "markdown",
      "source": [
        "Хоть мы и смогли вынески в отдельную переменную этап обучения ученика, в некоторрых заявках остались пропуски. Попробуем заполнить их модой этого столбца"
      ],
      "metadata": {
        "id": "MvTqXTnTX3BX"
      }
    },
    {
      "cell_type": "code",
      "execution_count": 43,
      "metadata": {
        "id": "22m6-h-ay57N"
      },
      "outputs": [],
      "source": [
        "orders['learning_stage'] = orders['learning_stage'].fillna(orders['learning_stage'].mode().iloc[0])"
      ]
    },
    {
      "cell_type": "markdown",
      "source": [
        "Пропуски заполнены, осталось привести отдельные параметры к верному типу данных."
      ],
      "metadata": {
        "id": "9OLXieEDYF9H"
      }
    },
    {
      "cell_type": "code",
      "execution_count": 45,
      "metadata": {
        "id": "BcuLn8Rpy57O"
      },
      "outputs": [],
      "source": [
        "orders = orders.astype({'home_metro_id': 'int', 'pupil_category_new_id': 'int', 'original_order_id': 'int', 'subject_id' : 'int'})"
      ]
    },
    {
      "cell_type": "code",
      "execution_count": 46,
      "metadata": {
        "colab": {
          "base_uri": "https://localhost:8080/"
        },
        "id": "YfmtvZiiy57O",
        "outputId": "36f95ea6-b68c-4d52-f3d5-cfe2bdd8d176"
      },
      "outputs": [
        {
          "output_type": "stream",
          "name": "stdout",
          "text": [
            "<class 'pandas.core.frame.DataFrame'>\n",
            "Int64Index: 1190958 entries, 0 to 437215\n",
            "Data columns (total 29 columns):\n",
            " #   Column                   Non-Null Count    Dtype  \n",
            "---  ------                   --------------    -----  \n",
            " 0   id                       1190958 non-null  int32  \n",
            " 1   subject_id               1190958 non-null  int64  \n",
            " 2   lesson_price             1190958 non-null  int32  \n",
            " 3   lesson_duration          1190958 non-null  int32  \n",
            " 4   home_metro_id            1190958 non-null  int64  \n",
            " 5   status_id                1190958 non-null  int32  \n",
            " 6   planned_lesson_number    1190958 non-null  int32  \n",
            " 7   pupil_category_new_id    1190958 non-null  int64  \n",
            " 8   lessons_per_week         1190958 non-null  int32  \n",
            " 9   minimal_price            1190958 non-null  int32  \n",
            " 10  teacher_sex              1190958 non-null  int32  \n",
            " 11  teacher_experience_from  1190958 non-null  int32  \n",
            " 12  teacher_experience_to    1190958 non-null  int32  \n",
            " 13  lesson_place_new         1190958 non-null  int32  \n",
            " 14  pupil_knowledgelvl       1190958 non-null  int32  \n",
            " 15  teacher_age_from         1190958 non-null  int32  \n",
            " 16  teacher_age_to           1190958 non-null  int32  \n",
            " 17  chosen_teachers_only     1190958 non-null  int8   \n",
            " 18  no_teachers_available    1190958 non-null  int8   \n",
            " 19  source_id                1190958 non-null  int32  \n",
            " 20  original_order_id        1190958 non-null  int64  \n",
            " 21  client_id                1190958 non-null  int32  \n",
            " 22  max_metro_distance       1190958 non-null  float32\n",
            " 23  is_display_to_teachers   1190958 non-null  int8   \n",
            " 24  learning_stage           1190958 non-null  object \n",
            " 25  order_month              1190958 non-null  int64  \n",
            " 26  order_wd                 1190958 non-null  int64  \n",
            " 27  add_info_is              1190958 non-null  int64  \n",
            " 28  order_maker              1190958 non-null  int64  \n",
            "dtypes: float32(1), int32(16), int64(8), int8(3), object(1)\n",
            "memory usage: 171.5+ MB\n"
          ]
        }
      ],
      "source": [
        "orders.info()"
      ]
    },
    {
      "cell_type": "markdown",
      "source": [
        "Закодируем столбец с данными об этапе обучения заявителя, чтобы сделать все данные в таблице в числовом формате."
      ],
      "metadata": {
        "id": "e_rcsj0hYbzK"
      }
    },
    {
      "cell_type": "code",
      "execution_count": 48,
      "metadata": {
        "id": "dixs9nMDy57P"
      },
      "outputs": [],
      "source": [
        "encoder = OrdinalEncoder()\n",
        "orders['learning_stage'] = encoder.fit_transform(orders[['learning_stage']])"
      ]
    },
    {
      "cell_type": "markdown",
      "source": [
        "Теперь изучим вторые две таблицы, в которых указаны подходящие по фильру репетиторы и, соответственно, информация о каждом из этих репетиторов"
      ],
      "metadata": {
        "id": "nnckLV9kYt49"
      }
    },
    {
      "cell_type": "code",
      "execution_count": 49,
      "metadata": {
        "colab": {
          "base_uri": "https://localhost:8080/"
        },
        "id": "Wv7wTOQGy57P",
        "outputId": "de2c131b-1e15-4c80-9c54-96a77cd92f2f"
      },
      "outputs": [
        {
          "output_type": "stream",
          "name": "stdout",
          "text": [
            "<class 'pandas.core.frame.DataFrame'>\n",
            "RangeIndex: 20271186 entries, 0 to 20271185\n",
            "Data columns (total 5 columns):\n",
            " #   Column              Dtype   \n",
            "---  ------              -----   \n",
            " 0   teacher_id          int32   \n",
            " 1   order_id            int32   \n",
            " 2   contact_result      category\n",
            " 3   enable_auto_assign  int8    \n",
            " 4   enable_assign       int8    \n",
            "dtypes: category(1), int32(2), int8(2)\n",
            "memory usage: 232.3 MB\n"
          ]
        }
      ],
      "source": [
        "suitable_teachers.info()"
      ]
    },
    {
      "cell_type": "code",
      "execution_count": 50,
      "metadata": {
        "colab": {
          "base_uri": "https://localhost:8080/"
        },
        "id": "Uk8FVr_sy57Q",
        "outputId": "43ea2b74-de16-4fe3-dd9e-a4f95c44155d"
      },
      "outputs": [
        {
          "output_type": "stream",
          "name": "stdout",
          "text": [
            "<class 'pandas.core.frame.DataFrame'>\n",
            "RangeIndex: 307972 entries, 0 to 307971\n",
            "Data columns (total 80 columns):\n",
            " #   Column                      Non-Null Count   Dtype   \n",
            "---  ------                      --------------   -----   \n",
            " 0   id                          307972 non-null  int32   \n",
            " 1   date_update                 307972 non-null  category\n",
            " 2   reg_date                    307972 non-null  category\n",
            " 3   birth_date                  307972 non-null  category\n",
            " 4   teaching_start_date         307972 non-null  category\n",
            " 5   user_id                     307972 non-null  int32   \n",
            " 6   is_email_confirmed          307972 non-null  int8    \n",
            " 7   is_home_lessons             307972 non-null  int8    \n",
            " 8   is_external_lessons         307972 non-null  int8    \n",
            " 9   external_comments           90978 non-null   category\n",
            " 10  lesson_duration             307972 non-null  int16   \n",
            " 11  lesson_cost                 307972 non-null  int32   \n",
            " 12  status_id                   307972 non-null  int8    \n",
            " 13  status_relevant_date        46379 non-null   category\n",
            " 14  status_school_id            14873 non-null   float16 \n",
            " 15  status_college_id           6543 non-null    float16 \n",
            " 16  status_display              307972 non-null  int8    \n",
            " 17  russian_level_id            307972 non-null  int8    \n",
            " 18  home_country_id             307972 non-null  int16   \n",
            " 19  information                 132972 non-null  category\n",
            " 20  is_confirmed                307972 non-null  int8    \n",
            " 21  external_comments.1         90978 non-null   category\n",
            " 22  lesson_duration.1           307972 non-null  int16   \n",
            " 23  lesson_cost.1               307972 non-null  int32   \n",
            " 24  status_id.1                 307972 non-null  int8    \n",
            " 25  status_relevant_date.1      46379 non-null   category\n",
            " 26  status_school_id.1          14873 non-null   float16 \n",
            " 27  status_college_id.1         6543 non-null    float16 \n",
            " 28  status_display.1            307972 non-null  int8    \n",
            " 29  russian_level_id.1          307972 non-null  int8    \n",
            " 30  home_country_id.1           307972 non-null  int16   \n",
            " 31  information.1               132972 non-null  category\n",
            " 32  is_confirmed.1              307972 non-null  int8    \n",
            " 33  external_comments.2         90978 non-null   category\n",
            " 34  lesson_duration.2           307972 non-null  int16   \n",
            " 35  lesson_cost.2               307972 non-null  int32   \n",
            " 36  status_id.2                 307972 non-null  int8    \n",
            " 37  status_relevant_date.2      46379 non-null   category\n",
            " 38  status_school_id.2          14873 non-null   float16 \n",
            " 39  status_college_id.2         6543 non-null    float16 \n",
            " 40  status_display.2            307972 non-null  int8    \n",
            " 41  russian_level_id.2          307972 non-null  int8    \n",
            " 42  home_country_id.2           307972 non-null  int16   \n",
            " 43  photo_path                  185484 non-null  category\n",
            " 44  information.2               132972 non-null  category\n",
            " 45  is_confirmed.2              307972 non-null  int8    \n",
            " 46  is_display                  307972 non-null  int8    \n",
            " 47  rating_id                   307972 non-null  int8    \n",
            " 48  rating                      307972 non-null  int32   \n",
            " 49  comments                    44940 non-null   category\n",
            " 50  rules_confirmed_date        307972 non-null  category\n",
            " 51  last_visited                235837 non-null  category\n",
            " 52  is_pupils_needed            11208 non-null   float16 \n",
            " 53  is_cell_phone_confirmed     307972 non-null  int8    \n",
            " 54  effective_rating            307972 non-null  float16 \n",
            " 55  area_id                     307972 non-null  int8    \n",
            " 56  pupil_needed_date           29928 non-null   category\n",
            " 57  sex                         307972 non-null  int8    \n",
            " 58  amount_to_pay               307972 non-null  int16   \n",
            " 59  is_remote_lessons           307972 non-null  int8    \n",
            " 60  remote_comments             6043 non-null    category\n",
            " 61  show_on_map                 307972 non-null  int8    \n",
            " 62  send_mailing                307972 non-null  int8    \n",
            " 63  send_suitable_orders        307972 non-null  int8    \n",
            " 64  rating_for_users            307972 non-null  float16 \n",
            " 65  rating_for_admin            307972 non-null  float16 \n",
            " 66  passport_id                 1323 non-null    float16 \n",
            " 67  is_edited                   307972 non-null  int8    \n",
            " 68  orders_allowed              307972 non-null  int8    \n",
            " 69  display_days                307972 non-null  float16 \n",
            " 70  verification_status_id      307972 non-null  int8    \n",
            " 71  is_individual               78418 non-null   float16 \n",
            " 72  partner_id                  47734 non-null   category\n",
            " 73  star_rating                 307972 non-null  float16 \n",
            " 74  rating_for_users_yesterday  307972 non-null  float16 \n",
            " 75  review_num                  307972 non-null  int16   \n",
            " 76  relevance_date              307972 non-null  category\n",
            " 77  is_display_at_partners      307972 non-null  int8    \n",
            " 78  status_institution_id       24902 non-null   float16 \n",
            " 79  free_time_relevance_date    1705 non-null    category\n",
            "dtypes: category(22), float16(16), int16(8), int32(6), int8(28)\n",
            "memory usage: 124.9 MB\n"
          ]
        }
      ],
      "source": [
        "teachers_info.info()"
      ]
    },
    {
      "cell_type": "markdown",
      "source": [
        "Нам нудны только те данные, которые сразу известны при формировании заявки учеником. Поэтому оставляем в таблице с информацией о репетиторах только параметры с такими данными"
      ],
      "metadata": {
        "id": "XF-oB9hPZP4Q"
      }
    },
    {
      "cell_type": "code",
      "execution_count": 51,
      "metadata": {
        "id": "lpJQo_wly57Q"
      },
      "outputs": [],
      "source": [
        "columns_to_select = ['id','is_home_lessons','is_external_lessons','lesson_duration','lesson_cost','status_id',\n",
        "                      'status_display','home_country_id','is_display','rating',\n",
        "                      'area_id','sex','is_remote_lessons','orders_allowed','verification_status_id']\n",
        "\n",
        "teachers_info = teachers_info[columns_to_select]"
      ]
    },
    {
      "cell_type": "code",
      "execution_count": 52,
      "metadata": {
        "colab": {
          "base_uri": "https://localhost:8080/"
        },
        "id": "GfkVb-ppy57Q",
        "outputId": "34fdc642-9746-40ce-dacb-1f45732909d7"
      },
      "outputs": [
        {
          "output_type": "stream",
          "name": "stdout",
          "text": [
            "<class 'pandas.core.frame.DataFrame'>\n",
            "RangeIndex: 307972 entries, 0 to 307971\n",
            "Data columns (total 15 columns):\n",
            " #   Column                  Non-Null Count   Dtype\n",
            "---  ------                  --------------   -----\n",
            " 0   id                      307972 non-null  int32\n",
            " 1   is_home_lessons         307972 non-null  int8 \n",
            " 2   is_external_lessons     307972 non-null  int8 \n",
            " 3   lesson_duration         307972 non-null  int16\n",
            " 4   lesson_cost             307972 non-null  int32\n",
            " 5   status_id               307972 non-null  int8 \n",
            " 6   status_display          307972 non-null  int8 \n",
            " 7   home_country_id         307972 non-null  int16\n",
            " 8   is_display              307972 non-null  int8 \n",
            " 9   rating                  307972 non-null  int32\n",
            " 10  area_id                 307972 non-null  int8 \n",
            " 11  sex                     307972 non-null  int8 \n",
            " 12  is_remote_lessons       307972 non-null  int8 \n",
            " 13  orders_allowed          307972 non-null  int8 \n",
            " 14  verification_status_id  307972 non-null  int8 \n",
            "dtypes: int16(2), int32(3), int8(10)\n",
            "memory usage: 7.6 MB\n"
          ]
        }
      ],
      "source": [
        "teachers_info.info()"
      ]
    },
    {
      "cell_type": "markdown",
      "source": [
        "Аналогично делает и в другой таблице"
      ],
      "metadata": {
        "id": "w0EnDIAmZocP"
      }
    },
    {
      "cell_type": "code",
      "execution_count": 54,
      "metadata": {
        "id": "NotFhIbGy57R"
      },
      "outputs": [],
      "source": [
        "suitable_teachers = suitable_teachers.drop(columns='contact_result')"
      ]
    },
    {
      "cell_type": "markdown",
      "source": [
        "Объединяем таблицы по персональным кодам учителей"
      ],
      "metadata": {
        "id": "obD8-joEZuY3"
      }
    },
    {
      "cell_type": "code",
      "execution_count": 55,
      "metadata": {
        "id": "zqXa-2Cay57R"
      },
      "outputs": [],
      "source": [
        "merged_data = pd.merge(suitable_teachers, teachers_info, how='inner', left_on='teacher_id', right_on='id')"
      ]
    },
    {
      "cell_type": "code",
      "execution_count": 56,
      "metadata": {
        "colab": {
          "base_uri": "https://localhost:8080/",
          "height": 443
        },
        "id": "hAXlBs0zy57R",
        "outputId": "c220fa4b-4f14-419a-9028-aa1ad4f83806"
      },
      "outputs": [
        {
          "output_type": "execute_result",
          "data": {
            "text/plain": [
              "          teacher_id  order_id  enable_auto_assign  enable_assign      id  \\\n",
              "0              82583   1742711                   1              1   82583   \n",
              "1              82583   2303834                   0              0   82583   \n",
              "2              82583   2341690                   0              0   82583   \n",
              "3              82583   2357656                   0              0   82583   \n",
              "4              82583   2358339                   0              0   82583   \n",
              "...              ...       ...                 ...            ...     ...   \n",
              "20271179       95314   2946238                   0              0   95314   \n",
              "20271180      159221   2944984                   0              0  159221   \n",
              "20271181      310324   2946405                   0              0  310324   \n",
              "20271182      155040   2946351                   0              0  155040   \n",
              "20271183      132836   2946351                   0              0  132836   \n",
              "\n",
              "          is_home_lessons  is_external_lessons  lesson_duration  lesson_cost  \\\n",
              "0                       1                    0               45          600   \n",
              "1                       1                    0               45          600   \n",
              "2                       1                    0               45          600   \n",
              "3                       1                    0               45          600   \n",
              "4                       1                    0               45          600   \n",
              "...                   ...                  ...              ...          ...   \n",
              "20271179                1                    1               60          800   \n",
              "20271180                0                    1               60            0   \n",
              "20271181                1                    1               60         1500   \n",
              "20271182                1                    0               60          600   \n",
              "20271183                1                    1               60          300   \n",
              "\n",
              "          status_id  status_display  home_country_id  is_display  rating  \\\n",
              "0                 3               0                7           1       5   \n",
              "1                 3               0                7           1       5   \n",
              "2                 3               0                7           1       5   \n",
              "3                 3               0                7           1       5   \n",
              "4                 3               0                7           1       5   \n",
              "...             ...             ...              ...         ...     ...   \n",
              "20271179          5               0                7           1       6   \n",
              "20271180          1               0                7           1       5   \n",
              "20271181          5               0                7           1       5   \n",
              "20271182          5               1                7           1       7   \n",
              "20271183          1               0                7           1       5   \n",
              "\n",
              "          area_id  sex  is_remote_lessons  orders_allowed  \\\n",
              "0              12    1                  0               1   \n",
              "1              12    1                  0               1   \n",
              "2              12    1                  0               1   \n",
              "3              12    1                  0               1   \n",
              "4              12    1                  0               1   \n",
              "...           ...  ...                ...             ...   \n",
              "20271179        1    2                  1               0   \n",
              "20271180        1    1                  0               0   \n",
              "20271181        2    1                  1               1   \n",
              "20271182        4    2                  1               0   \n",
              "20271183        4    2                  0               0   \n",
              "\n",
              "          verification_status_id  \n",
              "0                              0  \n",
              "1                              0  \n",
              "2                              0  \n",
              "3                              0  \n",
              "4                              0  \n",
              "...                          ...  \n",
              "20271179                       0  \n",
              "20271180                       0  \n",
              "20271181                       0  \n",
              "20271182                       3  \n",
              "20271183                       0  \n",
              "\n",
              "[20271184 rows x 19 columns]"
            ],
            "text/html": [
              "\n",
              "  <div id=\"df-f3765cc6-8406-41f3-969f-a305140d0463\" class=\"colab-df-container\">\n",
              "    <div>\n",
              "<style scoped>\n",
              "    .dataframe tbody tr th:only-of-type {\n",
              "        vertical-align: middle;\n",
              "    }\n",
              "\n",
              "    .dataframe tbody tr th {\n",
              "        vertical-align: top;\n",
              "    }\n",
              "\n",
              "    .dataframe thead th {\n",
              "        text-align: right;\n",
              "    }\n",
              "</style>\n",
              "<table border=\"1\" class=\"dataframe\">\n",
              "  <thead>\n",
              "    <tr style=\"text-align: right;\">\n",
              "      <th></th>\n",
              "      <th>teacher_id</th>\n",
              "      <th>order_id</th>\n",
              "      <th>enable_auto_assign</th>\n",
              "      <th>enable_assign</th>\n",
              "      <th>id</th>\n",
              "      <th>is_home_lessons</th>\n",
              "      <th>is_external_lessons</th>\n",
              "      <th>lesson_duration</th>\n",
              "      <th>lesson_cost</th>\n",
              "      <th>status_id</th>\n",
              "      <th>status_display</th>\n",
              "      <th>home_country_id</th>\n",
              "      <th>is_display</th>\n",
              "      <th>rating</th>\n",
              "      <th>area_id</th>\n",
              "      <th>sex</th>\n",
              "      <th>is_remote_lessons</th>\n",
              "      <th>orders_allowed</th>\n",
              "      <th>verification_status_id</th>\n",
              "    </tr>\n",
              "  </thead>\n",
              "  <tbody>\n",
              "    <tr>\n",
              "      <th>0</th>\n",
              "      <td>82583</td>\n",
              "      <td>1742711</td>\n",
              "      <td>1</td>\n",
              "      <td>1</td>\n",
              "      <td>82583</td>\n",
              "      <td>1</td>\n",
              "      <td>0</td>\n",
              "      <td>45</td>\n",
              "      <td>600</td>\n",
              "      <td>3</td>\n",
              "      <td>0</td>\n",
              "      <td>7</td>\n",
              "      <td>1</td>\n",
              "      <td>5</td>\n",
              "      <td>12</td>\n",
              "      <td>1</td>\n",
              "      <td>0</td>\n",
              "      <td>1</td>\n",
              "      <td>0</td>\n",
              "    </tr>\n",
              "    <tr>\n",
              "      <th>1</th>\n",
              "      <td>82583</td>\n",
              "      <td>2303834</td>\n",
              "      <td>0</td>\n",
              "      <td>0</td>\n",
              "      <td>82583</td>\n",
              "      <td>1</td>\n",
              "      <td>0</td>\n",
              "      <td>45</td>\n",
              "      <td>600</td>\n",
              "      <td>3</td>\n",
              "      <td>0</td>\n",
              "      <td>7</td>\n",
              "      <td>1</td>\n",
              "      <td>5</td>\n",
              "      <td>12</td>\n",
              "      <td>1</td>\n",
              "      <td>0</td>\n",
              "      <td>1</td>\n",
              "      <td>0</td>\n",
              "    </tr>\n",
              "    <tr>\n",
              "      <th>2</th>\n",
              "      <td>82583</td>\n",
              "      <td>2341690</td>\n",
              "      <td>0</td>\n",
              "      <td>0</td>\n",
              "      <td>82583</td>\n",
              "      <td>1</td>\n",
              "      <td>0</td>\n",
              "      <td>45</td>\n",
              "      <td>600</td>\n",
              "      <td>3</td>\n",
              "      <td>0</td>\n",
              "      <td>7</td>\n",
              "      <td>1</td>\n",
              "      <td>5</td>\n",
              "      <td>12</td>\n",
              "      <td>1</td>\n",
              "      <td>0</td>\n",
              "      <td>1</td>\n",
              "      <td>0</td>\n",
              "    </tr>\n",
              "    <tr>\n",
              "      <th>3</th>\n",
              "      <td>82583</td>\n",
              "      <td>2357656</td>\n",
              "      <td>0</td>\n",
              "      <td>0</td>\n",
              "      <td>82583</td>\n",
              "      <td>1</td>\n",
              "      <td>0</td>\n",
              "      <td>45</td>\n",
              "      <td>600</td>\n",
              "      <td>3</td>\n",
              "      <td>0</td>\n",
              "      <td>7</td>\n",
              "      <td>1</td>\n",
              "      <td>5</td>\n",
              "      <td>12</td>\n",
              "      <td>1</td>\n",
              "      <td>0</td>\n",
              "      <td>1</td>\n",
              "      <td>0</td>\n",
              "    </tr>\n",
              "    <tr>\n",
              "      <th>4</th>\n",
              "      <td>82583</td>\n",
              "      <td>2358339</td>\n",
              "      <td>0</td>\n",
              "      <td>0</td>\n",
              "      <td>82583</td>\n",
              "      <td>1</td>\n",
              "      <td>0</td>\n",
              "      <td>45</td>\n",
              "      <td>600</td>\n",
              "      <td>3</td>\n",
              "      <td>0</td>\n",
              "      <td>7</td>\n",
              "      <td>1</td>\n",
              "      <td>5</td>\n",
              "      <td>12</td>\n",
              "      <td>1</td>\n",
              "      <td>0</td>\n",
              "      <td>1</td>\n",
              "      <td>0</td>\n",
              "    </tr>\n",
              "    <tr>\n",
              "      <th>...</th>\n",
              "      <td>...</td>\n",
              "      <td>...</td>\n",
              "      <td>...</td>\n",
              "      <td>...</td>\n",
              "      <td>...</td>\n",
              "      <td>...</td>\n",
              "      <td>...</td>\n",
              "      <td>...</td>\n",
              "      <td>...</td>\n",
              "      <td>...</td>\n",
              "      <td>...</td>\n",
              "      <td>...</td>\n",
              "      <td>...</td>\n",
              "      <td>...</td>\n",
              "      <td>...</td>\n",
              "      <td>...</td>\n",
              "      <td>...</td>\n",
              "      <td>...</td>\n",
              "      <td>...</td>\n",
              "    </tr>\n",
              "    <tr>\n",
              "      <th>20271179</th>\n",
              "      <td>95314</td>\n",
              "      <td>2946238</td>\n",
              "      <td>0</td>\n",
              "      <td>0</td>\n",
              "      <td>95314</td>\n",
              "      <td>1</td>\n",
              "      <td>1</td>\n",
              "      <td>60</td>\n",
              "      <td>800</td>\n",
              "      <td>5</td>\n",
              "      <td>0</td>\n",
              "      <td>7</td>\n",
              "      <td>1</td>\n",
              "      <td>6</td>\n",
              "      <td>1</td>\n",
              "      <td>2</td>\n",
              "      <td>1</td>\n",
              "      <td>0</td>\n",
              "      <td>0</td>\n",
              "    </tr>\n",
              "    <tr>\n",
              "      <th>20271180</th>\n",
              "      <td>159221</td>\n",
              "      <td>2944984</td>\n",
              "      <td>0</td>\n",
              "      <td>0</td>\n",
              "      <td>159221</td>\n",
              "      <td>0</td>\n",
              "      <td>1</td>\n",
              "      <td>60</td>\n",
              "      <td>0</td>\n",
              "      <td>1</td>\n",
              "      <td>0</td>\n",
              "      <td>7</td>\n",
              "      <td>1</td>\n",
              "      <td>5</td>\n",
              "      <td>1</td>\n",
              "      <td>1</td>\n",
              "      <td>0</td>\n",
              "      <td>0</td>\n",
              "      <td>0</td>\n",
              "    </tr>\n",
              "    <tr>\n",
              "      <th>20271181</th>\n",
              "      <td>310324</td>\n",
              "      <td>2946405</td>\n",
              "      <td>0</td>\n",
              "      <td>0</td>\n",
              "      <td>310324</td>\n",
              "      <td>1</td>\n",
              "      <td>1</td>\n",
              "      <td>60</td>\n",
              "      <td>1500</td>\n",
              "      <td>5</td>\n",
              "      <td>0</td>\n",
              "      <td>7</td>\n",
              "      <td>1</td>\n",
              "      <td>5</td>\n",
              "      <td>2</td>\n",
              "      <td>1</td>\n",
              "      <td>1</td>\n",
              "      <td>1</td>\n",
              "      <td>0</td>\n",
              "    </tr>\n",
              "    <tr>\n",
              "      <th>20271182</th>\n",
              "      <td>155040</td>\n",
              "      <td>2946351</td>\n",
              "      <td>0</td>\n",
              "      <td>0</td>\n",
              "      <td>155040</td>\n",
              "      <td>1</td>\n",
              "      <td>0</td>\n",
              "      <td>60</td>\n",
              "      <td>600</td>\n",
              "      <td>5</td>\n",
              "      <td>1</td>\n",
              "      <td>7</td>\n",
              "      <td>1</td>\n",
              "      <td>7</td>\n",
              "      <td>4</td>\n",
              "      <td>2</td>\n",
              "      <td>1</td>\n",
              "      <td>0</td>\n",
              "      <td>3</td>\n",
              "    </tr>\n",
              "    <tr>\n",
              "      <th>20271183</th>\n",
              "      <td>132836</td>\n",
              "      <td>2946351</td>\n",
              "      <td>0</td>\n",
              "      <td>0</td>\n",
              "      <td>132836</td>\n",
              "      <td>1</td>\n",
              "      <td>1</td>\n",
              "      <td>60</td>\n",
              "      <td>300</td>\n",
              "      <td>1</td>\n",
              "      <td>0</td>\n",
              "      <td>7</td>\n",
              "      <td>1</td>\n",
              "      <td>5</td>\n",
              "      <td>4</td>\n",
              "      <td>2</td>\n",
              "      <td>0</td>\n",
              "      <td>0</td>\n",
              "      <td>0</td>\n",
              "    </tr>\n",
              "  </tbody>\n",
              "</table>\n",
              "<p>20271184 rows × 19 columns</p>\n",
              "</div>\n",
              "    <div class=\"colab-df-buttons\">\n",
              "\n",
              "  <div class=\"colab-df-container\">\n",
              "    <button class=\"colab-df-convert\" onclick=\"convertToInteractive('df-f3765cc6-8406-41f3-969f-a305140d0463')\"\n",
              "            title=\"Convert this dataframe to an interactive table.\"\n",
              "            style=\"display:none;\">\n",
              "\n",
              "  <svg xmlns=\"http://www.w3.org/2000/svg\" height=\"24px\" viewBox=\"0 -960 960 960\">\n",
              "    <path d=\"M120-120v-720h720v720H120Zm60-500h600v-160H180v160Zm220 220h160v-160H400v160Zm0 220h160v-160H400v160ZM180-400h160v-160H180v160Zm440 0h160v-160H620v160ZM180-180h160v-160H180v160Zm440 0h160v-160H620v160Z\"/>\n",
              "  </svg>\n",
              "    </button>\n",
              "\n",
              "  <style>\n",
              "    .colab-df-container {\n",
              "      display:flex;\n",
              "      gap: 12px;\n",
              "    }\n",
              "\n",
              "    .colab-df-convert {\n",
              "      background-color: #E8F0FE;\n",
              "      border: none;\n",
              "      border-radius: 50%;\n",
              "      cursor: pointer;\n",
              "      display: none;\n",
              "      fill: #1967D2;\n",
              "      height: 32px;\n",
              "      padding: 0 0 0 0;\n",
              "      width: 32px;\n",
              "    }\n",
              "\n",
              "    .colab-df-convert:hover {\n",
              "      background-color: #E2EBFA;\n",
              "      box-shadow: 0px 1px 2px rgba(60, 64, 67, 0.3), 0px 1px 3px 1px rgba(60, 64, 67, 0.15);\n",
              "      fill: #174EA6;\n",
              "    }\n",
              "\n",
              "    .colab-df-buttons div {\n",
              "      margin-bottom: 4px;\n",
              "    }\n",
              "\n",
              "    [theme=dark] .colab-df-convert {\n",
              "      background-color: #3B4455;\n",
              "      fill: #D2E3FC;\n",
              "    }\n",
              "\n",
              "    [theme=dark] .colab-df-convert:hover {\n",
              "      background-color: #434B5C;\n",
              "      box-shadow: 0px 1px 3px 1px rgba(0, 0, 0, 0.15);\n",
              "      filter: drop-shadow(0px 1px 2px rgba(0, 0, 0, 0.3));\n",
              "      fill: #FFFFFF;\n",
              "    }\n",
              "  </style>\n",
              "\n",
              "    <script>\n",
              "      const buttonEl =\n",
              "        document.querySelector('#df-f3765cc6-8406-41f3-969f-a305140d0463 button.colab-df-convert');\n",
              "      buttonEl.style.display =\n",
              "        google.colab.kernel.accessAllowed ? 'block' : 'none';\n",
              "\n",
              "      async function convertToInteractive(key) {\n",
              "        const element = document.querySelector('#df-f3765cc6-8406-41f3-969f-a305140d0463');\n",
              "        const dataTable =\n",
              "          await google.colab.kernel.invokeFunction('convertToInteractive',\n",
              "                                                    [key], {});\n",
              "        if (!dataTable) return;\n",
              "\n",
              "        const docLinkHtml = 'Like what you see? Visit the ' +\n",
              "          '<a target=\"_blank\" href=https://colab.research.google.com/notebooks/data_table.ipynb>data table notebook</a>'\n",
              "          + ' to learn more about interactive tables.';\n",
              "        element.innerHTML = '';\n",
              "        dataTable['output_type'] = 'display_data';\n",
              "        await google.colab.output.renderOutput(dataTable, element);\n",
              "        const docLink = document.createElement('div');\n",
              "        docLink.innerHTML = docLinkHtml;\n",
              "        element.appendChild(docLink);\n",
              "      }\n",
              "    </script>\n",
              "  </div>\n",
              "\n",
              "\n",
              "<div id=\"df-7368093a-462d-4c60-931c-de19a6195d3a\">\n",
              "  <button class=\"colab-df-quickchart\" onclick=\"quickchart('df-7368093a-462d-4c60-931c-de19a6195d3a')\"\n",
              "            title=\"Suggest charts\"\n",
              "            style=\"display:none;\">\n",
              "\n",
              "<svg xmlns=\"http://www.w3.org/2000/svg\" height=\"24px\"viewBox=\"0 0 24 24\"\n",
              "     width=\"24px\">\n",
              "    <g>\n",
              "        <path d=\"M19 3H5c-1.1 0-2 .9-2 2v14c0 1.1.9 2 2 2h14c1.1 0 2-.9 2-2V5c0-1.1-.9-2-2-2zM9 17H7v-7h2v7zm4 0h-2V7h2v10zm4 0h-2v-4h2v4z\"/>\n",
              "    </g>\n",
              "</svg>\n",
              "  </button>\n",
              "\n",
              "<style>\n",
              "  .colab-df-quickchart {\n",
              "      --bg-color: #E8F0FE;\n",
              "      --fill-color: #1967D2;\n",
              "      --hover-bg-color: #E2EBFA;\n",
              "      --hover-fill-color: #174EA6;\n",
              "      --disabled-fill-color: #AAA;\n",
              "      --disabled-bg-color: #DDD;\n",
              "  }\n",
              "\n",
              "  [theme=dark] .colab-df-quickchart {\n",
              "      --bg-color: #3B4455;\n",
              "      --fill-color: #D2E3FC;\n",
              "      --hover-bg-color: #434B5C;\n",
              "      --hover-fill-color: #FFFFFF;\n",
              "      --disabled-bg-color: #3B4455;\n",
              "      --disabled-fill-color: #666;\n",
              "  }\n",
              "\n",
              "  .colab-df-quickchart {\n",
              "    background-color: var(--bg-color);\n",
              "    border: none;\n",
              "    border-radius: 50%;\n",
              "    cursor: pointer;\n",
              "    display: none;\n",
              "    fill: var(--fill-color);\n",
              "    height: 32px;\n",
              "    padding: 0;\n",
              "    width: 32px;\n",
              "  }\n",
              "\n",
              "  .colab-df-quickchart:hover {\n",
              "    background-color: var(--hover-bg-color);\n",
              "    box-shadow: 0 1px 2px rgba(60, 64, 67, 0.3), 0 1px 3px 1px rgba(60, 64, 67, 0.15);\n",
              "    fill: var(--button-hover-fill-color);\n",
              "  }\n",
              "\n",
              "  .colab-df-quickchart-complete:disabled,\n",
              "  .colab-df-quickchart-complete:disabled:hover {\n",
              "    background-color: var(--disabled-bg-color);\n",
              "    fill: var(--disabled-fill-color);\n",
              "    box-shadow: none;\n",
              "  }\n",
              "\n",
              "  .colab-df-spinner {\n",
              "    border: 2px solid var(--fill-color);\n",
              "    border-color: transparent;\n",
              "    border-bottom-color: var(--fill-color);\n",
              "    animation:\n",
              "      spin 1s steps(1) infinite;\n",
              "  }\n",
              "\n",
              "  @keyframes spin {\n",
              "    0% {\n",
              "      border-color: transparent;\n",
              "      border-bottom-color: var(--fill-color);\n",
              "      border-left-color: var(--fill-color);\n",
              "    }\n",
              "    20% {\n",
              "      border-color: transparent;\n",
              "      border-left-color: var(--fill-color);\n",
              "      border-top-color: var(--fill-color);\n",
              "    }\n",
              "    30% {\n",
              "      border-color: transparent;\n",
              "      border-left-color: var(--fill-color);\n",
              "      border-top-color: var(--fill-color);\n",
              "      border-right-color: var(--fill-color);\n",
              "    }\n",
              "    40% {\n",
              "      border-color: transparent;\n",
              "      border-right-color: var(--fill-color);\n",
              "      border-top-color: var(--fill-color);\n",
              "    }\n",
              "    60% {\n",
              "      border-color: transparent;\n",
              "      border-right-color: var(--fill-color);\n",
              "    }\n",
              "    80% {\n",
              "      border-color: transparent;\n",
              "      border-right-color: var(--fill-color);\n",
              "      border-bottom-color: var(--fill-color);\n",
              "    }\n",
              "    90% {\n",
              "      border-color: transparent;\n",
              "      border-bottom-color: var(--fill-color);\n",
              "    }\n",
              "  }\n",
              "</style>\n",
              "\n",
              "  <script>\n",
              "    async function quickchart(key) {\n",
              "      const quickchartButtonEl =\n",
              "        document.querySelector('#' + key + ' button');\n",
              "      quickchartButtonEl.disabled = true;  // To prevent multiple clicks.\n",
              "      quickchartButtonEl.classList.add('colab-df-spinner');\n",
              "      try {\n",
              "        const charts = await google.colab.kernel.invokeFunction(\n",
              "            'suggestCharts', [key], {});\n",
              "      } catch (error) {\n",
              "        console.error('Error during call to suggestCharts:', error);\n",
              "      }\n",
              "      quickchartButtonEl.classList.remove('colab-df-spinner');\n",
              "      quickchartButtonEl.classList.add('colab-df-quickchart-complete');\n",
              "    }\n",
              "    (() => {\n",
              "      let quickchartButtonEl =\n",
              "        document.querySelector('#df-7368093a-462d-4c60-931c-de19a6195d3a button');\n",
              "      quickchartButtonEl.style.display =\n",
              "        google.colab.kernel.accessAllowed ? 'block' : 'none';\n",
              "    })();\n",
              "  </script>\n",
              "</div>\n",
              "\n",
              "  <div id=\"id_4afa39f1-6810-4828-84f4-e7784a3281d9\">\n",
              "    <style>\n",
              "      .colab-df-generate {\n",
              "        background-color: #E8F0FE;\n",
              "        border: none;\n",
              "        border-radius: 50%;\n",
              "        cursor: pointer;\n",
              "        display: none;\n",
              "        fill: #1967D2;\n",
              "        height: 32px;\n",
              "        padding: 0 0 0 0;\n",
              "        width: 32px;\n",
              "      }\n",
              "\n",
              "      .colab-df-generate:hover {\n",
              "        background-color: #E2EBFA;\n",
              "        box-shadow: 0px 1px 2px rgba(60, 64, 67, 0.3), 0px 1px 3px 1px rgba(60, 64, 67, 0.15);\n",
              "        fill: #174EA6;\n",
              "      }\n",
              "\n",
              "      [theme=dark] .colab-df-generate {\n",
              "        background-color: #3B4455;\n",
              "        fill: #D2E3FC;\n",
              "      }\n",
              "\n",
              "      [theme=dark] .colab-df-generate:hover {\n",
              "        background-color: #434B5C;\n",
              "        box-shadow: 0px 1px 3px 1px rgba(0, 0, 0, 0.15);\n",
              "        filter: drop-shadow(0px 1px 2px rgba(0, 0, 0, 0.3));\n",
              "        fill: #FFFFFF;\n",
              "      }\n",
              "    </style>\n",
              "    <button class=\"colab-df-generate\" onclick=\"generateWithVariable('merged_data')\"\n",
              "            title=\"Generate code using this dataframe.\"\n",
              "            style=\"display:none;\">\n",
              "\n",
              "  <svg xmlns=\"http://www.w3.org/2000/svg\" height=\"24px\"viewBox=\"0 0 24 24\"\n",
              "       width=\"24px\">\n",
              "    <path d=\"M7,19H8.4L18.45,9,17,7.55,7,17.6ZM5,21V16.75L18.45,3.32a2,2,0,0,1,2.83,0l1.4,1.43a1.91,1.91,0,0,1,.58,1.4,1.91,1.91,0,0,1-.58,1.4L9.25,21ZM18.45,9,17,7.55Zm-12,3A5.31,5.31,0,0,0,4.9,8.1,5.31,5.31,0,0,0,1,6.5,5.31,5.31,0,0,0,4.9,4.9,5.31,5.31,0,0,0,6.5,1,5.31,5.31,0,0,0,8.1,4.9,5.31,5.31,0,0,0,12,6.5,5.46,5.46,0,0,0,6.5,12Z\"/>\n",
              "  </svg>\n",
              "    </button>\n",
              "    <script>\n",
              "      (() => {\n",
              "      const buttonEl =\n",
              "        document.querySelector('#id_4afa39f1-6810-4828-84f4-e7784a3281d9 button.colab-df-generate');\n",
              "      buttonEl.style.display =\n",
              "        google.colab.kernel.accessAllowed ? 'block' : 'none';\n",
              "\n",
              "      buttonEl.onclick = () => {\n",
              "        google.colab.notebook.generateWithVariable('merged_data');\n",
              "      }\n",
              "      })();\n",
              "    </script>\n",
              "  </div>\n",
              "\n",
              "    </div>\n",
              "  </div>\n"
            ],
            "application/vnd.google.colaboratory.intrinsic+json": {
              "type": "dataframe",
              "variable_name": "merged_data"
            }
          },
          "metadata": {},
          "execution_count": 56
        }
      ],
      "source": [
        "merged_data"
      ]
    },
    {
      "cell_type": "markdown",
      "source": [
        "Удаляем столбцы, которые в будущем нам не понадобятся"
      ],
      "metadata": {
        "id": "GsBo6QUBZ5Zq"
      }
    },
    {
      "cell_type": "code",
      "execution_count": 57,
      "metadata": {
        "id": "Ov4ozCRby57S"
      },
      "outputs": [],
      "source": [
        "merged_data = merged_data.drop( columns = ['id','enable_auto_assign'])"
      ]
    },
    {
      "cell_type": "markdown",
      "source": [
        "Для дальнейшего объединения данной таблицы с таблицой с заказами, нам необходимо произвести группировку по персональному индетификатору учителей. Чтобы у нас имелось как можно больше нужной информации, которая сможет помочь нашей модели в обучении, при группировке подсчитываем кол-во учителей, принимающих на дома, выезжающих к ученикам и проводяящие уроки в режиме он-лайн,сколько из них открыты к назначению на заявку,какая их средняя цена за урок и какой средний рейтинг"
      ],
      "metadata": {
        "id": "5vLRA2YpagoG"
      }
    },
    {
      "cell_type": "code",
      "execution_count": 58,
      "metadata": {
        "id": "E09Qj4J0y57S"
      },
      "outputs": [],
      "source": [
        "agg_functions = {\n",
        "    'teacher_id': 'nunique',\n",
        "    'is_home_lessons': lambda x: x.value_counts().index[0],\n",
        "    'lesson_duration': lambda x: x.value_counts().index[0],\n",
        "    'status_id': lambda x: x.value_counts().index[0],\n",
        "    'sex': lambda x: x.value_counts().index[0],\n",
        "    'enable_assign': 'sum',\n",
        "    'is_home_lessons': 'sum',\n",
        "    'is_external_lessons': 'sum',\n",
        "    'is_remote_lessons': 'sum',\n",
        "    'lesson_cost': 'mean',\n",
        "    'rating': 'mean'\n",
        "}\n",
        "\n",
        "\n",
        "grouped_data = merged_data.groupby('order_id').agg(agg_functions).reset_index()"
      ]
    },
    {
      "cell_type": "code",
      "execution_count": 59,
      "metadata": {
        "colab": {
          "base_uri": "https://localhost:8080/",
          "height": 443
        },
        "id": "XvuUVmJ1y57S",
        "outputId": "53cff619-e9e6-44a0-8da1-c2f18badf8ee"
      },
      "outputs": [
        {
          "output_type": "execute_result",
          "data": {
            "text/plain": [
              "        order_id  teacher_id  is_home_lessons  lesson_duration  status_id  \\\n",
              "0        1742638          13                6               60          5   \n",
              "1        1742639           1                0               60          7   \n",
              "2        1742650           3                2               60          5   \n",
              "3        1742651           3                0               60          1   \n",
              "4        1742654           4                4               60          3   \n",
              "...          ...         ...              ...              ...        ...   \n",
              "842014   2946695           3                3               90          5   \n",
              "842015   2946696          57               29               60          5   \n",
              "842016   2946697          10                2               60          1   \n",
              "842017   2946698           2                2               60          5   \n",
              "842018   2946699          36               18               60          5   \n",
              "\n",
              "        sex  enable_assign  is_external_lessons  is_remote_lessons  \\\n",
              "0         1              0                   11                 11   \n",
              "1         2              1                    1                  1   \n",
              "2         2              1                    3                  3   \n",
              "3         2              0                    2                  1   \n",
              "4         2              0                    3                  4   \n",
              "...     ...            ...                  ...                ...   \n",
              "842014    2              0                    0                  3   \n",
              "842015    2              0                   25                 57   \n",
              "842016    2              0                   10                  8   \n",
              "842017    1              0                    2                  2   \n",
              "842018    2              0                   30                 36   \n",
              "\n",
              "        lesson_cost    rating  \n",
              "0        776.923077  5.692308  \n",
              "1       1000.000000  6.000000  \n",
              "2        133.333333  5.666667  \n",
              "3       1533.333333  6.000000  \n",
              "4        775.000000  2.750000  \n",
              "...             ...       ...  \n",
              "842014   900.000000  6.000000  \n",
              "842015   621.929825  5.456140  \n",
              "842016   160.000000  5.600000  \n",
              "842017   350.000000  7.000000  \n",
              "842018   370.833333  5.416667  \n",
              "\n",
              "[842019 rows x 11 columns]"
            ],
            "text/html": [
              "\n",
              "  <div id=\"df-dc13f2eb-2cb8-4827-80ce-0b4aec1a3fde\" class=\"colab-df-container\">\n",
              "    <div>\n",
              "<style scoped>\n",
              "    .dataframe tbody tr th:only-of-type {\n",
              "        vertical-align: middle;\n",
              "    }\n",
              "\n",
              "    .dataframe tbody tr th {\n",
              "        vertical-align: top;\n",
              "    }\n",
              "\n",
              "    .dataframe thead th {\n",
              "        text-align: right;\n",
              "    }\n",
              "</style>\n",
              "<table border=\"1\" class=\"dataframe\">\n",
              "  <thead>\n",
              "    <tr style=\"text-align: right;\">\n",
              "      <th></th>\n",
              "      <th>order_id</th>\n",
              "      <th>teacher_id</th>\n",
              "      <th>is_home_lessons</th>\n",
              "      <th>lesson_duration</th>\n",
              "      <th>status_id</th>\n",
              "      <th>sex</th>\n",
              "      <th>enable_assign</th>\n",
              "      <th>is_external_lessons</th>\n",
              "      <th>is_remote_lessons</th>\n",
              "      <th>lesson_cost</th>\n",
              "      <th>rating</th>\n",
              "    </tr>\n",
              "  </thead>\n",
              "  <tbody>\n",
              "    <tr>\n",
              "      <th>0</th>\n",
              "      <td>1742638</td>\n",
              "      <td>13</td>\n",
              "      <td>6</td>\n",
              "      <td>60</td>\n",
              "      <td>5</td>\n",
              "      <td>1</td>\n",
              "      <td>0</td>\n",
              "      <td>11</td>\n",
              "      <td>11</td>\n",
              "      <td>776.923077</td>\n",
              "      <td>5.692308</td>\n",
              "    </tr>\n",
              "    <tr>\n",
              "      <th>1</th>\n",
              "      <td>1742639</td>\n",
              "      <td>1</td>\n",
              "      <td>0</td>\n",
              "      <td>60</td>\n",
              "      <td>7</td>\n",
              "      <td>2</td>\n",
              "      <td>1</td>\n",
              "      <td>1</td>\n",
              "      <td>1</td>\n",
              "      <td>1000.000000</td>\n",
              "      <td>6.000000</td>\n",
              "    </tr>\n",
              "    <tr>\n",
              "      <th>2</th>\n",
              "      <td>1742650</td>\n",
              "      <td>3</td>\n",
              "      <td>2</td>\n",
              "      <td>60</td>\n",
              "      <td>5</td>\n",
              "      <td>2</td>\n",
              "      <td>1</td>\n",
              "      <td>3</td>\n",
              "      <td>3</td>\n",
              "      <td>133.333333</td>\n",
              "      <td>5.666667</td>\n",
              "    </tr>\n",
              "    <tr>\n",
              "      <th>3</th>\n",
              "      <td>1742651</td>\n",
              "      <td>3</td>\n",
              "      <td>0</td>\n",
              "      <td>60</td>\n",
              "      <td>1</td>\n",
              "      <td>2</td>\n",
              "      <td>0</td>\n",
              "      <td>2</td>\n",
              "      <td>1</td>\n",
              "      <td>1533.333333</td>\n",
              "      <td>6.000000</td>\n",
              "    </tr>\n",
              "    <tr>\n",
              "      <th>4</th>\n",
              "      <td>1742654</td>\n",
              "      <td>4</td>\n",
              "      <td>4</td>\n",
              "      <td>60</td>\n",
              "      <td>3</td>\n",
              "      <td>2</td>\n",
              "      <td>0</td>\n",
              "      <td>3</td>\n",
              "      <td>4</td>\n",
              "      <td>775.000000</td>\n",
              "      <td>2.750000</td>\n",
              "    </tr>\n",
              "    <tr>\n",
              "      <th>...</th>\n",
              "      <td>...</td>\n",
              "      <td>...</td>\n",
              "      <td>...</td>\n",
              "      <td>...</td>\n",
              "      <td>...</td>\n",
              "      <td>...</td>\n",
              "      <td>...</td>\n",
              "      <td>...</td>\n",
              "      <td>...</td>\n",
              "      <td>...</td>\n",
              "      <td>...</td>\n",
              "    </tr>\n",
              "    <tr>\n",
              "      <th>842014</th>\n",
              "      <td>2946695</td>\n",
              "      <td>3</td>\n",
              "      <td>3</td>\n",
              "      <td>90</td>\n",
              "      <td>5</td>\n",
              "      <td>2</td>\n",
              "      <td>0</td>\n",
              "      <td>0</td>\n",
              "      <td>3</td>\n",
              "      <td>900.000000</td>\n",
              "      <td>6.000000</td>\n",
              "    </tr>\n",
              "    <tr>\n",
              "      <th>842015</th>\n",
              "      <td>2946696</td>\n",
              "      <td>57</td>\n",
              "      <td>29</td>\n",
              "      <td>60</td>\n",
              "      <td>5</td>\n",
              "      <td>2</td>\n",
              "      <td>0</td>\n",
              "      <td>25</td>\n",
              "      <td>57</td>\n",
              "      <td>621.929825</td>\n",
              "      <td>5.456140</td>\n",
              "    </tr>\n",
              "    <tr>\n",
              "      <th>842016</th>\n",
              "      <td>2946697</td>\n",
              "      <td>10</td>\n",
              "      <td>2</td>\n",
              "      <td>60</td>\n",
              "      <td>1</td>\n",
              "      <td>2</td>\n",
              "      <td>0</td>\n",
              "      <td>10</td>\n",
              "      <td>8</td>\n",
              "      <td>160.000000</td>\n",
              "      <td>5.600000</td>\n",
              "    </tr>\n",
              "    <tr>\n",
              "      <th>842017</th>\n",
              "      <td>2946698</td>\n",
              "      <td>2</td>\n",
              "      <td>2</td>\n",
              "      <td>60</td>\n",
              "      <td>5</td>\n",
              "      <td>1</td>\n",
              "      <td>0</td>\n",
              "      <td>2</td>\n",
              "      <td>2</td>\n",
              "      <td>350.000000</td>\n",
              "      <td>7.000000</td>\n",
              "    </tr>\n",
              "    <tr>\n",
              "      <th>842018</th>\n",
              "      <td>2946699</td>\n",
              "      <td>36</td>\n",
              "      <td>18</td>\n",
              "      <td>60</td>\n",
              "      <td>5</td>\n",
              "      <td>2</td>\n",
              "      <td>0</td>\n",
              "      <td>30</td>\n",
              "      <td>36</td>\n",
              "      <td>370.833333</td>\n",
              "      <td>5.416667</td>\n",
              "    </tr>\n",
              "  </tbody>\n",
              "</table>\n",
              "<p>842019 rows × 11 columns</p>\n",
              "</div>\n",
              "    <div class=\"colab-df-buttons\">\n",
              "\n",
              "  <div class=\"colab-df-container\">\n",
              "    <button class=\"colab-df-convert\" onclick=\"convertToInteractive('df-dc13f2eb-2cb8-4827-80ce-0b4aec1a3fde')\"\n",
              "            title=\"Convert this dataframe to an interactive table.\"\n",
              "            style=\"display:none;\">\n",
              "\n",
              "  <svg xmlns=\"http://www.w3.org/2000/svg\" height=\"24px\" viewBox=\"0 -960 960 960\">\n",
              "    <path d=\"M120-120v-720h720v720H120Zm60-500h600v-160H180v160Zm220 220h160v-160H400v160Zm0 220h160v-160H400v160ZM180-400h160v-160H180v160Zm440 0h160v-160H620v160ZM180-180h160v-160H180v160Zm440 0h160v-160H620v160Z\"/>\n",
              "  </svg>\n",
              "    </button>\n",
              "\n",
              "  <style>\n",
              "    .colab-df-container {\n",
              "      display:flex;\n",
              "      gap: 12px;\n",
              "    }\n",
              "\n",
              "    .colab-df-convert {\n",
              "      background-color: #E8F0FE;\n",
              "      border: none;\n",
              "      border-radius: 50%;\n",
              "      cursor: pointer;\n",
              "      display: none;\n",
              "      fill: #1967D2;\n",
              "      height: 32px;\n",
              "      padding: 0 0 0 0;\n",
              "      width: 32px;\n",
              "    }\n",
              "\n",
              "    .colab-df-convert:hover {\n",
              "      background-color: #E2EBFA;\n",
              "      box-shadow: 0px 1px 2px rgba(60, 64, 67, 0.3), 0px 1px 3px 1px rgba(60, 64, 67, 0.15);\n",
              "      fill: #174EA6;\n",
              "    }\n",
              "\n",
              "    .colab-df-buttons div {\n",
              "      margin-bottom: 4px;\n",
              "    }\n",
              "\n",
              "    [theme=dark] .colab-df-convert {\n",
              "      background-color: #3B4455;\n",
              "      fill: #D2E3FC;\n",
              "    }\n",
              "\n",
              "    [theme=dark] .colab-df-convert:hover {\n",
              "      background-color: #434B5C;\n",
              "      box-shadow: 0px 1px 3px 1px rgba(0, 0, 0, 0.15);\n",
              "      filter: drop-shadow(0px 1px 2px rgba(0, 0, 0, 0.3));\n",
              "      fill: #FFFFFF;\n",
              "    }\n",
              "  </style>\n",
              "\n",
              "    <script>\n",
              "      const buttonEl =\n",
              "        document.querySelector('#df-dc13f2eb-2cb8-4827-80ce-0b4aec1a3fde button.colab-df-convert');\n",
              "      buttonEl.style.display =\n",
              "        google.colab.kernel.accessAllowed ? 'block' : 'none';\n",
              "\n",
              "      async function convertToInteractive(key) {\n",
              "        const element = document.querySelector('#df-dc13f2eb-2cb8-4827-80ce-0b4aec1a3fde');\n",
              "        const dataTable =\n",
              "          await google.colab.kernel.invokeFunction('convertToInteractive',\n",
              "                                                    [key], {});\n",
              "        if (!dataTable) return;\n",
              "\n",
              "        const docLinkHtml = 'Like what you see? Visit the ' +\n",
              "          '<a target=\"_blank\" href=https://colab.research.google.com/notebooks/data_table.ipynb>data table notebook</a>'\n",
              "          + ' to learn more about interactive tables.';\n",
              "        element.innerHTML = '';\n",
              "        dataTable['output_type'] = 'display_data';\n",
              "        await google.colab.output.renderOutput(dataTable, element);\n",
              "        const docLink = document.createElement('div');\n",
              "        docLink.innerHTML = docLinkHtml;\n",
              "        element.appendChild(docLink);\n",
              "      }\n",
              "    </script>\n",
              "  </div>\n",
              "\n",
              "\n",
              "<div id=\"df-bbe5ac31-9c4b-4f8d-af9e-18b433ed7eb1\">\n",
              "  <button class=\"colab-df-quickchart\" onclick=\"quickchart('df-bbe5ac31-9c4b-4f8d-af9e-18b433ed7eb1')\"\n",
              "            title=\"Suggest charts\"\n",
              "            style=\"display:none;\">\n",
              "\n",
              "<svg xmlns=\"http://www.w3.org/2000/svg\" height=\"24px\"viewBox=\"0 0 24 24\"\n",
              "     width=\"24px\">\n",
              "    <g>\n",
              "        <path d=\"M19 3H5c-1.1 0-2 .9-2 2v14c0 1.1.9 2 2 2h14c1.1 0 2-.9 2-2V5c0-1.1-.9-2-2-2zM9 17H7v-7h2v7zm4 0h-2V7h2v10zm4 0h-2v-4h2v4z\"/>\n",
              "    </g>\n",
              "</svg>\n",
              "  </button>\n",
              "\n",
              "<style>\n",
              "  .colab-df-quickchart {\n",
              "      --bg-color: #E8F0FE;\n",
              "      --fill-color: #1967D2;\n",
              "      --hover-bg-color: #E2EBFA;\n",
              "      --hover-fill-color: #174EA6;\n",
              "      --disabled-fill-color: #AAA;\n",
              "      --disabled-bg-color: #DDD;\n",
              "  }\n",
              "\n",
              "  [theme=dark] .colab-df-quickchart {\n",
              "      --bg-color: #3B4455;\n",
              "      --fill-color: #D2E3FC;\n",
              "      --hover-bg-color: #434B5C;\n",
              "      --hover-fill-color: #FFFFFF;\n",
              "      --disabled-bg-color: #3B4455;\n",
              "      --disabled-fill-color: #666;\n",
              "  }\n",
              "\n",
              "  .colab-df-quickchart {\n",
              "    background-color: var(--bg-color);\n",
              "    border: none;\n",
              "    border-radius: 50%;\n",
              "    cursor: pointer;\n",
              "    display: none;\n",
              "    fill: var(--fill-color);\n",
              "    height: 32px;\n",
              "    padding: 0;\n",
              "    width: 32px;\n",
              "  }\n",
              "\n",
              "  .colab-df-quickchart:hover {\n",
              "    background-color: var(--hover-bg-color);\n",
              "    box-shadow: 0 1px 2px rgba(60, 64, 67, 0.3), 0 1px 3px 1px rgba(60, 64, 67, 0.15);\n",
              "    fill: var(--button-hover-fill-color);\n",
              "  }\n",
              "\n",
              "  .colab-df-quickchart-complete:disabled,\n",
              "  .colab-df-quickchart-complete:disabled:hover {\n",
              "    background-color: var(--disabled-bg-color);\n",
              "    fill: var(--disabled-fill-color);\n",
              "    box-shadow: none;\n",
              "  }\n",
              "\n",
              "  .colab-df-spinner {\n",
              "    border: 2px solid var(--fill-color);\n",
              "    border-color: transparent;\n",
              "    border-bottom-color: var(--fill-color);\n",
              "    animation:\n",
              "      spin 1s steps(1) infinite;\n",
              "  }\n",
              "\n",
              "  @keyframes spin {\n",
              "    0% {\n",
              "      border-color: transparent;\n",
              "      border-bottom-color: var(--fill-color);\n",
              "      border-left-color: var(--fill-color);\n",
              "    }\n",
              "    20% {\n",
              "      border-color: transparent;\n",
              "      border-left-color: var(--fill-color);\n",
              "      border-top-color: var(--fill-color);\n",
              "    }\n",
              "    30% {\n",
              "      border-color: transparent;\n",
              "      border-left-color: var(--fill-color);\n",
              "      border-top-color: var(--fill-color);\n",
              "      border-right-color: var(--fill-color);\n",
              "    }\n",
              "    40% {\n",
              "      border-color: transparent;\n",
              "      border-right-color: var(--fill-color);\n",
              "      border-top-color: var(--fill-color);\n",
              "    }\n",
              "    60% {\n",
              "      border-color: transparent;\n",
              "      border-right-color: var(--fill-color);\n",
              "    }\n",
              "    80% {\n",
              "      border-color: transparent;\n",
              "      border-right-color: var(--fill-color);\n",
              "      border-bottom-color: var(--fill-color);\n",
              "    }\n",
              "    90% {\n",
              "      border-color: transparent;\n",
              "      border-bottom-color: var(--fill-color);\n",
              "    }\n",
              "  }\n",
              "</style>\n",
              "\n",
              "  <script>\n",
              "    async function quickchart(key) {\n",
              "      const quickchartButtonEl =\n",
              "        document.querySelector('#' + key + ' button');\n",
              "      quickchartButtonEl.disabled = true;  // To prevent multiple clicks.\n",
              "      quickchartButtonEl.classList.add('colab-df-spinner');\n",
              "      try {\n",
              "        const charts = await google.colab.kernel.invokeFunction(\n",
              "            'suggestCharts', [key], {});\n",
              "      } catch (error) {\n",
              "        console.error('Error during call to suggestCharts:', error);\n",
              "      }\n",
              "      quickchartButtonEl.classList.remove('colab-df-spinner');\n",
              "      quickchartButtonEl.classList.add('colab-df-quickchart-complete');\n",
              "    }\n",
              "    (() => {\n",
              "      let quickchartButtonEl =\n",
              "        document.querySelector('#df-bbe5ac31-9c4b-4f8d-af9e-18b433ed7eb1 button');\n",
              "      quickchartButtonEl.style.display =\n",
              "        google.colab.kernel.accessAllowed ? 'block' : 'none';\n",
              "    })();\n",
              "  </script>\n",
              "</div>\n",
              "\n",
              "  <div id=\"id_66bafdc4-1923-4dfd-bd7a-e51719e30627\">\n",
              "    <style>\n",
              "      .colab-df-generate {\n",
              "        background-color: #E8F0FE;\n",
              "        border: none;\n",
              "        border-radius: 50%;\n",
              "        cursor: pointer;\n",
              "        display: none;\n",
              "        fill: #1967D2;\n",
              "        height: 32px;\n",
              "        padding: 0 0 0 0;\n",
              "        width: 32px;\n",
              "      }\n",
              "\n",
              "      .colab-df-generate:hover {\n",
              "        background-color: #E2EBFA;\n",
              "        box-shadow: 0px 1px 2px rgba(60, 64, 67, 0.3), 0px 1px 3px 1px rgba(60, 64, 67, 0.15);\n",
              "        fill: #174EA6;\n",
              "      }\n",
              "\n",
              "      [theme=dark] .colab-df-generate {\n",
              "        background-color: #3B4455;\n",
              "        fill: #D2E3FC;\n",
              "      }\n",
              "\n",
              "      [theme=dark] .colab-df-generate:hover {\n",
              "        background-color: #434B5C;\n",
              "        box-shadow: 0px 1px 3px 1px rgba(0, 0, 0, 0.15);\n",
              "        filter: drop-shadow(0px 1px 2px rgba(0, 0, 0, 0.3));\n",
              "        fill: #FFFFFF;\n",
              "      }\n",
              "    </style>\n",
              "    <button class=\"colab-df-generate\" onclick=\"generateWithVariable('grouped_data')\"\n",
              "            title=\"Generate code using this dataframe.\"\n",
              "            style=\"display:none;\">\n",
              "\n",
              "  <svg xmlns=\"http://www.w3.org/2000/svg\" height=\"24px\"viewBox=\"0 0 24 24\"\n",
              "       width=\"24px\">\n",
              "    <path d=\"M7,19H8.4L18.45,9,17,7.55,7,17.6ZM5,21V16.75L18.45,3.32a2,2,0,0,1,2.83,0l1.4,1.43a1.91,1.91,0,0,1,.58,1.4,1.91,1.91,0,0,1-.58,1.4L9.25,21ZM18.45,9,17,7.55Zm-12,3A5.31,5.31,0,0,0,4.9,8.1,5.31,5.31,0,0,0,1,6.5,5.31,5.31,0,0,0,4.9,4.9,5.31,5.31,0,0,0,6.5,1,5.31,5.31,0,0,0,8.1,4.9,5.31,5.31,0,0,0,12,6.5,5.46,5.46,0,0,0,6.5,12Z\"/>\n",
              "  </svg>\n",
              "    </button>\n",
              "    <script>\n",
              "      (() => {\n",
              "      const buttonEl =\n",
              "        document.querySelector('#id_66bafdc4-1923-4dfd-bd7a-e51719e30627 button.colab-df-generate');\n",
              "      buttonEl.style.display =\n",
              "        google.colab.kernel.accessAllowed ? 'block' : 'none';\n",
              "\n",
              "      buttonEl.onclick = () => {\n",
              "        google.colab.notebook.generateWithVariable('grouped_data');\n",
              "      }\n",
              "      })();\n",
              "    </script>\n",
              "  </div>\n",
              "\n",
              "    </div>\n",
              "  </div>\n"
            ],
            "application/vnd.google.colaboratory.intrinsic+json": {
              "type": "dataframe",
              "variable_name": "grouped_data"
            }
          },
          "metadata": {},
          "execution_count": 59
        }
      ],
      "source": [
        "grouped_data"
      ]
    },
    {
      "cell_type": "markdown",
      "source": [
        "Округляем полученные значения до двух знаков после запятой"
      ],
      "metadata": {
        "id": "1NEsqLcRbcGf"
      }
    },
    {
      "cell_type": "code",
      "execution_count": 60,
      "metadata": {
        "id": "fnPJkilYy57T"
      },
      "outputs": [],
      "source": [
        "float_param = ['lesson_cost','rating']\n",
        "grouped_data[float_param] = grouped_data[float_param].round(2)"
      ]
    },
    {
      "cell_type": "markdown",
      "source": [
        "Теперь объединяем нашу сгруппироаную таблицу и таблицу с заявками"
      ],
      "metadata": {
        "id": "M4enAIHsbnNy"
      }
    },
    {
      "cell_type": "code",
      "execution_count": 61,
      "metadata": {
        "id": "WCtTdlXby57T"
      },
      "outputs": [],
      "source": [
        "merged_data = pd.merge(orders, grouped_data, left_on='id', right_on='order_id', how = 'left')"
      ]
    },
    {
      "cell_type": "code",
      "execution_count": 62,
      "metadata": {
        "colab": {
          "base_uri": "https://localhost:8080/",
          "height": 443
        },
        "id": "qI-WqDpdy57T",
        "outputId": "b4dafeb7-57e2-4ca2-9b93-7b35d1777c0e"
      },
      "outputs": [
        {
          "output_type": "execute_result",
          "data": {
            "text/plain": [
              "              id  subject_id  lesson_price  lesson_duration_x  home_metro_id  \\\n",
              "0        2294054           1             0                 60              4   \n",
              "1        2294055           1             0                 60              4   \n",
              "2        2294056          21           800                 60              4   \n",
              "3        2294057           8           700                 60              4   \n",
              "4        2294058           8             0                 60            122   \n",
              "...          ...         ...           ...                ...            ...   \n",
              "1190953  2280502          13           900                 60            792   \n",
              "1190954  2280503           9          1000                 60              4   \n",
              "1190955  2280504           1          1000                120              4   \n",
              "1190956  2280505           2           600                 60            489   \n",
              "1190957  2280506          18           900                 60            487   \n",
              "\n",
              "         status_id_x  planned_lesson_number  pupil_category_new_id  \\\n",
              "0                 16                      0                     13   \n",
              "1                  7                      0                     13   \n",
              "2                 16                      7                     14   \n",
              "3                 16                     10                     10   \n",
              "4                 16                      0                     13   \n",
              "...              ...                    ...                    ...   \n",
              "1190953           16                     10                     10   \n",
              "1190954            6                     10                      8   \n",
              "1190955           16                     10                      6   \n",
              "1190956           16                     10                      2   \n",
              "1190957           16                     10                      4   \n",
              "\n",
              "         lessons_per_week  minimal_price  ...  teacher_id  is_home_lessons  \\\n",
              "0                       0              0  ...         NaN              NaN   \n",
              "1                       0              0  ...         NaN              NaN   \n",
              "2                       2              0  ...         5.0              5.0   \n",
              "3                       3              0  ...         3.0              2.0   \n",
              "4                       0              0  ...         NaN              NaN   \n",
              "...                   ...            ...  ...         ...              ...   \n",
              "1190953                 3              0  ...         NaN              NaN   \n",
              "1190954                 2            800  ...        18.0             10.0   \n",
              "1190955                 2              0  ...        28.0             14.0   \n",
              "1190956                 3            500  ...         7.0              7.0   \n",
              "1190957                 4            400  ...         7.0              2.0   \n",
              "\n",
              "         lesson_duration_y  status_id_y  sex  enable_assign  \\\n",
              "0                      NaN          NaN  NaN            NaN   \n",
              "1                      NaN          NaN  NaN            NaN   \n",
              "2                     60.0          5.0  2.0            1.0   \n",
              "3                     60.0          3.0  2.0            0.0   \n",
              "4                      NaN          NaN  NaN            NaN   \n",
              "...                    ...          ...  ...            ...   \n",
              "1190953                NaN          NaN  NaN            NaN   \n",
              "1190954               60.0          3.0  2.0            0.0   \n",
              "1190955               60.0          5.0  2.0            0.0   \n",
              "1190956               60.0          5.0  2.0            0.0   \n",
              "1190957               60.0          3.0  2.0            1.0   \n",
              "\n",
              "         is_external_lessons  is_remote_lessons  lesson_cost  rating  \n",
              "0                        NaN                NaN          NaN     NaN  \n",
              "1                        NaN                NaN          NaN     NaN  \n",
              "2                        3.0                5.0       574.00    6.40  \n",
              "3                        1.0                3.0       700.00    6.67  \n",
              "4                        NaN                NaN          NaN     NaN  \n",
              "...                      ...                ...          ...     ...  \n",
              "1190953                  NaN                NaN          NaN     NaN  \n",
              "1190954                  9.0               18.0       711.11    4.39  \n",
              "1190955                 21.0               28.0       458.93    5.00  \n",
              "1190956                  4.0                5.0       264.29    5.00  \n",
              "1190957                  7.0                3.0       500.00    3.14  \n",
              "\n",
              "[1190958 rows x 40 columns]"
            ],
            "text/html": [
              "\n",
              "  <div id=\"df-f0c28a5a-33e7-49d3-8ad9-a2727cebed6e\" class=\"colab-df-container\">\n",
              "    <div>\n",
              "<style scoped>\n",
              "    .dataframe tbody tr th:only-of-type {\n",
              "        vertical-align: middle;\n",
              "    }\n",
              "\n",
              "    .dataframe tbody tr th {\n",
              "        vertical-align: top;\n",
              "    }\n",
              "\n",
              "    .dataframe thead th {\n",
              "        text-align: right;\n",
              "    }\n",
              "</style>\n",
              "<table border=\"1\" class=\"dataframe\">\n",
              "  <thead>\n",
              "    <tr style=\"text-align: right;\">\n",
              "      <th></th>\n",
              "      <th>id</th>\n",
              "      <th>subject_id</th>\n",
              "      <th>lesson_price</th>\n",
              "      <th>lesson_duration_x</th>\n",
              "      <th>home_metro_id</th>\n",
              "      <th>status_id_x</th>\n",
              "      <th>planned_lesson_number</th>\n",
              "      <th>pupil_category_new_id</th>\n",
              "      <th>lessons_per_week</th>\n",
              "      <th>minimal_price</th>\n",
              "      <th>...</th>\n",
              "      <th>teacher_id</th>\n",
              "      <th>is_home_lessons</th>\n",
              "      <th>lesson_duration_y</th>\n",
              "      <th>status_id_y</th>\n",
              "      <th>sex</th>\n",
              "      <th>enable_assign</th>\n",
              "      <th>is_external_lessons</th>\n",
              "      <th>is_remote_lessons</th>\n",
              "      <th>lesson_cost</th>\n",
              "      <th>rating</th>\n",
              "    </tr>\n",
              "  </thead>\n",
              "  <tbody>\n",
              "    <tr>\n",
              "      <th>0</th>\n",
              "      <td>2294054</td>\n",
              "      <td>1</td>\n",
              "      <td>0</td>\n",
              "      <td>60</td>\n",
              "      <td>4</td>\n",
              "      <td>16</td>\n",
              "      <td>0</td>\n",
              "      <td>13</td>\n",
              "      <td>0</td>\n",
              "      <td>0</td>\n",
              "      <td>...</td>\n",
              "      <td>NaN</td>\n",
              "      <td>NaN</td>\n",
              "      <td>NaN</td>\n",
              "      <td>NaN</td>\n",
              "      <td>NaN</td>\n",
              "      <td>NaN</td>\n",
              "      <td>NaN</td>\n",
              "      <td>NaN</td>\n",
              "      <td>NaN</td>\n",
              "      <td>NaN</td>\n",
              "    </tr>\n",
              "    <tr>\n",
              "      <th>1</th>\n",
              "      <td>2294055</td>\n",
              "      <td>1</td>\n",
              "      <td>0</td>\n",
              "      <td>60</td>\n",
              "      <td>4</td>\n",
              "      <td>7</td>\n",
              "      <td>0</td>\n",
              "      <td>13</td>\n",
              "      <td>0</td>\n",
              "      <td>0</td>\n",
              "      <td>...</td>\n",
              "      <td>NaN</td>\n",
              "      <td>NaN</td>\n",
              "      <td>NaN</td>\n",
              "      <td>NaN</td>\n",
              "      <td>NaN</td>\n",
              "      <td>NaN</td>\n",
              "      <td>NaN</td>\n",
              "      <td>NaN</td>\n",
              "      <td>NaN</td>\n",
              "      <td>NaN</td>\n",
              "    </tr>\n",
              "    <tr>\n",
              "      <th>2</th>\n",
              "      <td>2294056</td>\n",
              "      <td>21</td>\n",
              "      <td>800</td>\n",
              "      <td>60</td>\n",
              "      <td>4</td>\n",
              "      <td>16</td>\n",
              "      <td>7</td>\n",
              "      <td>14</td>\n",
              "      <td>2</td>\n",
              "      <td>0</td>\n",
              "      <td>...</td>\n",
              "      <td>5.0</td>\n",
              "      <td>5.0</td>\n",
              "      <td>60.0</td>\n",
              "      <td>5.0</td>\n",
              "      <td>2.0</td>\n",
              "      <td>1.0</td>\n",
              "      <td>3.0</td>\n",
              "      <td>5.0</td>\n",
              "      <td>574.00</td>\n",
              "      <td>6.40</td>\n",
              "    </tr>\n",
              "    <tr>\n",
              "      <th>3</th>\n",
              "      <td>2294057</td>\n",
              "      <td>8</td>\n",
              "      <td>700</td>\n",
              "      <td>60</td>\n",
              "      <td>4</td>\n",
              "      <td>16</td>\n",
              "      <td>10</td>\n",
              "      <td>10</td>\n",
              "      <td>3</td>\n",
              "      <td>0</td>\n",
              "      <td>...</td>\n",
              "      <td>3.0</td>\n",
              "      <td>2.0</td>\n",
              "      <td>60.0</td>\n",
              "      <td>3.0</td>\n",
              "      <td>2.0</td>\n",
              "      <td>0.0</td>\n",
              "      <td>1.0</td>\n",
              "      <td>3.0</td>\n",
              "      <td>700.00</td>\n",
              "      <td>6.67</td>\n",
              "    </tr>\n",
              "    <tr>\n",
              "      <th>4</th>\n",
              "      <td>2294058</td>\n",
              "      <td>8</td>\n",
              "      <td>0</td>\n",
              "      <td>60</td>\n",
              "      <td>122</td>\n",
              "      <td>16</td>\n",
              "      <td>0</td>\n",
              "      <td>13</td>\n",
              "      <td>0</td>\n",
              "      <td>0</td>\n",
              "      <td>...</td>\n",
              "      <td>NaN</td>\n",
              "      <td>NaN</td>\n",
              "      <td>NaN</td>\n",
              "      <td>NaN</td>\n",
              "      <td>NaN</td>\n",
              "      <td>NaN</td>\n",
              "      <td>NaN</td>\n",
              "      <td>NaN</td>\n",
              "      <td>NaN</td>\n",
              "      <td>NaN</td>\n",
              "    </tr>\n",
              "    <tr>\n",
              "      <th>...</th>\n",
              "      <td>...</td>\n",
              "      <td>...</td>\n",
              "      <td>...</td>\n",
              "      <td>...</td>\n",
              "      <td>...</td>\n",
              "      <td>...</td>\n",
              "      <td>...</td>\n",
              "      <td>...</td>\n",
              "      <td>...</td>\n",
              "      <td>...</td>\n",
              "      <td>...</td>\n",
              "      <td>...</td>\n",
              "      <td>...</td>\n",
              "      <td>...</td>\n",
              "      <td>...</td>\n",
              "      <td>...</td>\n",
              "      <td>...</td>\n",
              "      <td>...</td>\n",
              "      <td>...</td>\n",
              "      <td>...</td>\n",
              "      <td>...</td>\n",
              "    </tr>\n",
              "    <tr>\n",
              "      <th>1190953</th>\n",
              "      <td>2280502</td>\n",
              "      <td>13</td>\n",
              "      <td>900</td>\n",
              "      <td>60</td>\n",
              "      <td>792</td>\n",
              "      <td>16</td>\n",
              "      <td>10</td>\n",
              "      <td>10</td>\n",
              "      <td>3</td>\n",
              "      <td>0</td>\n",
              "      <td>...</td>\n",
              "      <td>NaN</td>\n",
              "      <td>NaN</td>\n",
              "      <td>NaN</td>\n",
              "      <td>NaN</td>\n",
              "      <td>NaN</td>\n",
              "      <td>NaN</td>\n",
              "      <td>NaN</td>\n",
              "      <td>NaN</td>\n",
              "      <td>NaN</td>\n",
              "      <td>NaN</td>\n",
              "    </tr>\n",
              "    <tr>\n",
              "      <th>1190954</th>\n",
              "      <td>2280503</td>\n",
              "      <td>9</td>\n",
              "      <td>1000</td>\n",
              "      <td>60</td>\n",
              "      <td>4</td>\n",
              "      <td>6</td>\n",
              "      <td>10</td>\n",
              "      <td>8</td>\n",
              "      <td>2</td>\n",
              "      <td>800</td>\n",
              "      <td>...</td>\n",
              "      <td>18.0</td>\n",
              "      <td>10.0</td>\n",
              "      <td>60.0</td>\n",
              "      <td>3.0</td>\n",
              "      <td>2.0</td>\n",
              "      <td>0.0</td>\n",
              "      <td>9.0</td>\n",
              "      <td>18.0</td>\n",
              "      <td>711.11</td>\n",
              "      <td>4.39</td>\n",
              "    </tr>\n",
              "    <tr>\n",
              "      <th>1190955</th>\n",
              "      <td>2280504</td>\n",
              "      <td>1</td>\n",
              "      <td>1000</td>\n",
              "      <td>120</td>\n",
              "      <td>4</td>\n",
              "      <td>16</td>\n",
              "      <td>10</td>\n",
              "      <td>6</td>\n",
              "      <td>2</td>\n",
              "      <td>0</td>\n",
              "      <td>...</td>\n",
              "      <td>28.0</td>\n",
              "      <td>14.0</td>\n",
              "      <td>60.0</td>\n",
              "      <td>5.0</td>\n",
              "      <td>2.0</td>\n",
              "      <td>0.0</td>\n",
              "      <td>21.0</td>\n",
              "      <td>28.0</td>\n",
              "      <td>458.93</td>\n",
              "      <td>5.00</td>\n",
              "    </tr>\n",
              "    <tr>\n",
              "      <th>1190956</th>\n",
              "      <td>2280505</td>\n",
              "      <td>2</td>\n",
              "      <td>600</td>\n",
              "      <td>60</td>\n",
              "      <td>489</td>\n",
              "      <td>16</td>\n",
              "      <td>10</td>\n",
              "      <td>2</td>\n",
              "      <td>3</td>\n",
              "      <td>500</td>\n",
              "      <td>...</td>\n",
              "      <td>7.0</td>\n",
              "      <td>7.0</td>\n",
              "      <td>60.0</td>\n",
              "      <td>5.0</td>\n",
              "      <td>2.0</td>\n",
              "      <td>0.0</td>\n",
              "      <td>4.0</td>\n",
              "      <td>5.0</td>\n",
              "      <td>264.29</td>\n",
              "      <td>5.00</td>\n",
              "    </tr>\n",
              "    <tr>\n",
              "      <th>1190957</th>\n",
              "      <td>2280506</td>\n",
              "      <td>18</td>\n",
              "      <td>900</td>\n",
              "      <td>60</td>\n",
              "      <td>487</td>\n",
              "      <td>16</td>\n",
              "      <td>10</td>\n",
              "      <td>4</td>\n",
              "      <td>4</td>\n",
              "      <td>400</td>\n",
              "      <td>...</td>\n",
              "      <td>7.0</td>\n",
              "      <td>2.0</td>\n",
              "      <td>60.0</td>\n",
              "      <td>3.0</td>\n",
              "      <td>2.0</td>\n",
              "      <td>1.0</td>\n",
              "      <td>7.0</td>\n",
              "      <td>3.0</td>\n",
              "      <td>500.00</td>\n",
              "      <td>3.14</td>\n",
              "    </tr>\n",
              "  </tbody>\n",
              "</table>\n",
              "<p>1190958 rows × 40 columns</p>\n",
              "</div>\n",
              "    <div class=\"colab-df-buttons\">\n",
              "\n",
              "  <div class=\"colab-df-container\">\n",
              "    <button class=\"colab-df-convert\" onclick=\"convertToInteractive('df-f0c28a5a-33e7-49d3-8ad9-a2727cebed6e')\"\n",
              "            title=\"Convert this dataframe to an interactive table.\"\n",
              "            style=\"display:none;\">\n",
              "\n",
              "  <svg xmlns=\"http://www.w3.org/2000/svg\" height=\"24px\" viewBox=\"0 -960 960 960\">\n",
              "    <path d=\"M120-120v-720h720v720H120Zm60-500h600v-160H180v160Zm220 220h160v-160H400v160Zm0 220h160v-160H400v160ZM180-400h160v-160H180v160Zm440 0h160v-160H620v160ZM180-180h160v-160H180v160Zm440 0h160v-160H620v160Z\"/>\n",
              "  </svg>\n",
              "    </button>\n",
              "\n",
              "  <style>\n",
              "    .colab-df-container {\n",
              "      display:flex;\n",
              "      gap: 12px;\n",
              "    }\n",
              "\n",
              "    .colab-df-convert {\n",
              "      background-color: #E8F0FE;\n",
              "      border: none;\n",
              "      border-radius: 50%;\n",
              "      cursor: pointer;\n",
              "      display: none;\n",
              "      fill: #1967D2;\n",
              "      height: 32px;\n",
              "      padding: 0 0 0 0;\n",
              "      width: 32px;\n",
              "    }\n",
              "\n",
              "    .colab-df-convert:hover {\n",
              "      background-color: #E2EBFA;\n",
              "      box-shadow: 0px 1px 2px rgba(60, 64, 67, 0.3), 0px 1px 3px 1px rgba(60, 64, 67, 0.15);\n",
              "      fill: #174EA6;\n",
              "    }\n",
              "\n",
              "    .colab-df-buttons div {\n",
              "      margin-bottom: 4px;\n",
              "    }\n",
              "\n",
              "    [theme=dark] .colab-df-convert {\n",
              "      background-color: #3B4455;\n",
              "      fill: #D2E3FC;\n",
              "    }\n",
              "\n",
              "    [theme=dark] .colab-df-convert:hover {\n",
              "      background-color: #434B5C;\n",
              "      box-shadow: 0px 1px 3px 1px rgba(0, 0, 0, 0.15);\n",
              "      filter: drop-shadow(0px 1px 2px rgba(0, 0, 0, 0.3));\n",
              "      fill: #FFFFFF;\n",
              "    }\n",
              "  </style>\n",
              "\n",
              "    <script>\n",
              "      const buttonEl =\n",
              "        document.querySelector('#df-f0c28a5a-33e7-49d3-8ad9-a2727cebed6e button.colab-df-convert');\n",
              "      buttonEl.style.display =\n",
              "        google.colab.kernel.accessAllowed ? 'block' : 'none';\n",
              "\n",
              "      async function convertToInteractive(key) {\n",
              "        const element = document.querySelector('#df-f0c28a5a-33e7-49d3-8ad9-a2727cebed6e');\n",
              "        const dataTable =\n",
              "          await google.colab.kernel.invokeFunction('convertToInteractive',\n",
              "                                                    [key], {});\n",
              "        if (!dataTable) return;\n",
              "\n",
              "        const docLinkHtml = 'Like what you see? Visit the ' +\n",
              "          '<a target=\"_blank\" href=https://colab.research.google.com/notebooks/data_table.ipynb>data table notebook</a>'\n",
              "          + ' to learn more about interactive tables.';\n",
              "        element.innerHTML = '';\n",
              "        dataTable['output_type'] = 'display_data';\n",
              "        await google.colab.output.renderOutput(dataTable, element);\n",
              "        const docLink = document.createElement('div');\n",
              "        docLink.innerHTML = docLinkHtml;\n",
              "        element.appendChild(docLink);\n",
              "      }\n",
              "    </script>\n",
              "  </div>\n",
              "\n",
              "\n",
              "<div id=\"df-9ae0c9f1-3302-4b7a-ab03-f65e705d0964\">\n",
              "  <button class=\"colab-df-quickchart\" onclick=\"quickchart('df-9ae0c9f1-3302-4b7a-ab03-f65e705d0964')\"\n",
              "            title=\"Suggest charts\"\n",
              "            style=\"display:none;\">\n",
              "\n",
              "<svg xmlns=\"http://www.w3.org/2000/svg\" height=\"24px\"viewBox=\"0 0 24 24\"\n",
              "     width=\"24px\">\n",
              "    <g>\n",
              "        <path d=\"M19 3H5c-1.1 0-2 .9-2 2v14c0 1.1.9 2 2 2h14c1.1 0 2-.9 2-2V5c0-1.1-.9-2-2-2zM9 17H7v-7h2v7zm4 0h-2V7h2v10zm4 0h-2v-4h2v4z\"/>\n",
              "    </g>\n",
              "</svg>\n",
              "  </button>\n",
              "\n",
              "<style>\n",
              "  .colab-df-quickchart {\n",
              "      --bg-color: #E8F0FE;\n",
              "      --fill-color: #1967D2;\n",
              "      --hover-bg-color: #E2EBFA;\n",
              "      --hover-fill-color: #174EA6;\n",
              "      --disabled-fill-color: #AAA;\n",
              "      --disabled-bg-color: #DDD;\n",
              "  }\n",
              "\n",
              "  [theme=dark] .colab-df-quickchart {\n",
              "      --bg-color: #3B4455;\n",
              "      --fill-color: #D2E3FC;\n",
              "      --hover-bg-color: #434B5C;\n",
              "      --hover-fill-color: #FFFFFF;\n",
              "      --disabled-bg-color: #3B4455;\n",
              "      --disabled-fill-color: #666;\n",
              "  }\n",
              "\n",
              "  .colab-df-quickchart {\n",
              "    background-color: var(--bg-color);\n",
              "    border: none;\n",
              "    border-radius: 50%;\n",
              "    cursor: pointer;\n",
              "    display: none;\n",
              "    fill: var(--fill-color);\n",
              "    height: 32px;\n",
              "    padding: 0;\n",
              "    width: 32px;\n",
              "  }\n",
              "\n",
              "  .colab-df-quickchart:hover {\n",
              "    background-color: var(--hover-bg-color);\n",
              "    box-shadow: 0 1px 2px rgba(60, 64, 67, 0.3), 0 1px 3px 1px rgba(60, 64, 67, 0.15);\n",
              "    fill: var(--button-hover-fill-color);\n",
              "  }\n",
              "\n",
              "  .colab-df-quickchart-complete:disabled,\n",
              "  .colab-df-quickchart-complete:disabled:hover {\n",
              "    background-color: var(--disabled-bg-color);\n",
              "    fill: var(--disabled-fill-color);\n",
              "    box-shadow: none;\n",
              "  }\n",
              "\n",
              "  .colab-df-spinner {\n",
              "    border: 2px solid var(--fill-color);\n",
              "    border-color: transparent;\n",
              "    border-bottom-color: var(--fill-color);\n",
              "    animation:\n",
              "      spin 1s steps(1) infinite;\n",
              "  }\n",
              "\n",
              "  @keyframes spin {\n",
              "    0% {\n",
              "      border-color: transparent;\n",
              "      border-bottom-color: var(--fill-color);\n",
              "      border-left-color: var(--fill-color);\n",
              "    }\n",
              "    20% {\n",
              "      border-color: transparent;\n",
              "      border-left-color: var(--fill-color);\n",
              "      border-top-color: var(--fill-color);\n",
              "    }\n",
              "    30% {\n",
              "      border-color: transparent;\n",
              "      border-left-color: var(--fill-color);\n",
              "      border-top-color: var(--fill-color);\n",
              "      border-right-color: var(--fill-color);\n",
              "    }\n",
              "    40% {\n",
              "      border-color: transparent;\n",
              "      border-right-color: var(--fill-color);\n",
              "      border-top-color: var(--fill-color);\n",
              "    }\n",
              "    60% {\n",
              "      border-color: transparent;\n",
              "      border-right-color: var(--fill-color);\n",
              "    }\n",
              "    80% {\n",
              "      border-color: transparent;\n",
              "      border-right-color: var(--fill-color);\n",
              "      border-bottom-color: var(--fill-color);\n",
              "    }\n",
              "    90% {\n",
              "      border-color: transparent;\n",
              "      border-bottom-color: var(--fill-color);\n",
              "    }\n",
              "  }\n",
              "</style>\n",
              "\n",
              "  <script>\n",
              "    async function quickchart(key) {\n",
              "      const quickchartButtonEl =\n",
              "        document.querySelector('#' + key + ' button');\n",
              "      quickchartButtonEl.disabled = true;  // To prevent multiple clicks.\n",
              "      quickchartButtonEl.classList.add('colab-df-spinner');\n",
              "      try {\n",
              "        const charts = await google.colab.kernel.invokeFunction(\n",
              "            'suggestCharts', [key], {});\n",
              "      } catch (error) {\n",
              "        console.error('Error during call to suggestCharts:', error);\n",
              "      }\n",
              "      quickchartButtonEl.classList.remove('colab-df-spinner');\n",
              "      quickchartButtonEl.classList.add('colab-df-quickchart-complete');\n",
              "    }\n",
              "    (() => {\n",
              "      let quickchartButtonEl =\n",
              "        document.querySelector('#df-9ae0c9f1-3302-4b7a-ab03-f65e705d0964 button');\n",
              "      quickchartButtonEl.style.display =\n",
              "        google.colab.kernel.accessAllowed ? 'block' : 'none';\n",
              "    })();\n",
              "  </script>\n",
              "</div>\n",
              "\n",
              "  <div id=\"id_122e44b7-09ad-47eb-853c-d19b13b8e583\">\n",
              "    <style>\n",
              "      .colab-df-generate {\n",
              "        background-color: #E8F0FE;\n",
              "        border: none;\n",
              "        border-radius: 50%;\n",
              "        cursor: pointer;\n",
              "        display: none;\n",
              "        fill: #1967D2;\n",
              "        height: 32px;\n",
              "        padding: 0 0 0 0;\n",
              "        width: 32px;\n",
              "      }\n",
              "\n",
              "      .colab-df-generate:hover {\n",
              "        background-color: #E2EBFA;\n",
              "        box-shadow: 0px 1px 2px rgba(60, 64, 67, 0.3), 0px 1px 3px 1px rgba(60, 64, 67, 0.15);\n",
              "        fill: #174EA6;\n",
              "      }\n",
              "\n",
              "      [theme=dark] .colab-df-generate {\n",
              "        background-color: #3B4455;\n",
              "        fill: #D2E3FC;\n",
              "      }\n",
              "\n",
              "      [theme=dark] .colab-df-generate:hover {\n",
              "        background-color: #434B5C;\n",
              "        box-shadow: 0px 1px 3px 1px rgba(0, 0, 0, 0.15);\n",
              "        filter: drop-shadow(0px 1px 2px rgba(0, 0, 0, 0.3));\n",
              "        fill: #FFFFFF;\n",
              "      }\n",
              "    </style>\n",
              "    <button class=\"colab-df-generate\" onclick=\"generateWithVariable('merged_data')\"\n",
              "            title=\"Generate code using this dataframe.\"\n",
              "            style=\"display:none;\">\n",
              "\n",
              "  <svg xmlns=\"http://www.w3.org/2000/svg\" height=\"24px\"viewBox=\"0 0 24 24\"\n",
              "       width=\"24px\">\n",
              "    <path d=\"M7,19H8.4L18.45,9,17,7.55,7,17.6ZM5,21V16.75L18.45,3.32a2,2,0,0,1,2.83,0l1.4,1.43a1.91,1.91,0,0,1,.58,1.4,1.91,1.91,0,0,1-.58,1.4L9.25,21ZM18.45,9,17,7.55Zm-12,3A5.31,5.31,0,0,0,4.9,8.1,5.31,5.31,0,0,0,1,6.5,5.31,5.31,0,0,0,4.9,4.9,5.31,5.31,0,0,0,6.5,1,5.31,5.31,0,0,0,8.1,4.9,5.31,5.31,0,0,0,12,6.5,5.46,5.46,0,0,0,6.5,12Z\"/>\n",
              "  </svg>\n",
              "    </button>\n",
              "    <script>\n",
              "      (() => {\n",
              "      const buttonEl =\n",
              "        document.querySelector('#id_122e44b7-09ad-47eb-853c-d19b13b8e583 button.colab-df-generate');\n",
              "      buttonEl.style.display =\n",
              "        google.colab.kernel.accessAllowed ? 'block' : 'none';\n",
              "\n",
              "      buttonEl.onclick = () => {\n",
              "        google.colab.notebook.generateWithVariable('merged_data');\n",
              "      }\n",
              "      })();\n",
              "    </script>\n",
              "  </div>\n",
              "\n",
              "    </div>\n",
              "  </div>\n"
            ],
            "application/vnd.google.colaboratory.intrinsic+json": {
              "type": "dataframe",
              "variable_name": "merged_data"
            }
          },
          "metadata": {},
          "execution_count": 62
        }
      ],
      "source": [
        "merged_data"
      ]
    },
    {
      "cell_type": "markdown",
      "source": [
        "Проверяем все ли хорошо с данными в нашей новой таблице"
      ],
      "metadata": {
        "id": "AKGDd468bwRz"
      }
    },
    {
      "cell_type": "code",
      "execution_count": 63,
      "metadata": {
        "colab": {
          "base_uri": "https://localhost:8080/"
        },
        "id": "47fMeLm4y57U",
        "outputId": "11c64fa5-b682-482c-a29b-6885ef0a066d"
      },
      "outputs": [
        {
          "output_type": "stream",
          "name": "stdout",
          "text": [
            "<class 'pandas.core.frame.DataFrame'>\n",
            "Int64Index: 1190958 entries, 0 to 1190957\n",
            "Data columns (total 40 columns):\n",
            " #   Column                   Non-Null Count    Dtype  \n",
            "---  ------                   --------------    -----  \n",
            " 0   id                       1190958 non-null  int32  \n",
            " 1   subject_id               1190958 non-null  int64  \n",
            " 2   lesson_price             1190958 non-null  int32  \n",
            " 3   lesson_duration_x        1190958 non-null  int32  \n",
            " 4   home_metro_id            1190958 non-null  int64  \n",
            " 5   status_id_x              1190958 non-null  int32  \n",
            " 6   planned_lesson_number    1190958 non-null  int32  \n",
            " 7   pupil_category_new_id    1190958 non-null  int64  \n",
            " 8   lessons_per_week         1190958 non-null  int32  \n",
            " 9   minimal_price            1190958 non-null  int32  \n",
            " 10  teacher_sex              1190958 non-null  int32  \n",
            " 11  teacher_experience_from  1190958 non-null  int32  \n",
            " 12  teacher_experience_to    1190958 non-null  int32  \n",
            " 13  lesson_place_new         1190958 non-null  int32  \n",
            " 14  pupil_knowledgelvl       1190958 non-null  int32  \n",
            " 15  teacher_age_from         1190958 non-null  int32  \n",
            " 16  teacher_age_to           1190958 non-null  int32  \n",
            " 17  chosen_teachers_only     1190958 non-null  int8   \n",
            " 18  no_teachers_available    1190958 non-null  int8   \n",
            " 19  source_id                1190958 non-null  int32  \n",
            " 20  original_order_id        1190958 non-null  int64  \n",
            " 21  client_id                1190958 non-null  int32  \n",
            " 22  max_metro_distance       1190958 non-null  float32\n",
            " 23  is_display_to_teachers   1190958 non-null  int8   \n",
            " 24  learning_stage           1190958 non-null  int64  \n",
            " 25  order_month              1190958 non-null  int64  \n",
            " 26  order_wd                 1190958 non-null  int64  \n",
            " 27  add_info_is              1190958 non-null  int64  \n",
            " 28  order_maker              1190958 non-null  int64  \n",
            " 29  order_id                 833050 non-null   float64\n",
            " 30  teacher_id               833050 non-null   float64\n",
            " 31  is_home_lessons          833050 non-null   float64\n",
            " 32  lesson_duration_y        833050 non-null   float64\n",
            " 33  status_id_y              833050 non-null   float64\n",
            " 34  sex                      833050 non-null   float64\n",
            " 35  enable_assign            833050 non-null   float64\n",
            " 36  is_external_lessons      833050 non-null   float64\n",
            " 37  is_remote_lessons        833050 non-null   float64\n",
            " 38  lesson_cost              833050 non-null   float64\n",
            " 39  rating                   833050 non-null   float64\n",
            "dtypes: float32(1), float64(11), int32(16), int64(9), int8(3)\n",
            "memory usage: 271.5 MB\n"
          ]
        }
      ],
      "source": [
        "merged_data.info()"
      ]
    },
    {
      "cell_type": "markdown",
      "source": [
        "Для начала удалим параметры, которые нам уже не нужны и которые могут привести к утечке во время обучения модели."
      ],
      "metadata": {
        "id": "g7xG1dv9b_ak"
      }
    },
    {
      "cell_type": "code",
      "execution_count": 64,
      "metadata": {
        "id": "DOqZTf-9y57U"
      },
      "outputs": [],
      "source": [
        "merged_data = merged_data.drop(columns =['order_id', 'teacher_id'])"
      ]
    },
    {
      "cell_type": "markdown",
      "source": [
        "Так как мы обьединяли таблицы, образовалось много пропусков в столбцах с информацией об учителях. Не у каждой заявки имеются такие данные, так что просто заполним эти пропуски 0. Параметры с целочисленными значениями приведем к целочисленному типу данных"
      ],
      "metadata": {
        "id": "gCF250nrcNht"
      }
    },
    {
      "cell_type": "code",
      "execution_count": 67,
      "metadata": {
        "id": "1dVcEw7jy57V"
      },
      "outputs": [],
      "source": [
        "merged_data = merged_data.fillna(0)"
      ]
    },
    {
      "cell_type": "code",
      "execution_count": 69,
      "metadata": {
        "id": "Oxfi7bA2y57V"
      },
      "outputs": [],
      "source": [
        "int_param = ['is_home_lessons','status_id_y','sex','enable_assign','is_external_lessons','is_remote_lessons','rating','lesson_duration_y']\n",
        "merged_data[int_param] = merged_data[int_param].astype('int')"
      ]
    },
    {
      "cell_type": "markdown",
      "source": [
        "Создадим столбец со значение, которое м ы будем предсказывать, а точнее, будет оплачена заявка или нет. Если значения в столбце со статусом заявки равняются 5,6,13,14 или 15 то ставим что заявка оплачена (1) в противном случае проставляем 0."
      ],
      "metadata": {
        "id": "XA6DBMOOc0Gv"
      }
    },
    {
      "cell_type": "code",
      "execution_count": 70,
      "metadata": {
        "id": "weaSdLSGy57W"
      },
      "outputs": [],
      "source": [
        "merged_data['target'] = merged_data['status_id_x'].apply(lambda x: 1 if x in [5,6,13,15,14] else 0)"
      ]
    },
    {
      "cell_type": "markdown",
      "source": [
        "В нашей таблице имеются дубликаты начальных заявок, которые могут отличаться по статусу заявки.Сгруппируем данные по указанным оригинальным идентификаторам. Если хотя бы одна из заявок оплачена (1), то скорректируем нашу основную таблицу так, чтобы все остальные заявки (дубли и оригинальная заявка) имели статус оплачено(1)"
      ],
      "metadata": {
        "id": "5-wGy-hkdNGT"
      }
    },
    {
      "cell_type": "code",
      "execution_count": 71,
      "metadata": {
        "id": "Gu2bp2Msy57W"
      },
      "outputs": [],
      "source": [
        "grouped_data = merged_data.groupby('original_order_id').agg({'target': 'max'}).reset_index()"
      ]
    },
    {
      "cell_type": "code",
      "execution_count": 72,
      "metadata": {
        "colab": {
          "base_uri": "https://localhost:8080/",
          "height": 423
        },
        "id": "jgN21ZHfy57W",
        "outputId": "1c264bed-af16-424a-f4ea-13a08d036b09"
      },
      "outputs": [
        {
          "output_type": "execute_result",
          "data": {
            "text/plain": [
              "        original_order_id  target\n",
              "0                       0       1\n",
              "1                     263       1\n",
              "2                   19367       0\n",
              "3                  113952       0\n",
              "4                  134851       0\n",
              "...                   ...     ...\n",
              "314924            2936679       0\n",
              "314925            2936924       0\n",
              "314926            2937195       0\n",
              "314927            2937205       0\n",
              "314928            2938030       1\n",
              "\n",
              "[314929 rows x 2 columns]"
            ],
            "text/html": [
              "\n",
              "  <div id=\"df-4cbbdfb1-0dec-4bf5-b83c-dd705ce5f421\" class=\"colab-df-container\">\n",
              "    <div>\n",
              "<style scoped>\n",
              "    .dataframe tbody tr th:only-of-type {\n",
              "        vertical-align: middle;\n",
              "    }\n",
              "\n",
              "    .dataframe tbody tr th {\n",
              "        vertical-align: top;\n",
              "    }\n",
              "\n",
              "    .dataframe thead th {\n",
              "        text-align: right;\n",
              "    }\n",
              "</style>\n",
              "<table border=\"1\" class=\"dataframe\">\n",
              "  <thead>\n",
              "    <tr style=\"text-align: right;\">\n",
              "      <th></th>\n",
              "      <th>original_order_id</th>\n",
              "      <th>target</th>\n",
              "    </tr>\n",
              "  </thead>\n",
              "  <tbody>\n",
              "    <tr>\n",
              "      <th>0</th>\n",
              "      <td>0</td>\n",
              "      <td>1</td>\n",
              "    </tr>\n",
              "    <tr>\n",
              "      <th>1</th>\n",
              "      <td>263</td>\n",
              "      <td>1</td>\n",
              "    </tr>\n",
              "    <tr>\n",
              "      <th>2</th>\n",
              "      <td>19367</td>\n",
              "      <td>0</td>\n",
              "    </tr>\n",
              "    <tr>\n",
              "      <th>3</th>\n",
              "      <td>113952</td>\n",
              "      <td>0</td>\n",
              "    </tr>\n",
              "    <tr>\n",
              "      <th>4</th>\n",
              "      <td>134851</td>\n",
              "      <td>0</td>\n",
              "    </tr>\n",
              "    <tr>\n",
              "      <th>...</th>\n",
              "      <td>...</td>\n",
              "      <td>...</td>\n",
              "    </tr>\n",
              "    <tr>\n",
              "      <th>314924</th>\n",
              "      <td>2936679</td>\n",
              "      <td>0</td>\n",
              "    </tr>\n",
              "    <tr>\n",
              "      <th>314925</th>\n",
              "      <td>2936924</td>\n",
              "      <td>0</td>\n",
              "    </tr>\n",
              "    <tr>\n",
              "      <th>314926</th>\n",
              "      <td>2937195</td>\n",
              "      <td>0</td>\n",
              "    </tr>\n",
              "    <tr>\n",
              "      <th>314927</th>\n",
              "      <td>2937205</td>\n",
              "      <td>0</td>\n",
              "    </tr>\n",
              "    <tr>\n",
              "      <th>314928</th>\n",
              "      <td>2938030</td>\n",
              "      <td>1</td>\n",
              "    </tr>\n",
              "  </tbody>\n",
              "</table>\n",
              "<p>314929 rows × 2 columns</p>\n",
              "</div>\n",
              "    <div class=\"colab-df-buttons\">\n",
              "\n",
              "  <div class=\"colab-df-container\">\n",
              "    <button class=\"colab-df-convert\" onclick=\"convertToInteractive('df-4cbbdfb1-0dec-4bf5-b83c-dd705ce5f421')\"\n",
              "            title=\"Convert this dataframe to an interactive table.\"\n",
              "            style=\"display:none;\">\n",
              "\n",
              "  <svg xmlns=\"http://www.w3.org/2000/svg\" height=\"24px\" viewBox=\"0 -960 960 960\">\n",
              "    <path d=\"M120-120v-720h720v720H120Zm60-500h600v-160H180v160Zm220 220h160v-160H400v160Zm0 220h160v-160H400v160ZM180-400h160v-160H180v160Zm440 0h160v-160H620v160ZM180-180h160v-160H180v160Zm440 0h160v-160H620v160Z\"/>\n",
              "  </svg>\n",
              "    </button>\n",
              "\n",
              "  <style>\n",
              "    .colab-df-container {\n",
              "      display:flex;\n",
              "      gap: 12px;\n",
              "    }\n",
              "\n",
              "    .colab-df-convert {\n",
              "      background-color: #E8F0FE;\n",
              "      border: none;\n",
              "      border-radius: 50%;\n",
              "      cursor: pointer;\n",
              "      display: none;\n",
              "      fill: #1967D2;\n",
              "      height: 32px;\n",
              "      padding: 0 0 0 0;\n",
              "      width: 32px;\n",
              "    }\n",
              "\n",
              "    .colab-df-convert:hover {\n",
              "      background-color: #E2EBFA;\n",
              "      box-shadow: 0px 1px 2px rgba(60, 64, 67, 0.3), 0px 1px 3px 1px rgba(60, 64, 67, 0.15);\n",
              "      fill: #174EA6;\n",
              "    }\n",
              "\n",
              "    .colab-df-buttons div {\n",
              "      margin-bottom: 4px;\n",
              "    }\n",
              "\n",
              "    [theme=dark] .colab-df-convert {\n",
              "      background-color: #3B4455;\n",
              "      fill: #D2E3FC;\n",
              "    }\n",
              "\n",
              "    [theme=dark] .colab-df-convert:hover {\n",
              "      background-color: #434B5C;\n",
              "      box-shadow: 0px 1px 3px 1px rgba(0, 0, 0, 0.15);\n",
              "      filter: drop-shadow(0px 1px 2px rgba(0, 0, 0, 0.3));\n",
              "      fill: #FFFFFF;\n",
              "    }\n",
              "  </style>\n",
              "\n",
              "    <script>\n",
              "      const buttonEl =\n",
              "        document.querySelector('#df-4cbbdfb1-0dec-4bf5-b83c-dd705ce5f421 button.colab-df-convert');\n",
              "      buttonEl.style.display =\n",
              "        google.colab.kernel.accessAllowed ? 'block' : 'none';\n",
              "\n",
              "      async function convertToInteractive(key) {\n",
              "        const element = document.querySelector('#df-4cbbdfb1-0dec-4bf5-b83c-dd705ce5f421');\n",
              "        const dataTable =\n",
              "          await google.colab.kernel.invokeFunction('convertToInteractive',\n",
              "                                                    [key], {});\n",
              "        if (!dataTable) return;\n",
              "\n",
              "        const docLinkHtml = 'Like what you see? Visit the ' +\n",
              "          '<a target=\"_blank\" href=https://colab.research.google.com/notebooks/data_table.ipynb>data table notebook</a>'\n",
              "          + ' to learn more about interactive tables.';\n",
              "        element.innerHTML = '';\n",
              "        dataTable['output_type'] = 'display_data';\n",
              "        await google.colab.output.renderOutput(dataTable, element);\n",
              "        const docLink = document.createElement('div');\n",
              "        docLink.innerHTML = docLinkHtml;\n",
              "        element.appendChild(docLink);\n",
              "      }\n",
              "    </script>\n",
              "  </div>\n",
              "\n",
              "\n",
              "<div id=\"df-a729d17a-22f0-4665-a2bf-a39060bf8b26\">\n",
              "  <button class=\"colab-df-quickchart\" onclick=\"quickchart('df-a729d17a-22f0-4665-a2bf-a39060bf8b26')\"\n",
              "            title=\"Suggest charts\"\n",
              "            style=\"display:none;\">\n",
              "\n",
              "<svg xmlns=\"http://www.w3.org/2000/svg\" height=\"24px\"viewBox=\"0 0 24 24\"\n",
              "     width=\"24px\">\n",
              "    <g>\n",
              "        <path d=\"M19 3H5c-1.1 0-2 .9-2 2v14c0 1.1.9 2 2 2h14c1.1 0 2-.9 2-2V5c0-1.1-.9-2-2-2zM9 17H7v-7h2v7zm4 0h-2V7h2v10zm4 0h-2v-4h2v4z\"/>\n",
              "    </g>\n",
              "</svg>\n",
              "  </button>\n",
              "\n",
              "<style>\n",
              "  .colab-df-quickchart {\n",
              "      --bg-color: #E8F0FE;\n",
              "      --fill-color: #1967D2;\n",
              "      --hover-bg-color: #E2EBFA;\n",
              "      --hover-fill-color: #174EA6;\n",
              "      --disabled-fill-color: #AAA;\n",
              "      --disabled-bg-color: #DDD;\n",
              "  }\n",
              "\n",
              "  [theme=dark] .colab-df-quickchart {\n",
              "      --bg-color: #3B4455;\n",
              "      --fill-color: #D2E3FC;\n",
              "      --hover-bg-color: #434B5C;\n",
              "      --hover-fill-color: #FFFFFF;\n",
              "      --disabled-bg-color: #3B4455;\n",
              "      --disabled-fill-color: #666;\n",
              "  }\n",
              "\n",
              "  .colab-df-quickchart {\n",
              "    background-color: var(--bg-color);\n",
              "    border: none;\n",
              "    border-radius: 50%;\n",
              "    cursor: pointer;\n",
              "    display: none;\n",
              "    fill: var(--fill-color);\n",
              "    height: 32px;\n",
              "    padding: 0;\n",
              "    width: 32px;\n",
              "  }\n",
              "\n",
              "  .colab-df-quickchart:hover {\n",
              "    background-color: var(--hover-bg-color);\n",
              "    box-shadow: 0 1px 2px rgba(60, 64, 67, 0.3), 0 1px 3px 1px rgba(60, 64, 67, 0.15);\n",
              "    fill: var(--button-hover-fill-color);\n",
              "  }\n",
              "\n",
              "  .colab-df-quickchart-complete:disabled,\n",
              "  .colab-df-quickchart-complete:disabled:hover {\n",
              "    background-color: var(--disabled-bg-color);\n",
              "    fill: var(--disabled-fill-color);\n",
              "    box-shadow: none;\n",
              "  }\n",
              "\n",
              "  .colab-df-spinner {\n",
              "    border: 2px solid var(--fill-color);\n",
              "    border-color: transparent;\n",
              "    border-bottom-color: var(--fill-color);\n",
              "    animation:\n",
              "      spin 1s steps(1) infinite;\n",
              "  }\n",
              "\n",
              "  @keyframes spin {\n",
              "    0% {\n",
              "      border-color: transparent;\n",
              "      border-bottom-color: var(--fill-color);\n",
              "      border-left-color: var(--fill-color);\n",
              "    }\n",
              "    20% {\n",
              "      border-color: transparent;\n",
              "      border-left-color: var(--fill-color);\n",
              "      border-top-color: var(--fill-color);\n",
              "    }\n",
              "    30% {\n",
              "      border-color: transparent;\n",
              "      border-left-color: var(--fill-color);\n",
              "      border-top-color: var(--fill-color);\n",
              "      border-right-color: var(--fill-color);\n",
              "    }\n",
              "    40% {\n",
              "      border-color: transparent;\n",
              "      border-right-color: var(--fill-color);\n",
              "      border-top-color: var(--fill-color);\n",
              "    }\n",
              "    60% {\n",
              "      border-color: transparent;\n",
              "      border-right-color: var(--fill-color);\n",
              "    }\n",
              "    80% {\n",
              "      border-color: transparent;\n",
              "      border-right-color: var(--fill-color);\n",
              "      border-bottom-color: var(--fill-color);\n",
              "    }\n",
              "    90% {\n",
              "      border-color: transparent;\n",
              "      border-bottom-color: var(--fill-color);\n",
              "    }\n",
              "  }\n",
              "</style>\n",
              "\n",
              "  <script>\n",
              "    async function quickchart(key) {\n",
              "      const quickchartButtonEl =\n",
              "        document.querySelector('#' + key + ' button');\n",
              "      quickchartButtonEl.disabled = true;  // To prevent multiple clicks.\n",
              "      quickchartButtonEl.classList.add('colab-df-spinner');\n",
              "      try {\n",
              "        const charts = await google.colab.kernel.invokeFunction(\n",
              "            'suggestCharts', [key], {});\n",
              "      } catch (error) {\n",
              "        console.error('Error during call to suggestCharts:', error);\n",
              "      }\n",
              "      quickchartButtonEl.classList.remove('colab-df-spinner');\n",
              "      quickchartButtonEl.classList.add('colab-df-quickchart-complete');\n",
              "    }\n",
              "    (() => {\n",
              "      let quickchartButtonEl =\n",
              "        document.querySelector('#df-a729d17a-22f0-4665-a2bf-a39060bf8b26 button');\n",
              "      quickchartButtonEl.style.display =\n",
              "        google.colab.kernel.accessAllowed ? 'block' : 'none';\n",
              "    })();\n",
              "  </script>\n",
              "</div>\n",
              "\n",
              "  <div id=\"id_20ba303a-3cf7-4156-a3b2-5d15f70a6a19\">\n",
              "    <style>\n",
              "      .colab-df-generate {\n",
              "        background-color: #E8F0FE;\n",
              "        border: none;\n",
              "        border-radius: 50%;\n",
              "        cursor: pointer;\n",
              "        display: none;\n",
              "        fill: #1967D2;\n",
              "        height: 32px;\n",
              "        padding: 0 0 0 0;\n",
              "        width: 32px;\n",
              "      }\n",
              "\n",
              "      .colab-df-generate:hover {\n",
              "        background-color: #E2EBFA;\n",
              "        box-shadow: 0px 1px 2px rgba(60, 64, 67, 0.3), 0px 1px 3px 1px rgba(60, 64, 67, 0.15);\n",
              "        fill: #174EA6;\n",
              "      }\n",
              "\n",
              "      [theme=dark] .colab-df-generate {\n",
              "        background-color: #3B4455;\n",
              "        fill: #D2E3FC;\n",
              "      }\n",
              "\n",
              "      [theme=dark] .colab-df-generate:hover {\n",
              "        background-color: #434B5C;\n",
              "        box-shadow: 0px 1px 3px 1px rgba(0, 0, 0, 0.15);\n",
              "        filter: drop-shadow(0px 1px 2px rgba(0, 0, 0, 0.3));\n",
              "        fill: #FFFFFF;\n",
              "      }\n",
              "    </style>\n",
              "    <button class=\"colab-df-generate\" onclick=\"generateWithVariable('grouped_data')\"\n",
              "            title=\"Generate code using this dataframe.\"\n",
              "            style=\"display:none;\">\n",
              "\n",
              "  <svg xmlns=\"http://www.w3.org/2000/svg\" height=\"24px\"viewBox=\"0 0 24 24\"\n",
              "       width=\"24px\">\n",
              "    <path d=\"M7,19H8.4L18.45,9,17,7.55,7,17.6ZM5,21V16.75L18.45,3.32a2,2,0,0,1,2.83,0l1.4,1.43a1.91,1.91,0,0,1,.58,1.4,1.91,1.91,0,0,1-.58,1.4L9.25,21ZM18.45,9,17,7.55Zm-12,3A5.31,5.31,0,0,0,4.9,8.1,5.31,5.31,0,0,0,1,6.5,5.31,5.31,0,0,0,4.9,4.9,5.31,5.31,0,0,0,6.5,1,5.31,5.31,0,0,0,8.1,4.9,5.31,5.31,0,0,0,12,6.5,5.46,5.46,0,0,0,6.5,12Z\"/>\n",
              "  </svg>\n",
              "    </button>\n",
              "    <script>\n",
              "      (() => {\n",
              "      const buttonEl =\n",
              "        document.querySelector('#id_20ba303a-3cf7-4156-a3b2-5d15f70a6a19 button.colab-df-generate');\n",
              "      buttonEl.style.display =\n",
              "        google.colab.kernel.accessAllowed ? 'block' : 'none';\n",
              "\n",
              "      buttonEl.onclick = () => {\n",
              "        google.colab.notebook.generateWithVariable('grouped_data');\n",
              "      }\n",
              "      })();\n",
              "    </script>\n",
              "  </div>\n",
              "\n",
              "    </div>\n",
              "  </div>\n"
            ],
            "application/vnd.google.colaboratory.intrinsic+json": {
              "type": "dataframe",
              "variable_name": "grouped_data"
            }
          },
          "metadata": {},
          "execution_count": 72
        }
      ],
      "source": [
        "grouped_data"
      ]
    },
    {
      "cell_type": "code",
      "execution_count": 73,
      "metadata": {
        "id": "Hjq2RIDqy57W"
      },
      "outputs": [],
      "source": [
        "merged_data['target'] = merged_data['id'].map(grouped_data.set_index('original_order_id')['target']).combine_first(merged_data['target']).astype(int)"
      ]
    },
    {
      "cell_type": "code",
      "execution_count": 74,
      "metadata": {
        "colab": {
          "base_uri": "https://localhost:8080/"
        },
        "id": "-IBQT8pFy57W",
        "outputId": "ea02eaa7-ce7e-4d90-dab1-eeaaeac10aab"
      },
      "outputs": [
        {
          "output_type": "stream",
          "name": "stdout",
          "text": [
            "<class 'pandas.core.frame.DataFrame'>\n",
            "Int64Index: 1190958 entries, 0 to 1190957\n",
            "Data columns (total 39 columns):\n",
            " #   Column                   Non-Null Count    Dtype  \n",
            "---  ------                   --------------    -----  \n",
            " 0   id                       1190958 non-null  int32  \n",
            " 1   subject_id               1190958 non-null  int64  \n",
            " 2   lesson_price             1190958 non-null  int32  \n",
            " 3   lesson_duration_x        1190958 non-null  int32  \n",
            " 4   home_metro_id            1190958 non-null  int64  \n",
            " 5   status_id_x              1190958 non-null  int32  \n",
            " 6   planned_lesson_number    1190958 non-null  int32  \n",
            " 7   pupil_category_new_id    1190958 non-null  int64  \n",
            " 8   lessons_per_week         1190958 non-null  int32  \n",
            " 9   minimal_price            1190958 non-null  int32  \n",
            " 10  teacher_sex              1190958 non-null  int32  \n",
            " 11  teacher_experience_from  1190958 non-null  int32  \n",
            " 12  teacher_experience_to    1190958 non-null  int32  \n",
            " 13  lesson_place_new         1190958 non-null  int32  \n",
            " 14  pupil_knowledgelvl       1190958 non-null  int32  \n",
            " 15  teacher_age_from         1190958 non-null  int32  \n",
            " 16  teacher_age_to           1190958 non-null  int32  \n",
            " 17  chosen_teachers_only     1190958 non-null  int8   \n",
            " 18  no_teachers_available    1190958 non-null  int8   \n",
            " 19  source_id                1190958 non-null  int32  \n",
            " 20  original_order_id        1190958 non-null  int64  \n",
            " 21  client_id                1190958 non-null  int32  \n",
            " 22  max_metro_distance       1190958 non-null  float32\n",
            " 23  is_display_to_teachers   1190958 non-null  int8   \n",
            " 24  learning_stage           1190958 non-null  int64  \n",
            " 25  order_month              1190958 non-null  int64  \n",
            " 26  order_wd                 1190958 non-null  int64  \n",
            " 27  add_info_is              1190958 non-null  int64  \n",
            " 28  order_maker              1190958 non-null  int64  \n",
            " 29  is_home_lessons          1190958 non-null  int64  \n",
            " 30  lesson_duration_y        1190958 non-null  int64  \n",
            " 31  status_id_y              1190958 non-null  int64  \n",
            " 32  sex                      1190958 non-null  int64  \n",
            " 33  enable_assign            1190958 non-null  int64  \n",
            " 34  is_external_lessons      1190958 non-null  int64  \n",
            " 35  is_remote_lessons        1190958 non-null  int64  \n",
            " 36  lesson_cost              1190958 non-null  float64\n",
            " 37  rating                   1190958 non-null  int64  \n",
            " 38  target                   1190958 non-null  int64  \n",
            "dtypes: float32(1), float64(1), int32(16), int64(18), int8(3)\n",
            "memory usage: 262.4 MB\n"
          ]
        }
      ],
      "source": [
        "merged_data.info()"
      ]
    },
    {
      "cell_type": "markdown",
      "source": [
        "Сохраним наш предобработанный датасет в новую переменную для удобства и удалим столбцы, которые уже не несут для нас ценности."
      ],
      "metadata": {
        "id": "RLHMZGSeee37"
      }
    },
    {
      "cell_type": "code",
      "execution_count": 75,
      "metadata": {
        "id": "OL_HVDfNy57X"
      },
      "outputs": [],
      "source": [
        "data = merged_data.drop(columns = ['id','client_id'])"
      ]
    },
    {
      "cell_type": "markdown",
      "source": [
        "## Анализ данных"
      ],
      "metadata": {
        "id": "c9QlgtaSeps2"
      }
    },
    {
      "cell_type": "markdown",
      "source": [
        "Проведем анализ наших данных, чтобы убрать некорректные значения или заменить их. Для этого используем библиотеку, которая составит нам отчет об имеющихся в таблице данных."
      ],
      "metadata": {
        "id": "6FWw7T08fJAK"
      }
    },
    {
      "cell_type": "code",
      "execution_count": 76,
      "metadata": {
        "colab": {
          "base_uri": "https://localhost:8080/",
          "height": 321
        },
        "id": "yyHCVnz7y57X",
        "outputId": "6f2c2ffa-47b3-448b-c5f5-c6d71a44f20c"
      },
      "outputs": [
        {
          "output_type": "error",
          "ename": "TypeCheckError",
          "evalue": "argument \"config_file\" (None) did not match any element in the union:\n  pathlib.Path: is not an instance of pathlib.Path\n  str: is not an instance of str",
          "traceback": [
            "\u001b[0;31m---------------------------------------------------------------------------\u001b[0m",
            "\u001b[0;31mTypeCheckError\u001b[0m                            Traceback (most recent call last)",
            "\u001b[0;32m<ipython-input-76-7e92257ce716>\u001b[0m in \u001b[0;36m<cell line: 1>\u001b[0;34m()\u001b[0m\n\u001b[0;32m----> 1\u001b[0;31m \u001b[0mpandas_profiling\u001b[0m\u001b[0;34m.\u001b[0m\u001b[0mProfileReport\u001b[0m\u001b[0;34m(\u001b[0m\u001b[0mdata\u001b[0m\u001b[0;34m)\u001b[0m\u001b[0;34m\u001b[0m\u001b[0;34m\u001b[0m\u001b[0m\n\u001b[0m",
            "\u001b[0;32m/usr/local/lib/python3.10/dist-packages/pandas_profiling/profile_report.py\u001b[0m in \u001b[0;36m__init__\u001b[0;34m(self, df, minimal, explorative, sensitive, dark_mode, orange_mode, tsmode, sortby, sample, config_file, lazy, typeset, summarizer, config, **kwargs)\u001b[0m\n\u001b[1;32m     46\u001b[0m     \u001b[0mconfig\u001b[0m\u001b[0;34m:\u001b[0m \u001b[0mSettings\u001b[0m\u001b[0;34m\u001b[0m\u001b[0;34m\u001b[0m\u001b[0m\n\u001b[1;32m     47\u001b[0m \u001b[0;34m\u001b[0m\u001b[0m\n\u001b[0;32m---> 48\u001b[0;31m     def __init__(\n\u001b[0m\u001b[1;32m     49\u001b[0m         \u001b[0mself\u001b[0m\u001b[0;34m,\u001b[0m\u001b[0;34m\u001b[0m\u001b[0;34m\u001b[0m\u001b[0m\n\u001b[1;32m     50\u001b[0m         \u001b[0mdf\u001b[0m\u001b[0;34m:\u001b[0m \u001b[0mOptional\u001b[0m\u001b[0;34m[\u001b[0m\u001b[0mpd\u001b[0m\u001b[0;34m.\u001b[0m\u001b[0mDataFrame\u001b[0m\u001b[0;34m]\u001b[0m \u001b[0;34m=\u001b[0m \u001b[0;32mNone\u001b[0m\u001b[0;34m,\u001b[0m\u001b[0;34m\u001b[0m\u001b[0;34m\u001b[0m\u001b[0m\n",
            "\u001b[0;32m/usr/local/lib/python3.10/dist-packages/typeguard/_functions.py\u001b[0m in \u001b[0;36mcheck_argument_types\u001b[0;34m(func_name, arguments, memo)\u001b[0m\n\u001b[1;32m    136\u001b[0m \u001b[0;34m\u001b[0m\u001b[0m\n\u001b[1;32m    137\u001b[0m         \u001b[0;32mtry\u001b[0m\u001b[0;34m:\u001b[0m\u001b[0;34m\u001b[0m\u001b[0;34m\u001b[0m\u001b[0m\n\u001b[0;32m--> 138\u001b[0;31m             \u001b[0mcheck_type_internal\u001b[0m\u001b[0;34m(\u001b[0m\u001b[0mvalue\u001b[0m\u001b[0;34m,\u001b[0m \u001b[0mannotation\u001b[0m\u001b[0;34m,\u001b[0m \u001b[0mmemo\u001b[0m\u001b[0;34m)\u001b[0m\u001b[0;34m\u001b[0m\u001b[0;34m\u001b[0m\u001b[0m\n\u001b[0m\u001b[1;32m    139\u001b[0m         \u001b[0;32mexcept\u001b[0m \u001b[0mTypeCheckError\u001b[0m \u001b[0;32mas\u001b[0m \u001b[0mexc\u001b[0m\u001b[0;34m:\u001b[0m\u001b[0;34m\u001b[0m\u001b[0;34m\u001b[0m\u001b[0m\n\u001b[1;32m    140\u001b[0m             \u001b[0mqualname\u001b[0m \u001b[0;34m=\u001b[0m \u001b[0mqualified_name\u001b[0m\u001b[0;34m(\u001b[0m\u001b[0mvalue\u001b[0m\u001b[0;34m,\u001b[0m \u001b[0madd_class_prefix\u001b[0m\u001b[0;34m=\u001b[0m\u001b[0;32mTrue\u001b[0m\u001b[0;34m)\u001b[0m\u001b[0;34m\u001b[0m\u001b[0;34m\u001b[0m\u001b[0m\n",
            "\u001b[0;32m/usr/local/lib/python3.10/dist-packages/typeguard/_checkers.py\u001b[0m in \u001b[0;36mcheck_type_internal\u001b[0;34m(value, annotation, memo)\u001b[0m\n\u001b[1;32m    757\u001b[0m         \u001b[0mchecker\u001b[0m \u001b[0;34m=\u001b[0m \u001b[0mlookup_func\u001b[0m\u001b[0;34m(\u001b[0m\u001b[0morigin_type\u001b[0m\u001b[0;34m,\u001b[0m \u001b[0margs\u001b[0m\u001b[0;34m,\u001b[0m \u001b[0mextras\u001b[0m\u001b[0;34m)\u001b[0m\u001b[0;34m\u001b[0m\u001b[0;34m\u001b[0m\u001b[0m\n\u001b[1;32m    758\u001b[0m         \u001b[0;32mif\u001b[0m \u001b[0mchecker\u001b[0m\u001b[0;34m:\u001b[0m\u001b[0;34m\u001b[0m\u001b[0;34m\u001b[0m\u001b[0m\n\u001b[0;32m--> 759\u001b[0;31m             \u001b[0mchecker\u001b[0m\u001b[0;34m(\u001b[0m\u001b[0mvalue\u001b[0m\u001b[0;34m,\u001b[0m \u001b[0morigin_type\u001b[0m\u001b[0;34m,\u001b[0m \u001b[0margs\u001b[0m\u001b[0;34m,\u001b[0m \u001b[0mmemo\u001b[0m\u001b[0;34m)\u001b[0m\u001b[0;34m\u001b[0m\u001b[0;34m\u001b[0m\u001b[0m\n\u001b[0m\u001b[1;32m    760\u001b[0m             \u001b[0;32mreturn\u001b[0m\u001b[0;34m\u001b[0m\u001b[0;34m\u001b[0m\u001b[0m\n\u001b[1;32m    761\u001b[0m \u001b[0;34m\u001b[0m\u001b[0m\n",
            "\u001b[0;32m/usr/local/lib/python3.10/dist-packages/typeguard/_checkers.py\u001b[0m in \u001b[0;36mcheck_union\u001b[0;34m(value, origin_type, args, memo)\u001b[0m\n\u001b[1;32m    406\u001b[0m         \u001b[0;34m\"\\n\"\u001b[0m\u001b[0;34m.\u001b[0m\u001b[0mjoin\u001b[0m\u001b[0;34m(\u001b[0m\u001b[0;34mf\"{key}: {error}\"\u001b[0m \u001b[0;32mfor\u001b[0m \u001b[0mkey\u001b[0m\u001b[0;34m,\u001b[0m \u001b[0merror\u001b[0m \u001b[0;32min\u001b[0m \u001b[0merrors\u001b[0m\u001b[0;34m.\u001b[0m\u001b[0mitems\u001b[0m\u001b[0;34m(\u001b[0m\u001b[0;34m)\u001b[0m\u001b[0;34m)\u001b[0m\u001b[0;34m,\u001b[0m \u001b[0;34m\"  \"\u001b[0m\u001b[0;34m\u001b[0m\u001b[0;34m\u001b[0m\u001b[0m\n\u001b[1;32m    407\u001b[0m     )\n\u001b[0;32m--> 408\u001b[0;31m     \u001b[0;32mraise\u001b[0m \u001b[0mTypeCheckError\u001b[0m\u001b[0;34m(\u001b[0m\u001b[0;34mf\"did not match any element in the union:\\n{formatted_errors}\"\u001b[0m\u001b[0;34m)\u001b[0m\u001b[0;34m\u001b[0m\u001b[0;34m\u001b[0m\u001b[0m\n\u001b[0m\u001b[1;32m    409\u001b[0m \u001b[0;34m\u001b[0m\u001b[0m\n\u001b[1;32m    410\u001b[0m \u001b[0;34m\u001b[0m\u001b[0m\n",
            "\u001b[0;31mTypeCheckError\u001b[0m: argument \"config_file\" (None) did not match any element in the union:\n  pathlib.Path: is not an instance of pathlib.Path\n  str: is not an instance of str"
          ]
        }
      ],
      "source": [
        "pandas_profiling.ProfileReport(data)"
      ]
    },
    {
      "cell_type": "markdown",
      "source": [
        "Первое, что мне хотелось бы сделать после изучения отчета, так это избавиться от высокой корреляции между некоторыми параметрами. Поэтому удалим несколько столбцов, которые имеют достаточно высокую корреляцию с 5-8 другими столбцами"
      ],
      "metadata": {
        "id": "P6a3nE6afP47"
      }
    },
    {
      "cell_type": "code",
      "execution_count": 77,
      "metadata": {
        "id": "9uT_G2Jey57X"
      },
      "outputs": [],
      "source": [
        "data = data.drop(columns = ['add_info_is','is_remote_lessons','is_home_lessons','is_external_lessons','lesson_duration_y'])"
      ]
    },
    {
      "cell_type": "markdown",
      "source": [
        "Мы можем заметить выбивающиеся из общей массы значения стоимости уроков. Изучив данные, посмотрим сколько заявок имеют стоимость уроков более 2500"
      ],
      "metadata": {
        "id": "lvWxWVEBfmIE"
      }
    },
    {
      "cell_type": "code",
      "execution_count": 78,
      "metadata": {
        "colab": {
          "base_uri": "https://localhost:8080/"
        },
        "id": "xD2PmMody57X",
        "outputId": "b1955632-b618-4a17-f0af-e63e1648b026"
      },
      "outputs": [
        {
          "output_type": "execute_result",
          "data": {
            "text/plain": [
              "43718"
            ]
          },
          "metadata": {},
          "execution_count": 78
        }
      ],
      "source": [
        "data[data['lesson_price'] > 2500]['lesson_price'] .count()"
      ]
    },
    {
      "cell_type": "markdown",
      "source": [
        "Цифра не такая большая, тем не менее, заменим средним значением все значения стоимости урока превышающего 2500р и меньше 500р."
      ],
      "metadata": {
        "id": "C7huISQXf6UL"
      }
    },
    {
      "cell_type": "code",
      "execution_count": 79,
      "metadata": {
        "id": "H0B3iSuuy57Y"
      },
      "outputs": [],
      "source": [
        "data.loc[data['lesson_price'] > 2500, 'lesson_price'] = data['lesson_price'].mean()\n",
        "data.loc[(data['lesson_price'] < 500) & (data['lesson_price'] > 0), 'lesson_price'] = data['lesson_price'].mean()"
      ]
    },
    {
      "cell_type": "markdown",
      "source": [
        "Аналогичная ситуация и с минимальной ценой урока, мы снова видим неадекватные значения. Заменим их самыми популярными значениями в своих ценовых диаппазонах"
      ],
      "metadata": {
        "id": "i0JMCM-5gORD"
      }
    },
    {
      "cell_type": "code",
      "execution_count": 80,
      "metadata": {
        "id": "oyjN5DIQy57Y"
      },
      "outputs": [],
      "source": [
        "data.loc[data['minimal_price'] > 5000, 'minimal_price'] = 2000\n",
        "data.loc[(data['minimal_price'] < 500) & (data['minimal_price'] > 0), 'minimal_price'] = 1000"
      ]
    },
    {
      "cell_type": "markdown",
      "source": [
        "Изучив данные, мы видим, что опыт преподавателя в основном не более 70 лет, поэтому заменяем все значения выше этой цифры на нее же"
      ],
      "metadata": {
        "id": "i1xOaS2ygiyy"
      }
    },
    {
      "cell_type": "code",
      "execution_count": 81,
      "metadata": {
        "id": "3W_iL5bLy57Y"
      },
      "outputs": [],
      "source": [
        "data.loc[data['teacher_experience_to'] > 70, 'teacher_experience_to'] = 70"
      ]
    },
    {
      "cell_type": "markdown",
      "source": [
        "Тут в данных мы обнаруживаем отрицательные значения, чего быть не должно. Может опечатка, может сбой при выгрузке, может при группировке или объединении. Убираем минусы и заполняем неадекватне значения возраста учителя рандомными значениями в пределах нормы."
      ],
      "metadata": {
        "id": "Sz-g43ejgt46"
      }
    },
    {
      "cell_type": "code",
      "execution_count": 82,
      "metadata": {
        "id": "MC7Nm6JJy57Y"
      },
      "outputs": [],
      "source": [
        "data['teacher_age_from'] = data['teacher_age_from'].abs()\n",
        "data.loc[data['teacher_age_from'] > 50, 'teacher_age_from'] = np.random.randint(18, 36, size=sum(data['teacher_age_from'] > 50))\n",
        "data.loc[(data['teacher_age_from'] < 18) & (data['teacher_age_from'] > 0), 'teacher_age_from'] = np.random.randint(18, 36,\\\n",
        "     size=sum((data['teacher_age_from'] < 18) & (data['teacher_age_from'] > 0)))"
      ]
    },
    {
      "cell_type": "markdown",
      "source": [
        "Аналогично делаем и с верхним порогом возраста преподавателя. Далее по такой же логике заменяем неадекватные значения в столбцах с максимальной удаленностью от метро, стоимостью уроков и рейтингом учителей"
      ],
      "metadata": {
        "id": "msvJs28hhMnM"
      }
    },
    {
      "cell_type": "code",
      "execution_count": 83,
      "metadata": {
        "id": "oXB4si-my57Z"
      },
      "outputs": [],
      "source": [
        "data['teacher_age_to'] = data['teacher_age_to'].abs()\n",
        "data.loc[data['teacher_age_to'] > 90, 'teacher_age_to'] = np.random.randint(25, 91, size=sum(data['teacher_age_to'] > 90))\n",
        "data.loc[(data['teacher_age_to'] < 25) & (data['teacher_age_to'] > 0), 'teacher_age_to'] = np.random.randint(25, 91,\\\n",
        "     size=sum((data['teacher_age_to'] < 25) & (data['teacher_age_to'] > 0)))"
      ]
    },
    {
      "cell_type": "code",
      "execution_count": 84,
      "metadata": {
        "id": "HjVYKv_4y57Z"
      },
      "outputs": [],
      "source": [
        "data.loc[data['max_metro_distance'] > 120, 'max_metro_distance'] = np.random.randint(5, 121, size=sum(data['max_metro_distance'] > 120))\n",
        "data.loc[(data['max_metro_distance'] < 5) & (data['max_metro_distance'] > 0), 'max_metro_distance'] = np.random.randint(5, 51,\\\n",
        "     size=sum((data['max_metro_distance'] < 5) & (data['max_metro_distance'] > 0)))"
      ]
    },
    {
      "cell_type": "code",
      "execution_count": 85,
      "metadata": {
        "id": "BLWaScw8y57Z"
      },
      "outputs": [],
      "source": [
        "data.loc[data['lesson_cost'] > 6000, 'lesson_cost'] = np.random.randint(1500, 6001, size=sum(data['lesson_cost'] > 6000))\n",
        "data.loc[(data['lesson_cost'] < 300) & (data['lesson_cost'] > 0), 'lesson_cost'] = np.random.randint(300, 1501,\\\n",
        "     size=sum((data['lesson_cost'] < 300) & (data['lesson_cost'] > 0)))"
      ]
    },
    {
      "cell_type": "code",
      "execution_count": 86,
      "metadata": {
        "id": "FgC4UYLLy57Z"
      },
      "outputs": [],
      "source": [
        "data.loc[data['rating'] < 0, 'rating'] = np.random.randint(1, 6, size=sum(data['rating'] < 0))"
      ]
    },
    {
      "cell_type": "markdown",
      "source": [
        "Так как в наших данных присутствуют заявки-дубли, это может помешать нашей модели корректно обучиться, поэтому выделим в отдельные переменные начальные заявки и заявки-дубли. Удаляем столбцы со статусами и индетефикаторами, которые больше нам не понадобятся."
      ],
      "metadata": {
        "id": "a-s4TN8yhlii"
      }
    },
    {
      "cell_type": "code",
      "execution_count": 89,
      "metadata": {
        "id": "Ho2_5u-Wy57a"
      },
      "outputs": [],
      "source": [
        "data_duplicates = data[data['original_order_id'] != 0]\n",
        "data_orig = data[data['original_order_id'] == 0]"
      ]
    },
    {
      "cell_type": "code",
      "execution_count": 90,
      "metadata": {
        "id": "QeWyY3byy57a"
      },
      "outputs": [],
      "source": [
        "data_orig = data_orig.drop(columns = ['original_order_id'])\n",
        "data_duplicates = data_duplicates.drop(columns = ['original_order_id'])"
      ]
    },
    {
      "cell_type": "code",
      "execution_count": 91,
      "metadata": {
        "id": "V3St7VeKy57a"
      },
      "outputs": [],
      "source": [
        "data_target = data_orig['target']\n",
        "data_features = data_orig.drop(columns = ['target','status_id_x'])"
      ]
    },
    {
      "cell_type": "markdown",
      "source": [
        "## Обучение моделей"
      ],
      "metadata": {
        "id": "MnuCoOzGiDXM"
      }
    },
    {
      "cell_type": "markdown",
      "source": [
        "Перед тем как начать обучать модель или разделить данные на выборки, стандартизируем данные, которые есть в нашей таблице."
      ],
      "metadata": {
        "id": "Mo4haXhmiIkr"
      }
    },
    {
      "cell_type": "code",
      "execution_count": 92,
      "metadata": {
        "id": "ww_YWNF2y57b"
      },
      "outputs": [],
      "source": [
        "scaler = StandardScaler()\n",
        "data_features = scaler.fit_transform(data_features)\n",
        "data_features = pd.DataFrame(data_features, columns=data_orig.drop(columns =['target','status_id_x']).columns)"
      ]
    },
    {
      "cell_type": "markdown",
      "source": [
        "Делим данные на тренировочную и тестовую выборки 80/20"
      ],
      "metadata": {
        "id": "6evhDUX3iSY5"
      }
    },
    {
      "cell_type": "code",
      "execution_count": 93,
      "metadata": {
        "id": "-4tpjully57b"
      },
      "outputs": [],
      "source": [
        "X_train, X_test, y_train, y_test = train_test_split(data_features, data_target, test_size=0.2, random_state=2345)"
      ]
    },
    {
      "cell_type": "markdown",
      "source": [
        "Для наилучшего подбора параметров будем использовать Optuna. А первой моделью у нас будет модель Случайного леса."
      ],
      "metadata": {
        "id": "zvz88jc-idMp"
      }
    },
    {
      "cell_type": "code",
      "execution_count": 95,
      "metadata": {
        "colab": {
          "base_uri": "https://localhost:8080/"
        },
        "id": "kLd8vYTby57b",
        "outputId": "602245b1-602e-4341-e9e6-309d61f3dacb"
      },
      "outputs": [
        {
          "output_type": "stream",
          "name": "stderr",
          "text": [
            "[I 2024-02-19 10:46:54,550] A new study created in memory with name: no-name-10a5221b-0921-4d20-9478-878d426740f7\n",
            "[I 2024-02-19 10:48:05,255] Trial 0 finished with value: 0.6780429934185594 and parameters: {'n_estimators': 411, 'max_depth': 10, 'min_samples_split': 0.4573827728956701, 'min_samples_leaf': 0.18556064708916745, 'max_features': 'sqrt'}. Best is trial 0 with value: 0.6780429934185594.\n",
            "[I 2024-02-19 10:48:15,628] Trial 1 finished with value: 0.5 and parameters: {'n_estimators': 159, 'max_depth': 12, 'min_samples_split': 0.4945318858206311, 'min_samples_leaf': 0.3393327684611196, 'max_features': 'auto', 'max_features_auto': 0.7327580782266591}. Best is trial 0 with value: 0.6780429934185594.\n",
            "[I 2024-02-19 10:48:51,981] Trial 2 finished with value: 0.6883480209129654 and parameters: {'n_estimators': 286, 'max_depth': 11, 'min_samples_split': 0.5538526598977126, 'min_samples_leaf': 0.10553896892932656, 'max_features': 'sqrt'}. Best is trial 2 with value: 0.6883480209129654.\n",
            "[I 2024-02-19 10:51:06,729] Trial 3 finished with value: 0.6600475196632828 and parameters: {'n_estimators': 440, 'max_depth': 14, 'min_samples_split': 0.5610943075930395, 'min_samples_leaf': 0.24504359793993225, 'max_features': 'auto', 'max_features_auto': 0.813717341107795}. Best is trial 2 with value: 0.6883480209129654.\n",
            "[I 2024-02-19 10:51:21,090] Trial 4 finished with value: 0.5 and parameters: {'n_estimators': 227, 'max_depth': 7, 'min_samples_split': 0.886098775729151, 'min_samples_leaf': 0.30430908578728877, 'max_features': 'auto', 'max_features_auto': 0.42250021243933644}. Best is trial 2 with value: 0.6883480209129654.\n",
            "[I 2024-02-19 10:52:06,068] Trial 5 finished with value: 0.6641556442143925 and parameters: {'n_estimators': 221, 'max_depth': 3, 'min_samples_split': 0.5902466951576775, 'min_samples_leaf': 0.19052647787701857, 'max_features': 'auto', 'max_features_auto': 0.4424194507045406}. Best is trial 2 with value: 0.6883480209129654.\n",
            "[I 2024-02-19 10:52:42,122] Trial 6 finished with value: 0.6809738749335024 and parameters: {'n_estimators': 302, 'max_depth': 8, 'min_samples_split': 0.48423367800525063, 'min_samples_leaf': 0.28528779803531723, 'max_features': 'sqrt'}. Best is trial 2 with value: 0.6883480209129654.\n",
            "[I 2024-02-19 10:52:50,900] Trial 7 finished with value: 0.5 and parameters: {'n_estimators': 117, 'max_depth': 15, 'min_samples_split': 0.3971560113979383, 'min_samples_leaf': 0.365052124694599, 'max_features': 'log2'}. Best is trial 2 with value: 0.6883480209129654.\n",
            "[I 2024-02-19 10:53:00,111] Trial 8 finished with value: 0.5 and parameters: {'n_estimators': 143, 'max_depth': 11, 'min_samples_split': 0.28069668770027734, 'min_samples_leaf': 0.33719054199917065, 'max_features': 'auto', 'max_features_auto': 0.8400397571743456}. Best is trial 2 with value: 0.6883480209129654.\n",
            "[I 2024-02-19 10:53:28,389] Trial 9 finished with value: 0.5 and parameters: {'n_estimators': 438, 'max_depth': 8, 'min_samples_split': 0.814617320751233, 'min_samples_leaf': 0.29717516053590554, 'max_features': 'log2'}. Best is trial 2 with value: 0.6883480209129654.\n",
            "[I 2024-02-19 10:53:49,489] Trial 10 finished with value: 0.5 and parameters: {'n_estimators': 340, 'max_depth': 5, 'min_samples_split': 0.10641832219679753, 'min_samples_leaf': 0.4707867280631952, 'max_features': 'sqrt'}. Best is trial 2 with value: 0.6883480209129654.\n",
            "[I 2024-02-19 10:54:09,808] Trial 11 finished with value: 0.5 and parameters: {'n_estimators': 306, 'max_depth': 8, 'min_samples_split': 0.7049033954467199, 'min_samples_leaf': 0.12212768728108336, 'max_features': 'sqrt'}. Best is trial 2 with value: 0.6883480209129654.\n",
            "[I 2024-02-19 10:54:31,558] Trial 12 finished with value: 0.5 and parameters: {'n_estimators': 350, 'max_depth': 12, 'min_samples_split': 0.9982752281864392, 'min_samples_leaf': 0.4518567324865611, 'max_features': 'sqrt'}. Best is trial 2 with value: 0.6883480209129654.\n",
            "[I 2024-02-19 10:55:23,560] Trial 13 finished with value: 0.7211145704614383 and parameters: {'n_estimators': 248, 'max_depth': 6, 'min_samples_split': 0.274776353744725, 'min_samples_leaf': 0.10058026426778993, 'max_features': 'sqrt'}. Best is trial 13 with value: 0.7211145704614383.\n",
            "[I 2024-02-19 10:56:11,928] Trial 14 finished with value: 0.7193861008936474 and parameters: {'n_estimators': 226, 'max_depth': 5, 'min_samples_split': 0.23232765142512962, 'min_samples_leaf': 0.11715560716183475, 'max_features': 'sqrt'}. Best is trial 13 with value: 0.7211145704614383.\n",
            "[I 2024-02-19 10:56:47,649] Trial 15 finished with value: 0.709039039336279 and parameters: {'n_estimators': 206, 'max_depth': 5, 'min_samples_split': 0.17910208361974256, 'min_samples_leaf': 0.16313144220618014, 'max_features': 'sqrt'}. Best is trial 13 with value: 0.7211145704614383.\n",
            "[I 2024-02-19 10:56:55,104] Trial 16 finished with value: 0.6776597330480358 and parameters: {'n_estimators': 70, 'max_depth': 3, 'min_samples_split': 0.29660139427380966, 'min_samples_leaf': 0.228210481967603, 'max_features': 'log2'}. Best is trial 13 with value: 0.7211145704614383.\n",
            "[I 2024-02-19 10:58:25,266] Trial 17 finished with value: 0.7156685870123178 and parameters: {'n_estimators': 491, 'max_depth': 5, 'min_samples_split': 0.2939621909603004, 'min_samples_leaf': 0.14829586478345663, 'max_features': 'sqrt'}. Best is trial 13 with value: 0.7211145704614383.\n",
            "[I 2024-02-19 10:59:17,950] Trial 18 finished with value: 0.7194717300482384 and parameters: {'n_estimators': 243, 'max_depth': 6, 'min_samples_split': 0.19240465542033458, 'min_samples_leaf': 0.10859620022979553, 'max_features': 'sqrt'}. Best is trial 13 with value: 0.7211145704614383.\n",
            "[I 2024-02-19 10:59:42,029] Trial 19 finished with value: 0.5 and parameters: {'n_estimators': 374, 'max_depth': 6, 'min_samples_split': 0.13805165754782842, 'min_samples_leaf': 0.4004667363788928, 'max_features': 'sqrt'}. Best is trial 13 with value: 0.7211145704614383.\n",
            "[I 2024-02-19 11:00:01,169] Trial 20 finished with value: 0.6859975363741875 and parameters: {'n_estimators': 170, 'max_depth': 7, 'min_samples_split': 0.3799568927658564, 'min_samples_leaf': 0.23585689257437298, 'max_features': 'log2'}. Best is trial 13 with value: 0.7211145704614383.\n",
            "[I 2024-02-19 11:00:54,093] Trial 21 finished with value: 0.7164391559131957 and parameters: {'n_estimators': 251, 'max_depth': 4, 'min_samples_split': 0.21503117141771808, 'min_samples_leaf': 0.1325742750657171, 'max_features': 'sqrt'}. Best is trial 13 with value: 0.7211145704614383.\n",
            "[I 2024-02-19 11:01:57,960] Trial 22 finished with value: 0.7202056416569413 and parameters: {'n_estimators': 260, 'max_depth': 6, 'min_samples_split': 0.2452056531524082, 'min_samples_leaf': 0.10414093146408317, 'max_features': 'sqrt'}. Best is trial 13 with value: 0.7211145704614383.\n",
            "[I 2024-02-19 11:02:34,335] Trial 23 finished with value: 0.6909527100015729 and parameters: {'n_estimators': 191, 'max_depth': 6, 'min_samples_split': 0.3554785140100913, 'min_samples_leaf': 0.1862359473425354, 'max_features': 'sqrt'}. Best is trial 13 with value: 0.7211145704614383.\n",
            "[I 2024-02-19 11:03:46,157] Trial 24 finished with value: 0.7200456983077516 and parameters: {'n_estimators': 263, 'max_depth': 9, 'min_samples_split': 0.19727599023894665, 'min_samples_leaf': 0.10137022370351136, 'max_features': 'sqrt'}. Best is trial 13 with value: 0.7211145704614383.\n",
            "[I 2024-02-19 11:04:41,114] Trial 25 finished with value: 0.7124749343210155 and parameters: {'n_estimators': 269, 'max_depth': 9, 'min_samples_split': 0.324925877151229, 'min_samples_leaf': 0.16000187963939794, 'max_features': 'sqrt'}. Best is trial 13 with value: 0.7211145704614383.\n",
            "[I 2024-02-19 11:06:20,865] Trial 26 finished with value: 0.7204693789011782 and parameters: {'n_estimators': 322, 'max_depth': 9, 'min_samples_split': 0.1138450757113518, 'min_samples_leaf': 0.10140464577025701, 'max_features': 'sqrt'}. Best is trial 13 with value: 0.7211145704614383.\n",
            "[I 2024-02-19 11:07:19,561] Trial 27 finished with value: 0.682780882893701 and parameters: {'n_estimators': 327, 'max_depth': 7, 'min_samples_split': 0.12672299366885809, 'min_samples_leaf': 0.20902951311417048, 'max_features': 'sqrt'}. Best is trial 13 with value: 0.7211145704614383.\n",
            "[I 2024-02-19 11:07:49,470] Trial 28 finished with value: 0.5 and parameters: {'n_estimators': 367, 'max_depth': 10, 'min_samples_split': 0.6607287257480932, 'min_samples_leaf': 0.14648760591104815, 'max_features': 'log2'}. Best is trial 13 with value: 0.7211145704614383.\n",
            "[I 2024-02-19 11:08:57,425] Trial 29 finished with value: 0.7041908913281754 and parameters: {'n_estimators': 377, 'max_depth': 4, 'min_samples_split': 0.450873382011298, 'min_samples_leaf': 0.17313826413315253, 'max_features': 'sqrt'}. Best is trial 13 with value: 0.7211145704614383.\n",
            "[I 2024-02-19 11:09:53,379] Trial 30 finished with value: 0.6871978527557318 and parameters: {'n_estimators': 402, 'max_depth': 10, 'min_samples_split': 0.23895512426428497, 'min_samples_leaf': 0.26130146948681016, 'max_features': 'sqrt'}. Best is trial 13 with value: 0.7211145704614383.\n",
            "[I 2024-02-19 11:10:56,972] Trial 31 finished with value: 0.716783416734878 and parameters: {'n_estimators': 259, 'max_depth': 9, 'min_samples_split': 0.17187857437132273, 'min_samples_leaf': 0.13116234524393275, 'max_features': 'sqrt'}. Best is trial 13 with value: 0.7211145704614383.\n",
            "[I 2024-02-19 11:12:07,604] Trial 32 finished with value: 0.7207127985080635 and parameters: {'n_estimators': 295, 'max_depth': 9, 'min_samples_split': 0.25618155801538645, 'min_samples_leaf': 0.10432033839923259, 'max_features': 'sqrt'}. Best is trial 13 with value: 0.7211145704614383.\n",
            "[I 2024-02-19 11:13:10,930] Trial 33 finished with value: 0.7169274985864555 and parameters: {'n_estimators': 317, 'max_depth': 11, 'min_samples_split': 0.26304865426287594, 'min_samples_leaf': 0.13795461756990132, 'max_features': 'sqrt'}. Best is trial 13 with value: 0.7211145704614383.\n",
            "[I 2024-02-19 11:14:01,093] Trial 34 finished with value: 0.7149418532332306 and parameters: {'n_estimators': 288, 'max_depth': 13, 'min_samples_split': 0.41975413231005754, 'min_samples_leaf': 0.10294291917708272, 'max_features': 'sqrt'}. Best is trial 13 with value: 0.7211145704614383.\n",
            "[I 2024-02-19 11:14:33,612] Trial 35 finished with value: 0.6901281024370667 and parameters: {'n_estimators': 293, 'max_depth': 7, 'min_samples_split': 0.34281257939188464, 'min_samples_leaf': 0.20641756063031141, 'max_features': 'auto', 'max_features_auto': 0.12366286643362234}. Best is trial 13 with value: 0.7211145704614383.\n",
            "[I 2024-02-19 11:15:07,927] Trial 36 finished with value: 0.707773488037805 and parameters: {'n_estimators': 197, 'max_depth': 8, 'min_samples_split': 0.11089170442307585, 'min_samples_leaf': 0.16773236669366948, 'max_features': 'sqrt'}. Best is trial 13 with value: 0.7211145704614383.\n",
            "[I 2024-02-19 11:16:04,175] Trial 37 finished with value: 0.7224870955193574 and parameters: {'n_estimators': 274, 'max_depth': 11, 'min_samples_split': 0.15938684083285326, 'min_samples_leaf': 0.10080451199733573, 'max_features': 'auto', 'max_features_auto': 0.1430340721747287}. Best is trial 37 with value: 0.7224870955193574.\n",
            "[I 2024-02-19 11:16:39,808] Trial 38 finished with value: 0.6884896277657254 and parameters: {'n_estimators': 329, 'max_depth': 11, 'min_samples_split': 0.15284603014561213, 'min_samples_leaf': 0.20190419069328486, 'max_features': 'auto', 'max_features_auto': 0.11913889864643194}. Best is trial 37 with value: 0.7224870955193574.\n",
            "[I 2024-02-19 11:17:26,569] Trial 39 finished with value: 0.6876415017652238 and parameters: {'n_estimators': 284, 'max_depth': 12, 'min_samples_split': 0.4967149494658267, 'min_samples_leaf': 0.12607741289478813, 'max_features': 'auto', 'max_features_auto': 0.2783559016861104}. Best is trial 37 with value: 0.7224870955193574.\n",
            "[I 2024-02-19 11:20:21,845] Trial 40 finished with value: 0.7145214293424 and parameters: {'n_estimators': 400, 'max_depth': 13, 'min_samples_split': 0.1579850475650826, 'min_samples_leaf': 0.15029469046324925, 'max_features': 'auto', 'max_features_auto': 0.6164121752773181}. Best is trial 37 with value: 0.7224870955193574.\n",
            "[I 2024-02-19 11:21:33,999] Trial 41 finished with value: 0.7217816994463386 and parameters: {'n_estimators': 236, 'max_depth': 10, 'min_samples_split': 0.2560597989002035, 'min_samples_leaf': 0.1015353572352174, 'max_features': 'auto', 'max_features_auto': 0.2867370731515945}. Best is trial 37 with value: 0.7224870955193574.\n",
            "[I 2024-02-19 11:22:26,668] Trial 42 finished with value: 0.7195131182421322 and parameters: {'n_estimators': 224, 'max_depth': 10, 'min_samples_split': 0.3164087407736856, 'min_samples_leaf': 0.12065610818512706, 'max_features': 'auto', 'max_features_auto': 0.2533290724121785}. Best is trial 37 with value: 0.7224870955193574.\n",
            "[I 2024-02-19 11:23:16,611] Trial 43 finished with value: 0.7190283469988269 and parameters: {'n_estimators': 168, 'max_depth': 12, 'min_samples_split': 0.2718415035304301, 'min_samples_leaf': 0.13854172620310132, 'max_features': 'auto', 'max_features_auto': 0.3196517289464089}. Best is trial 37 with value: 0.7224870955193574.\n",
            "[I 2024-02-19 11:27:21,273] Trial 44 finished with value: 0.7083299923783264 and parameters: {'n_estimators': 306, 'max_depth': 11, 'min_samples_split': 0.10410122432767299, 'min_samples_leaf': 0.1021827653928363, 'max_features': 'auto', 'max_features_auto': 0.9960567775480025}. Best is trial 37 with value: 0.7224870955193574.\n",
            "[I 2024-02-19 11:28:00,411] Trial 45 finished with value: 0.7025175654191597 and parameters: {'n_estimators': 240, 'max_depth': 10, 'min_samples_split': 0.2057841449928147, 'min_samples_leaf': 0.17882803176890283, 'max_features': 'auto', 'max_features_auto': 0.1951702445735128}. Best is trial 37 with value: 0.7224870955193574.\n",
            "[I 2024-02-19 11:28:59,886] Trial 46 finished with value: 0.6784785839327665 and parameters: {'n_estimators': 273, 'max_depth': 13, 'min_samples_split': 0.5148141025576645, 'min_samples_leaf': 0.12018946210164083, 'max_features': 'auto', 'max_features_auto': 0.42242519883948654}. Best is trial 37 with value: 0.7224870955193574.\n",
            "[I 2024-02-19 11:29:50,670] Trial 47 finished with value: 0.7141942910687655 and parameters: {'n_estimators': 138, 'max_depth': 9, 'min_samples_split': 0.4183365261778037, 'min_samples_leaf': 0.15614018006265418, 'max_features': 'auto', 'max_features_auto': 0.545411753376686}. Best is trial 37 with value: 0.7224870955193574.\n",
            "[I 2024-02-19 11:30:12,273] Trial 48 finished with value: 0.5 and parameters: {'n_estimators': 347, 'max_depth': 9, 'min_samples_split': 0.5804837842548966, 'min_samples_leaf': 0.32667732053722265, 'max_features': 'auto', 'max_features_auto': 0.3381262045644603}. Best is trial 37 with value: 0.7224870955193574.\n",
            "[I 2024-02-19 11:30:25,500] Trial 49 finished with value: 0.5 and parameters: {'n_estimators': 203, 'max_depth': 8, 'min_samples_split': 0.3646118723641795, 'min_samples_leaf': 0.402856486811496, 'max_features': 'log2'}. Best is trial 37 with value: 0.7224870955193574.\n",
            "[I 2024-02-19 11:30:45,931] Trial 50 finished with value: 0.5 and parameters: {'n_estimators': 308, 'max_depth': 14, 'min_samples_split': 0.7701886869069611, 'min_samples_leaf': 0.11907855612741808, 'max_features': 'auto', 'max_features_auto': 0.17718225066936166}. Best is trial 37 with value: 0.7224870955193574.\n",
            "[I 2024-02-19 11:31:46,165] Trial 51 finished with value: 0.7204734575108214 and parameters: {'n_estimators': 280, 'max_depth': 10, 'min_samples_split': 0.2602923017468071, 'min_samples_leaf': 0.10456538988612497, 'max_features': 'sqrt'}. Best is trial 37 with value: 0.7224870955193574.\n",
            "[I 2024-02-19 11:32:34,341] Trial 52 finished with value: 0.7160384213944462 and parameters: {'n_estimators': 236, 'max_depth': 10, 'min_samples_split': 0.2327627895680498, 'min_samples_leaf': 0.13727541897175674, 'max_features': 'sqrt'}. Best is trial 37 with value: 0.7224870955193574.\n",
            "[I 2024-02-19 11:33:32,841] Trial 53 finished with value: 0.7198712996237727 and parameters: {'n_estimators': 292, 'max_depth': 11, 'min_samples_split': 0.28508603179114783, 'min_samples_leaf': 0.11685002534640493, 'max_features': 'sqrt'}. Best is trial 37 with value: 0.7224870955193574.\n",
            "[I 2024-02-19 11:33:53,988] Trial 54 finished with value: 0.5 and parameters: {'n_estimators': 330, 'max_depth': 10, 'min_samples_split': 0.1792750648032176, 'min_samples_leaf': 0.4999351720321382, 'max_features': 'sqrt'}. Best is trial 37 with value: 0.7224870955193574.\n",
            "[I 2024-02-19 11:34:35,785] Trial 55 finished with value: 0.7210383574355669 and parameters: {'n_estimators': 183, 'max_depth': 12, 'min_samples_split': 0.2167069092841394, 'min_samples_leaf': 0.10124006693822607, 'max_features': 'sqrt'}. Best is trial 37 with value: 0.7224870955193574.\n",
            "[I 2024-02-19 11:34:49,973] Trial 56 finished with value: 0.7175558785197995 and parameters: {'n_estimators': 86, 'max_depth': 12, 'min_samples_split': 0.3058594163416575, 'min_samples_leaf': 0.14640281465765187, 'max_features': 'log2'}. Best is trial 37 with value: 0.7224870955193574.\n",
            "[I 2024-02-19 11:35:34,800] Trial 57 finished with value: 0.7197011458339595 and parameters: {'n_estimators': 207, 'max_depth': 14, 'min_samples_split': 0.25639418424195703, 'min_samples_leaf': 0.11807818120511308, 'max_features': 'sqrt'}. Best is trial 37 with value: 0.7224870955193574.\n",
            "[I 2024-02-19 11:35:57,150] Trial 58 finished with value: 0.6856042863241805 and parameters: {'n_estimators': 187, 'max_depth': 11, 'min_samples_split': 0.21520912304687442, 'min_samples_leaf': 0.2689308394556698, 'max_features': 'sqrt'}. Best is trial 37 with value: 0.7224870955193574.\n",
            "[I 2024-02-19 11:36:48,468] Trial 59 finished with value: 0.6858262526108656 and parameters: {'n_estimators': 145, 'max_depth': 12, 'min_samples_split': 0.39974904833942937, 'min_samples_leaf': 0.19093881407581403, 'max_features': 'auto', 'max_features_auto': 0.5707956483860509}. Best is trial 37 with value: 0.7224870955193574.\n",
            "[I 2024-02-19 11:36:57,461] Trial 60 finished with value: 0.6941452070273375 and parameters: {'n_estimators': 113, 'max_depth': 8, 'min_samples_split': 0.6325159029355955, 'min_samples_leaf': 0.16286731470391957, 'max_features': 'sqrt'}. Best is trial 37 with value: 0.7224870955193574.\n",
            "[I 2024-02-19 11:37:52,508] Trial 61 finished with value: 0.7194947129957353 and parameters: {'n_estimators': 248, 'max_depth': 9, 'min_samples_split': 0.1441391757799293, 'min_samples_leaf': 0.11009196254072406, 'max_features': 'sqrt'}. Best is trial 37 with value: 0.7224870955193574.\n",
            "[I 2024-02-19 11:38:55,640] Trial 62 finished with value: 0.7201815189824802 and parameters: {'n_estimators': 278, 'max_depth': 10, 'min_samples_split': 0.19028307944614364, 'min_samples_leaf': 0.10179813608765129, 'max_features': 'sqrt'}. Best is trial 37 with value: 0.7224870955193574.\n",
            "[I 2024-02-19 11:39:33,217] Trial 63 finished with value: 0.717219468754055 and parameters: {'n_estimators': 179, 'max_depth': 13, 'min_samples_split': 0.14010965603117131, 'min_samples_leaf': 0.13036970063018816, 'max_features': 'sqrt'}. Best is trial 37 with value: 0.7224870955193574.\n",
            "[I 2024-02-19 11:40:23,807] Trial 64 finished with value: 0.721664708650157 and parameters: {'n_estimators': 222, 'max_depth': 8, 'min_samples_split': 0.2264718586232563, 'min_samples_leaf': 0.10036434344770183, 'max_features': 'sqrt'}. Best is trial 37 with value: 0.7224870955193574.\n",
            "[I 2024-02-19 11:41:03,867] Trial 65 finished with value: 0.7180560894832368 and parameters: {'n_estimators': 215, 'max_depth': 7, 'min_samples_split': 0.3339185764884392, 'min_samples_leaf': 0.13155316837920422, 'max_features': 'sqrt'}. Best is trial 37 with value: 0.7224870955193574.\n",
            "[I 2024-02-19 11:41:52,518] Trial 66 finished with value: 0.7192124939047921 and parameters: {'n_estimators': 229, 'max_depth': 11, 'min_samples_split': 0.2273008632054765, 'min_samples_leaf': 0.11702910223773381, 'max_features': 'sqrt'}. Best is trial 37 with value: 0.7224870955193574.\n",
            "[I 2024-02-19 11:42:37,312] Trial 67 finished with value: 0.7169079812082371 and parameters: {'n_estimators': 265, 'max_depth': 8, 'min_samples_split': 0.2794775646287526, 'min_samples_leaf': 0.14592851645559232, 'max_features': 'log2'}. Best is trial 37 with value: 0.7224870955193574.\n",
            "[I 2024-02-19 11:42:53,206] Trial 68 finished with value: 0.5 and parameters: {'n_estimators': 250, 'max_depth': 4, 'min_samples_split': 0.903510377666781, 'min_samples_leaf': 0.10979123379937221, 'max_features': 'sqrt'}. Best is trial 37 with value: 0.7224870955193574.\n",
            "[I 2024-02-19 11:43:39,786] Trial 69 finished with value: 0.7168429580126595 and parameters: {'n_estimators': 221, 'max_depth': 9, 'min_samples_split': 0.24631525081000205, 'min_samples_leaf': 0.1290399443258207, 'max_features': 'sqrt'}. Best is trial 37 with value: 0.7224870955193574.\n",
            "[I 2024-02-19 11:43:54,980] Trial 70 finished with value: 0.5 and parameters: {'n_estimators': 237, 'max_depth': 6, 'min_samples_split': 0.3015484003291487, 'min_samples_leaf': 0.37498479740953566, 'max_features': 'sqrt'}. Best is trial 37 with value: 0.7224870955193574.\n",
            "[I 2024-02-19 11:45:06,060] Trial 71 finished with value: 0.7203350628753848 and parameters: {'n_estimators': 316, 'max_depth': 9, 'min_samples_split': 0.19888975010687251, 'min_samples_leaf': 0.10365735838883343, 'max_features': 'sqrt'}. Best is trial 37 with value: 0.7224870955193574.\n",
            "[I 2024-02-19 11:46:21,683] Trial 72 finished with value: 0.7207372095041862 and parameters: {'n_estimators': 275, 'max_depth': 10, 'min_samples_split': 0.17698032035573405, 'min_samples_leaf': 0.10068392560414256, 'max_features': 'sqrt'}. Best is trial 37 with value: 0.7224870955193574.\n",
            "[I 2024-02-19 11:47:32,465] Trial 73 finished with value: 0.7197281909767476 and parameters: {'n_estimators': 277, 'max_depth': 10, 'min_samples_split': 0.16793847604918394, 'min_samples_leaf': 0.11213042348379146, 'max_features': 'sqrt'}. Best is trial 37 with value: 0.7224870955193574.\n",
            "[I 2024-02-19 11:48:42,333] Trial 74 finished with value: 0.7161807609458182 and parameters: {'n_estimators': 258, 'max_depth': 11, 'min_samples_split': 0.2616357774779291, 'min_samples_leaf': 0.1382507780646975, 'max_features': 'sqrt'}. Best is trial 37 with value: 0.7224870955193574.\n",
            "[I 2024-02-19 11:49:44,119] Trial 75 finished with value: 0.714918938084144 and parameters: {'n_estimators': 210, 'max_depth': 10, 'min_samples_split': 0.21857466778016654, 'min_samples_leaf': 0.1553854396599051, 'max_features': 'sqrt'}. Best is trial 37 with value: 0.7224870955193574.\n",
            "[I 2024-02-19 11:51:23,524] Trial 76 finished with value: 0.7185619603055617 and parameters: {'n_estimators': 292, 'max_depth': 12, 'min_samples_split': 0.17357972844051286, 'min_samples_leaf': 0.123419231774723, 'max_features': 'auto', 'max_features_auto': 0.21581050434055937}. Best is trial 37 with value: 0.7224870955193574.\n",
            "[I 2024-02-19 11:52:41,295] Trial 77 finished with value: 0.7204066679882329 and parameters: {'n_estimators': 299, 'max_depth': 8, 'min_samples_split': 0.3315165582952381, 'min_samples_leaf': 0.11183690652073724, 'max_features': 'sqrt'}. Best is trial 37 with value: 0.7224870955193574.\n",
            "[I 2024-02-19 11:53:25,312] Trial 78 finished with value: 0.7151803221288131 and parameters: {'n_estimators': 152, 'max_depth': 5, 'min_samples_split': 0.24478693602371568, 'min_samples_leaf': 0.14274994888102138, 'max_features': 'sqrt'}. Best is trial 37 with value: 0.7224870955193574.\n",
            "[I 2024-02-19 11:55:47,988] Trial 79 finished with value: 0.7208842721069346 and parameters: {'n_estimators': 269, 'max_depth': 10, 'min_samples_split': 0.1254995594341749, 'min_samples_leaf': 0.10031069429625204, 'max_features': 'auto', 'max_features_auto': 0.3501680567975615}. Best is trial 37 with value: 0.7224870955193574.\n",
            "[I 2024-02-19 11:56:37,599] Trial 80 finished with value: 0.7137109440678595 and parameters: {'n_estimators': 183, 'max_depth': 11, 'min_samples_split': 0.10106552924580868, 'min_samples_leaf': 0.1723844966553293, 'max_features': 'auto', 'max_features_auto': 0.3585203411658996}. Best is trial 37 with value: 0.7224870955193574.\n",
            "[I 2024-02-19 11:57:14,838] Trial 81 finished with value: 0.7135380538390423 and parameters: {'n_estimators': 266, 'max_depth': 10, 'min_samples_split': 0.15743742353226567, 'min_samples_leaf': 0.10069431436163676, 'max_features': 'auto', 'max_features_auto': 0.10157535073907337}. Best is trial 37 with value: 0.7224870955193574.\n",
            "[I 2024-02-19 11:58:33,742] Trial 82 finished with value: 0.7212547516444643 and parameters: {'n_estimators': 252, 'max_depth': 9, 'min_samples_split': 0.12971764102695846, 'min_samples_leaf': 0.11322903580932091, 'max_features': 'auto', 'max_features_auto': 0.26597483661075894}. Best is trial 37 with value: 0.7224870955193574.\n",
            "[I 2024-02-19 11:59:51,243] Trial 83 finished with value: 0.7187392864535399 and parameters: {'n_estimators': 234, 'max_depth': 9, 'min_samples_split': 0.12013108861097449, 'min_samples_leaf': 0.12721509391985755, 'max_features': 'auto', 'max_features_auto': 0.26951591713302797}. Best is trial 37 with value: 0.7224870955193574.\n",
            "[I 2024-02-19 12:02:17,693] Trial 84 finished with value: 0.7196447972665904 and parameters: {'n_estimators': 256, 'max_depth': 7, 'min_samples_split': 0.13636923220919933, 'min_samples_leaf': 0.1150385098841776, 'max_features': 'auto', 'max_features_auto': 0.38362581951950525}. Best is trial 37 with value: 0.7224870955193574.\n",
            "[I 2024-02-19 12:04:26,465] Trial 85 finished with value: 0.7181090338567306 and parameters: {'n_estimators': 466, 'max_depth': 9, 'min_samples_split': 0.19564734303248196, 'min_samples_leaf': 0.12603313341988215, 'max_features': 'auto', 'max_features_auto': 0.2021536186015297}. Best is trial 37 with value: 0.7224870955193574.\n",
            "[I 2024-02-19 12:05:45,162] Trial 86 finished with value: 0.7212058763650471 and parameters: {'n_estimators': 196, 'max_depth': 8, 'min_samples_split': 0.12969669982633122, 'min_samples_leaf': 0.11066877331953837, 'max_features': 'auto', 'max_features_auto': 0.29106378639878305}. Best is trial 37 with value: 0.7224870955193574.\n",
            "[I 2024-02-19 12:06:45,456] Trial 87 finished with value: 0.7208786212878352 and parameters: {'n_estimators': 168, 'max_depth': 7, 'min_samples_split': 0.12000861286673198, 'min_samples_leaf': 0.11215364341008553, 'max_features': 'auto', 'max_features_auto': 0.29922744592496664}. Best is trial 37 with value: 0.7224870955193574.\n",
            "[I 2024-02-19 12:07:43,487] Trial 88 finished with value: 0.7192832409514411 and parameters: {'n_estimators': 170, 'max_depth': 7, 'min_samples_split': 0.13115359391809794, 'min_samples_leaf': 0.1371316583621681, 'max_features': 'auto', 'max_features_auto': 0.30633151784671864}. Best is trial 37 with value: 0.7224870955193574.\n",
            "[I 2024-02-19 12:08:19,318] Trial 89 finished with value: 0.717467888791077 and parameters: {'n_estimators': 127, 'max_depth': 6, 'min_samples_split': 0.10026453973521374, 'min_samples_leaf': 0.15506512873906325, 'max_features': 'auto', 'max_features_auto': 0.23719092060958435}. Best is trial 37 with value: 0.7224870955193574.\n",
            "[I 2024-02-19 12:09:55,838] Trial 90 finished with value: 0.7196434484350549 and parameters: {'n_estimators': 197, 'max_depth': 8, 'min_samples_split': 0.1476360289843363, 'min_samples_leaf': 0.1124751875241891, 'max_features': 'auto', 'max_features_auto': 0.48089045241493766}. Best is trial 37 with value: 0.7224870955193574.\n",
            "[I 2024-02-19 12:10:58,725] Trial 91 finished with value: 0.7209666828590839 and parameters: {'n_estimators': 164, 'max_depth': 7, 'min_samples_split': 0.18733547997044217, 'min_samples_leaf': 0.11171363847259003, 'max_features': 'auto', 'max_features_auto': 0.29786846411540063}. Best is trial 37 with value: 0.7224870955193574.\n",
            "[I 2024-02-19 12:11:56,389] Trial 92 finished with value: 0.720634518225394 and parameters: {'n_estimators': 173, 'max_depth': 7, 'min_samples_split': 0.21613435215779309, 'min_samples_leaf': 0.12209241712961233, 'max_features': 'auto', 'max_features_auto': 0.29803925202652315}. Best is trial 37 with value: 0.7224870955193574.\n",
            "[I 2024-02-19 12:13:10,757] Trial 93 finished with value: 0.7205680048921203 and parameters: {'n_estimators': 158, 'max_depth': 8, 'min_samples_split': 0.12690277402918876, 'min_samples_leaf': 0.1118858693188107, 'max_features': 'auto', 'max_features_auto': 0.36717149326560794}. Best is trial 37 with value: 0.7224870955193574.\n",
            "[I 2024-02-19 12:14:04,177] Trial 94 finished with value: 0.7174903286376224 and parameters: {'n_estimators': 194, 'max_depth': 6, 'min_samples_split': 0.15606317089662047, 'min_samples_leaf': 0.1315198753537673, 'max_features': 'auto', 'max_features_auto': 0.17486888393554323}. Best is trial 37 with value: 0.7224870955193574.\n",
            "[I 2024-02-19 12:15:15,847] Trial 95 finished with value: 0.7194738817556878 and parameters: {'n_estimators': 220, 'max_depth': 7, 'min_samples_split': 0.18456112410468067, 'min_samples_leaf': 0.12291187142847483, 'max_features': 'auto', 'max_features_auto': 0.25628109308620384}. Best is trial 37 with value: 0.7224870955193574.\n",
            "[I 2024-02-19 12:16:25,572] Trial 96 finished with value: 0.7220005346359037 and parameters: {'n_estimators': 162, 'max_depth': 7, 'min_samples_split': 0.20478789944998266, 'min_samples_leaf': 0.10007663116034607, 'max_features': 'auto', 'max_features_auto': 0.31876127434053214}. Best is trial 37 with value: 0.7224870955193574.\n",
            "[I 2024-02-19 12:18:05,237] Trial 97 finished with value: 0.7196327358104153 and parameters: {'n_estimators': 201, 'max_depth': 8, 'min_samples_split': 0.20717758053264254, 'min_samples_leaf': 0.10037331304796594, 'max_features': 'auto', 'max_features_auto': 0.43515032670678344}. Best is trial 37 with value: 0.7224870955193574.\n",
            "[I 2024-02-19 12:18:19,507] Trial 98 finished with value: 0.6822662836802177 and parameters: {'n_estimators': 131, 'max_depth': 6, 'min_samples_split': 0.2301221942500872, 'min_samples_leaf': 0.29375449121991126, 'max_features': 'auto', 'max_features_auto': 0.15585587781613025}. Best is trial 37 with value: 0.7224870955193574.\n",
            "[I 2024-02-19 12:20:03,375] Trial 99 finished with value: 0.7194218620573578 and parameters: {'n_estimators': 248, 'max_depth': 8, 'min_samples_split': 0.168185031330673, 'min_samples_leaf': 0.14804583542227162, 'max_features': 'auto', 'max_features_auto': 0.37037342364150433}. Best is trial 37 with value: 0.7224870955193574.\n"
          ]
        },
        {
          "output_type": "stream",
          "name": "stdout",
          "text": [
            "Best trial:\n",
            "ROC-AUC: 0.7225\n",
            "Params: {'n_estimators': 274, 'max_depth': 11, 'min_samples_split': 0.15938684083285326, 'min_samples_leaf': 0.10080451199733573, 'max_features': 'auto', 'max_features_auto': 0.1430340721747287}\n"
          ]
        }
      ],
      "source": [
        "def objective(trial):\n",
        "        params = {\n",
        "        'n_estimators': trial.suggest_int('n_estimators', 50, 500),\n",
        "        'max_depth': trial.suggest_int('max_depth', 3, 15),\n",
        "        'min_samples_split': trial.suggest_float('min_samples_split', 0.1, 1),\n",
        "        'min_samples_leaf': trial.suggest_float('min_samples_leaf', 0.1, 0.5),\n",
        "        'max_features': trial.suggest_categorical('max_features', ['auto', 'sqrt', 'log2'])\n",
        "    }\n",
        "\n",
        "    if params['max_features'] == 'auto':\n",
        "        params['max_features'] = trial.suggest_uniform('max_features_auto', 0.1, 1.0)\n",
        "\n",
        "    model = RandomForestClassifier(**params, random_state=42)\n",
        "    model.fit(X_train, y_train)\n",
        "    predictions = model.predict_proba(X_test)[:, 1]\n",
        "    roc_auc = roc_auc_score(y_test, predictions)\n",
        "\n",
        "    return roc_auc\n",
        "\n",
        "study = optuna.create_study(direction='maximize')\n",
        "study.optimize(objective, n_trials=100)\n",
        "\n",
        "print('Best trial:')\n",
        "trial = study.best_trial\n",
        "print('ROC-AUC: {:.4f}'.format(trial.value))\n",
        "print('Params: {}'.format(trial.params))\n"
      ]
    },
    {
      "cell_type": "markdown",
      "source": [
        "Лучший показатель метрики roc-auc = 0.7225 смогла получить путем подбора параметров, указанных выше. Результат неплохой, но теперь бучим модель LightGBM и посмотрим какие результаты даст она."
      ],
      "metadata": {
        "id": "pYBITo7liySS"
      }
    },
    {
      "cell_type": "code",
      "execution_count": 97,
      "metadata": {
        "colab": {
          "base_uri": "https://localhost:8080/"
        },
        "id": "XrUAmyx3y57c",
        "outputId": "b68f562a-7f01-4f81-f9d1-3668a48b2087"
      },
      "outputs": [
        {
          "output_type": "stream",
          "name": "stderr",
          "text": [
            "[I 2024-02-19 12:20:16,499] A new study created in memory with name: no-name-30858a68-b39a-43d2-bfff-ec9e7790c6c1\n"
          ]
        },
        {
          "output_type": "stream",
          "name": "stdout",
          "text": [
            "[LightGBM] [Warning] bagging_freq is set=7, subsample_freq=0 will be ignored. Current value: bagging_freq=7\n",
            "[LightGBM] [Warning] feature_fraction is set=0.6486529460597483, colsample_bytree=1.0 will be ignored. Current value: feature_fraction=0.6486529460597483\n",
            "[LightGBM] [Warning] bagging_fraction is set=0.5051146257634995, subsample=1.0 will be ignored. Current value: bagging_fraction=0.5051146257634995\n",
            "[LightGBM] [Warning] bagging_freq is set=7, subsample_freq=0 will be ignored. Current value: bagging_freq=7\n",
            "[LightGBM] [Warning] feature_fraction is set=0.6486529460597483, colsample_bytree=1.0 will be ignored. Current value: feature_fraction=0.6486529460597483\n",
            "[LightGBM] [Warning] bagging_fraction is set=0.5051146257634995, subsample=1.0 will be ignored. Current value: bagging_fraction=0.5051146257634995\n",
            "[LightGBM] [Info] Number of positive: 82925, number of negative: 404051\n",
            "[LightGBM] [Info] Auto-choosing col-wise multi-threading, the overhead of testing was 0.889893 seconds.\n",
            "You can set `force_col_wise=true` to remove the overhead.\n",
            "[LightGBM] [Info] Total Bins 1056\n",
            "[LightGBM] [Info] Number of data points in the train set: 486976, number of used features: 29\n",
            "[LightGBM] [Info] [binary:BoostFromScore]: pavg=0.170286 -> initscore=-1.583605\n",
            "[LightGBM] [Info] Start training from score -1.583605\n",
            "[LightGBM] [Warning] feature_fraction is set=0.6486529460597483, colsample_bytree=1.0 will be ignored. Current value: feature_fraction=0.6486529460597483\n",
            "[LightGBM] [Warning] bagging_freq is set=7, subsample_freq=0 will be ignored. Current value: bagging_freq=7\n",
            "[LightGBM] [Warning] bagging_fraction is set=0.5051146257634995, subsample=1.0 will be ignored. Current value: bagging_fraction=0.5051146257634995\n"
          ]
        },
        {
          "output_type": "stream",
          "name": "stderr",
          "text": [
            "[I 2024-02-19 12:20:42,599] Trial 0 finished with value: 0.7625176081630838 and parameters: {'num_leaves': 17, 'learning_rate': 0.04878165675726748, 'feature_fraction': 0.6486529460597483, 'bagging_fraction': 0.5051146257634995, 'bagging_freq': 7, 'min_child_samples': 15}. Best is trial 0 with value: 0.7625176081630838.\n"
          ]
        },
        {
          "output_type": "stream",
          "name": "stdout",
          "text": [
            "[LightGBM] [Warning] bagging_freq is set=4, subsample_freq=0 will be ignored. Current value: bagging_freq=4\n",
            "[LightGBM] [Warning] feature_fraction is set=0.6126358520963122, colsample_bytree=1.0 will be ignored. Current value: feature_fraction=0.6126358520963122\n",
            "[LightGBM] [Warning] bagging_fraction is set=0.6600463030471297, subsample=1.0 will be ignored. Current value: bagging_fraction=0.6600463030471297\n",
            "[LightGBM] [Warning] bagging_freq is set=4, subsample_freq=0 will be ignored. Current value: bagging_freq=4\n",
            "[LightGBM] [Warning] feature_fraction is set=0.6126358520963122, colsample_bytree=1.0 will be ignored. Current value: feature_fraction=0.6126358520963122\n",
            "[LightGBM] [Warning] bagging_fraction is set=0.6600463030471297, subsample=1.0 will be ignored. Current value: bagging_fraction=0.6600463030471297\n",
            "[LightGBM] [Info] Number of positive: 82925, number of negative: 404051\n",
            "[LightGBM] [Info] Auto-choosing col-wise multi-threading, the overhead of testing was 0.356754 seconds.\n",
            "You can set `force_col_wise=true` to remove the overhead.\n",
            "[LightGBM] [Info] Total Bins 1056\n",
            "[LightGBM] [Info] Number of data points in the train set: 486976, number of used features: 29\n",
            "[LightGBM] [Info] [binary:BoostFromScore]: pavg=0.170286 -> initscore=-1.583605\n",
            "[LightGBM] [Info] Start training from score -1.583605\n",
            "[LightGBM] [Warning] feature_fraction is set=0.6126358520963122, colsample_bytree=1.0 will be ignored. Current value: feature_fraction=0.6126358520963122\n",
            "[LightGBM] [Warning] bagging_freq is set=4, subsample_freq=0 will be ignored. Current value: bagging_freq=4\n",
            "[LightGBM] [Warning] bagging_fraction is set=0.6600463030471297, subsample=1.0 will be ignored. Current value: bagging_fraction=0.6600463030471297\n"
          ]
        },
        {
          "output_type": "stream",
          "name": "stderr",
          "text": [
            "[I 2024-02-19 12:21:03,488] Trial 1 finished with value: 0.7615309393221992 and parameters: {'num_leaves': 56, 'learning_rate': 0.014206632813997064, 'feature_fraction': 0.6126358520963122, 'bagging_fraction': 0.6600463030471297, 'bagging_freq': 4, 'min_child_samples': 96}. Best is trial 0 with value: 0.7625176081630838.\n"
          ]
        },
        {
          "output_type": "stream",
          "name": "stdout",
          "text": [
            "[LightGBM] [Warning] bagging_freq is set=5, subsample_freq=0 will be ignored. Current value: bagging_freq=5\n",
            "[LightGBM] [Warning] feature_fraction is set=0.34487270981198825, colsample_bytree=1.0 will be ignored. Current value: feature_fraction=0.34487270981198825\n",
            "[LightGBM] [Warning] bagging_fraction is set=0.699107143856011, subsample=1.0 will be ignored. Current value: bagging_fraction=0.699107143856011\n",
            "[LightGBM] [Warning] bagging_freq is set=5, subsample_freq=0 will be ignored. Current value: bagging_freq=5\n",
            "[LightGBM] [Warning] feature_fraction is set=0.34487270981198825, colsample_bytree=1.0 will be ignored. Current value: feature_fraction=0.34487270981198825\n",
            "[LightGBM] [Warning] bagging_fraction is set=0.699107143856011, subsample=1.0 will be ignored. Current value: bagging_fraction=0.699107143856011\n",
            "[LightGBM] [Info] Number of positive: 82925, number of negative: 404051\n",
            "[LightGBM] [Info] Auto-choosing col-wise multi-threading, the overhead of testing was 0.274291 seconds.\n",
            "You can set `force_col_wise=true` to remove the overhead.\n",
            "[LightGBM] [Info] Total Bins 1056\n",
            "[LightGBM] [Info] Number of data points in the train set: 486976, number of used features: 29\n",
            "[LightGBM] [Info] [binary:BoostFromScore]: pavg=0.170286 -> initscore=-1.583605\n",
            "[LightGBM] [Info] Start training from score -1.583605\n",
            "[LightGBM] [Warning] feature_fraction is set=0.34487270981198825, colsample_bytree=1.0 will be ignored. Current value: feature_fraction=0.34487270981198825\n",
            "[LightGBM] [Warning] bagging_freq is set=5, subsample_freq=0 will be ignored. Current value: bagging_freq=5\n",
            "[LightGBM] [Warning] bagging_fraction is set=0.699107143856011, subsample=1.0 will be ignored. Current value: bagging_fraction=0.699107143856011\n"
          ]
        },
        {
          "output_type": "stream",
          "name": "stderr",
          "text": [
            "[I 2024-02-19 12:21:15,104] Trial 2 finished with value: 0.7679253064445098 and parameters: {'num_leaves': 23, 'learning_rate': 0.09132380809934625, 'feature_fraction': 0.34487270981198825, 'bagging_fraction': 0.699107143856011, 'bagging_freq': 5, 'min_child_samples': 70}. Best is trial 2 with value: 0.7679253064445098.\n"
          ]
        },
        {
          "output_type": "stream",
          "name": "stdout",
          "text": [
            "[LightGBM] [Warning] bagging_freq is set=6, subsample_freq=0 will be ignored. Current value: bagging_freq=6\n",
            "[LightGBM] [Warning] feature_fraction is set=0.42264717950232855, colsample_bytree=1.0 will be ignored. Current value: feature_fraction=0.42264717950232855\n",
            "[LightGBM] [Warning] bagging_fraction is set=0.5902854875307542, subsample=1.0 will be ignored. Current value: bagging_fraction=0.5902854875307542\n",
            "[LightGBM] [Warning] bagging_freq is set=6, subsample_freq=0 will be ignored. Current value: bagging_freq=6\n",
            "[LightGBM] [Warning] feature_fraction is set=0.42264717950232855, colsample_bytree=1.0 will be ignored. Current value: feature_fraction=0.42264717950232855\n",
            "[LightGBM] [Warning] bagging_fraction is set=0.5902854875307542, subsample=1.0 will be ignored. Current value: bagging_fraction=0.5902854875307542\n",
            "[LightGBM] [Info] Number of positive: 82925, number of negative: 404051\n",
            "[LightGBM] [Info] Auto-choosing col-wise multi-threading, the overhead of testing was 0.288273 seconds.\n",
            "You can set `force_col_wise=true` to remove the overhead.\n",
            "[LightGBM] [Info] Total Bins 1056\n",
            "[LightGBM] [Info] Number of data points in the train set: 486976, number of used features: 29\n",
            "[LightGBM] [Info] [binary:BoostFromScore]: pavg=0.170286 -> initscore=-1.583605\n",
            "[LightGBM] [Info] Start training from score -1.583605\n",
            "[LightGBM] [Warning] feature_fraction is set=0.42264717950232855, colsample_bytree=1.0 will be ignored. Current value: feature_fraction=0.42264717950232855\n",
            "[LightGBM] [Warning] bagging_freq is set=6, subsample_freq=0 will be ignored. Current value: bagging_freq=6\n",
            "[LightGBM] [Warning] bagging_fraction is set=0.5902854875307542, subsample=1.0 will be ignored. Current value: bagging_fraction=0.5902854875307542\n"
          ]
        },
        {
          "output_type": "stream",
          "name": "stderr",
          "text": [
            "[I 2024-02-19 12:21:30,157] Trial 3 finished with value: 0.7608797938720501 and parameters: {'num_leaves': 71, 'learning_rate': 0.011928497834488832, 'feature_fraction': 0.42264717950232855, 'bagging_fraction': 0.5902854875307542, 'bagging_freq': 6, 'min_child_samples': 65}. Best is trial 2 with value: 0.7679253064445098.\n"
          ]
        },
        {
          "output_type": "stream",
          "name": "stdout",
          "text": [
            "[LightGBM] [Warning] bagging_freq is set=4, subsample_freq=0 will be ignored. Current value: bagging_freq=4\n",
            "[LightGBM] [Warning] feature_fraction is set=0.8338940259275035, colsample_bytree=1.0 will be ignored. Current value: feature_fraction=0.8338940259275035\n",
            "[LightGBM] [Warning] bagging_fraction is set=0.2930791494929552, subsample=1.0 will be ignored. Current value: bagging_fraction=0.2930791494929552\n",
            "[LightGBM] [Warning] bagging_freq is set=4, subsample_freq=0 will be ignored. Current value: bagging_freq=4\n",
            "[LightGBM] [Warning] feature_fraction is set=0.8338940259275035, colsample_bytree=1.0 will be ignored. Current value: feature_fraction=0.8338940259275035\n",
            "[LightGBM] [Warning] bagging_fraction is set=0.2930791494929552, subsample=1.0 will be ignored. Current value: bagging_fraction=0.2930791494929552\n",
            "[LightGBM] [Info] Number of positive: 82925, number of negative: 404051\n",
            "[LightGBM] [Info] Auto-choosing row-wise multi-threading, the overhead of testing was 0.218604 seconds.\n",
            "You can set `force_row_wise=true` to remove the overhead.\n",
            "And if memory is not enough, you can set `force_col_wise=true`.\n",
            "[LightGBM] [Info] Total Bins 1056\n",
            "[LightGBM] [Info] Number of data points in the train set: 486976, number of used features: 29\n",
            "[LightGBM] [Info] [binary:BoostFromScore]: pavg=0.170286 -> initscore=-1.583605\n",
            "[LightGBM] [Info] Start training from score -1.583605\n",
            "[LightGBM] [Warning] feature_fraction is set=0.8338940259275035, colsample_bytree=1.0 will be ignored. Current value: feature_fraction=0.8338940259275035\n",
            "[LightGBM] [Warning] bagging_freq is set=4, subsample_freq=0 will be ignored. Current value: bagging_freq=4\n",
            "[LightGBM] [Warning] bagging_fraction is set=0.2930791494929552, subsample=1.0 will be ignored. Current value: bagging_fraction=0.2930791494929552\n"
          ]
        },
        {
          "output_type": "stream",
          "name": "stderr",
          "text": [
            "[I 2024-02-19 12:21:47,909] Trial 4 finished with value: 0.7594329367778452 and parameters: {'num_leaves': 77, 'learning_rate': 0.004530950121816561, 'feature_fraction': 0.8338940259275035, 'bagging_fraction': 0.2930791494929552, 'bagging_freq': 4, 'min_child_samples': 13}. Best is trial 2 with value: 0.7679253064445098.\n"
          ]
        },
        {
          "output_type": "stream",
          "name": "stdout",
          "text": [
            "[LightGBM] [Warning] bagging_freq is set=7, subsample_freq=0 will be ignored. Current value: bagging_freq=7\n",
            "[LightGBM] [Warning] feature_fraction is set=0.8137354668435427, colsample_bytree=1.0 will be ignored. Current value: feature_fraction=0.8137354668435427\n",
            "[LightGBM] [Warning] bagging_fraction is set=0.8589232657366423, subsample=1.0 will be ignored. Current value: bagging_fraction=0.8589232657366423\n",
            "[LightGBM] [Warning] bagging_freq is set=7, subsample_freq=0 will be ignored. Current value: bagging_freq=7\n",
            "[LightGBM] [Warning] feature_fraction is set=0.8137354668435427, colsample_bytree=1.0 will be ignored. Current value: feature_fraction=0.8137354668435427\n",
            "[LightGBM] [Warning] bagging_fraction is set=0.8589232657366423, subsample=1.0 will be ignored. Current value: bagging_fraction=0.8589232657366423\n",
            "[LightGBM] [Info] Number of positive: 82925, number of negative: 404051\n",
            "[LightGBM] [Info] Auto-choosing row-wise multi-threading, the overhead of testing was 0.083980 seconds.\n",
            "You can set `force_row_wise=true` to remove the overhead.\n",
            "And if memory is not enough, you can set `force_col_wise=true`.\n",
            "[LightGBM] [Info] Total Bins 1056\n",
            "[LightGBM] [Info] Number of data points in the train set: 486976, number of used features: 29\n",
            "[LightGBM] [Info] [binary:BoostFromScore]: pavg=0.170286 -> initscore=-1.583605\n",
            "[LightGBM] [Info] Start training from score -1.583605\n",
            "[LightGBM] [Warning] feature_fraction is set=0.8137354668435427, colsample_bytree=1.0 will be ignored. Current value: feature_fraction=0.8137354668435427\n",
            "[LightGBM] [Warning] bagging_freq is set=7, subsample_freq=0 will be ignored. Current value: bagging_freq=7\n",
            "[LightGBM] [Warning] bagging_fraction is set=0.8589232657366423, subsample=1.0 will be ignored. Current value: bagging_fraction=0.8589232657366423\n"
          ]
        },
        {
          "output_type": "stream",
          "name": "stderr",
          "text": [
            "[I 2024-02-19 12:22:04,504] Trial 5 finished with value: 0.7609198646357774 and parameters: {'num_leaves': 18, 'learning_rate': 0.036831023917519294, 'feature_fraction': 0.8137354668435427, 'bagging_fraction': 0.8589232657366423, 'bagging_freq': 7, 'min_child_samples': 11}. Best is trial 2 with value: 0.7679253064445098.\n"
          ]
        },
        {
          "output_type": "stream",
          "name": "stdout",
          "text": [
            "[LightGBM] [Warning] bagging_freq is set=8, subsample_freq=0 will be ignored. Current value: bagging_freq=8\n",
            "[LightGBM] [Warning] feature_fraction is set=0.5637935107558468, colsample_bytree=1.0 will be ignored. Current value: feature_fraction=0.5637935107558468\n",
            "[LightGBM] [Warning] bagging_fraction is set=0.782361047114994, subsample=1.0 will be ignored. Current value: bagging_fraction=0.782361047114994\n",
            "[LightGBM] [Warning] bagging_freq is set=8, subsample_freq=0 will be ignored. Current value: bagging_freq=8\n",
            "[LightGBM] [Warning] feature_fraction is set=0.5637935107558468, colsample_bytree=1.0 will be ignored. Current value: feature_fraction=0.5637935107558468\n",
            "[LightGBM] [Warning] bagging_fraction is set=0.782361047114994, subsample=1.0 will be ignored. Current value: bagging_fraction=0.782361047114994\n",
            "[LightGBM] [Info] Number of positive: 82925, number of negative: 404051\n",
            "[LightGBM] [Info] Auto-choosing col-wise multi-threading, the overhead of testing was 0.212724 seconds.\n",
            "You can set `force_col_wise=true` to remove the overhead.\n",
            "[LightGBM] [Info] Total Bins 1056\n",
            "[LightGBM] [Info] Number of data points in the train set: 486976, number of used features: 29\n",
            "[LightGBM] [Info] [binary:BoostFromScore]: pavg=0.170286 -> initscore=-1.583605\n",
            "[LightGBM] [Info] Start training from score -1.583605\n",
            "[LightGBM] [Warning] feature_fraction is set=0.5637935107558468, colsample_bytree=1.0 will be ignored. Current value: feature_fraction=0.5637935107558468\n",
            "[LightGBM] [Warning] bagging_freq is set=8, subsample_freq=0 will be ignored. Current value: bagging_freq=8\n",
            "[LightGBM] [Warning] bagging_fraction is set=0.782361047114994, subsample=1.0 will be ignored. Current value: bagging_fraction=0.782361047114994\n"
          ]
        },
        {
          "output_type": "stream",
          "name": "stderr",
          "text": [
            "[I 2024-02-19 12:22:23,143] Trial 6 finished with value: 0.7667799362737381 and parameters: {'num_leaves': 53, 'learning_rate': 0.03881953709193545, 'feature_fraction': 0.5637935107558468, 'bagging_fraction': 0.782361047114994, 'bagging_freq': 8, 'min_child_samples': 45}. Best is trial 2 with value: 0.7679253064445098.\n"
          ]
        },
        {
          "output_type": "stream",
          "name": "stdout",
          "text": [
            "[LightGBM] [Warning] bagging_freq is set=2, subsample_freq=0 will be ignored. Current value: bagging_freq=2\n",
            "[LightGBM] [Warning] feature_fraction is set=0.5171500528180094, colsample_bytree=1.0 will be ignored. Current value: feature_fraction=0.5171500528180094\n",
            "[LightGBM] [Warning] bagging_fraction is set=0.8345049465327176, subsample=1.0 will be ignored. Current value: bagging_fraction=0.8345049465327176\n",
            "[LightGBM] [Warning] bagging_freq is set=2, subsample_freq=0 will be ignored. Current value: bagging_freq=2\n",
            "[LightGBM] [Warning] feature_fraction is set=0.5171500528180094, colsample_bytree=1.0 will be ignored. Current value: feature_fraction=0.5171500528180094\n",
            "[LightGBM] [Warning] bagging_fraction is set=0.8345049465327176, subsample=1.0 will be ignored. Current value: bagging_fraction=0.8345049465327176\n",
            "[LightGBM] [Info] Number of positive: 82925, number of negative: 404051\n",
            "[LightGBM] [Info] Auto-choosing col-wise multi-threading, the overhead of testing was 0.359492 seconds.\n",
            "You can set `force_col_wise=true` to remove the overhead.\n",
            "[LightGBM] [Info] Total Bins 1056\n",
            "[LightGBM] [Info] Number of data points in the train set: 486976, number of used features: 29\n",
            "[LightGBM] [Info] [binary:BoostFromScore]: pavg=0.170286 -> initscore=-1.583605\n",
            "[LightGBM] [Info] Start training from score -1.583605\n",
            "[LightGBM] [Warning] feature_fraction is set=0.5171500528180094, colsample_bytree=1.0 will be ignored. Current value: feature_fraction=0.5171500528180094\n",
            "[LightGBM] [Warning] bagging_freq is set=2, subsample_freq=0 will be ignored. Current value: bagging_freq=2\n",
            "[LightGBM] [Warning] bagging_fraction is set=0.8345049465327176, subsample=1.0 will be ignored. Current value: bagging_fraction=0.8345049465327176\n"
          ]
        },
        {
          "output_type": "stream",
          "name": "stderr",
          "text": [
            "[I 2024-02-19 12:22:50,112] Trial 7 finished with value: 0.7633666046000209 and parameters: {'num_leaves': 103, 'learning_rate': 0.01338467303834854, 'feature_fraction': 0.5171500528180094, 'bagging_fraction': 0.8345049465327176, 'bagging_freq': 2, 'min_child_samples': 70}. Best is trial 2 with value: 0.7679253064445098.\n"
          ]
        },
        {
          "output_type": "stream",
          "name": "stdout",
          "text": [
            "[LightGBM] [Warning] bagging_freq is set=8, subsample_freq=0 will be ignored. Current value: bagging_freq=8\n",
            "[LightGBM] [Warning] feature_fraction is set=0.6736026683669469, colsample_bytree=1.0 will be ignored. Current value: feature_fraction=0.6736026683669469\n",
            "[LightGBM] [Warning] bagging_fraction is set=0.5771412585182282, subsample=1.0 will be ignored. Current value: bagging_fraction=0.5771412585182282\n",
            "[LightGBM] [Warning] bagging_freq is set=8, subsample_freq=0 will be ignored. Current value: bagging_freq=8\n",
            "[LightGBM] [Warning] feature_fraction is set=0.6736026683669469, colsample_bytree=1.0 will be ignored. Current value: feature_fraction=0.6736026683669469\n",
            "[LightGBM] [Warning] bagging_fraction is set=0.5771412585182282, subsample=1.0 will be ignored. Current value: bagging_fraction=0.5771412585182282\n",
            "[LightGBM] [Info] Number of positive: 82925, number of negative: 404051\n",
            "[LightGBM] [Info] Auto-choosing row-wise multi-threading, the overhead of testing was 0.369397 seconds.\n",
            "You can set `force_row_wise=true` to remove the overhead.\n",
            "And if memory is not enough, you can set `force_col_wise=true`.\n",
            "[LightGBM] [Info] Total Bins 1056\n",
            "[LightGBM] [Info] Number of data points in the train set: 486976, number of used features: 29\n",
            "[LightGBM] [Info] [binary:BoostFromScore]: pavg=0.170286 -> initscore=-1.583605\n",
            "[LightGBM] [Info] Start training from score -1.583605\n",
            "[LightGBM] [Warning] feature_fraction is set=0.6736026683669469, colsample_bytree=1.0 will be ignored. Current value: feature_fraction=0.6736026683669469\n",
            "[LightGBM] [Warning] bagging_freq is set=8, subsample_freq=0 will be ignored. Current value: bagging_freq=8\n",
            "[LightGBM] [Warning] bagging_fraction is set=0.5771412585182282, subsample=1.0 will be ignored. Current value: bagging_fraction=0.5771412585182282\n"
          ]
        },
        {
          "output_type": "stream",
          "name": "stderr",
          "text": [
            "[I 2024-02-19 12:23:19,398] Trial 8 finished with value: 0.7695710310258819 and parameters: {'num_leaves': 193, 'learning_rate': 0.07861908316851768, 'feature_fraction': 0.6736026683669469, 'bagging_fraction': 0.5771412585182282, 'bagging_freq': 8, 'min_child_samples': 37}. Best is trial 8 with value: 0.7695710310258819.\n"
          ]
        },
        {
          "output_type": "stream",
          "name": "stdout",
          "text": [
            "[LightGBM] [Warning] bagging_freq is set=5, subsample_freq=0 will be ignored. Current value: bagging_freq=5\n",
            "[LightGBM] [Warning] feature_fraction is set=0.831643111125383, colsample_bytree=1.0 will be ignored. Current value: feature_fraction=0.831643111125383\n",
            "[LightGBM] [Warning] bagging_fraction is set=0.571246800220738, subsample=1.0 will be ignored. Current value: bagging_fraction=0.571246800220738\n",
            "[LightGBM] [Warning] bagging_freq is set=5, subsample_freq=0 will be ignored. Current value: bagging_freq=5\n",
            "[LightGBM] [Warning] feature_fraction is set=0.831643111125383, colsample_bytree=1.0 will be ignored. Current value: feature_fraction=0.831643111125383\n",
            "[LightGBM] [Warning] bagging_fraction is set=0.571246800220738, subsample=1.0 will be ignored. Current value: bagging_fraction=0.571246800220738\n",
            "[LightGBM] [Info] Number of positive: 82925, number of negative: 404051\n",
            "[LightGBM] [Info] Auto-choosing row-wise multi-threading, the overhead of testing was 0.202834 seconds.\n",
            "You can set `force_row_wise=true` to remove the overhead.\n",
            "And if memory is not enough, you can set `force_col_wise=true`.\n",
            "[LightGBM] [Info] Total Bins 1056\n",
            "[LightGBM] [Info] Number of data points in the train set: 486976, number of used features: 29\n",
            "[LightGBM] [Info] [binary:BoostFromScore]: pavg=0.170286 -> initscore=-1.583605\n",
            "[LightGBM] [Info] Start training from score -1.583605\n",
            "[LightGBM] [Warning] feature_fraction is set=0.831643111125383, colsample_bytree=1.0 will be ignored. Current value: feature_fraction=0.831643111125383\n",
            "[LightGBM] [Warning] bagging_freq is set=5, subsample_freq=0 will be ignored. Current value: bagging_freq=5\n",
            "[LightGBM] [Warning] bagging_fraction is set=0.571246800220738, subsample=1.0 will be ignored. Current value: bagging_fraction=0.571246800220738\n"
          ]
        },
        {
          "output_type": "stream",
          "name": "stderr",
          "text": [
            "[I 2024-02-19 12:23:41,220] Trial 9 finished with value: 0.7680793475257581 and parameters: {'num_leaves': 181, 'learning_rate': 0.09592568999599774, 'feature_fraction': 0.831643111125383, 'bagging_fraction': 0.571246800220738, 'bagging_freq': 5, 'min_child_samples': 64}. Best is trial 8 with value: 0.7695710310258819.\n"
          ]
        },
        {
          "output_type": "stream",
          "name": "stdout",
          "text": [
            "[LightGBM] [Warning] bagging_freq is set=10, subsample_freq=0 will be ignored. Current value: bagging_freq=10\n",
            "[LightGBM] [Warning] feature_fraction is set=0.13198470253856015, colsample_bytree=1.0 will be ignored. Current value: feature_fraction=0.13198470253856015\n",
            "[LightGBM] [Warning] bagging_fraction is set=0.1058249538310852, subsample=1.0 will be ignored. Current value: bagging_fraction=0.1058249538310852\n",
            "[LightGBM] [Warning] bagging_freq is set=10, subsample_freq=0 will be ignored. Current value: bagging_freq=10\n",
            "[LightGBM] [Warning] feature_fraction is set=0.13198470253856015, colsample_bytree=1.0 will be ignored. Current value: feature_fraction=0.13198470253856015\n",
            "[LightGBM] [Warning] bagging_fraction is set=0.1058249538310852, subsample=1.0 will be ignored. Current value: bagging_fraction=0.1058249538310852\n",
            "[LightGBM] [Info] Number of positive: 82925, number of negative: 404051\n",
            "[LightGBM] [Info] Auto-choosing col-wise multi-threading, the overhead of testing was 0.306794 seconds.\n",
            "You can set `force_col_wise=true` to remove the overhead.\n",
            "[LightGBM] [Info] Total Bins 1056\n",
            "[LightGBM] [Info] Number of data points in the train set: 486976, number of used features: 29\n",
            "[LightGBM] [Info] [binary:BoostFromScore]: pavg=0.170286 -> initscore=-1.583605\n",
            "[LightGBM] [Info] Start training from score -1.583605\n",
            "[LightGBM] [Warning] No further splits with positive gain, best gain: -inf\n",
            "[LightGBM] [Warning] No further splits with positive gain, best gain: -inf\n",
            "[LightGBM] [Warning] No further splits with positive gain, best gain: -inf\n",
            "[LightGBM] [Warning] No further splits with positive gain, best gain: -inf\n",
            "[LightGBM] [Warning] No further splits with positive gain, best gain: -inf\n",
            "[LightGBM] [Warning] No further splits with positive gain, best gain: -inf\n",
            "[LightGBM] [Warning] No further splits with positive gain, best gain: -inf\n",
            "[LightGBM] [Warning] No further splits with positive gain, best gain: -inf\n",
            "[LightGBM] [Warning] No further splits with positive gain, best gain: -inf\n",
            "[LightGBM] [Warning] No further splits with positive gain, best gain: -inf\n",
            "[LightGBM] [Warning] No further splits with positive gain, best gain: -inf\n",
            "[LightGBM] [Warning] No further splits with positive gain, best gain: -inf\n",
            "[LightGBM] [Warning] No further splits with positive gain, best gain: -inf\n",
            "[LightGBM] [Warning] No further splits with positive gain, best gain: -inf\n",
            "[LightGBM] [Warning] No further splits with positive gain, best gain: -inf\n",
            "[LightGBM] [Warning] No further splits with positive gain, best gain: -inf\n",
            "[LightGBM] [Warning] No further splits with positive gain, best gain: -inf\n",
            "[LightGBM] [Warning] No further splits with positive gain, best gain: -inf\n",
            "[LightGBM] [Warning] No further splits with positive gain, best gain: -inf\n",
            "[LightGBM] [Warning] No further splits with positive gain, best gain: -inf\n",
            "[LightGBM] [Warning] No further splits with positive gain, best gain: -inf\n",
            "[LightGBM] [Warning] feature_fraction is set=0.13198470253856015, colsample_bytree=1.0 will be ignored. Current value: feature_fraction=0.13198470253856015\n",
            "[LightGBM] [Warning] bagging_freq is set=10, subsample_freq=0 will be ignored. Current value: bagging_freq=10\n",
            "[LightGBM] [Warning] bagging_fraction is set=0.1058249538310852, subsample=1.0 will be ignored. Current value: bagging_fraction=0.1058249538310852\n"
          ]
        },
        {
          "output_type": "stream",
          "name": "stderr",
          "text": [
            "[I 2024-02-19 12:23:56,551] Trial 10 finished with value: 0.7487925478952212 and parameters: {'num_leaves': 198, 'learning_rate': 0.0721362819269905, 'feature_fraction': 0.13198470253856015, 'bagging_fraction': 0.1058249538310852, 'bagging_freq': 10, 'min_child_samples': 36}. Best is trial 8 with value: 0.7695710310258819.\n"
          ]
        },
        {
          "output_type": "stream",
          "name": "stdout",
          "text": [
            "[LightGBM] [Warning] bagging_freq is set=10, subsample_freq=0 will be ignored. Current value: bagging_freq=10\n",
            "[LightGBM] [Warning] feature_fraction is set=0.9670693192038549, colsample_bytree=1.0 will be ignored. Current value: feature_fraction=0.9670693192038549\n",
            "[LightGBM] [Warning] bagging_fraction is set=0.41591079857769314, subsample=1.0 will be ignored. Current value: bagging_fraction=0.41591079857769314\n",
            "[LightGBM] [Warning] bagging_freq is set=10, subsample_freq=0 will be ignored. Current value: bagging_freq=10\n",
            "[LightGBM] [Warning] feature_fraction is set=0.9670693192038549, colsample_bytree=1.0 will be ignored. Current value: feature_fraction=0.9670693192038549\n",
            "[LightGBM] [Warning] bagging_fraction is set=0.41591079857769314, subsample=1.0 will be ignored. Current value: bagging_fraction=0.41591079857769314\n",
            "[LightGBM] [Info] Number of positive: 82925, number of negative: 404051\n",
            "[LightGBM] [Info] Auto-choosing row-wise multi-threading, the overhead of testing was 0.136108 seconds.\n",
            "You can set `force_row_wise=true` to remove the overhead.\n",
            "And if memory is not enough, you can set `force_col_wise=true`.\n",
            "[LightGBM] [Info] Total Bins 1056\n",
            "[LightGBM] [Info] Number of data points in the train set: 486976, number of used features: 29\n",
            "[LightGBM] [Info] [binary:BoostFromScore]: pavg=0.170286 -> initscore=-1.583605\n",
            "[LightGBM] [Info] Start training from score -1.583605\n",
            "[LightGBM] [Warning] feature_fraction is set=0.9670693192038549, colsample_bytree=1.0 will be ignored. Current value: feature_fraction=0.9670693192038549\n",
            "[LightGBM] [Warning] bagging_freq is set=10, subsample_freq=0 will be ignored. Current value: bagging_freq=10\n",
            "[LightGBM] [Warning] bagging_fraction is set=0.41591079857769314, subsample=1.0 will be ignored. Current value: bagging_fraction=0.41591079857769314\n"
          ]
        },
        {
          "output_type": "stream",
          "name": "stderr",
          "text": [
            "[I 2024-02-19 12:24:12,209] Trial 11 finished with value: 0.7639416366998565 and parameters: {'num_leaves': 197, 'learning_rate': 0.09983552208694789, 'feature_fraction': 0.9670693192038549, 'bagging_fraction': 0.41591079857769314, 'bagging_freq': 10, 'min_child_samples': 36}. Best is trial 8 with value: 0.7695710310258819.\n"
          ]
        },
        {
          "output_type": "stream",
          "name": "stdout",
          "text": [
            "[LightGBM] [Warning] bagging_freq is set=2, subsample_freq=0 will be ignored. Current value: bagging_freq=2\n",
            "[LightGBM] [Warning] feature_fraction is set=0.7850579243368387, colsample_bytree=1.0 will be ignored. Current value: feature_fraction=0.7850579243368387\n",
            "[LightGBM] [Warning] bagging_fraction is set=0.9751984429104181, subsample=1.0 will be ignored. Current value: bagging_fraction=0.9751984429104181\n",
            "[LightGBM] [Warning] bagging_freq is set=2, subsample_freq=0 will be ignored. Current value: bagging_freq=2\n",
            "[LightGBM] [Warning] feature_fraction is set=0.7850579243368387, colsample_bytree=1.0 will be ignored. Current value: feature_fraction=0.7850579243368387\n",
            "[LightGBM] [Warning] bagging_fraction is set=0.9751984429104181, subsample=1.0 will be ignored. Current value: bagging_fraction=0.9751984429104181\n",
            "[LightGBM] [Info] Number of positive: 82925, number of negative: 404051\n",
            "[LightGBM] [Info] Auto-choosing row-wise multi-threading, the overhead of testing was 0.088821 seconds.\n",
            "You can set `force_row_wise=true` to remove the overhead.\n",
            "And if memory is not enough, you can set `force_col_wise=true`.\n",
            "[LightGBM] [Info] Total Bins 1056\n",
            "[LightGBM] [Info] Number of data points in the train set: 486976, number of used features: 29\n",
            "[LightGBM] [Info] [binary:BoostFromScore]: pavg=0.170286 -> initscore=-1.583605\n",
            "[LightGBM] [Info] Start training from score -1.583605\n",
            "[LightGBM] [Warning] feature_fraction is set=0.7850579243368387, colsample_bytree=1.0 will be ignored. Current value: feature_fraction=0.7850579243368387\n",
            "[LightGBM] [Warning] bagging_freq is set=2, subsample_freq=0 will be ignored. Current value: bagging_freq=2\n",
            "[LightGBM] [Warning] bagging_fraction is set=0.9751984429104181, subsample=1.0 will be ignored. Current value: bagging_fraction=0.9751984429104181\n"
          ]
        },
        {
          "output_type": "stream",
          "name": "stderr",
          "text": [
            "[I 2024-02-19 12:24:35,686] Trial 12 finished with value: 0.7705236289055362 and parameters: {'num_leaves': 152, 'learning_rate': 0.07636402291112943, 'feature_fraction': 0.7850579243368387, 'bagging_fraction': 0.9751984429104181, 'bagging_freq': 2, 'min_child_samples': 88}. Best is trial 12 with value: 0.7705236289055362.\n"
          ]
        },
        {
          "output_type": "stream",
          "name": "stdout",
          "text": [
            "[LightGBM] [Warning] bagging_freq is set=1, subsample_freq=0 will be ignored. Current value: bagging_freq=1\n",
            "[LightGBM] [Warning] feature_fraction is set=0.719186857813925, colsample_bytree=1.0 will be ignored. Current value: feature_fraction=0.719186857813925\n",
            "[LightGBM] [Warning] bagging_fraction is set=0.9582955963921552, subsample=1.0 will be ignored. Current value: bagging_fraction=0.9582955963921552\n",
            "[LightGBM] [Warning] bagging_freq is set=1, subsample_freq=0 will be ignored. Current value: bagging_freq=1\n",
            "[LightGBM] [Warning] feature_fraction is set=0.719186857813925, colsample_bytree=1.0 will be ignored. Current value: feature_fraction=0.719186857813925\n",
            "[LightGBM] [Warning] bagging_fraction is set=0.9582955963921552, subsample=1.0 will be ignored. Current value: bagging_fraction=0.9582955963921552\n",
            "[LightGBM] [Info] Number of positive: 82925, number of negative: 404051\n",
            "[LightGBM] [Info] Auto-choosing row-wise multi-threading, the overhead of testing was 0.085505 seconds.\n",
            "You can set `force_row_wise=true` to remove the overhead.\n",
            "And if memory is not enough, you can set `force_col_wise=true`.\n",
            "[LightGBM] [Info] Total Bins 1056\n",
            "[LightGBM] [Info] Number of data points in the train set: 486976, number of used features: 29\n",
            "[LightGBM] [Info] [binary:BoostFromScore]: pavg=0.170286 -> initscore=-1.583605\n",
            "[LightGBM] [Info] Start training from score -1.583605\n",
            "[LightGBM] [Warning] feature_fraction is set=0.719186857813925, colsample_bytree=1.0 will be ignored. Current value: feature_fraction=0.719186857813925\n",
            "[LightGBM] [Warning] bagging_freq is set=1, subsample_freq=0 will be ignored. Current value: bagging_freq=1\n",
            "[LightGBM] [Warning] bagging_fraction is set=0.9582955963921552, subsample=1.0 will be ignored. Current value: bagging_fraction=0.9582955963921552\n"
          ]
        },
        {
          "output_type": "stream",
          "name": "stderr",
          "text": [
            "[I 2024-02-19 12:24:51,797] Trial 13 finished with value: 0.7704178181861928 and parameters: {'num_leaves': 152, 'learning_rate': 0.07252558768296079, 'feature_fraction': 0.719186857813925, 'bagging_fraction': 0.9582955963921552, 'bagging_freq': 1, 'min_child_samples': 97}. Best is trial 12 with value: 0.7705236289055362.\n"
          ]
        },
        {
          "output_type": "stream",
          "name": "stdout",
          "text": [
            "[LightGBM] [Warning] bagging_freq is set=1, subsample_freq=0 will be ignored. Current value: bagging_freq=1\n",
            "[LightGBM] [Warning] feature_fraction is set=0.9585331029508949, colsample_bytree=1.0 will be ignored. Current value: feature_fraction=0.9585331029508949\n",
            "[LightGBM] [Warning] bagging_fraction is set=0.9878959776530357, subsample=1.0 will be ignored. Current value: bagging_fraction=0.9878959776530357\n",
            "[LightGBM] [Warning] bagging_freq is set=1, subsample_freq=0 will be ignored. Current value: bagging_freq=1\n",
            "[LightGBM] [Warning] feature_fraction is set=0.9585331029508949, colsample_bytree=1.0 will be ignored. Current value: feature_fraction=0.9585331029508949\n",
            "[LightGBM] [Warning] bagging_fraction is set=0.9878959776530357, subsample=1.0 will be ignored. Current value: bagging_fraction=0.9878959776530357\n",
            "[LightGBM] [Info] Number of positive: 82925, number of negative: 404051\n",
            "[LightGBM] [Info] Auto-choosing row-wise multi-threading, the overhead of testing was 0.088359 seconds.\n",
            "You can set `force_row_wise=true` to remove the overhead.\n",
            "And if memory is not enough, you can set `force_col_wise=true`.\n",
            "[LightGBM] [Info] Total Bins 1056\n",
            "[LightGBM] [Info] Number of data points in the train set: 486976, number of used features: 29\n",
            "[LightGBM] [Info] [binary:BoostFromScore]: pavg=0.170286 -> initscore=-1.583605\n",
            "[LightGBM] [Info] Start training from score -1.583605\n",
            "[LightGBM] [Warning] feature_fraction is set=0.9585331029508949, colsample_bytree=1.0 will be ignored. Current value: feature_fraction=0.9585331029508949\n",
            "[LightGBM] [Warning] bagging_freq is set=1, subsample_freq=0 will be ignored. Current value: bagging_freq=1\n",
            "[LightGBM] [Warning] bagging_fraction is set=0.9878959776530357, subsample=1.0 will be ignored. Current value: bagging_fraction=0.9878959776530357\n"
          ]
        },
        {
          "output_type": "stream",
          "name": "stderr",
          "text": [
            "[I 2024-02-19 12:25:11,548] Trial 14 finished with value: 0.770047862480593 and parameters: {'num_leaves': 155, 'learning_rate': 0.06701644301025457, 'feature_fraction': 0.9585331029508949, 'bagging_fraction': 0.9878959776530357, 'bagging_freq': 1, 'min_child_samples': 100}. Best is trial 12 with value: 0.7705236289055362.\n"
          ]
        },
        {
          "output_type": "stream",
          "name": "stdout",
          "text": [
            "[LightGBM] [Warning] bagging_freq is set=2, subsample_freq=0 will be ignored. Current value: bagging_freq=2\n",
            "[LightGBM] [Warning] feature_fraction is set=0.7194058201244145, colsample_bytree=1.0 will be ignored. Current value: feature_fraction=0.7194058201244145\n",
            "[LightGBM] [Warning] bagging_fraction is set=0.9899112276030615, subsample=1.0 will be ignored. Current value: bagging_fraction=0.9899112276030615\n",
            "[LightGBM] [Warning] bagging_freq is set=2, subsample_freq=0 will be ignored. Current value: bagging_freq=2\n",
            "[LightGBM] [Warning] feature_fraction is set=0.7194058201244145, colsample_bytree=1.0 will be ignored. Current value: feature_fraction=0.7194058201244145\n",
            "[LightGBM] [Warning] bagging_fraction is set=0.9899112276030615, subsample=1.0 will be ignored. Current value: bagging_fraction=0.9899112276030615\n",
            "[LightGBM] [Info] Number of positive: 82925, number of negative: 404051\n",
            "[LightGBM] [Info] Auto-choosing row-wise multi-threading, the overhead of testing was 0.103891 seconds.\n",
            "You can set `force_row_wise=true` to remove the overhead.\n",
            "And if memory is not enough, you can set `force_col_wise=true`.\n",
            "[LightGBM] [Info] Total Bins 1056\n",
            "[LightGBM] [Info] Number of data points in the train set: 486976, number of used features: 29\n",
            "[LightGBM] [Info] [binary:BoostFromScore]: pavg=0.170286 -> initscore=-1.583605\n",
            "[LightGBM] [Info] Start training from score -1.583605\n",
            "[LightGBM] [Warning] feature_fraction is set=0.7194058201244145, colsample_bytree=1.0 will be ignored. Current value: feature_fraction=0.7194058201244145\n",
            "[LightGBM] [Warning] bagging_freq is set=2, subsample_freq=0 will be ignored. Current value: bagging_freq=2\n",
            "[LightGBM] [Warning] bagging_fraction is set=0.9899112276030615, subsample=1.0 will be ignored. Current value: bagging_fraction=0.9899112276030615\n"
          ]
        },
        {
          "output_type": "stream",
          "name": "stderr",
          "text": [
            "[I 2024-02-19 12:25:42,305] Trial 15 finished with value: 0.7703774514883508 and parameters: {'num_leaves': 140, 'learning_rate': 0.06307612222171426, 'feature_fraction': 0.7194058201244145, 'bagging_fraction': 0.9899112276030615, 'bagging_freq': 2, 'min_child_samples': 89}. Best is trial 12 with value: 0.7705236289055362.\n"
          ]
        },
        {
          "output_type": "stream",
          "name": "stdout",
          "text": [
            "[LightGBM] [Warning] bagging_freq is set=1, subsample_freq=0 will be ignored. Current value: bagging_freq=1\n",
            "[LightGBM] [Warning] feature_fraction is set=0.7278548200642091, colsample_bytree=1.0 will be ignored. Current value: feature_fraction=0.7278548200642091\n",
            "[LightGBM] [Warning] bagging_fraction is set=0.9144287314304448, subsample=1.0 will be ignored. Current value: bagging_fraction=0.9144287314304448\n",
            "[LightGBM] [Warning] bagging_freq is set=1, subsample_freq=0 will be ignored. Current value: bagging_freq=1\n",
            "[LightGBM] [Warning] feature_fraction is set=0.7278548200642091, colsample_bytree=1.0 will be ignored. Current value: feature_fraction=0.7278548200642091\n",
            "[LightGBM] [Warning] bagging_fraction is set=0.9144287314304448, subsample=1.0 will be ignored. Current value: bagging_fraction=0.9144287314304448\n",
            "[LightGBM] [Info] Number of positive: 82925, number of negative: 404051\n",
            "[LightGBM] [Info] Auto-choosing col-wise multi-threading, the overhead of testing was 0.357078 seconds.\n",
            "You can set `force_col_wise=true` to remove the overhead.\n",
            "[LightGBM] [Info] Total Bins 1056\n",
            "[LightGBM] [Info] Number of data points in the train set: 486976, number of used features: 29\n",
            "[LightGBM] [Info] [binary:BoostFromScore]: pavg=0.170286 -> initscore=-1.583605\n",
            "[LightGBM] [Info] Start training from score -1.583605\n",
            "[LightGBM] [Warning] feature_fraction is set=0.7278548200642091, colsample_bytree=1.0 will be ignored. Current value: feature_fraction=0.7278548200642091\n",
            "[LightGBM] [Warning] bagging_freq is set=1, subsample_freq=0 will be ignored. Current value: bagging_freq=1\n",
            "[LightGBM] [Warning] bagging_fraction is set=0.9144287314304448, subsample=1.0 will be ignored. Current value: bagging_fraction=0.9144287314304448\n"
          ]
        },
        {
          "output_type": "stream",
          "name": "stderr",
          "text": [
            "[I 2024-02-19 12:26:01,792] Trial 16 finished with value: 0.7708772116518305 and parameters: {'num_leaves': 135, 'learning_rate': 0.08125142058927666, 'feature_fraction': 0.7278548200642091, 'bagging_fraction': 0.9144287314304448, 'bagging_freq': 1, 'min_child_samples': 83}. Best is trial 16 with value: 0.7708772116518305.\n"
          ]
        },
        {
          "output_type": "stream",
          "name": "stdout",
          "text": [
            "[LightGBM] [Warning] bagging_freq is set=3, subsample_freq=0 will be ignored. Current value: bagging_freq=3\n",
            "[LightGBM] [Warning] feature_fraction is set=0.8791046674368943, colsample_bytree=1.0 will be ignored. Current value: feature_fraction=0.8791046674368943\n",
            "[LightGBM] [Warning] bagging_fraction is set=0.8900327575113653, subsample=1.0 will be ignored. Current value: bagging_fraction=0.8900327575113653\n",
            "[LightGBM] [Warning] bagging_freq is set=3, subsample_freq=0 will be ignored. Current value: bagging_freq=3\n",
            "[LightGBM] [Warning] feature_fraction is set=0.8791046674368943, colsample_bytree=1.0 will be ignored. Current value: feature_fraction=0.8791046674368943\n",
            "[LightGBM] [Warning] bagging_fraction is set=0.8900327575113653, subsample=1.0 will be ignored. Current value: bagging_fraction=0.8900327575113653\n",
            "[LightGBM] [Info] Number of positive: 82925, number of negative: 404051\n",
            "[LightGBM] [Info] Auto-choosing row-wise multi-threading, the overhead of testing was 0.096431 seconds.\n",
            "You can set `force_row_wise=true` to remove the overhead.\n",
            "And if memory is not enough, you can set `force_col_wise=true`.\n",
            "[LightGBM] [Info] Total Bins 1056\n",
            "[LightGBM] [Info] Number of data points in the train set: 486976, number of used features: 29\n",
            "[LightGBM] [Info] [binary:BoostFromScore]: pavg=0.170286 -> initscore=-1.583605\n",
            "[LightGBM] [Info] Start training from score -1.583605\n",
            "[LightGBM] [Warning] feature_fraction is set=0.8791046674368943, colsample_bytree=1.0 will be ignored. Current value: feature_fraction=0.8791046674368943\n",
            "[LightGBM] [Warning] bagging_freq is set=3, subsample_freq=0 will be ignored. Current value: bagging_freq=3\n",
            "[LightGBM] [Warning] bagging_fraction is set=0.8900327575113653, subsample=1.0 will be ignored. Current value: bagging_fraction=0.8900327575113653\n"
          ]
        },
        {
          "output_type": "stream",
          "name": "stderr",
          "text": [
            "[I 2024-02-19 12:26:22,527] Trial 17 finished with value: 0.7698985206618054 and parameters: {'num_leaves': 124, 'learning_rate': 0.08450135475334353, 'feature_fraction': 0.8791046674368943, 'bagging_fraction': 0.8900327575113653, 'bagging_freq': 3, 'min_child_samples': 83}. Best is trial 16 with value: 0.7708772116518305.\n"
          ]
        },
        {
          "output_type": "stream",
          "name": "stdout",
          "text": [
            "[LightGBM] [Warning] bagging_freq is set=2, subsample_freq=0 will be ignored. Current value: bagging_freq=2\n",
            "[LightGBM] [Warning] feature_fraction is set=0.4636656609956235, colsample_bytree=1.0 will be ignored. Current value: feature_fraction=0.4636656609956235\n",
            "[LightGBM] [Warning] bagging_fraction is set=0.7210858271426521, subsample=1.0 will be ignored. Current value: bagging_fraction=0.7210858271426521\n",
            "[LightGBM] [Warning] bagging_freq is set=2, subsample_freq=0 will be ignored. Current value: bagging_freq=2\n",
            "[LightGBM] [Warning] feature_fraction is set=0.4636656609956235, colsample_bytree=1.0 will be ignored. Current value: feature_fraction=0.4636656609956235\n",
            "[LightGBM] [Warning] bagging_fraction is set=0.7210858271426521, subsample=1.0 will be ignored. Current value: bagging_fraction=0.7210858271426521\n",
            "[LightGBM] [Info] Number of positive: 82925, number of negative: 404051\n",
            "[LightGBM] [Info] Auto-choosing row-wise multi-threading, the overhead of testing was 0.067701 seconds.\n",
            "You can set `force_row_wise=true` to remove the overhead.\n",
            "And if memory is not enough, you can set `force_col_wise=true`.\n",
            "[LightGBM] [Info] Total Bins 1056\n",
            "[LightGBM] [Info] Number of data points in the train set: 486976, number of used features: 29\n",
            "[LightGBM] [Info] [binary:BoostFromScore]: pavg=0.170286 -> initscore=-1.583605\n",
            "[LightGBM] [Info] Start training from score -1.583605\n",
            "[LightGBM] [Warning] feature_fraction is set=0.4636656609956235, colsample_bytree=1.0 will be ignored. Current value: feature_fraction=0.4636656609956235\n",
            "[LightGBM] [Warning] bagging_freq is set=2, subsample_freq=0 will be ignored. Current value: bagging_freq=2\n",
            "[LightGBM] [Warning] bagging_fraction is set=0.7210858271426521, subsample=1.0 will be ignored. Current value: bagging_fraction=0.7210858271426521\n"
          ]
        },
        {
          "output_type": "stream",
          "name": "stderr",
          "text": [
            "[I 2024-02-19 12:26:42,542] Trial 18 finished with value: 0.7699518456579548 and parameters: {'num_leaves': 110, 'learning_rate': 0.059544499120564184, 'feature_fraction': 0.4636656609956235, 'bagging_fraction': 0.7210858271426521, 'bagging_freq': 2, 'min_child_samples': 82}. Best is trial 16 with value: 0.7708772116518305.\n"
          ]
        },
        {
          "output_type": "stream",
          "name": "stdout",
          "text": [
            "[LightGBM] [Warning] bagging_freq is set=3, subsample_freq=0 will be ignored. Current value: bagging_freq=3\n",
            "[LightGBM] [Warning] feature_fraction is set=0.2953866080758774, colsample_bytree=1.0 will be ignored. Current value: feature_fraction=0.2953866080758774\n",
            "[LightGBM] [Warning] bagging_fraction is set=0.7817582214924871, subsample=1.0 will be ignored. Current value: bagging_fraction=0.7817582214924871\n",
            "[LightGBM] [Warning] bagging_freq is set=3, subsample_freq=0 will be ignored. Current value: bagging_freq=3\n",
            "[LightGBM] [Warning] feature_fraction is set=0.2953866080758774, colsample_bytree=1.0 will be ignored. Current value: feature_fraction=0.2953866080758774\n",
            "[LightGBM] [Warning] bagging_fraction is set=0.7817582214924871, subsample=1.0 will be ignored. Current value: bagging_fraction=0.7817582214924871\n",
            "[LightGBM] [Info] Number of positive: 82925, number of negative: 404051\n",
            "[LightGBM] [Info] Auto-choosing row-wise multi-threading, the overhead of testing was 0.071216 seconds.\n",
            "You can set `force_row_wise=true` to remove the overhead.\n",
            "And if memory is not enough, you can set `force_col_wise=true`.\n",
            "[LightGBM] [Info] Total Bins 1056\n",
            "[LightGBM] [Info] Number of data points in the train set: 486976, number of used features: 29\n",
            "[LightGBM] [Info] [binary:BoostFromScore]: pavg=0.170286 -> initscore=-1.583605\n",
            "[LightGBM] [Info] Start training from score -1.583605\n",
            "[LightGBM] [Warning] feature_fraction is set=0.2953866080758774, colsample_bytree=1.0 will be ignored. Current value: feature_fraction=0.2953866080758774\n",
            "[LightGBM] [Warning] bagging_freq is set=3, subsample_freq=0 will be ignored. Current value: bagging_freq=3\n",
            "[LightGBM] [Warning] bagging_fraction is set=0.7817582214924871, subsample=1.0 will be ignored. Current value: bagging_fraction=0.7817582214924871\n"
          ]
        },
        {
          "output_type": "stream",
          "name": "stderr",
          "text": [
            "[I 2024-02-19 12:27:07,992] Trial 19 finished with value: 0.7702146732140449 and parameters: {'num_leaves': 170, 'learning_rate': 0.08468367315289457, 'feature_fraction': 0.2953866080758774, 'bagging_fraction': 0.7817582214924871, 'bagging_freq': 3, 'min_child_samples': 78}. Best is trial 16 with value: 0.7708772116518305.\n"
          ]
        },
        {
          "output_type": "stream",
          "name": "stdout",
          "text": [
            "[LightGBM] [Warning] bagging_freq is set=1, subsample_freq=0 will be ignored. Current value: bagging_freq=1\n",
            "[LightGBM] [Warning] feature_fraction is set=0.7522249043896716, colsample_bytree=1.0 will be ignored. Current value: feature_fraction=0.7522249043896716\n",
            "[LightGBM] [Warning] bagging_fraction is set=0.9090374164921204, subsample=1.0 will be ignored. Current value: bagging_fraction=0.9090374164921204\n",
            "[LightGBM] [Warning] bagging_freq is set=1, subsample_freq=0 will be ignored. Current value: bagging_freq=1\n",
            "[LightGBM] [Warning] feature_fraction is set=0.7522249043896716, colsample_bytree=1.0 will be ignored. Current value: feature_fraction=0.7522249043896716\n",
            "[LightGBM] [Warning] bagging_fraction is set=0.9090374164921204, subsample=1.0 will be ignored. Current value: bagging_fraction=0.9090374164921204\n",
            "[LightGBM] [Info] Number of positive: 82925, number of negative: 404051\n",
            "[LightGBM] [Info] Auto-choosing row-wise multi-threading, the overhead of testing was 0.096021 seconds.\n",
            "You can set `force_row_wise=true` to remove the overhead.\n",
            "And if memory is not enough, you can set `force_col_wise=true`.\n",
            "[LightGBM] [Info] Total Bins 1056\n",
            "[LightGBM] [Info] Number of data points in the train set: 486976, number of used features: 29\n",
            "[LightGBM] [Info] [binary:BoostFromScore]: pavg=0.170286 -> initscore=-1.583605\n",
            "[LightGBM] [Info] Start training from score -1.583605\n",
            "[LightGBM] [Warning] feature_fraction is set=0.7522249043896716, colsample_bytree=1.0 will be ignored. Current value: feature_fraction=0.7522249043896716\n",
            "[LightGBM] [Warning] bagging_freq is set=1, subsample_freq=0 will be ignored. Current value: bagging_freq=1\n",
            "[LightGBM] [Warning] bagging_fraction is set=0.9090374164921204, subsample=1.0 will be ignored. Current value: bagging_fraction=0.9090374164921204\n"
          ]
        },
        {
          "output_type": "stream",
          "name": "stderr",
          "text": [
            "[I 2024-02-19 12:27:29,917] Trial 20 finished with value: 0.7695268202771083 and parameters: {'num_leaves': 127, 'learning_rate': 0.052999082486898025, 'feature_fraction': 0.7522249043896716, 'bagging_fraction': 0.9090374164921204, 'bagging_freq': 1, 'min_child_samples': 53}. Best is trial 16 with value: 0.7708772116518305.\n"
          ]
        },
        {
          "output_type": "stream",
          "name": "stdout",
          "text": [
            "[LightGBM] [Warning] bagging_freq is set=1, subsample_freq=0 will be ignored. Current value: bagging_freq=1\n",
            "[LightGBM] [Warning] feature_fraction is set=0.7469579184647082, colsample_bytree=1.0 will be ignored. Current value: feature_fraction=0.7469579184647082\n",
            "[LightGBM] [Warning] bagging_fraction is set=0.9398086107236321, subsample=1.0 will be ignored. Current value: bagging_fraction=0.9398086107236321\n",
            "[LightGBM] [Warning] bagging_freq is set=1, subsample_freq=0 will be ignored. Current value: bagging_freq=1\n",
            "[LightGBM] [Warning] feature_fraction is set=0.7469579184647082, colsample_bytree=1.0 will be ignored. Current value: feature_fraction=0.7469579184647082\n",
            "[LightGBM] [Warning] bagging_fraction is set=0.9398086107236321, subsample=1.0 will be ignored. Current value: bagging_fraction=0.9398086107236321\n",
            "[LightGBM] [Info] Number of positive: 82925, number of negative: 404051\n",
            "[LightGBM] [Info] Auto-choosing row-wise multi-threading, the overhead of testing was 0.113700 seconds.\n",
            "You can set `force_row_wise=true` to remove the overhead.\n",
            "And if memory is not enough, you can set `force_col_wise=true`.\n",
            "[LightGBM] [Info] Total Bins 1056\n",
            "[LightGBM] [Info] Number of data points in the train set: 486976, number of used features: 29\n",
            "[LightGBM] [Info] [binary:BoostFromScore]: pavg=0.170286 -> initscore=-1.583605\n",
            "[LightGBM] [Info] Start training from score -1.583605\n",
            "[LightGBM] [Warning] feature_fraction is set=0.7469579184647082, colsample_bytree=1.0 will be ignored. Current value: feature_fraction=0.7469579184647082\n",
            "[LightGBM] [Warning] bagging_freq is set=1, subsample_freq=0 will be ignored. Current value: bagging_freq=1\n",
            "[LightGBM] [Warning] bagging_fraction is set=0.9398086107236321, subsample=1.0 will be ignored. Current value: bagging_fraction=0.9398086107236321\n"
          ]
        },
        {
          "output_type": "stream",
          "name": "stderr",
          "text": [
            "[I 2024-02-19 12:27:52,610] Trial 21 finished with value: 0.7706296777519281 and parameters: {'num_leaves': 155, 'learning_rate': 0.07549815657419798, 'feature_fraction': 0.7469579184647082, 'bagging_fraction': 0.9398086107236321, 'bagging_freq': 1, 'min_child_samples': 93}. Best is trial 16 with value: 0.7708772116518305.\n"
          ]
        },
        {
          "output_type": "stream",
          "name": "stdout",
          "text": [
            "[LightGBM] [Warning] bagging_freq is set=3, subsample_freq=0 will be ignored. Current value: bagging_freq=3\n",
            "[LightGBM] [Warning] feature_fraction is set=0.9092936517055257, colsample_bytree=1.0 will be ignored. Current value: feature_fraction=0.9092936517055257\n",
            "[LightGBM] [Warning] bagging_fraction is set=0.9141548631983146, subsample=1.0 will be ignored. Current value: bagging_fraction=0.9141548631983146\n",
            "[LightGBM] [Warning] bagging_freq is set=3, subsample_freq=0 will be ignored. Current value: bagging_freq=3\n",
            "[LightGBM] [Warning] feature_fraction is set=0.9092936517055257, colsample_bytree=1.0 will be ignored. Current value: feature_fraction=0.9092936517055257\n",
            "[LightGBM] [Warning] bagging_fraction is set=0.9141548631983146, subsample=1.0 will be ignored. Current value: bagging_fraction=0.9141548631983146\n",
            "[LightGBM] [Info] Number of positive: 82925, number of negative: 404051\n",
            "[LightGBM] [Info] Auto-choosing row-wise multi-threading, the overhead of testing was 0.111502 seconds.\n",
            "You can set `force_row_wise=true` to remove the overhead.\n",
            "And if memory is not enough, you can set `force_col_wise=true`.\n",
            "[LightGBM] [Info] Total Bins 1056\n",
            "[LightGBM] [Info] Number of data points in the train set: 486976, number of used features: 29\n",
            "[LightGBM] [Info] [binary:BoostFromScore]: pavg=0.170286 -> initscore=-1.583605\n",
            "[LightGBM] [Info] Start training from score -1.583605\n",
            "[LightGBM] [Warning] feature_fraction is set=0.9092936517055257, colsample_bytree=1.0 will be ignored. Current value: feature_fraction=0.9092936517055257\n",
            "[LightGBM] [Warning] bagging_freq is set=3, subsample_freq=0 will be ignored. Current value: bagging_freq=3\n",
            "[LightGBM] [Warning] bagging_fraction is set=0.9141548631983146, subsample=1.0 will be ignored. Current value: bagging_fraction=0.9141548631983146\n"
          ]
        },
        {
          "output_type": "stream",
          "name": "stderr",
          "text": [
            "[I 2024-02-19 12:28:19,361] Trial 22 finished with value: 0.7702897446098391 and parameters: {'num_leaves': 162, 'learning_rate': 0.08272290212992361, 'feature_fraction': 0.9092936517055257, 'bagging_fraction': 0.9141548631983146, 'bagging_freq': 3, 'min_child_samples': 89}. Best is trial 16 with value: 0.7708772116518305.\n"
          ]
        },
        {
          "output_type": "stream",
          "name": "stdout",
          "text": [
            "[LightGBM] [Warning] bagging_freq is set=1, subsample_freq=0 will be ignored. Current value: bagging_freq=1\n",
            "[LightGBM] [Warning] feature_fraction is set=0.7893118328031883, colsample_bytree=1.0 will be ignored. Current value: feature_fraction=0.7893118328031883\n",
            "[LightGBM] [Warning] bagging_fraction is set=0.8134904644786408, subsample=1.0 will be ignored. Current value: bagging_fraction=0.8134904644786408\n",
            "[LightGBM] [Warning] bagging_freq is set=1, subsample_freq=0 will be ignored. Current value: bagging_freq=1\n",
            "[LightGBM] [Warning] feature_fraction is set=0.7893118328031883, colsample_bytree=1.0 will be ignored. Current value: feature_fraction=0.7893118328031883\n",
            "[LightGBM] [Warning] bagging_fraction is set=0.8134904644786408, subsample=1.0 will be ignored. Current value: bagging_fraction=0.8134904644786408\n",
            "[LightGBM] [Info] Number of positive: 82925, number of negative: 404051\n",
            "[LightGBM] [Info] Auto-choosing row-wise multi-threading, the overhead of testing was 0.085546 seconds.\n",
            "You can set `force_row_wise=true` to remove the overhead.\n",
            "And if memory is not enough, you can set `force_col_wise=true`.\n",
            "[LightGBM] [Info] Total Bins 1056\n",
            "[LightGBM] [Info] Number of data points in the train set: 486976, number of used features: 29\n",
            "[LightGBM] [Info] [binary:BoostFromScore]: pavg=0.170286 -> initscore=-1.583605\n",
            "[LightGBM] [Info] Start training from score -1.583605\n",
            "[LightGBM] [Warning] feature_fraction is set=0.7893118328031883, colsample_bytree=1.0 will be ignored. Current value: feature_fraction=0.7893118328031883\n",
            "[LightGBM] [Warning] bagging_freq is set=1, subsample_freq=0 will be ignored. Current value: bagging_freq=1\n",
            "[LightGBM] [Warning] bagging_fraction is set=0.8134904644786408, subsample=1.0 will be ignored. Current value: bagging_fraction=0.8134904644786408\n"
          ]
        },
        {
          "output_type": "stream",
          "name": "stderr",
          "text": [
            "[I 2024-02-19 12:28:34,579] Trial 23 finished with value: 0.770092724569886 and parameters: {'num_leaves': 138, 'learning_rate': 0.07593081136096907, 'feature_fraction': 0.7893118328031883, 'bagging_fraction': 0.8134904644786408, 'bagging_freq': 1, 'min_child_samples': 76}. Best is trial 16 with value: 0.7708772116518305.\n"
          ]
        },
        {
          "output_type": "stream",
          "name": "stdout",
          "text": [
            "[LightGBM] [Warning] bagging_freq is set=2, subsample_freq=0 will be ignored. Current value: bagging_freq=2\n",
            "[LightGBM] [Warning] feature_fraction is set=0.578263860676328, colsample_bytree=1.0 will be ignored. Current value: feature_fraction=0.578263860676328\n",
            "[LightGBM] [Warning] bagging_fraction is set=0.9192190838427852, subsample=1.0 will be ignored. Current value: bagging_fraction=0.9192190838427852\n",
            "[LightGBM] [Warning] bagging_freq is set=2, subsample_freq=0 will be ignored. Current value: bagging_freq=2\n",
            "[LightGBM] [Warning] feature_fraction is set=0.578263860676328, colsample_bytree=1.0 will be ignored. Current value: feature_fraction=0.578263860676328\n",
            "[LightGBM] [Warning] bagging_fraction is set=0.9192190838427852, subsample=1.0 will be ignored. Current value: bagging_fraction=0.9192190838427852\n",
            "[LightGBM] [Info] Number of positive: 82925, number of negative: 404051\n",
            "[LightGBM] [Info] Auto-choosing col-wise multi-threading, the overhead of testing was 0.296802 seconds.\n",
            "You can set `force_col_wise=true` to remove the overhead.\n",
            "[LightGBM] [Info] Total Bins 1056\n",
            "[LightGBM] [Info] Number of data points in the train set: 486976, number of used features: 29\n",
            "[LightGBM] [Info] [binary:BoostFromScore]: pavg=0.170286 -> initscore=-1.583605\n",
            "[LightGBM] [Info] Start training from score -1.583605\n",
            "[LightGBM] [Warning] feature_fraction is set=0.578263860676328, colsample_bytree=1.0 will be ignored. Current value: feature_fraction=0.578263860676328\n",
            "[LightGBM] [Warning] bagging_freq is set=2, subsample_freq=0 will be ignored. Current value: bagging_freq=2\n",
            "[LightGBM] [Warning] bagging_fraction is set=0.9192190838427852, subsample=1.0 will be ignored. Current value: bagging_fraction=0.9192190838427852\n"
          ]
        },
        {
          "output_type": "stream",
          "name": "stderr",
          "text": [
            "[I 2024-02-19 12:28:54,057] Trial 24 finished with value: 0.7706861145761755 and parameters: {'num_leaves': 104, 'learning_rate': 0.09031363218596866, 'feature_fraction': 0.578263860676328, 'bagging_fraction': 0.9192190838427852, 'bagging_freq': 2, 'min_child_samples': 88}. Best is trial 16 with value: 0.7708772116518305.\n"
          ]
        },
        {
          "output_type": "stream",
          "name": "stdout",
          "text": [
            "[LightGBM] [Warning] bagging_freq is set=1, subsample_freq=0 will be ignored. Current value: bagging_freq=1\n",
            "[LightGBM] [Warning] feature_fraction is set=0.5950948734326182, colsample_bytree=1.0 will be ignored. Current value: feature_fraction=0.5950948734326182\n",
            "[LightGBM] [Warning] bagging_fraction is set=0.7651465067373652, subsample=1.0 will be ignored. Current value: bagging_fraction=0.7651465067373652\n",
            "[LightGBM] [Warning] bagging_freq is set=1, subsample_freq=0 will be ignored. Current value: bagging_freq=1\n",
            "[LightGBM] [Warning] feature_fraction is set=0.5950948734326182, colsample_bytree=1.0 will be ignored. Current value: feature_fraction=0.5950948734326182\n",
            "[LightGBM] [Warning] bagging_fraction is set=0.7651465067373652, subsample=1.0 will be ignored. Current value: bagging_fraction=0.7651465067373652\n",
            "[LightGBM] [Info] Number of positive: 82925, number of negative: 404051\n",
            "[LightGBM] [Info] Auto-choosing col-wise multi-threading, the overhead of testing was 0.186482 seconds.\n",
            "You can set `force_col_wise=true` to remove the overhead.\n",
            "[LightGBM] [Info] Total Bins 1056\n",
            "[LightGBM] [Info] Number of data points in the train set: 486976, number of used features: 29\n",
            "[LightGBM] [Info] [binary:BoostFromScore]: pavg=0.170286 -> initscore=-1.583605\n",
            "[LightGBM] [Info] Start training from score -1.583605\n",
            "[LightGBM] [Warning] feature_fraction is set=0.5950948734326182, colsample_bytree=1.0 will be ignored. Current value: feature_fraction=0.5950948734326182\n",
            "[LightGBM] [Warning] bagging_freq is set=1, subsample_freq=0 will be ignored. Current value: bagging_freq=1\n",
            "[LightGBM] [Warning] bagging_fraction is set=0.7651465067373652, subsample=1.0 will be ignored. Current value: bagging_fraction=0.7651465067373652\n"
          ]
        },
        {
          "output_type": "stream",
          "name": "stderr",
          "text": [
            "[I 2024-02-19 12:29:08,414] Trial 25 finished with value: 0.7706489084737093 and parameters: {'num_leaves': 94, 'learning_rate': 0.09119093334176057, 'feature_fraction': 0.5950948734326182, 'bagging_fraction': 0.7651465067373652, 'bagging_freq': 1, 'min_child_samples': 55}. Best is trial 16 with value: 0.7708772116518305.\n"
          ]
        },
        {
          "output_type": "stream",
          "name": "stdout",
          "text": [
            "[LightGBM] [Warning] bagging_freq is set=4, subsample_freq=0 will be ignored. Current value: bagging_freq=4\n",
            "[LightGBM] [Warning] feature_fraction is set=0.561559310443085, colsample_bytree=1.0 will be ignored. Current value: feature_fraction=0.561559310443085\n",
            "[LightGBM] [Warning] bagging_fraction is set=0.7310749327254212, subsample=1.0 will be ignored. Current value: bagging_fraction=0.7310749327254212\n",
            "[LightGBM] [Warning] bagging_freq is set=4, subsample_freq=0 will be ignored. Current value: bagging_freq=4\n",
            "[LightGBM] [Warning] feature_fraction is set=0.561559310443085, colsample_bytree=1.0 will be ignored. Current value: feature_fraction=0.561559310443085\n",
            "[LightGBM] [Warning] bagging_fraction is set=0.7310749327254212, subsample=1.0 will be ignored. Current value: bagging_fraction=0.7310749327254212\n",
            "[LightGBM] [Info] Number of positive: 82925, number of negative: 404051\n",
            "[LightGBM] [Info] Auto-choosing col-wise multi-threading, the overhead of testing was 0.195866 seconds.\n",
            "You can set `force_col_wise=true` to remove the overhead.\n",
            "[LightGBM] [Info] Total Bins 1056\n",
            "[LightGBM] [Info] Number of data points in the train set: 486976, number of used features: 29\n",
            "[LightGBM] [Info] [binary:BoostFromScore]: pavg=0.170286 -> initscore=-1.583605\n",
            "[LightGBM] [Info] Start training from score -1.583605\n",
            "[LightGBM] [Warning] feature_fraction is set=0.561559310443085, colsample_bytree=1.0 will be ignored. Current value: feature_fraction=0.561559310443085\n",
            "[LightGBM] [Warning] bagging_freq is set=4, subsample_freq=0 will be ignored. Current value: bagging_freq=4\n",
            "[LightGBM] [Warning] bagging_fraction is set=0.7310749327254212, subsample=1.0 will be ignored. Current value: bagging_fraction=0.7310749327254212\n"
          ]
        },
        {
          "output_type": "stream",
          "name": "stderr",
          "text": [
            "[I 2024-02-19 12:29:24,657] Trial 26 finished with value: 0.7703447493413451 and parameters: {'num_leaves': 95, 'learning_rate': 0.09064017513432412, 'feature_fraction': 0.561559310443085, 'bagging_fraction': 0.7310749327254212, 'bagging_freq': 4, 'min_child_samples': 26}. Best is trial 16 with value: 0.7708772116518305.\n"
          ]
        },
        {
          "output_type": "stream",
          "name": "stdout",
          "text": [
            "[LightGBM] [Warning] bagging_freq is set=3, subsample_freq=0 will be ignored. Current value: bagging_freq=3\n",
            "[LightGBM] [Warning] feature_fraction is set=0.4842386172558316, colsample_bytree=1.0 will be ignored. Current value: feature_fraction=0.4842386172558316\n",
            "[LightGBM] [Warning] bagging_fraction is set=0.8437818406892631, subsample=1.0 will be ignored. Current value: bagging_fraction=0.8437818406892631\n",
            "[LightGBM] [Warning] bagging_freq is set=3, subsample_freq=0 will be ignored. Current value: bagging_freq=3\n",
            "[LightGBM] [Warning] feature_fraction is set=0.4842386172558316, colsample_bytree=1.0 will be ignored. Current value: feature_fraction=0.4842386172558316\n",
            "[LightGBM] [Warning] bagging_fraction is set=0.8437818406892631, subsample=1.0 will be ignored. Current value: bagging_fraction=0.8437818406892631\n",
            "[LightGBM] [Info] Number of positive: 82925, number of negative: 404051\n",
            "[LightGBM] [Info] Auto-choosing row-wise multi-threading, the overhead of testing was 0.069107 seconds.\n",
            "You can set `force_row_wise=true` to remove the overhead.\n",
            "And if memory is not enough, you can set `force_col_wise=true`.\n",
            "[LightGBM] [Info] Total Bins 1056\n",
            "[LightGBM] [Info] Number of data points in the train set: 486976, number of used features: 29\n",
            "[LightGBM] [Info] [binary:BoostFromScore]: pavg=0.170286 -> initscore=-1.583605\n",
            "[LightGBM] [Info] Start training from score -1.583605\n",
            "[LightGBM] [Warning] feature_fraction is set=0.4842386172558316, colsample_bytree=1.0 will be ignored. Current value: feature_fraction=0.4842386172558316\n",
            "[LightGBM] [Warning] bagging_freq is set=3, subsample_freq=0 will be ignored. Current value: bagging_freq=3\n",
            "[LightGBM] [Warning] bagging_fraction is set=0.8437818406892631, subsample=1.0 will be ignored. Current value: bagging_fraction=0.8437818406892631\n"
          ]
        },
        {
          "output_type": "stream",
          "name": "stderr",
          "text": [
            "[I 2024-02-19 12:29:42,407] Trial 27 finished with value: 0.7710211062846393 and parameters: {'num_leaves': 81, 'learning_rate': 0.09114732458319541, 'feature_fraction': 0.4842386172558316, 'bagging_fraction': 0.8437818406892631, 'bagging_freq': 3, 'min_child_samples': 52}. Best is trial 27 with value: 0.7710211062846393.\n"
          ]
        },
        {
          "output_type": "stream",
          "name": "stdout",
          "text": [
            "[LightGBM] [Warning] bagging_freq is set=3, subsample_freq=0 will be ignored. Current value: bagging_freq=3\n",
            "[LightGBM] [Warning] feature_fraction is set=0.48571505540011245, colsample_bytree=1.0 will be ignored. Current value: feature_fraction=0.48571505540011245\n",
            "[LightGBM] [Warning] bagging_fraction is set=0.6355133164522975, subsample=1.0 will be ignored. Current value: bagging_fraction=0.6355133164522975\n",
            "[LightGBM] [Warning] bagging_freq is set=3, subsample_freq=0 will be ignored. Current value: bagging_freq=3\n",
            "[LightGBM] [Warning] feature_fraction is set=0.48571505540011245, colsample_bytree=1.0 will be ignored. Current value: feature_fraction=0.48571505540011245\n",
            "[LightGBM] [Warning] bagging_fraction is set=0.6355133164522975, subsample=1.0 will be ignored. Current value: bagging_fraction=0.6355133164522975\n",
            "[LightGBM] [Info] Number of positive: 82925, number of negative: 404051\n",
            "[LightGBM] [Info] Auto-choosing row-wise multi-threading, the overhead of testing was 0.103458 seconds.\n",
            "You can set `force_row_wise=true` to remove the overhead.\n",
            "And if memory is not enough, you can set `force_col_wise=true`.\n",
            "[LightGBM] [Info] Total Bins 1056\n",
            "[LightGBM] [Info] Number of data points in the train set: 486976, number of used features: 29\n",
            "[LightGBM] [Info] [binary:BoostFromScore]: pavg=0.170286 -> initscore=-1.583605\n",
            "[LightGBM] [Info] Start training from score -1.583605\n",
            "[LightGBM] [Warning] feature_fraction is set=0.48571505540011245, colsample_bytree=1.0 will be ignored. Current value: feature_fraction=0.48571505540011245\n",
            "[LightGBM] [Warning] bagging_freq is set=3, subsample_freq=0 will be ignored. Current value: bagging_freq=3\n",
            "[LightGBM] [Warning] bagging_fraction is set=0.6355133164522975, subsample=1.0 will be ignored. Current value: bagging_fraction=0.6355133164522975\n"
          ]
        },
        {
          "output_type": "stream",
          "name": "stderr",
          "text": [
            "[I 2024-02-19 12:29:58,607] Trial 28 finished with value: 0.7703906479137069 and parameters: {'num_leaves': 85, 'learning_rate': 0.0998642411336714, 'feature_fraction': 0.48571505540011245, 'bagging_fraction': 0.6355133164522975, 'bagging_freq': 3, 'min_child_samples': 60}. Best is trial 27 with value: 0.7710211062846393.\n"
          ]
        },
        {
          "output_type": "stream",
          "name": "stdout",
          "text": [
            "[LightGBM] [Warning] bagging_freq is set=2, subsample_freq=0 will be ignored. Current value: bagging_freq=2\n",
            "[LightGBM] [Warning] feature_fraction is set=0.39822709364441056, colsample_bytree=1.0 will be ignored. Current value: feature_fraction=0.39822709364441056\n",
            "[LightGBM] [Warning] bagging_fraction is set=0.46148934266786484, subsample=1.0 will be ignored. Current value: bagging_fraction=0.46148934266786484\n",
            "[LightGBM] [Warning] bagging_freq is set=2, subsample_freq=0 will be ignored. Current value: bagging_freq=2\n",
            "[LightGBM] [Warning] feature_fraction is set=0.39822709364441056, colsample_bytree=1.0 will be ignored. Current value: feature_fraction=0.39822709364441056\n",
            "[LightGBM] [Warning] bagging_fraction is set=0.46148934266786484, subsample=1.0 will be ignored. Current value: bagging_fraction=0.46148934266786484\n",
            "[LightGBM] [Info] Number of positive: 82925, number of negative: 404051\n",
            "[LightGBM] [Info] Auto-choosing col-wise multi-threading, the overhead of testing was 0.192283 seconds.\n",
            "You can set `force_col_wise=true` to remove the overhead.\n",
            "[LightGBM] [Info] Total Bins 1056\n",
            "[LightGBM] [Info] Number of data points in the train set: 486976, number of used features: 29\n",
            "[LightGBM] [Info] [binary:BoostFromScore]: pavg=0.170286 -> initscore=-1.583605\n",
            "[LightGBM] [Info] Start training from score -1.583605\n",
            "[LightGBM] [Warning] feature_fraction is set=0.39822709364441056, colsample_bytree=1.0 will be ignored. Current value: feature_fraction=0.39822709364441056\n",
            "[LightGBM] [Warning] bagging_freq is set=2, subsample_freq=0 will be ignored. Current value: bagging_freq=2\n",
            "[LightGBM] [Warning] bagging_fraction is set=0.46148934266786484, subsample=1.0 will be ignored. Current value: bagging_fraction=0.46148934266786484\n"
          ]
        },
        {
          "output_type": "stream",
          "name": "stderr",
          "text": [
            "[I 2024-02-19 12:30:13,670] Trial 29 finished with value: 0.7685471601266467 and parameters: {'num_leaves': 114, 'learning_rate': 0.04466149819304652, 'feature_fraction': 0.39822709364441056, 'bagging_fraction': 0.46148934266786484, 'bagging_freq': 2, 'min_child_samples': 47}. Best is trial 27 with value: 0.7710211062846393.\n"
          ]
        },
        {
          "output_type": "stream",
          "name": "stdout",
          "text": [
            "[LightGBM] [Warning] bagging_freq is set=4, subsample_freq=0 will be ignored. Current value: bagging_freq=4\n",
            "[LightGBM] [Warning] feature_fraction is set=0.6678393193207652, colsample_bytree=1.0 will be ignored. Current value: feature_fraction=0.6678393193207652\n",
            "[LightGBM] [Warning] bagging_fraction is set=0.8720787627008524, subsample=1.0 will be ignored. Current value: bagging_fraction=0.8720787627008524\n",
            "[LightGBM] [Warning] bagging_freq is set=4, subsample_freq=0 will be ignored. Current value: bagging_freq=4\n",
            "[LightGBM] [Warning] feature_fraction is set=0.6678393193207652, colsample_bytree=1.0 will be ignored. Current value: feature_fraction=0.6678393193207652\n",
            "[LightGBM] [Warning] bagging_fraction is set=0.8720787627008524, subsample=1.0 will be ignored. Current value: bagging_fraction=0.8720787627008524\n",
            "[LightGBM] [Info] Number of positive: 82925, number of negative: 404051\n",
            "[LightGBM] [Info] Auto-choosing col-wise multi-threading, the overhead of testing was 0.186509 seconds.\n",
            "You can set `force_col_wise=true` to remove the overhead.\n",
            "[LightGBM] [Info] Total Bins 1056\n",
            "[LightGBM] [Info] Number of data points in the train set: 486976, number of used features: 29\n",
            "[LightGBM] [Info] [binary:BoostFromScore]: pavg=0.170286 -> initscore=-1.583605\n",
            "[LightGBM] [Info] Start training from score -1.583605\n",
            "[LightGBM] [Warning] feature_fraction is set=0.6678393193207652, colsample_bytree=1.0 will be ignored. Current value: feature_fraction=0.6678393193207652\n",
            "[LightGBM] [Warning] bagging_freq is set=4, subsample_freq=0 will be ignored. Current value: bagging_freq=4\n",
            "[LightGBM] [Warning] bagging_fraction is set=0.8720787627008524, subsample=1.0 will be ignored. Current value: bagging_fraction=0.8720787627008524\n"
          ]
        },
        {
          "output_type": "stream",
          "name": "stderr",
          "text": [
            "[I 2024-02-19 12:30:30,661] Trial 30 finished with value: 0.7675154155720034 and parameters: {'num_leaves': 40, 'learning_rate': 0.05378533214806148, 'feature_fraction': 0.6678393193207652, 'bagging_fraction': 0.8720787627008524, 'bagging_freq': 4, 'min_child_samples': 20}. Best is trial 27 with value: 0.7710211062846393.\n"
          ]
        },
        {
          "output_type": "stream",
          "name": "stdout",
          "text": [
            "[LightGBM] [Warning] bagging_freq is set=2, subsample_freq=0 will be ignored. Current value: bagging_freq=2\n",
            "[LightGBM] [Warning] feature_fraction is set=0.6199802136263924, colsample_bytree=1.0 will be ignored. Current value: feature_fraction=0.6199802136263924\n",
            "[LightGBM] [Warning] bagging_fraction is set=0.8058477486426393, subsample=1.0 will be ignored. Current value: bagging_fraction=0.8058477486426393\n",
            "[LightGBM] [Warning] bagging_freq is set=2, subsample_freq=0 will be ignored. Current value: bagging_freq=2\n",
            "[LightGBM] [Warning] feature_fraction is set=0.6199802136263924, colsample_bytree=1.0 will be ignored. Current value: feature_fraction=0.6199802136263924\n",
            "[LightGBM] [Warning] bagging_fraction is set=0.8058477486426393, subsample=1.0 will be ignored. Current value: bagging_fraction=0.8058477486426393\n",
            "[LightGBM] [Info] Number of positive: 82925, number of negative: 404051\n",
            "[LightGBM] [Info] Auto-choosing row-wise multi-threading, the overhead of testing was 0.088191 seconds.\n",
            "You can set `force_row_wise=true` to remove the overhead.\n",
            "And if memory is not enough, you can set `force_col_wise=true`.\n",
            "[LightGBM] [Info] Total Bins 1056\n",
            "[LightGBM] [Info] Number of data points in the train set: 486976, number of used features: 29\n",
            "[LightGBM] [Info] [binary:BoostFromScore]: pavg=0.170286 -> initscore=-1.583605\n",
            "[LightGBM] [Info] Start training from score -1.583605\n",
            "[LightGBM] [Warning] feature_fraction is set=0.6199802136263924, colsample_bytree=1.0 will be ignored. Current value: feature_fraction=0.6199802136263924\n",
            "[LightGBM] [Warning] bagging_freq is set=2, subsample_freq=0 will be ignored. Current value: bagging_freq=2\n",
            "[LightGBM] [Warning] bagging_fraction is set=0.8058477486426393, subsample=1.0 will be ignored. Current value: bagging_fraction=0.8058477486426393\n"
          ]
        },
        {
          "output_type": "stream",
          "name": "stderr",
          "text": [
            "[I 2024-02-19 12:30:54,046] Trial 31 finished with value: 0.770092996952974 and parameters: {'num_leaves': 92, 'learning_rate': 0.08859808503727971, 'feature_fraction': 0.6199802136263924, 'bagging_fraction': 0.8058477486426393, 'bagging_freq': 2, 'min_child_samples': 58}. Best is trial 27 with value: 0.7710211062846393.\n"
          ]
        },
        {
          "output_type": "stream",
          "name": "stdout",
          "text": [
            "[LightGBM] [Warning] bagging_freq is set=1, subsample_freq=0 will be ignored. Current value: bagging_freq=1\n",
            "[LightGBM] [Warning] feature_fraction is set=0.585094955019409, colsample_bytree=1.0 will be ignored. Current value: feature_fraction=0.585094955019409\n",
            "[LightGBM] [Warning] bagging_fraction is set=0.7517019005466137, subsample=1.0 will be ignored. Current value: bagging_fraction=0.7517019005466137\n",
            "[LightGBM] [Warning] bagging_freq is set=1, subsample_freq=0 will be ignored. Current value: bagging_freq=1\n",
            "[LightGBM] [Warning] feature_fraction is set=0.585094955019409, colsample_bytree=1.0 will be ignored. Current value: feature_fraction=0.585094955019409\n",
            "[LightGBM] [Warning] bagging_fraction is set=0.7517019005466137, subsample=1.0 will be ignored. Current value: bagging_fraction=0.7517019005466137\n",
            "[LightGBM] [Info] Number of positive: 82925, number of negative: 404051\n",
            "[LightGBM] [Info] Auto-choosing col-wise multi-threading, the overhead of testing was 0.184772 seconds.\n",
            "You can set `force_col_wise=true` to remove the overhead.\n",
            "[LightGBM] [Info] Total Bins 1056\n",
            "[LightGBM] [Info] Number of data points in the train set: 486976, number of used features: 29\n",
            "[LightGBM] [Info] [binary:BoostFromScore]: pavg=0.170286 -> initscore=-1.583605\n",
            "[LightGBM] [Info] Start training from score -1.583605\n",
            "[LightGBM] [Warning] feature_fraction is set=0.585094955019409, colsample_bytree=1.0 will be ignored. Current value: feature_fraction=0.585094955019409\n",
            "[LightGBM] [Warning] bagging_freq is set=1, subsample_freq=0 will be ignored. Current value: bagging_freq=1\n",
            "[LightGBM] [Warning] bagging_fraction is set=0.7517019005466137, subsample=1.0 will be ignored. Current value: bagging_fraction=0.7517019005466137\n"
          ]
        },
        {
          "output_type": "stream",
          "name": "stderr",
          "text": [
            "[I 2024-02-19 12:31:07,304] Trial 32 finished with value: 0.770456602921123 and parameters: {'num_leaves': 68, 'learning_rate': 0.09377099452260701, 'feature_fraction': 0.585094955019409, 'bagging_fraction': 0.7517019005466137, 'bagging_freq': 1, 'min_child_samples': 48}. Best is trial 27 with value: 0.7710211062846393.\n"
          ]
        },
        {
          "output_type": "stream",
          "name": "stdout",
          "text": [
            "[LightGBM] [Warning] bagging_freq is set=3, subsample_freq=0 will be ignored. Current value: bagging_freq=3\n",
            "[LightGBM] [Warning] feature_fraction is set=0.264871516611621, colsample_bytree=1.0 will be ignored. Current value: feature_fraction=0.264871516611621\n",
            "[LightGBM] [Warning] bagging_fraction is set=0.6784420882916515, subsample=1.0 will be ignored. Current value: bagging_fraction=0.6784420882916515\n",
            "[LightGBM] [Warning] bagging_freq is set=3, subsample_freq=0 will be ignored. Current value: bagging_freq=3\n",
            "[LightGBM] [Warning] feature_fraction is set=0.264871516611621, colsample_bytree=1.0 will be ignored. Current value: feature_fraction=0.264871516611621\n",
            "[LightGBM] [Warning] bagging_fraction is set=0.6784420882916515, subsample=1.0 will be ignored. Current value: bagging_fraction=0.6784420882916515\n",
            "[LightGBM] [Info] Number of positive: 82925, number of negative: 404051\n",
            "[LightGBM] [Info] Auto-choosing row-wise multi-threading, the overhead of testing was 0.059470 seconds.\n",
            "You can set `force_row_wise=true` to remove the overhead.\n",
            "And if memory is not enough, you can set `force_col_wise=true`.\n",
            "[LightGBM] [Info] Total Bins 1056\n",
            "[LightGBM] [Info] Number of data points in the train set: 486976, number of used features: 29\n",
            "[LightGBM] [Info] [binary:BoostFromScore]: pavg=0.170286 -> initscore=-1.583605\n",
            "[LightGBM] [Info] Start training from score -1.583605\n",
            "[LightGBM] [Warning] feature_fraction is set=0.264871516611621, colsample_bytree=1.0 will be ignored. Current value: feature_fraction=0.264871516611621\n",
            "[LightGBM] [Warning] bagging_freq is set=3, subsample_freq=0 will be ignored. Current value: bagging_freq=3\n",
            "[LightGBM] [Warning] bagging_fraction is set=0.6784420882916515, subsample=1.0 will be ignored. Current value: bagging_fraction=0.6784420882916515\n"
          ]
        },
        {
          "output_type": "stream",
          "name": "stderr",
          "text": [
            "[I 2024-02-19 12:31:27,809] Trial 33 finished with value: 0.769375543943674 and parameters: {'num_leaves': 102, 'learning_rate': 0.08662826570294094, 'feature_fraction': 0.264871516611621, 'bagging_fraction': 0.6784420882916515, 'bagging_freq': 3, 'min_child_samples': 72}. Best is trial 27 with value: 0.7710211062846393.\n"
          ]
        },
        {
          "output_type": "stream",
          "name": "stdout",
          "text": [
            "[LightGBM] [Warning] bagging_freq is set=2, subsample_freq=0 will be ignored. Current value: bagging_freq=2\n",
            "[LightGBM] [Warning] feature_fraction is set=0.6381865526217866, colsample_bytree=1.0 will be ignored. Current value: feature_fraction=0.6381865526217866\n",
            "[LightGBM] [Warning] bagging_fraction is set=0.845844768772234, subsample=1.0 will be ignored. Current value: bagging_fraction=0.845844768772234\n",
            "[LightGBM] [Warning] bagging_freq is set=2, subsample_freq=0 will be ignored. Current value: bagging_freq=2\n",
            "[LightGBM] [Warning] feature_fraction is set=0.6381865526217866, colsample_bytree=1.0 will be ignored. Current value: feature_fraction=0.6381865526217866\n",
            "[LightGBM] [Warning] bagging_fraction is set=0.845844768772234, subsample=1.0 will be ignored. Current value: bagging_fraction=0.845844768772234\n",
            "[LightGBM] [Info] Number of positive: 82925, number of negative: 404051\n",
            "[LightGBM] [Info] Auto-choosing row-wise multi-threading, the overhead of testing was 0.235902 seconds.\n",
            "You can set `force_row_wise=true` to remove the overhead.\n",
            "And if memory is not enough, you can set `force_col_wise=true`.\n",
            "[LightGBM] [Info] Total Bins 1056\n",
            "[LightGBM] [Info] Number of data points in the train set: 486976, number of used features: 29\n",
            "[LightGBM] [Info] [binary:BoostFromScore]: pavg=0.170286 -> initscore=-1.583605\n",
            "[LightGBM] [Info] Start training from score -1.583605\n",
            "[LightGBM] [Warning] feature_fraction is set=0.6381865526217866, colsample_bytree=1.0 will be ignored. Current value: feature_fraction=0.6381865526217866\n",
            "[LightGBM] [Warning] bagging_freq is set=2, subsample_freq=0 will be ignored. Current value: bagging_freq=2\n",
            "[LightGBM] [Warning] bagging_fraction is set=0.845844768772234, subsample=1.0 will be ignored. Current value: bagging_fraction=0.845844768772234\n"
          ]
        },
        {
          "output_type": "stream",
          "name": "stderr",
          "text": [
            "[I 2024-02-19 12:31:55,623] Trial 34 finished with value: 0.769864304112409 and parameters: {'num_leaves': 120, 'learning_rate': 0.09409705172385993, 'feature_fraction': 0.6381865526217866, 'bagging_fraction': 0.845844768772234, 'bagging_freq': 2, 'min_child_samples': 55}. Best is trial 27 with value: 0.7710211062846393.\n"
          ]
        },
        {
          "output_type": "stream",
          "name": "stdout",
          "text": [
            "[LightGBM] [Warning] bagging_freq is set=4, subsample_freq=0 will be ignored. Current value: bagging_freq=4\n",
            "[LightGBM] [Warning] feature_fraction is set=0.4117987349760444, colsample_bytree=1.0 will be ignored. Current value: feature_fraction=0.4117987349760444\n",
            "[LightGBM] [Warning] bagging_fraction is set=0.9239413503086294, subsample=1.0 will be ignored. Current value: bagging_fraction=0.9239413503086294\n",
            "[LightGBM] [Warning] bagging_freq is set=4, subsample_freq=0 will be ignored. Current value: bagging_freq=4\n",
            "[LightGBM] [Warning] feature_fraction is set=0.4117987349760444, colsample_bytree=1.0 will be ignored. Current value: feature_fraction=0.4117987349760444\n",
            "[LightGBM] [Warning] bagging_fraction is set=0.9239413503086294, subsample=1.0 will be ignored. Current value: bagging_fraction=0.9239413503086294\n",
            "[LightGBM] [Info] Number of positive: 82925, number of negative: 404051\n",
            "[LightGBM] [Info] Auto-choosing col-wise multi-threading, the overhead of testing was 0.174140 seconds.\n",
            "You can set `force_col_wise=true` to remove the overhead.\n",
            "[LightGBM] [Info] Total Bins 1056\n",
            "[LightGBM] [Info] Number of data points in the train set: 486976, number of used features: 29\n",
            "[LightGBM] [Info] [binary:BoostFromScore]: pavg=0.170286 -> initscore=-1.583605\n",
            "[LightGBM] [Info] Start training from score -1.583605\n",
            "[LightGBM] [Warning] feature_fraction is set=0.4117987349760444, colsample_bytree=1.0 will be ignored. Current value: feature_fraction=0.4117987349760444\n",
            "[LightGBM] [Warning] bagging_freq is set=4, subsample_freq=0 will be ignored. Current value: bagging_freq=4\n",
            "[LightGBM] [Warning] bagging_fraction is set=0.9239413503086294, subsample=1.0 will be ignored. Current value: bagging_fraction=0.9239413503086294\n"
          ]
        },
        {
          "output_type": "stream",
          "name": "stderr",
          "text": [
            "[I 2024-02-19 12:32:18,797] Trial 35 finished with value: 0.7648483548003924 and parameters: {'num_leaves': 61, 'learning_rate': 0.02790197437128463, 'feature_fraction': 0.4117987349760444, 'bagging_fraction': 0.9239413503086294, 'bagging_freq': 4, 'min_child_samples': 64}. Best is trial 27 with value: 0.7710211062846393.\n"
          ]
        },
        {
          "output_type": "stream",
          "name": "stdout",
          "text": [
            "[LightGBM] [Warning] bagging_freq is set=5, subsample_freq=0 will be ignored. Current value: bagging_freq=5\n",
            "[LightGBM] [Warning] feature_fraction is set=0.5126751852860678, colsample_bytree=1.0 will be ignored. Current value: feature_fraction=0.5126751852860678\n",
            "[LightGBM] [Warning] bagging_fraction is set=0.6282756116056456, subsample=1.0 will be ignored. Current value: bagging_fraction=0.6282756116056456\n",
            "[LightGBM] [Warning] bagging_freq is set=5, subsample_freq=0 will be ignored. Current value: bagging_freq=5\n",
            "[LightGBM] [Warning] feature_fraction is set=0.5126751852860678, colsample_bytree=1.0 will be ignored. Current value: feature_fraction=0.5126751852860678\n",
            "[LightGBM] [Warning] bagging_fraction is set=0.6282756116056456, subsample=1.0 will be ignored. Current value: bagging_fraction=0.6282756116056456\n",
            "[LightGBM] [Info] Number of positive: 82925, number of negative: 404051\n",
            "[LightGBM] [Info] Auto-choosing col-wise multi-threading, the overhead of testing was 0.252536 seconds.\n",
            "You can set `force_col_wise=true` to remove the overhead.\n",
            "[LightGBM] [Info] Total Bins 1056\n",
            "[LightGBM] [Info] Number of data points in the train set: 486976, number of used features: 29\n",
            "[LightGBM] [Info] [binary:BoostFromScore]: pavg=0.170286 -> initscore=-1.583605\n",
            "[LightGBM] [Info] Start training from score -1.583605\n",
            "[LightGBM] [Warning] feature_fraction is set=0.5126751852860678, colsample_bytree=1.0 will be ignored. Current value: feature_fraction=0.5126751852860678\n",
            "[LightGBM] [Warning] bagging_freq is set=5, subsample_freq=0 will be ignored. Current value: bagging_freq=5\n",
            "[LightGBM] [Warning] bagging_fraction is set=0.6282756116056456, subsample=1.0 will be ignored. Current value: bagging_fraction=0.6282756116056456\n"
          ]
        },
        {
          "output_type": "stream",
          "name": "stderr",
          "text": [
            "[I 2024-02-19 12:32:37,983] Trial 36 finished with value: 0.769759539391701 and parameters: {'num_leaves': 79, 'learning_rate': 0.08141085052962152, 'feature_fraction': 0.5126751852860678, 'bagging_fraction': 0.6282756116056456, 'bagging_freq': 5, 'min_child_samples': 29}. Best is trial 27 with value: 0.7710211062846393.\n"
          ]
        },
        {
          "output_type": "stream",
          "name": "stdout",
          "text": [
            "[LightGBM] [Warning] bagging_freq is set=1, subsample_freq=0 will be ignored. Current value: bagging_freq=1\n",
            "[LightGBM] [Warning] feature_fraction is set=0.4491825431861224, colsample_bytree=1.0 will be ignored. Current value: feature_fraction=0.4491825431861224\n",
            "[LightGBM] [Warning] bagging_fraction is set=0.8667816369524435, subsample=1.0 will be ignored. Current value: bagging_fraction=0.8667816369524435\n",
            "[LightGBM] [Warning] bagging_freq is set=1, subsample_freq=0 will be ignored. Current value: bagging_freq=1\n",
            "[LightGBM] [Warning] feature_fraction is set=0.4491825431861224, colsample_bytree=1.0 will be ignored. Current value: feature_fraction=0.4491825431861224\n",
            "[LightGBM] [Warning] bagging_fraction is set=0.8667816369524435, subsample=1.0 will be ignored. Current value: bagging_fraction=0.8667816369524435\n",
            "[LightGBM] [Info] Number of positive: 82925, number of negative: 404051\n",
            "[LightGBM] [Info] Auto-choosing row-wise multi-threading, the overhead of testing was 0.095583 seconds.\n",
            "You can set `force_row_wise=true` to remove the overhead.\n",
            "And if memory is not enough, you can set `force_col_wise=true`.\n",
            "[LightGBM] [Info] Total Bins 1056\n",
            "[LightGBM] [Info] Number of data points in the train set: 486976, number of used features: 29\n",
            "[LightGBM] [Info] [binary:BoostFromScore]: pavg=0.170286 -> initscore=-1.583605\n",
            "[LightGBM] [Info] Start training from score -1.583605\n",
            "[LightGBM] [Warning] feature_fraction is set=0.4491825431861224, colsample_bytree=1.0 will be ignored. Current value: feature_fraction=0.4491825431861224\n",
            "[LightGBM] [Warning] bagging_freq is set=1, subsample_freq=0 will be ignored. Current value: bagging_freq=1\n",
            "[LightGBM] [Warning] bagging_fraction is set=0.8667816369524435, subsample=1.0 will be ignored. Current value: bagging_fraction=0.8667816369524435\n"
          ]
        },
        {
          "output_type": "stream",
          "name": "stderr",
          "text": [
            "[I 2024-02-19 12:32:52,232] Trial 37 finished with value: 0.7691819050223476 and parameters: {'num_leaves': 46, 'learning_rate': 0.06874760818632555, 'feature_fraction': 0.4491825431861224, 'bagging_fraction': 0.8667816369524435, 'bagging_freq': 1, 'min_child_samples': 44}. Best is trial 27 with value: 0.7710211062846393.\n"
          ]
        },
        {
          "output_type": "stream",
          "name": "stdout",
          "text": [
            "[LightGBM] [Warning] bagging_freq is set=3, subsample_freq=0 will be ignored. Current value: bagging_freq=3\n",
            "[LightGBM] [Warning] feature_fraction is set=0.3616220745217163, colsample_bytree=1.0 will be ignored. Current value: feature_fraction=0.3616220745217163\n",
            "[LightGBM] [Warning] bagging_fraction is set=0.7514301506699651, subsample=1.0 will be ignored. Current value: bagging_fraction=0.7514301506699651\n",
            "[LightGBM] [Warning] bagging_freq is set=3, subsample_freq=0 will be ignored. Current value: bagging_freq=3\n",
            "[LightGBM] [Warning] feature_fraction is set=0.3616220745217163, colsample_bytree=1.0 will be ignored. Current value: feature_fraction=0.3616220745217163\n",
            "[LightGBM] [Warning] bagging_fraction is set=0.7514301506699651, subsample=1.0 will be ignored. Current value: bagging_fraction=0.7514301506699651\n",
            "[LightGBM] [Info] Number of positive: 82925, number of negative: 404051\n",
            "[LightGBM] [Info] Auto-choosing col-wise multi-threading, the overhead of testing was 0.283783 seconds.\n",
            "You can set `force_col_wise=true` to remove the overhead.\n",
            "[LightGBM] [Info] Total Bins 1056\n",
            "[LightGBM] [Info] Number of data points in the train set: 486976, number of used features: 29\n",
            "[LightGBM] [Info] [binary:BoostFromScore]: pavg=0.170286 -> initscore=-1.583605\n",
            "[LightGBM] [Info] Start training from score -1.583605\n",
            "[LightGBM] [Warning] feature_fraction is set=0.3616220745217163, colsample_bytree=1.0 will be ignored. Current value: feature_fraction=0.3616220745217163\n",
            "[LightGBM] [Warning] bagging_freq is set=3, subsample_freq=0 will be ignored. Current value: bagging_freq=3\n",
            "[LightGBM] [Warning] bagging_fraction is set=0.7514301506699651, subsample=1.0 will be ignored. Current value: bagging_fraction=0.7514301506699651\n"
          ]
        },
        {
          "output_type": "stream",
          "name": "stderr",
          "text": [
            "[I 2024-02-19 12:33:09,422] Trial 38 finished with value: 0.7708519188005927 and parameters: {'num_leaves': 88, 'learning_rate': 0.08973767845846185, 'feature_fraction': 0.3616220745217163, 'bagging_fraction': 0.7514301506699651, 'bagging_freq': 3, 'min_child_samples': 76}. Best is trial 27 with value: 0.7710211062846393.\n"
          ]
        },
        {
          "output_type": "stream",
          "name": "stdout",
          "text": [
            "[LightGBM] [Warning] bagging_freq is set=6, subsample_freq=0 will be ignored. Current value: bagging_freq=6\n",
            "[LightGBM] [Warning] feature_fraction is set=0.3596783251160444, colsample_bytree=1.0 will be ignored. Current value: feature_fraction=0.3596783251160444\n",
            "[LightGBM] [Warning] bagging_fraction is set=0.3735816672954807, subsample=1.0 will be ignored. Current value: bagging_fraction=0.3735816672954807\n",
            "[LightGBM] [Warning] bagging_freq is set=6, subsample_freq=0 will be ignored. Current value: bagging_freq=6\n",
            "[LightGBM] [Warning] feature_fraction is set=0.3596783251160444, colsample_bytree=1.0 will be ignored. Current value: feature_fraction=0.3596783251160444\n",
            "[LightGBM] [Warning] bagging_fraction is set=0.3735816672954807, subsample=1.0 will be ignored. Current value: bagging_fraction=0.3735816672954807\n",
            "[LightGBM] [Info] Number of positive: 82925, number of negative: 404051\n",
            "[LightGBM] [Info] Auto-choosing col-wise multi-threading, the overhead of testing was 0.167526 seconds.\n",
            "You can set `force_col_wise=true` to remove the overhead.\n",
            "[LightGBM] [Info] Total Bins 1056\n",
            "[LightGBM] [Info] Number of data points in the train set: 486976, number of used features: 29\n",
            "[LightGBM] [Info] [binary:BoostFromScore]: pavg=0.170286 -> initscore=-1.583605\n",
            "[LightGBM] [Info] Start training from score -1.583605\n",
            "[LightGBM] [Warning] feature_fraction is set=0.3596783251160444, colsample_bytree=1.0 will be ignored. Current value: feature_fraction=0.3596783251160444\n",
            "[LightGBM] [Warning] bagging_freq is set=6, subsample_freq=0 will be ignored. Current value: bagging_freq=6\n",
            "[LightGBM] [Warning] bagging_fraction is set=0.3735816672954807, subsample=1.0 will be ignored. Current value: bagging_fraction=0.3735816672954807\n"
          ]
        },
        {
          "output_type": "stream",
          "name": "stderr",
          "text": [
            "[I 2024-02-19 12:33:26,380] Trial 39 finished with value: 0.7637367484759462 and parameters: {'num_leaves': 130, 'learning_rate': 0.023291799067781678, 'feature_fraction': 0.3596783251160444, 'bagging_fraction': 0.3735816672954807, 'bagging_freq': 6, 'min_child_samples': 75}. Best is trial 27 with value: 0.7710211062846393.\n"
          ]
        },
        {
          "output_type": "stream",
          "name": "stdout",
          "text": [
            "[LightGBM] [Warning] bagging_freq is set=4, subsample_freq=0 will be ignored. Current value: bagging_freq=4\n",
            "[LightGBM] [Warning] feature_fraction is set=0.22378191656890423, colsample_bytree=1.0 will be ignored. Current value: feature_fraction=0.22378191656890423\n",
            "[LightGBM] [Warning] bagging_fraction is set=0.5273396989135245, subsample=1.0 will be ignored. Current value: bagging_fraction=0.5273396989135245\n",
            "[LightGBM] [Warning] bagging_freq is set=4, subsample_freq=0 will be ignored. Current value: bagging_freq=4\n",
            "[LightGBM] [Warning] feature_fraction is set=0.22378191656890423, colsample_bytree=1.0 will be ignored. Current value: feature_fraction=0.22378191656890423\n",
            "[LightGBM] [Warning] bagging_fraction is set=0.5273396989135245, subsample=1.0 will be ignored. Current value: bagging_fraction=0.5273396989135245\n",
            "[LightGBM] [Info] Number of positive: 82925, number of negative: 404051\n",
            "[LightGBM] [Info] Auto-choosing col-wise multi-threading, the overhead of testing was 0.296880 seconds.\n",
            "You can set `force_col_wise=true` to remove the overhead.\n",
            "[LightGBM] [Info] Total Bins 1056\n",
            "[LightGBM] [Info] Number of data points in the train set: 486976, number of used features: 29\n",
            "[LightGBM] [Info] [binary:BoostFromScore]: pavg=0.170286 -> initscore=-1.583605\n",
            "[LightGBM] [Info] Start training from score -1.583605\n",
            "[LightGBM] [Warning] feature_fraction is set=0.22378191656890423, colsample_bytree=1.0 will be ignored. Current value: feature_fraction=0.22378191656890423\n",
            "[LightGBM] [Warning] bagging_freq is set=4, subsample_freq=0 will be ignored. Current value: bagging_freq=4\n",
            "[LightGBM] [Warning] bagging_fraction is set=0.5273396989135245, subsample=1.0 will be ignored. Current value: bagging_fraction=0.5273396989135245\n"
          ]
        },
        {
          "output_type": "stream",
          "name": "stderr",
          "text": [
            "[I 2024-02-19 12:33:41,996] Trial 40 finished with value: 0.7647791954259952 and parameters: {'num_leaves': 36, 'learning_rate': 0.0964347450172127, 'feature_fraction': 0.22378191656890423, 'bagging_fraction': 0.5273396989135245, 'bagging_freq': 4, 'min_child_samples': 83}. Best is trial 27 with value: 0.7710211062846393.\n"
          ]
        },
        {
          "output_type": "stream",
          "name": "stdout",
          "text": [
            "[LightGBM] [Warning] bagging_freq is set=3, subsample_freq=0 will be ignored. Current value: bagging_freq=3\n",
            "[LightGBM] [Warning] feature_fraction is set=0.5293676944735962, colsample_bytree=1.0 will be ignored. Current value: feature_fraction=0.5293676944735962\n",
            "[LightGBM] [Warning] bagging_fraction is set=0.7680392839852116, subsample=1.0 will be ignored. Current value: bagging_fraction=0.7680392839852116\n",
            "[LightGBM] [Warning] bagging_freq is set=3, subsample_freq=0 will be ignored. Current value: bagging_freq=3\n",
            "[LightGBM] [Warning] feature_fraction is set=0.5293676944735962, colsample_bytree=1.0 will be ignored. Current value: feature_fraction=0.5293676944735962\n",
            "[LightGBM] [Warning] bagging_fraction is set=0.7680392839852116, subsample=1.0 will be ignored. Current value: bagging_fraction=0.7680392839852116\n",
            "[LightGBM] [Info] Number of positive: 82925, number of negative: 404051\n",
            "[LightGBM] [Info] Auto-choosing col-wise multi-threading, the overhead of testing was 0.275045 seconds.\n",
            "You can set `force_col_wise=true` to remove the overhead.\n",
            "[LightGBM] [Info] Total Bins 1056\n",
            "[LightGBM] [Info] Number of data points in the train set: 486976, number of used features: 29\n",
            "[LightGBM] [Info] [binary:BoostFromScore]: pavg=0.170286 -> initscore=-1.583605\n",
            "[LightGBM] [Info] Start training from score -1.583605\n",
            "[LightGBM] [Warning] feature_fraction is set=0.5293676944735962, colsample_bytree=1.0 will be ignored. Current value: feature_fraction=0.5293676944735962\n",
            "[LightGBM] [Warning] bagging_freq is set=3, subsample_freq=0 will be ignored. Current value: bagging_freq=3\n",
            "[LightGBM] [Warning] bagging_fraction is set=0.7680392839852116, subsample=1.0 will be ignored. Current value: bagging_fraction=0.7680392839852116\n"
          ]
        },
        {
          "output_type": "stream",
          "name": "stderr",
          "text": [
            "[I 2024-02-19 12:34:05,547] Trial 41 finished with value: 0.771412041197344 and parameters: {'num_leaves': 90, 'learning_rate': 0.09224089630658479, 'feature_fraction': 0.5293676944735962, 'bagging_fraction': 0.7680392839852116, 'bagging_freq': 3, 'min_child_samples': 68}. Best is trial 41 with value: 0.771412041197344.\n"
          ]
        },
        {
          "output_type": "stream",
          "name": "stdout",
          "text": [
            "[LightGBM] [Warning] bagging_freq is set=3, subsample_freq=0 will be ignored. Current value: bagging_freq=3\n",
            "[LightGBM] [Warning] feature_fraction is set=0.5219186696527501, colsample_bytree=1.0 will be ignored. Current value: feature_fraction=0.5219186696527501\n",
            "[LightGBM] [Warning] bagging_fraction is set=0.6937562348694473, subsample=1.0 will be ignored. Current value: bagging_fraction=0.6937562348694473\n",
            "[LightGBM] [Warning] bagging_freq is set=3, subsample_freq=0 will be ignored. Current value: bagging_freq=3\n",
            "[LightGBM] [Warning] feature_fraction is set=0.5219186696527501, colsample_bytree=1.0 will be ignored. Current value: feature_fraction=0.5219186696527501\n",
            "[LightGBM] [Warning] bagging_fraction is set=0.6937562348694473, subsample=1.0 will be ignored. Current value: bagging_fraction=0.6937562348694473\n",
            "[LightGBM] [Info] Number of positive: 82925, number of negative: 404051\n",
            "[LightGBM] [Info] Auto-choosing col-wise multi-threading, the overhead of testing was 0.242618 seconds.\n",
            "You can set `force_col_wise=true` to remove the overhead.\n",
            "[LightGBM] [Info] Total Bins 1056\n",
            "[LightGBM] [Info] Number of data points in the train set: 486976, number of used features: 29\n",
            "[LightGBM] [Info] [binary:BoostFromScore]: pavg=0.170286 -> initscore=-1.583605\n",
            "[LightGBM] [Info] Start training from score -1.583605\n",
            "[LightGBM] [Warning] feature_fraction is set=0.5219186696527501, colsample_bytree=1.0 will be ignored. Current value: feature_fraction=0.5219186696527501\n",
            "[LightGBM] [Warning] bagging_freq is set=3, subsample_freq=0 will be ignored. Current value: bagging_freq=3\n",
            "[LightGBM] [Warning] bagging_fraction is set=0.6937562348694473, subsample=1.0 will be ignored. Current value: bagging_fraction=0.6937562348694473\n"
          ]
        },
        {
          "output_type": "stream",
          "name": "stderr",
          "text": [
            "[I 2024-02-19 12:34:25,052] Trial 42 finished with value: 0.7705788039656805 and parameters: {'num_leaves': 73, 'learning_rate': 0.08804193525001636, 'feature_fraction': 0.5219186696527501, 'bagging_fraction': 0.6937562348694473, 'bagging_freq': 3, 'min_child_samples': 67}. Best is trial 41 with value: 0.771412041197344.\n"
          ]
        },
        {
          "output_type": "stream",
          "name": "stdout",
          "text": [
            "[LightGBM] [Warning] bagging_freq is set=3, subsample_freq=0 will be ignored. Current value: bagging_freq=3\n",
            "[LightGBM] [Warning] feature_fraction is set=0.3553279365754558, colsample_bytree=1.0 will be ignored. Current value: feature_fraction=0.3553279365754558\n",
            "[LightGBM] [Warning] bagging_fraction is set=0.822737372954435, subsample=1.0 will be ignored. Current value: bagging_fraction=0.822737372954435\n",
            "[LightGBM] [Warning] bagging_freq is set=3, subsample_freq=0 will be ignored. Current value: bagging_freq=3\n",
            "[LightGBM] [Warning] feature_fraction is set=0.3553279365754558, colsample_bytree=1.0 will be ignored. Current value: feature_fraction=0.3553279365754558\n",
            "[LightGBM] [Warning] bagging_fraction is set=0.822737372954435, subsample=1.0 will be ignored. Current value: bagging_fraction=0.822737372954435\n",
            "[LightGBM] [Info] Number of positive: 82925, number of negative: 404051\n",
            "[LightGBM] [Info] Auto-choosing row-wise multi-threading, the overhead of testing was 0.067057 seconds.\n",
            "You can set `force_row_wise=true` to remove the overhead.\n",
            "And if memory is not enough, you can set `force_col_wise=true`.\n",
            "[LightGBM] [Info] Total Bins 1056\n",
            "[LightGBM] [Info] Number of data points in the train set: 486976, number of used features: 29\n",
            "[LightGBM] [Info] [binary:BoostFromScore]: pavg=0.170286 -> initscore=-1.583605\n",
            "[LightGBM] [Info] Start training from score -1.583605\n",
            "[LightGBM] [Warning] feature_fraction is set=0.3553279365754558, colsample_bytree=1.0 will be ignored. Current value: feature_fraction=0.3553279365754558\n",
            "[LightGBM] [Warning] bagging_freq is set=3, subsample_freq=0 will be ignored. Current value: bagging_freq=3\n",
            "[LightGBM] [Warning] bagging_fraction is set=0.822737372954435, subsample=1.0 will be ignored. Current value: bagging_fraction=0.822737372954435\n"
          ]
        },
        {
          "output_type": "stream",
          "name": "stderr",
          "text": [
            "[I 2024-02-19 12:34:45,046] Trial 43 finished with value: 0.7700675256848664 and parameters: {'num_leaves': 84, 'learning_rate': 0.08065510901588198, 'feature_fraction': 0.3553279365754558, 'bagging_fraction': 0.822737372954435, 'bagging_freq': 3, 'min_child_samples': 79}. Best is trial 41 with value: 0.771412041197344.\n"
          ]
        },
        {
          "output_type": "stream",
          "name": "stdout",
          "text": [
            "[LightGBM] [Warning] bagging_freq is set=4, subsample_freq=0 will be ignored. Current value: bagging_freq=4\n",
            "[LightGBM] [Warning] feature_fraction is set=0.5506215942782213, colsample_bytree=1.0 will be ignored. Current value: feature_fraction=0.5506215942782213\n",
            "[LightGBM] [Warning] bagging_fraction is set=0.13678501211324384, subsample=1.0 will be ignored. Current value: bagging_fraction=0.13678501211324384\n",
            "[LightGBM] [Warning] bagging_freq is set=4, subsample_freq=0 will be ignored. Current value: bagging_freq=4\n",
            "[LightGBM] [Warning] feature_fraction is set=0.5506215942782213, colsample_bytree=1.0 will be ignored. Current value: feature_fraction=0.5506215942782213\n",
            "[LightGBM] [Warning] bagging_fraction is set=0.13678501211324384, subsample=1.0 will be ignored. Current value: bagging_fraction=0.13678501211324384\n",
            "[LightGBM] [Info] Number of positive: 82925, number of negative: 404051\n",
            "[LightGBM] [Info] Auto-choosing col-wise multi-threading, the overhead of testing was 0.193860 seconds.\n",
            "You can set `force_col_wise=true` to remove the overhead.\n",
            "[LightGBM] [Info] Total Bins 1056\n",
            "[LightGBM] [Info] Number of data points in the train set: 486976, number of used features: 29\n",
            "[LightGBM] [Info] [binary:BoostFromScore]: pavg=0.170286 -> initscore=-1.583605\n",
            "[LightGBM] [Info] Start training from score -1.583605\n",
            "[LightGBM] [Warning] feature_fraction is set=0.5506215942782213, colsample_bytree=1.0 will be ignored. Current value: feature_fraction=0.5506215942782213\n",
            "[LightGBM] [Warning] bagging_freq is set=4, subsample_freq=0 will be ignored. Current value: bagging_freq=4\n",
            "[LightGBM] [Warning] bagging_fraction is set=0.13678501211324384, subsample=1.0 will be ignored. Current value: bagging_fraction=0.13678501211324384\n"
          ]
        },
        {
          "output_type": "stream",
          "name": "stderr",
          "text": [
            "[I 2024-02-19 12:35:00,988] Trial 44 finished with value: 0.7649196642170151 and parameters: {'num_leaves': 61, 'learning_rate': 0.09589485233700275, 'feature_fraction': 0.5506215942782213, 'bagging_fraction': 0.13678501211324384, 'bagging_freq': 4, 'min_child_samples': 72}. Best is trial 41 with value: 0.771412041197344.\n"
          ]
        },
        {
          "output_type": "stream",
          "name": "stdout",
          "text": [
            "[LightGBM] [Warning] bagging_freq is set=5, subsample_freq=0 will be ignored. Current value: bagging_freq=5\n",
            "[LightGBM] [Warning] feature_fraction is set=0.3930216969941279, colsample_bytree=1.0 will be ignored. Current value: feature_fraction=0.3930216969941279\n",
            "[LightGBM] [Warning] bagging_fraction is set=0.877931178680118, subsample=1.0 will be ignored. Current value: bagging_fraction=0.877931178680118\n",
            "[LightGBM] [Warning] bagging_freq is set=5, subsample_freq=0 will be ignored. Current value: bagging_freq=5\n",
            "[LightGBM] [Warning] feature_fraction is set=0.3930216969941279, colsample_bytree=1.0 will be ignored. Current value: feature_fraction=0.3930216969941279\n",
            "[LightGBM] [Warning] bagging_fraction is set=0.877931178680118, subsample=1.0 will be ignored. Current value: bagging_fraction=0.877931178680118\n",
            "[LightGBM] [Info] Number of positive: 82925, number of negative: 404051\n",
            "[LightGBM] [Info] Auto-choosing row-wise multi-threading, the overhead of testing was 0.123037 seconds.\n",
            "You can set `force_row_wise=true` to remove the overhead.\n",
            "And if memory is not enough, you can set `force_col_wise=true`.\n",
            "[LightGBM] [Info] Total Bins 1056\n",
            "[LightGBM] [Info] Number of data points in the train set: 486976, number of used features: 29\n",
            "[LightGBM] [Info] [binary:BoostFromScore]: pavg=0.170286 -> initscore=-1.583605\n",
            "[LightGBM] [Info] Start training from score -1.583605\n",
            "[LightGBM] [Warning] feature_fraction is set=0.3930216969941279, colsample_bytree=1.0 will be ignored. Current value: feature_fraction=0.3930216969941279\n",
            "[LightGBM] [Warning] bagging_freq is set=5, subsample_freq=0 will be ignored. Current value: bagging_freq=5\n",
            "[LightGBM] [Warning] bagging_fraction is set=0.877931178680118, subsample=1.0 will be ignored. Current value: bagging_fraction=0.877931178680118\n"
          ]
        },
        {
          "output_type": "stream",
          "name": "stderr",
          "text": [
            "[I 2024-02-19 12:35:28,747] Trial 45 finished with value: 0.7711405899213254 and parameters: {'num_leaves': 104, 'learning_rate': 0.08960563481900087, 'feature_fraction': 0.3930216969941279, 'bagging_fraction': 0.877931178680118, 'bagging_freq': 5, 'min_child_samples': 93}. Best is trial 41 with value: 0.771412041197344.\n"
          ]
        },
        {
          "output_type": "stream",
          "name": "stdout",
          "text": [
            "[LightGBM] [Warning] bagging_freq is set=7, subsample_freq=0 will be ignored. Current value: bagging_freq=7\n",
            "[LightGBM] [Warning] feature_fraction is set=0.2957870357586019, colsample_bytree=1.0 will be ignored. Current value: feature_fraction=0.2957870357586019\n",
            "[LightGBM] [Warning] bagging_fraction is set=0.8389240353058335, subsample=1.0 will be ignored. Current value: bagging_fraction=0.8389240353058335\n",
            "[LightGBM] [Warning] bagging_freq is set=7, subsample_freq=0 will be ignored. Current value: bagging_freq=7\n",
            "[LightGBM] [Warning] feature_fraction is set=0.2957870357586019, colsample_bytree=1.0 will be ignored. Current value: feature_fraction=0.2957870357586019\n",
            "[LightGBM] [Warning] bagging_fraction is set=0.8389240353058335, subsample=1.0 will be ignored. Current value: bagging_fraction=0.8389240353058335\n",
            "[LightGBM] [Info] Number of positive: 82925, number of negative: 404051\n",
            "[LightGBM] [Info] Auto-choosing col-wise multi-threading, the overhead of testing was 0.373622 seconds.\n",
            "You can set `force_col_wise=true` to remove the overhead.\n",
            "[LightGBM] [Info] Total Bins 1056\n",
            "[LightGBM] [Info] Number of data points in the train set: 486976, number of used features: 29\n",
            "[LightGBM] [Info] [binary:BoostFromScore]: pavg=0.170286 -> initscore=-1.583605\n",
            "[LightGBM] [Info] Start training from score -1.583605\n",
            "[LightGBM] [Warning] feature_fraction is set=0.2957870357586019, colsample_bytree=1.0 will be ignored. Current value: feature_fraction=0.2957870357586019\n",
            "[LightGBM] [Warning] bagging_freq is set=7, subsample_freq=0 will be ignored. Current value: bagging_freq=7\n",
            "[LightGBM] [Warning] bagging_fraction is set=0.8389240353058335, subsample=1.0 will be ignored. Current value: bagging_fraction=0.8389240353058335\n"
          ]
        },
        {
          "output_type": "stream",
          "name": "stderr",
          "text": [
            "[I 2024-02-19 12:35:48,237] Trial 46 finished with value: 0.7696890161987511 and parameters: {'num_leaves': 114, 'learning_rate': 0.07970256290493322, 'feature_fraction': 0.2957870357586019, 'bagging_fraction': 0.8389240353058335, 'bagging_freq': 7, 'min_child_samples': 93}. Best is trial 41 with value: 0.771412041197344.\n"
          ]
        },
        {
          "output_type": "stream",
          "name": "stdout",
          "text": [
            "[LightGBM] [Warning] bagging_freq is set=5, subsample_freq=0 will be ignored. Current value: bagging_freq=5\n",
            "[LightGBM] [Warning] feature_fraction is set=0.3979362728522916, colsample_bytree=1.0 will be ignored. Current value: feature_fraction=0.3979362728522916\n",
            "[LightGBM] [Warning] bagging_fraction is set=0.7787934136932039, subsample=1.0 will be ignored. Current value: bagging_fraction=0.7787934136932039\n",
            "[LightGBM] [Warning] bagging_freq is set=5, subsample_freq=0 will be ignored. Current value: bagging_freq=5\n",
            "[LightGBM] [Warning] feature_fraction is set=0.3979362728522916, colsample_bytree=1.0 will be ignored. Current value: feature_fraction=0.3979362728522916\n",
            "[LightGBM] [Warning] bagging_fraction is set=0.7787934136932039, subsample=1.0 will be ignored. Current value: bagging_fraction=0.7787934136932039\n",
            "[LightGBM] [Info] Number of positive: 82925, number of negative: 404051\n",
            "[LightGBM] [Info] Auto-choosing row-wise multi-threading, the overhead of testing was 0.069665 seconds.\n",
            "You can set `force_row_wise=true` to remove the overhead.\n",
            "And if memory is not enough, you can set `force_col_wise=true`.\n",
            "[LightGBM] [Info] Total Bins 1056\n",
            "[LightGBM] [Info] Number of data points in the train set: 486976, number of used features: 29\n",
            "[LightGBM] [Info] [binary:BoostFromScore]: pavg=0.170286 -> initscore=-1.583605\n",
            "[LightGBM] [Info] Start training from score -1.583605\n",
            "[LightGBM] [Warning] feature_fraction is set=0.3979362728522916, colsample_bytree=1.0 will be ignored. Current value: feature_fraction=0.3979362728522916\n",
            "[LightGBM] [Warning] bagging_freq is set=5, subsample_freq=0 will be ignored. Current value: bagging_freq=5\n",
            "[LightGBM] [Warning] bagging_fraction is set=0.7787934136932039, subsample=1.0 will be ignored. Current value: bagging_fraction=0.7787934136932039\n"
          ]
        },
        {
          "output_type": "stream",
          "name": "stderr",
          "text": [
            "[I 2024-02-19 12:36:11,025] Trial 47 finished with value: 0.7704537993973759 and parameters: {'num_leaves': 98, 'learning_rate': 0.07185175412173121, 'feature_fraction': 0.3979362728522916, 'bagging_fraction': 0.7787934136932039, 'bagging_freq': 5, 'min_child_samples': 68}. Best is trial 41 with value: 0.771412041197344.\n"
          ]
        },
        {
          "output_type": "stream",
          "name": "stdout",
          "text": [
            "[LightGBM] [Warning] bagging_freq is set=6, subsample_freq=0 will be ignored. Current value: bagging_freq=6\n",
            "[LightGBM] [Warning] feature_fraction is set=0.4406341884143219, colsample_bytree=1.0 will be ignored. Current value: feature_fraction=0.4406341884143219\n",
            "[LightGBM] [Warning] bagging_fraction is set=0.8821693613382354, subsample=1.0 will be ignored. Current value: bagging_fraction=0.8821693613382354\n",
            "[LightGBM] [Warning] bagging_freq is set=6, subsample_freq=0 will be ignored. Current value: bagging_freq=6\n",
            "[LightGBM] [Warning] feature_fraction is set=0.4406341884143219, colsample_bytree=1.0 will be ignored. Current value: feature_fraction=0.4406341884143219\n",
            "[LightGBM] [Warning] bagging_fraction is set=0.8821693613382354, subsample=1.0 will be ignored. Current value: bagging_fraction=0.8821693613382354\n",
            "[LightGBM] [Info] Number of positive: 82925, number of negative: 404051\n",
            "[LightGBM] [Info] Auto-choosing row-wise multi-threading, the overhead of testing was 0.098394 seconds.\n",
            "You can set `force_row_wise=true` to remove the overhead.\n",
            "And if memory is not enough, you can set `force_col_wise=true`.\n",
            "[LightGBM] [Info] Total Bins 1056\n",
            "[LightGBM] [Info] Number of data points in the train set: 486976, number of used features: 29\n",
            "[LightGBM] [Info] [binary:BoostFromScore]: pavg=0.170286 -> initscore=-1.583605\n",
            "[LightGBM] [Info] Start training from score -1.583605\n",
            "[LightGBM] [Warning] feature_fraction is set=0.4406341884143219, colsample_bytree=1.0 will be ignored. Current value: feature_fraction=0.4406341884143219\n",
            "[LightGBM] [Warning] bagging_freq is set=6, subsample_freq=0 will be ignored. Current value: bagging_freq=6\n",
            "[LightGBM] [Warning] bagging_fraction is set=0.8821693613382354, subsample=1.0 will be ignored. Current value: bagging_fraction=0.8821693613382354\n"
          ]
        },
        {
          "output_type": "stream",
          "name": "stderr",
          "text": [
            "[I 2024-02-19 12:36:34,935] Trial 48 finished with value: 0.7709312443682299 and parameters: {'num_leaves': 86, 'learning_rate': 0.09856007997721511, 'feature_fraction': 0.4406341884143219, 'bagging_fraction': 0.8821693613382354, 'bagging_freq': 6, 'min_child_samples': 61}. Best is trial 41 with value: 0.771412041197344.\n"
          ]
        },
        {
          "output_type": "stream",
          "name": "stdout",
          "text": [
            "[LightGBM] [Warning] bagging_freq is set=8, subsample_freq=0 will be ignored. Current value: bagging_freq=8\n",
            "[LightGBM] [Warning] feature_fraction is set=0.4360686305981161, colsample_bytree=1.0 will be ignored. Current value: feature_fraction=0.4360686305981161\n",
            "[LightGBM] [Warning] bagging_fraction is set=0.95433439075656, subsample=1.0 will be ignored. Current value: bagging_fraction=0.95433439075656\n",
            "[LightGBM] [Warning] bagging_freq is set=8, subsample_freq=0 will be ignored. Current value: bagging_freq=8\n",
            "[LightGBM] [Warning] feature_fraction is set=0.4360686305981161, colsample_bytree=1.0 will be ignored. Current value: feature_fraction=0.4360686305981161\n",
            "[LightGBM] [Warning] bagging_fraction is set=0.95433439075656, subsample=1.0 will be ignored. Current value: bagging_fraction=0.95433439075656\n",
            "[LightGBM] [Info] Number of positive: 82925, number of negative: 404051\n",
            "[LightGBM] [Info] Auto-choosing row-wise multi-threading, the overhead of testing was 0.100242 seconds.\n",
            "You can set `force_row_wise=true` to remove the overhead.\n",
            "And if memory is not enough, you can set `force_col_wise=true`.\n",
            "[LightGBM] [Info] Total Bins 1056\n",
            "[LightGBM] [Info] Number of data points in the train set: 486976, number of used features: 29\n",
            "[LightGBM] [Info] [binary:BoostFromScore]: pavg=0.170286 -> initscore=-1.583605\n",
            "[LightGBM] [Info] Start training from score -1.583605\n",
            "[LightGBM] [Warning] feature_fraction is set=0.4360686305981161, colsample_bytree=1.0 will be ignored. Current value: feature_fraction=0.4360686305981161\n",
            "[LightGBM] [Warning] bagging_freq is set=8, subsample_freq=0 will be ignored. Current value: bagging_freq=8\n",
            "[LightGBM] [Warning] bagging_fraction is set=0.95433439075656, subsample=1.0 will be ignored. Current value: bagging_fraction=0.95433439075656\n"
          ]
        },
        {
          "output_type": "stream",
          "name": "stderr",
          "text": [
            "[I 2024-02-19 12:36:55,926] Trial 49 finished with value: 0.7713212822009133 and parameters: {'num_leaves': 135, 'learning_rate': 0.09615027121319289, 'feature_fraction': 0.4360686305981161, 'bagging_fraction': 0.95433439075656, 'bagging_freq': 8, 'min_child_samples': 62}. Best is trial 41 with value: 0.771412041197344.\n"
          ]
        },
        {
          "output_type": "stream",
          "name": "stdout",
          "text": [
            "[LightGBM] [Warning] bagging_freq is set=8, subsample_freq=0 will be ignored. Current value: bagging_freq=8\n",
            "[LightGBM] [Warning] feature_fraction is set=0.48764266951017476, colsample_bytree=1.0 will be ignored. Current value: feature_fraction=0.48764266951017476\n",
            "[LightGBM] [Warning] bagging_fraction is set=0.9967948554340529, subsample=1.0 will be ignored. Current value: bagging_fraction=0.9967948554340529\n",
            "[LightGBM] [Warning] bagging_freq is set=8, subsample_freq=0 will be ignored. Current value: bagging_freq=8\n",
            "[LightGBM] [Warning] feature_fraction is set=0.48764266951017476, colsample_bytree=1.0 will be ignored. Current value: feature_fraction=0.48764266951017476\n",
            "[LightGBM] [Warning] bagging_fraction is set=0.9967948554340529, subsample=1.0 will be ignored. Current value: bagging_fraction=0.9967948554340529\n",
            "[LightGBM] [Info] Number of positive: 82925, number of negative: 404051\n",
            "[LightGBM] [Info] Auto-choosing row-wise multi-threading, the overhead of testing was 0.100584 seconds.\n",
            "You can set `force_row_wise=true` to remove the overhead.\n",
            "And if memory is not enough, you can set `force_col_wise=true`.\n",
            "[LightGBM] [Info] Total Bins 1056\n",
            "[LightGBM] [Info] Number of data points in the train set: 486976, number of used features: 29\n",
            "[LightGBM] [Info] [binary:BoostFromScore]: pavg=0.170286 -> initscore=-1.583605\n",
            "[LightGBM] [Info] Start training from score -1.583605\n",
            "[LightGBM] [Warning] feature_fraction is set=0.48764266951017476, colsample_bytree=1.0 will be ignored. Current value: feature_fraction=0.48764266951017476\n",
            "[LightGBM] [Warning] bagging_freq is set=8, subsample_freq=0 will be ignored. Current value: bagging_freq=8\n",
            "[LightGBM] [Warning] bagging_fraction is set=0.9967948554340529, subsample=1.0 will be ignored. Current value: bagging_fraction=0.9967948554340529\n"
          ]
        },
        {
          "output_type": "stream",
          "name": "stderr",
          "text": [
            "[I 2024-02-19 12:37:21,151] Trial 50 finished with value: 0.770536768237494 and parameters: {'num_leaves': 69, 'learning_rate': 0.09956486065487757, 'feature_fraction': 0.48764266951017476, 'bagging_fraction': 0.9967948554340529, 'bagging_freq': 8, 'min_child_samples': 41}. Best is trial 41 with value: 0.771412041197344.\n"
          ]
        },
        {
          "output_type": "stream",
          "name": "stdout",
          "text": [
            "[LightGBM] [Warning] bagging_freq is set=9, subsample_freq=0 will be ignored. Current value: bagging_freq=9\n",
            "[LightGBM] [Warning] feature_fraction is set=0.5156842059181246, colsample_bytree=1.0 will be ignored. Current value: feature_fraction=0.5156842059181246\n",
            "[LightGBM] [Warning] bagging_fraction is set=0.9545348094221534, subsample=1.0 will be ignored. Current value: bagging_fraction=0.9545348094221534\n",
            "[LightGBM] [Warning] bagging_freq is set=9, subsample_freq=0 will be ignored. Current value: bagging_freq=9\n",
            "[LightGBM] [Warning] feature_fraction is set=0.5156842059181246, colsample_bytree=1.0 will be ignored. Current value: feature_fraction=0.5156842059181246\n",
            "[LightGBM] [Warning] bagging_fraction is set=0.9545348094221534, subsample=1.0 will be ignored. Current value: bagging_fraction=0.9545348094221534\n",
            "[LightGBM] [Info] Number of positive: 82925, number of negative: 404051\n",
            "[LightGBM] [Info] Auto-choosing col-wise multi-threading, the overhead of testing was 0.301849 seconds.\n",
            "You can set `force_col_wise=true` to remove the overhead.\n",
            "[LightGBM] [Info] Total Bins 1056\n",
            "[LightGBM] [Info] Number of data points in the train set: 486976, number of used features: 29\n",
            "[LightGBM] [Info] [binary:BoostFromScore]: pavg=0.170286 -> initscore=-1.583605\n",
            "[LightGBM] [Info] Start training from score -1.583605\n",
            "[LightGBM] [Warning] feature_fraction is set=0.5156842059181246, colsample_bytree=1.0 will be ignored. Current value: feature_fraction=0.5156842059181246\n",
            "[LightGBM] [Warning] bagging_freq is set=9, subsample_freq=0 will be ignored. Current value: bagging_freq=9\n",
            "[LightGBM] [Warning] bagging_fraction is set=0.9545348094221534, subsample=1.0 will be ignored. Current value: bagging_fraction=0.9545348094221534\n"
          ]
        },
        {
          "output_type": "stream",
          "name": "stderr",
          "text": [
            "[I 2024-02-19 12:37:43,375] Trial 51 finished with value: 0.770630539862243 and parameters: {'num_leaves': 140, 'learning_rate': 0.09628322890775833, 'feature_fraction': 0.5156842059181246, 'bagging_fraction': 0.9545348094221534, 'bagging_freq': 9, 'min_child_samples': 58}. Best is trial 41 with value: 0.771412041197344.\n"
          ]
        },
        {
          "output_type": "stream",
          "name": "stdout",
          "text": [
            "[LightGBM] [Warning] bagging_freq is set=6, subsample_freq=0 will be ignored. Current value: bagging_freq=6\n",
            "[LightGBM] [Warning] feature_fraction is set=0.43614364888575885, colsample_bytree=1.0 will be ignored. Current value: feature_fraction=0.43614364888575885\n",
            "[LightGBM] [Warning] bagging_fraction is set=0.8788222693461178, subsample=1.0 will be ignored. Current value: bagging_fraction=0.8788222693461178\n",
            "[LightGBM] [Warning] bagging_freq is set=6, subsample_freq=0 will be ignored. Current value: bagging_freq=6\n",
            "[LightGBM] [Warning] feature_fraction is set=0.43614364888575885, colsample_bytree=1.0 will be ignored. Current value: feature_fraction=0.43614364888575885\n",
            "[LightGBM] [Warning] bagging_fraction is set=0.8788222693461178, subsample=1.0 will be ignored. Current value: bagging_fraction=0.8788222693461178\n",
            "[LightGBM] [Info] Number of positive: 82925, number of negative: 404051\n",
            "[LightGBM] [Info] Auto-choosing row-wise multi-threading, the overhead of testing was 0.096629 seconds.\n",
            "You can set `force_row_wise=true` to remove the overhead.\n",
            "And if memory is not enough, you can set `force_col_wise=true`.\n",
            "[LightGBM] [Info] Total Bins 1056\n",
            "[LightGBM] [Info] Number of data points in the train set: 486976, number of used features: 29\n",
            "[LightGBM] [Info] [binary:BoostFromScore]: pavg=0.170286 -> initscore=-1.583605\n",
            "[LightGBM] [Info] Start training from score -1.583605\n",
            "[LightGBM] [Warning] feature_fraction is set=0.43614364888575885, colsample_bytree=1.0 will be ignored. Current value: feature_fraction=0.43614364888575885\n",
            "[LightGBM] [Warning] bagging_freq is set=6, subsample_freq=0 will be ignored. Current value: bagging_freq=6\n",
            "[LightGBM] [Warning] bagging_fraction is set=0.8788222693461178, subsample=1.0 will be ignored. Current value: bagging_fraction=0.8788222693461178\n"
          ]
        },
        {
          "output_type": "stream",
          "name": "stderr",
          "text": [
            "[I 2024-02-19 12:38:04,934] Trial 52 finished with value: 0.7595235335338689 and parameters: {'num_leaves': 135, 'learning_rate': 0.002006709919005367, 'feature_fraction': 0.43614364888575885, 'bagging_fraction': 0.8788222693461178, 'bagging_freq': 6, 'min_child_samples': 61}. Best is trial 41 with value: 0.771412041197344.\n"
          ]
        },
        {
          "output_type": "stream",
          "name": "stdout",
          "text": [
            "[LightGBM] [Warning] bagging_freq is set=8, subsample_freq=0 will be ignored. Current value: bagging_freq=8\n",
            "[LightGBM] [Warning] feature_fraction is set=0.4634038475945066, colsample_bytree=1.0 will be ignored. Current value: feature_fraction=0.4634038475945066\n",
            "[LightGBM] [Warning] bagging_fraction is set=0.9544121143661696, subsample=1.0 will be ignored. Current value: bagging_fraction=0.9544121143661696\n",
            "[LightGBM] [Warning] bagging_freq is set=8, subsample_freq=0 will be ignored. Current value: bagging_freq=8\n",
            "[LightGBM] [Warning] feature_fraction is set=0.4634038475945066, colsample_bytree=1.0 will be ignored. Current value: feature_fraction=0.4634038475945066\n",
            "[LightGBM] [Warning] bagging_fraction is set=0.9544121143661696, subsample=1.0 will be ignored. Current value: bagging_fraction=0.9544121143661696\n",
            "[LightGBM] [Info] Number of positive: 82925, number of negative: 404051\n",
            "[LightGBM] [Info] Auto-choosing row-wise multi-threading, the overhead of testing was 0.077473 seconds.\n",
            "You can set `force_row_wise=true` to remove the overhead.\n",
            "And if memory is not enough, you can set `force_col_wise=true`.\n",
            "[LightGBM] [Info] Total Bins 1056\n",
            "[LightGBM] [Info] Number of data points in the train set: 486976, number of used features: 29\n",
            "[LightGBM] [Info] [binary:BoostFromScore]: pavg=0.170286 -> initscore=-1.583605\n",
            "[LightGBM] [Info] Start training from score -1.583605\n",
            "[LightGBM] [Warning] feature_fraction is set=0.4634038475945066, colsample_bytree=1.0 will be ignored. Current value: feature_fraction=0.4634038475945066\n",
            "[LightGBM] [Warning] bagging_freq is set=8, subsample_freq=0 will be ignored. Current value: bagging_freq=8\n",
            "[LightGBM] [Warning] bagging_fraction is set=0.9544121143661696, subsample=1.0 will be ignored. Current value: bagging_fraction=0.9544121143661696\n"
          ]
        },
        {
          "output_type": "stream",
          "name": "stderr",
          "text": [
            "[I 2024-02-19 12:38:31,105] Trial 53 finished with value: 0.7708721141629165 and parameters: {'num_leaves': 110, 'learning_rate': 0.08637414110980916, 'feature_fraction': 0.4634038475945066, 'bagging_fraction': 0.9544121143661696, 'bagging_freq': 8, 'min_child_samples': 62}. Best is trial 41 with value: 0.771412041197344.\n"
          ]
        },
        {
          "output_type": "stream",
          "name": "stdout",
          "text": [
            "[LightGBM] [Warning] bagging_freq is set=6, subsample_freq=0 will be ignored. Current value: bagging_freq=6\n",
            "[LightGBM] [Warning] feature_fraction is set=0.31575047030028214, colsample_bytree=1.0 will be ignored. Current value: feature_fraction=0.31575047030028214\n",
            "[LightGBM] [Warning] bagging_fraction is set=0.882958737914616, subsample=1.0 will be ignored. Current value: bagging_fraction=0.882958737914616\n",
            "[LightGBM] [Warning] bagging_freq is set=6, subsample_freq=0 will be ignored. Current value: bagging_freq=6\n",
            "[LightGBM] [Warning] feature_fraction is set=0.31575047030028214, colsample_bytree=1.0 will be ignored. Current value: feature_fraction=0.31575047030028214\n",
            "[LightGBM] [Warning] bagging_fraction is set=0.882958737914616, subsample=1.0 will be ignored. Current value: bagging_fraction=0.882958737914616\n",
            "[LightGBM] [Info] Number of positive: 82925, number of negative: 404051\n",
            "[LightGBM] [Info] Auto-choosing row-wise multi-threading, the overhead of testing was 0.077465 seconds.\n",
            "You can set `force_row_wise=true` to remove the overhead.\n",
            "And if memory is not enough, you can set `force_col_wise=true`.\n",
            "[LightGBM] [Info] Total Bins 1056\n",
            "[LightGBM] [Info] Number of data points in the train set: 486976, number of used features: 29\n",
            "[LightGBM] [Info] [binary:BoostFromScore]: pavg=0.170286 -> initscore=-1.583605\n",
            "[LightGBM] [Info] Start training from score -1.583605\n",
            "[LightGBM] [Warning] feature_fraction is set=0.31575047030028214, colsample_bytree=1.0 will be ignored. Current value: feature_fraction=0.31575047030028214\n",
            "[LightGBM] [Warning] bagging_freq is set=6, subsample_freq=0 will be ignored. Current value: bagging_freq=6\n",
            "[LightGBM] [Warning] bagging_fraction is set=0.882958737914616, subsample=1.0 will be ignored. Current value: bagging_fraction=0.882958737914616\n"
          ]
        },
        {
          "output_type": "stream",
          "name": "stderr",
          "text": [
            "[I 2024-02-19 12:38:56,525] Trial 54 finished with value: 0.7700305938686012 and parameters: {'num_leaves': 79, 'learning_rate': 0.09404266745111788, 'feature_fraction': 0.31575047030028214, 'bagging_fraction': 0.882958737914616, 'bagging_freq': 6, 'min_child_samples': 50}. Best is trial 41 with value: 0.771412041197344.\n"
          ]
        },
        {
          "output_type": "stream",
          "name": "stdout",
          "text": [
            "[LightGBM] [Warning] bagging_freq is set=9, subsample_freq=0 will be ignored. Current value: bagging_freq=9\n",
            "[LightGBM] [Warning] feature_fraction is set=0.20471094536783793, colsample_bytree=1.0 will be ignored. Current value: feature_fraction=0.20471094536783793\n",
            "[LightGBM] [Warning] bagging_fraction is set=0.80171354286042, subsample=1.0 will be ignored. Current value: bagging_fraction=0.80171354286042\n",
            "[LightGBM] [Warning] bagging_freq is set=9, subsample_freq=0 will be ignored. Current value: bagging_freq=9\n",
            "[LightGBM] [Warning] feature_fraction is set=0.20471094536783793, colsample_bytree=1.0 will be ignored. Current value: feature_fraction=0.20471094536783793\n",
            "[LightGBM] [Warning] bagging_fraction is set=0.80171354286042, subsample=1.0 will be ignored. Current value: bagging_fraction=0.80171354286042\n",
            "[LightGBM] [Info] Number of positive: 82925, number of negative: 404051\n",
            "[LightGBM] [Info] Auto-choosing col-wise multi-threading, the overhead of testing was 0.320788 seconds.\n",
            "You can set `force_col_wise=true` to remove the overhead.\n",
            "[LightGBM] [Info] Total Bins 1056\n",
            "[LightGBM] [Info] Number of data points in the train set: 486976, number of used features: 29\n",
            "[LightGBM] [Info] [binary:BoostFromScore]: pavg=0.170286 -> initscore=-1.583605\n",
            "[LightGBM] [Info] Start training from score -1.583605\n",
            "[LightGBM] [Warning] feature_fraction is set=0.20471094536783793, colsample_bytree=1.0 will be ignored. Current value: feature_fraction=0.20471094536783793\n",
            "[LightGBM] [Warning] bagging_freq is set=9, subsample_freq=0 will be ignored. Current value: bagging_freq=9\n",
            "[LightGBM] [Warning] bagging_fraction is set=0.80171354286042, subsample=1.0 will be ignored. Current value: bagging_fraction=0.80171354286042\n"
          ]
        },
        {
          "output_type": "stream",
          "name": "stderr",
          "text": [
            "[I 2024-02-19 12:39:16,167] Trial 55 finished with value: 0.7656551301934876 and parameters: {'num_leaves': 145, 'learning_rate': 0.08449939984010725, 'feature_fraction': 0.20471094536783793, 'bagging_fraction': 0.80171354286042, 'bagging_freq': 9, 'min_child_samples': 66}. Best is trial 41 with value: 0.771412041197344.\n"
          ]
        },
        {
          "output_type": "stream",
          "name": "stdout",
          "text": [
            "[LightGBM] [Warning] bagging_freq is set=7, subsample_freq=0 will be ignored. Current value: bagging_freq=7\n",
            "[LightGBM] [Warning] feature_fraction is set=0.3816016569507548, colsample_bytree=1.0 will be ignored. Current value: feature_fraction=0.3816016569507548\n",
            "[LightGBM] [Warning] bagging_fraction is set=0.8961500674596463, subsample=1.0 will be ignored. Current value: bagging_fraction=0.8961500674596463\n",
            "[LightGBM] [Warning] bagging_freq is set=7, subsample_freq=0 will be ignored. Current value: bagging_freq=7\n",
            "[LightGBM] [Warning] feature_fraction is set=0.3816016569507548, colsample_bytree=1.0 will be ignored. Current value: feature_fraction=0.3816016569507548\n",
            "[LightGBM] [Warning] bagging_fraction is set=0.8961500674596463, subsample=1.0 will be ignored. Current value: bagging_fraction=0.8961500674596463\n",
            "[LightGBM] [Info] Number of positive: 82925, number of negative: 404051\n",
            "[LightGBM] [Info] Auto-choosing col-wise multi-threading, the overhead of testing was 0.224439 seconds.\n",
            "You can set `force_col_wise=true` to remove the overhead.\n",
            "[LightGBM] [Info] Total Bins 1056\n",
            "[LightGBM] [Info] Number of data points in the train set: 486976, number of used features: 29\n",
            "[LightGBM] [Info] [binary:BoostFromScore]: pavg=0.170286 -> initscore=-1.583605\n",
            "[LightGBM] [Info] Start training from score -1.583605\n",
            "[LightGBM] [Warning] feature_fraction is set=0.3816016569507548, colsample_bytree=1.0 will be ignored. Current value: feature_fraction=0.3816016569507548\n",
            "[LightGBM] [Warning] bagging_freq is set=7, subsample_freq=0 will be ignored. Current value: bagging_freq=7\n",
            "[LightGBM] [Warning] bagging_fraction is set=0.8961500674596463, subsample=1.0 will be ignored. Current value: bagging_fraction=0.8961500674596463\n"
          ]
        },
        {
          "output_type": "stream",
          "name": "stderr",
          "text": [
            "[I 2024-02-19 12:39:40,966] Trial 56 finished with value: 0.7712112772577955 and parameters: {'num_leaves': 167, 'learning_rate': 0.0926807324454115, 'feature_fraction': 0.3816016569507548, 'bagging_fraction': 0.8961500674596463, 'bagging_freq': 7, 'min_child_samples': 100}. Best is trial 41 with value: 0.771412041197344.\n"
          ]
        },
        {
          "output_type": "stream",
          "name": "stdout",
          "text": [
            "[LightGBM] [Warning] bagging_freq is set=7, subsample_freq=0 will be ignored. Current value: bagging_freq=7\n",
            "[LightGBM] [Warning] feature_fraction is set=0.3927677792545756, colsample_bytree=1.0 will be ignored. Current value: feature_fraction=0.3927677792545756\n",
            "[LightGBM] [Warning] bagging_fraction is set=0.8413987985723688, subsample=1.0 will be ignored. Current value: bagging_fraction=0.8413987985723688\n",
            "[LightGBM] [Warning] bagging_freq is set=7, subsample_freq=0 will be ignored. Current value: bagging_freq=7\n",
            "[LightGBM] [Warning] feature_fraction is set=0.3927677792545756, colsample_bytree=1.0 will be ignored. Current value: feature_fraction=0.3927677792545756\n",
            "[LightGBM] [Warning] bagging_fraction is set=0.8413987985723688, subsample=1.0 will be ignored. Current value: bagging_fraction=0.8413987985723688\n",
            "[LightGBM] [Info] Number of positive: 82925, number of negative: 404051\n",
            "[LightGBM] [Info] Auto-choosing col-wise multi-threading, the overhead of testing was 0.181215 seconds.\n",
            "You can set `force_col_wise=true` to remove the overhead.\n",
            "[LightGBM] [Info] Total Bins 1056\n",
            "[LightGBM] [Info] Number of data points in the train set: 486976, number of used features: 29\n",
            "[LightGBM] [Info] [binary:BoostFromScore]: pavg=0.170286 -> initscore=-1.583605\n",
            "[LightGBM] [Info] Start training from score -1.583605\n",
            "[LightGBM] [Warning] feature_fraction is set=0.3927677792545756, colsample_bytree=1.0 will be ignored. Current value: feature_fraction=0.3927677792545756\n",
            "[LightGBM] [Warning] bagging_freq is set=7, subsample_freq=0 will be ignored. Current value: bagging_freq=7\n",
            "[LightGBM] [Warning] bagging_fraction is set=0.8413987985723688, subsample=1.0 will be ignored. Current value: bagging_fraction=0.8413987985723688\n"
          ]
        },
        {
          "output_type": "stream",
          "name": "stderr",
          "text": [
            "[I 2024-02-19 12:40:00,045] Trial 57 finished with value: 0.7704491408139615 and parameters: {'num_leaves': 186, 'learning_rate': 0.09970846361872267, 'feature_fraction': 0.3927677792545756, 'bagging_fraction': 0.8413987985723688, 'bagging_freq': 7, 'min_child_samples': 97}. Best is trial 41 with value: 0.771412041197344.\n"
          ]
        },
        {
          "output_type": "stream",
          "name": "stdout",
          "text": [
            "[LightGBM] [Warning] bagging_freq is set=6, subsample_freq=0 will be ignored. Current value: bagging_freq=6\n",
            "[LightGBM] [Warning] feature_fraction is set=0.3321292846449311, colsample_bytree=1.0 will be ignored. Current value: feature_fraction=0.3321292846449311\n",
            "[LightGBM] [Warning] bagging_fraction is set=0.9626210749310716, subsample=1.0 will be ignored. Current value: bagging_fraction=0.9626210749310716\n",
            "[LightGBM] [Warning] bagging_freq is set=6, subsample_freq=0 will be ignored. Current value: bagging_freq=6\n",
            "[LightGBM] [Warning] feature_fraction is set=0.3321292846449311, colsample_bytree=1.0 will be ignored. Current value: feature_fraction=0.3321292846449311\n",
            "[LightGBM] [Warning] bagging_fraction is set=0.9626210749310716, subsample=1.0 will be ignored. Current value: bagging_fraction=0.9626210749310716\n",
            "[LightGBM] [Info] Number of positive: 82925, number of negative: 404051\n",
            "[LightGBM] [Info] Auto-choosing row-wise multi-threading, the overhead of testing was 0.076590 seconds.\n",
            "You can set `force_row_wise=true` to remove the overhead.\n",
            "And if memory is not enough, you can set `force_col_wise=true`.\n",
            "[LightGBM] [Info] Total Bins 1056\n",
            "[LightGBM] [Info] Number of data points in the train set: 486976, number of used features: 29\n",
            "[LightGBM] [Info] [binary:BoostFromScore]: pavg=0.170286 -> initscore=-1.583605\n",
            "[LightGBM] [Info] Start training from score -1.583605\n",
            "[LightGBM] [Warning] feature_fraction is set=0.3321292846449311, colsample_bytree=1.0 will be ignored. Current value: feature_fraction=0.3321292846449311\n",
            "[LightGBM] [Warning] bagging_freq is set=6, subsample_freq=0 will be ignored. Current value: bagging_freq=6\n",
            "[LightGBM] [Warning] bagging_fraction is set=0.9626210749310716, subsample=1.0 will be ignored. Current value: bagging_fraction=0.9626210749310716\n"
          ]
        },
        {
          "output_type": "stream",
          "name": "stderr",
          "text": [
            "[I 2024-02-19 12:40:22,150] Trial 58 finished with value: 0.7711422615684506 and parameters: {'num_leaves': 170, 'learning_rate': 0.0924092073627089, 'feature_fraction': 0.3321292846449311, 'bagging_fraction': 0.9626210749310716, 'bagging_freq': 6, 'min_child_samples': 94}. Best is trial 41 with value: 0.771412041197344.\n"
          ]
        },
        {
          "output_type": "stream",
          "name": "stdout",
          "text": [
            "[LightGBM] [Warning] bagging_freq is set=7, subsample_freq=0 will be ignored. Current value: bagging_freq=7\n",
            "[LightGBM] [Warning] feature_fraction is set=0.318724959682528, colsample_bytree=1.0 will be ignored. Current value: feature_fraction=0.318724959682528\n",
            "[LightGBM] [Warning] bagging_fraction is set=0.9718518488014413, subsample=1.0 will be ignored. Current value: bagging_fraction=0.9718518488014413\n",
            "[LightGBM] [Warning] bagging_freq is set=7, subsample_freq=0 will be ignored. Current value: bagging_freq=7\n",
            "[LightGBM] [Warning] feature_fraction is set=0.318724959682528, colsample_bytree=1.0 will be ignored. Current value: feature_fraction=0.318724959682528\n",
            "[LightGBM] [Warning] bagging_fraction is set=0.9718518488014413, subsample=1.0 will be ignored. Current value: bagging_fraction=0.9718518488014413\n",
            "[LightGBM] [Info] Number of positive: 82925, number of negative: 404051\n",
            "[LightGBM] [Info] Auto-choosing row-wise multi-threading, the overhead of testing was 0.065805 seconds.\n",
            "You can set `force_row_wise=true` to remove the overhead.\n",
            "And if memory is not enough, you can set `force_col_wise=true`.\n",
            "[LightGBM] [Info] Total Bins 1056\n",
            "[LightGBM] [Info] Number of data points in the train set: 486976, number of used features: 29\n",
            "[LightGBM] [Info] [binary:BoostFromScore]: pavg=0.170286 -> initscore=-1.583605\n",
            "[LightGBM] [Info] Start training from score -1.583605\n",
            "[LightGBM] [Warning] feature_fraction is set=0.318724959682528, colsample_bytree=1.0 will be ignored. Current value: feature_fraction=0.318724959682528\n",
            "[LightGBM] [Warning] bagging_freq is set=7, subsample_freq=0 will be ignored. Current value: bagging_freq=7\n",
            "[LightGBM] [Warning] bagging_fraction is set=0.9718518488014413, subsample=1.0 will be ignored. Current value: bagging_fraction=0.9718518488014413\n"
          ]
        },
        {
          "output_type": "stream",
          "name": "stderr",
          "text": [
            "[I 2024-02-19 12:40:52,208] Trial 59 finished with value: 0.7704789949519474 and parameters: {'num_leaves': 167, 'learning_rate': 0.09258211233959551, 'feature_fraction': 0.318724959682528, 'bagging_fraction': 0.9718518488014413, 'bagging_freq': 7, 'min_child_samples': 100}. Best is trial 41 with value: 0.771412041197344.\n"
          ]
        },
        {
          "output_type": "stream",
          "name": "stdout",
          "text": [
            "[LightGBM] [Warning] bagging_freq is set=7, subsample_freq=0 will be ignored. Current value: bagging_freq=7\n",
            "[LightGBM] [Warning] feature_fraction is set=0.2511794932618212, colsample_bytree=1.0 will be ignored. Current value: feature_fraction=0.2511794932618212\n",
            "[LightGBM] [Warning] bagging_fraction is set=0.9433528891675943, subsample=1.0 will be ignored. Current value: bagging_fraction=0.9433528891675943\n",
            "[LightGBM] [Warning] bagging_freq is set=7, subsample_freq=0 will be ignored. Current value: bagging_freq=7\n",
            "[LightGBM] [Warning] feature_fraction is set=0.2511794932618212, colsample_bytree=1.0 will be ignored. Current value: feature_fraction=0.2511794932618212\n",
            "[LightGBM] [Warning] bagging_fraction is set=0.9433528891675943, subsample=1.0 will be ignored. Current value: bagging_fraction=0.9433528891675943\n",
            "[LightGBM] [Info] Number of positive: 82925, number of negative: 404051\n",
            "[LightGBM] [Info] Auto-choosing col-wise multi-threading, the overhead of testing was 0.176343 seconds.\n",
            "You can set `force_col_wise=true` to remove the overhead.\n",
            "[LightGBM] [Info] Total Bins 1056\n",
            "[LightGBM] [Info] Number of data points in the train set: 486976, number of used features: 29\n",
            "[LightGBM] [Info] [binary:BoostFromScore]: pavg=0.170286 -> initscore=-1.583605\n",
            "[LightGBM] [Info] Start training from score -1.583605\n",
            "[LightGBM] [Warning] feature_fraction is set=0.2511794932618212, colsample_bytree=1.0 will be ignored. Current value: feature_fraction=0.2511794932618212\n",
            "[LightGBM] [Warning] bagging_freq is set=7, subsample_freq=0 will be ignored. Current value: bagging_freq=7\n",
            "[LightGBM] [Warning] bagging_fraction is set=0.9433528891675943, subsample=1.0 will be ignored. Current value: bagging_fraction=0.9433528891675943\n"
          ]
        },
        {
          "output_type": "stream",
          "name": "stderr",
          "text": [
            "[I 2024-02-19 12:41:15,999] Trial 60 finished with value: 0.7681807699037723 and parameters: {'num_leaves': 177, 'learning_rate': 0.0764683958378706, 'feature_fraction': 0.2511794932618212, 'bagging_fraction': 0.9433528891675943, 'bagging_freq': 7, 'min_child_samples': 93}. Best is trial 41 with value: 0.771412041197344.\n"
          ]
        },
        {
          "output_type": "stream",
          "name": "stdout",
          "text": [
            "[LightGBM] [Warning] bagging_freq is set=6, subsample_freq=0 will be ignored. Current value: bagging_freq=6\n",
            "[LightGBM] [Warning] feature_fraction is set=0.42824236282806205, colsample_bytree=1.0 will be ignored. Current value: feature_fraction=0.42824236282806205\n",
            "[LightGBM] [Warning] bagging_fraction is set=0.9011378558109493, subsample=1.0 will be ignored. Current value: bagging_fraction=0.9011378558109493\n",
            "[LightGBM] [Warning] bagging_freq is set=6, subsample_freq=0 will be ignored. Current value: bagging_freq=6\n",
            "[LightGBM] [Warning] feature_fraction is set=0.42824236282806205, colsample_bytree=1.0 will be ignored. Current value: feature_fraction=0.42824236282806205\n",
            "[LightGBM] [Warning] bagging_fraction is set=0.9011378558109493, subsample=1.0 will be ignored. Current value: bagging_fraction=0.9011378558109493\n",
            "[LightGBM] [Info] Number of positive: 82925, number of negative: 404051\n",
            "[LightGBM] [Info] Auto-choosing row-wise multi-threading, the overhead of testing was 0.068542 seconds.\n",
            "You can set `force_row_wise=true` to remove the overhead.\n",
            "And if memory is not enough, you can set `force_col_wise=true`.\n",
            "[LightGBM] [Info] Total Bins 1056\n",
            "[LightGBM] [Info] Number of data points in the train set: 486976, number of used features: 29\n",
            "[LightGBM] [Info] [binary:BoostFromScore]: pavg=0.170286 -> initscore=-1.583605\n",
            "[LightGBM] [Info] Start training from score -1.583605\n",
            "[LightGBM] [Warning] feature_fraction is set=0.42824236282806205, colsample_bytree=1.0 will be ignored. Current value: feature_fraction=0.42824236282806205\n",
            "[LightGBM] [Warning] bagging_freq is set=6, subsample_freq=0 will be ignored. Current value: bagging_freq=6\n",
            "[LightGBM] [Warning] bagging_fraction is set=0.9011378558109493, subsample=1.0 will be ignored. Current value: bagging_fraction=0.9011378558109493\n"
          ]
        },
        {
          "output_type": "stream",
          "name": "stderr",
          "text": [
            "[I 2024-02-19 12:41:41,245] Trial 61 finished with value: 0.770967791517724 and parameters: {'num_leaves': 160, 'learning_rate': 0.09709049423194638, 'feature_fraction': 0.42824236282806205, 'bagging_fraction': 0.9011378558109493, 'bagging_freq': 6, 'min_child_samples': 86}. Best is trial 41 with value: 0.771412041197344.\n"
          ]
        },
        {
          "output_type": "stream",
          "name": "stdout",
          "text": [
            "[LightGBM] [Warning] bagging_freq is set=5, subsample_freq=0 will be ignored. Current value: bagging_freq=5\n",
            "[LightGBM] [Warning] feature_fraction is set=0.48545029747827595, colsample_bytree=1.0 will be ignored. Current value: feature_fraction=0.48545029747827595\n",
            "[LightGBM] [Warning] bagging_fraction is set=0.8962018641966168, subsample=1.0 will be ignored. Current value: bagging_fraction=0.8962018641966168\n",
            "[LightGBM] [Warning] bagging_freq is set=5, subsample_freq=0 will be ignored. Current value: bagging_freq=5\n",
            "[LightGBM] [Warning] feature_fraction is set=0.48545029747827595, colsample_bytree=1.0 will be ignored. Current value: feature_fraction=0.48545029747827595\n",
            "[LightGBM] [Warning] bagging_fraction is set=0.8962018641966168, subsample=1.0 will be ignored. Current value: bagging_fraction=0.8962018641966168\n",
            "[LightGBM] [Info] Number of positive: 82925, number of negative: 404051\n",
            "[LightGBM] [Info] Auto-choosing row-wise multi-threading, the overhead of testing was 0.068086 seconds.\n",
            "You can set `force_row_wise=true` to remove the overhead.\n",
            "And if memory is not enough, you can set `force_col_wise=true`.\n",
            "[LightGBM] [Info] Total Bins 1056\n",
            "[LightGBM] [Info] Number of data points in the train set: 486976, number of used features: 29\n",
            "[LightGBM] [Info] [binary:BoostFromScore]: pavg=0.170286 -> initscore=-1.583605\n",
            "[LightGBM] [Info] Start training from score -1.583605\n",
            "[LightGBM] [Warning] feature_fraction is set=0.48545029747827595, colsample_bytree=1.0 will be ignored. Current value: feature_fraction=0.48545029747827595\n",
            "[LightGBM] [Warning] bagging_freq is set=5, subsample_freq=0 will be ignored. Current value: bagging_freq=5\n",
            "[LightGBM] [Warning] bagging_fraction is set=0.8962018641966168, subsample=1.0 will be ignored. Current value: bagging_fraction=0.8962018641966168\n"
          ]
        },
        {
          "output_type": "stream",
          "name": "stderr",
          "text": [
            "[I 2024-02-19 12:42:08,933] Trial 62 finished with value: 0.7710638014415767 and parameters: {'num_leaves': 161, 'learning_rate': 0.09188485542714424, 'feature_fraction': 0.48545029747827595, 'bagging_fraction': 0.8962018641966168, 'bagging_freq': 5, 'min_child_samples': 86}. Best is trial 41 with value: 0.771412041197344.\n"
          ]
        },
        {
          "output_type": "stream",
          "name": "stdout",
          "text": [
            "[LightGBM] [Warning] bagging_freq is set=5, subsample_freq=0 will be ignored. Current value: bagging_freq=5\n",
            "[LightGBM] [Warning] feature_fraction is set=0.48808206117903397, colsample_bytree=1.0 will be ignored. Current value: feature_fraction=0.48808206117903397\n",
            "[LightGBM] [Warning] bagging_fraction is set=0.934859962618708, subsample=1.0 will be ignored. Current value: bagging_fraction=0.934859962618708\n",
            "[LightGBM] [Warning] bagging_freq is set=5, subsample_freq=0 will be ignored. Current value: bagging_freq=5\n",
            "[LightGBM] [Warning] feature_fraction is set=0.48808206117903397, colsample_bytree=1.0 will be ignored. Current value: feature_fraction=0.48808206117903397\n",
            "[LightGBM] [Warning] bagging_fraction is set=0.934859962618708, subsample=1.0 will be ignored. Current value: bagging_fraction=0.934859962618708\n",
            "[LightGBM] [Info] Number of positive: 82925, number of negative: 404051\n",
            "[LightGBM] [Info] Auto-choosing row-wise multi-threading, the overhead of testing was 0.111164 seconds.\n",
            "You can set `force_row_wise=true` to remove the overhead.\n",
            "And if memory is not enough, you can set `force_col_wise=true`.\n",
            "[LightGBM] [Info] Total Bins 1056\n",
            "[LightGBM] [Info] Number of data points in the train set: 486976, number of used features: 29\n",
            "[LightGBM] [Info] [binary:BoostFromScore]: pavg=0.170286 -> initscore=-1.583605\n",
            "[LightGBM] [Info] Start training from score -1.583605\n",
            "[LightGBM] [Warning] feature_fraction is set=0.48808206117903397, colsample_bytree=1.0 will be ignored. Current value: feature_fraction=0.48808206117903397\n",
            "[LightGBM] [Warning] bagging_freq is set=5, subsample_freq=0 will be ignored. Current value: bagging_freq=5\n",
            "[LightGBM] [Warning] bagging_fraction is set=0.934859962618708, subsample=1.0 will be ignored. Current value: bagging_fraction=0.934859962618708\n"
          ]
        },
        {
          "output_type": "stream",
          "name": "stderr",
          "text": [
            "[I 2024-02-19 12:42:37,675] Trial 63 finished with value: 0.7712068234969476 and parameters: {'num_leaves': 180, 'learning_rate': 0.09225022972571048, 'feature_fraction': 0.48808206117903397, 'bagging_fraction': 0.934859962618708, 'bagging_freq': 5, 'min_child_samples': 92}. Best is trial 41 with value: 0.771412041197344.\n"
          ]
        },
        {
          "output_type": "stream",
          "name": "stdout",
          "text": [
            "[LightGBM] [Warning] bagging_freq is set=5, subsample_freq=0 will be ignored. Current value: bagging_freq=5\n",
            "[LightGBM] [Warning] feature_fraction is set=0.3822694628236306, colsample_bytree=1.0 will be ignored. Current value: feature_fraction=0.3822694628236306\n",
            "[LightGBM] [Warning] bagging_fraction is set=0.9923033662057441, subsample=1.0 will be ignored. Current value: bagging_fraction=0.9923033662057441\n",
            "[LightGBM] [Warning] bagging_freq is set=5, subsample_freq=0 will be ignored. Current value: bagging_freq=5\n",
            "[LightGBM] [Warning] feature_fraction is set=0.3822694628236306, colsample_bytree=1.0 will be ignored. Current value: feature_fraction=0.3822694628236306\n",
            "[LightGBM] [Warning] bagging_fraction is set=0.9923033662057441, subsample=1.0 will be ignored. Current value: bagging_fraction=0.9923033662057441\n",
            "[LightGBM] [Info] Number of positive: 82925, number of negative: 404051\n",
            "[LightGBM] [Info] Auto-choosing row-wise multi-threading, the overhead of testing was 0.064329 seconds.\n",
            "You can set `force_row_wise=true` to remove the overhead.\n",
            "And if memory is not enough, you can set `force_col_wise=true`.\n",
            "[LightGBM] [Info] Total Bins 1056\n",
            "[LightGBM] [Info] Number of data points in the train set: 486976, number of used features: 29\n",
            "[LightGBM] [Info] [binary:BoostFromScore]: pavg=0.170286 -> initscore=-1.583605\n",
            "[LightGBM] [Info] Start training from score -1.583605\n",
            "[LightGBM] [Warning] feature_fraction is set=0.3822694628236306, colsample_bytree=1.0 will be ignored. Current value: feature_fraction=0.3822694628236306\n",
            "[LightGBM] [Warning] bagging_freq is set=5, subsample_freq=0 will be ignored. Current value: bagging_freq=5\n",
            "[LightGBM] [Warning] bagging_fraction is set=0.9923033662057441, subsample=1.0 will be ignored. Current value: bagging_fraction=0.9923033662057441\n"
          ]
        },
        {
          "output_type": "stream",
          "name": "stderr",
          "text": [
            "[I 2024-02-19 12:43:01,146] Trial 64 finished with value: 0.7711297842820243 and parameters: {'num_leaves': 176, 'learning_rate': 0.08474233862920434, 'feature_fraction': 0.3822694628236306, 'bagging_fraction': 0.9923033662057441, 'bagging_freq': 5, 'min_child_samples': 92}. Best is trial 41 with value: 0.771412041197344.\n"
          ]
        },
        {
          "output_type": "stream",
          "name": "stdout",
          "text": [
            "[LightGBM] [Warning] bagging_freq is set=5, subsample_freq=0 will be ignored. Current value: bagging_freq=5\n",
            "[LightGBM] [Warning] feature_fraction is set=0.38512252709233435, colsample_bytree=1.0 will be ignored. Current value: feature_fraction=0.38512252709233435\n",
            "[LightGBM] [Warning] bagging_fraction is set=0.9821828265780927, subsample=1.0 will be ignored. Current value: bagging_fraction=0.9821828265780927\n",
            "[LightGBM] [Warning] bagging_freq is set=5, subsample_freq=0 will be ignored. Current value: bagging_freq=5\n",
            "[LightGBM] [Warning] feature_fraction is set=0.38512252709233435, colsample_bytree=1.0 will be ignored. Current value: feature_fraction=0.38512252709233435\n",
            "[LightGBM] [Warning] bagging_fraction is set=0.9821828265780927, subsample=1.0 will be ignored. Current value: bagging_fraction=0.9821828265780927\n",
            "[LightGBM] [Info] Number of positive: 82925, number of negative: 404051\n",
            "[LightGBM] [Info] Auto-choosing row-wise multi-threading, the overhead of testing was 0.093857 seconds.\n",
            "You can set `force_row_wise=true` to remove the overhead.\n",
            "And if memory is not enough, you can set `force_col_wise=true`.\n",
            "[LightGBM] [Info] Total Bins 1056\n",
            "[LightGBM] [Info] Number of data points in the train set: 486976, number of used features: 29\n",
            "[LightGBM] [Info] [binary:BoostFromScore]: pavg=0.170286 -> initscore=-1.583605\n",
            "[LightGBM] [Info] Start training from score -1.583605\n",
            "[LightGBM] [Warning] feature_fraction is set=0.38512252709233435, colsample_bytree=1.0 will be ignored. Current value: feature_fraction=0.38512252709233435\n",
            "[LightGBM] [Warning] bagging_freq is set=5, subsample_freq=0 will be ignored. Current value: bagging_freq=5\n",
            "[LightGBM] [Warning] bagging_fraction is set=0.9821828265780927, subsample=1.0 will be ignored. Current value: bagging_fraction=0.9821828265780927\n"
          ]
        },
        {
          "output_type": "stream",
          "name": "stderr",
          "text": [
            "[I 2024-02-19 12:43:32,782] Trial 65 finished with value: 0.7713707881244929 and parameters: {'num_leaves': 192, 'learning_rate': 0.08457346174558403, 'feature_fraction': 0.38512252709233435, 'bagging_fraction': 0.9821828265780927, 'bagging_freq': 5, 'min_child_samples': 92}. Best is trial 41 with value: 0.771412041197344.\n"
          ]
        },
        {
          "output_type": "stream",
          "name": "stdout",
          "text": [
            "[LightGBM] [Warning] bagging_freq is set=5, subsample_freq=0 will be ignored. Current value: bagging_freq=5\n",
            "[LightGBM] [Warning] feature_fraction is set=0.16273648669514074, colsample_bytree=1.0 will be ignored. Current value: feature_fraction=0.16273648669514074\n",
            "[LightGBM] [Warning] bagging_fraction is set=0.9345555437187855, subsample=1.0 will be ignored. Current value: bagging_fraction=0.9345555437187855\n",
            "[LightGBM] [Warning] bagging_freq is set=5, subsample_freq=0 will be ignored. Current value: bagging_freq=5\n",
            "[LightGBM] [Warning] feature_fraction is set=0.16273648669514074, colsample_bytree=1.0 will be ignored. Current value: feature_fraction=0.16273648669514074\n",
            "[LightGBM] [Warning] bagging_fraction is set=0.9345555437187855, subsample=1.0 will be ignored. Current value: bagging_fraction=0.9345555437187855\n",
            "[LightGBM] [Info] Number of positive: 82925, number of negative: 404051\n",
            "[LightGBM] [Info] Auto-choosing row-wise multi-threading, the overhead of testing was 0.057689 seconds.\n",
            "You can set `force_row_wise=true` to remove the overhead.\n",
            "And if memory is not enough, you can set `force_col_wise=true`.\n",
            "[LightGBM] [Info] Total Bins 1056\n",
            "[LightGBM] [Info] Number of data points in the train set: 486976, number of used features: 29\n",
            "[LightGBM] [Info] [binary:BoostFromScore]: pavg=0.170286 -> initscore=-1.583605\n",
            "[LightGBM] [Info] Start training from score -1.583605\n",
            "[LightGBM] [Warning] No further splits with positive gain, best gain: -inf\n",
            "[LightGBM] [Warning] feature_fraction is set=0.16273648669514074, colsample_bytree=1.0 will be ignored. Current value: feature_fraction=0.16273648669514074\n",
            "[LightGBM] [Warning] bagging_freq is set=5, subsample_freq=0 will be ignored. Current value: bagging_freq=5\n",
            "[LightGBM] [Warning] bagging_fraction is set=0.9345555437187855, subsample=1.0 will be ignored. Current value: bagging_fraction=0.9345555437187855\n"
          ]
        },
        {
          "output_type": "stream",
          "name": "stderr",
          "text": [
            "[I 2024-02-19 12:43:56,280] Trial 66 finished with value: 0.7653310697298011 and parameters: {'num_leaves': 189, 'learning_rate': 0.08834726190750651, 'feature_fraction': 0.16273648669514074, 'bagging_fraction': 0.9345555437187855, 'bagging_freq': 5, 'min_child_samples': 96}. Best is trial 41 with value: 0.771412041197344.\n"
          ]
        },
        {
          "output_type": "stream",
          "name": "stdout",
          "text": [
            "[LightGBM] [Warning] bagging_freq is set=8, subsample_freq=0 will be ignored. Current value: bagging_freq=8\n",
            "[LightGBM] [Warning] feature_fraction is set=0.33363506388872505, colsample_bytree=1.0 will be ignored. Current value: feature_fraction=0.33363506388872505\n",
            "[LightGBM] [Warning] bagging_fraction is set=0.9686053298558891, subsample=1.0 will be ignored. Current value: bagging_fraction=0.9686053298558891\n",
            "[LightGBM] [Warning] bagging_freq is set=8, subsample_freq=0 will be ignored. Current value: bagging_freq=8\n",
            "[LightGBM] [Warning] feature_fraction is set=0.33363506388872505, colsample_bytree=1.0 will be ignored. Current value: feature_fraction=0.33363506388872505\n",
            "[LightGBM] [Warning] bagging_fraction is set=0.9686053298558891, subsample=1.0 will be ignored. Current value: bagging_fraction=0.9686053298558891\n",
            "[LightGBM] [Info] Number of positive: 82925, number of negative: 404051\n",
            "[LightGBM] [Info] Auto-choosing col-wise multi-threading, the overhead of testing was 0.169885 seconds.\n",
            "You can set `force_col_wise=true` to remove the overhead.\n",
            "[LightGBM] [Info] Total Bins 1056\n",
            "[LightGBM] [Info] Number of data points in the train set: 486976, number of used features: 29\n",
            "[LightGBM] [Info] [binary:BoostFromScore]: pavg=0.170286 -> initscore=-1.583605\n",
            "[LightGBM] [Info] Start training from score -1.583605\n",
            "[LightGBM] [Warning] feature_fraction is set=0.33363506388872505, colsample_bytree=1.0 will be ignored. Current value: feature_fraction=0.33363506388872505\n",
            "[LightGBM] [Warning] bagging_freq is set=8, subsample_freq=0 will be ignored. Current value: bagging_freq=8\n",
            "[LightGBM] [Warning] bagging_fraction is set=0.9686053298558891, subsample=1.0 will be ignored. Current value: bagging_fraction=0.9686053298558891\n"
          ]
        },
        {
          "output_type": "stream",
          "name": "stderr",
          "text": [
            "[I 2024-02-19 12:44:19,794] Trial 67 finished with value: 0.7711728096291153 and parameters: {'num_leaves': 197, 'learning_rate': 0.07835985141955873, 'feature_fraction': 0.33363506388872505, 'bagging_fraction': 0.9686053298558891, 'bagging_freq': 8, 'min_child_samples': 90}. Best is trial 41 with value: 0.771412041197344.\n"
          ]
        },
        {
          "output_type": "stream",
          "name": "stdout",
          "text": [
            "[LightGBM] [Warning] bagging_freq is set=9, subsample_freq=0 will be ignored. Current value: bagging_freq=9\n",
            "[LightGBM] [Warning] feature_fraction is set=0.27173419793579334, colsample_bytree=1.0 will be ignored. Current value: feature_fraction=0.27173419793579334\n",
            "[LightGBM] [Warning] bagging_fraction is set=0.9728631661318388, subsample=1.0 will be ignored. Current value: bagging_fraction=0.9728631661318388\n",
            "[LightGBM] [Warning] bagging_freq is set=9, subsample_freq=0 will be ignored. Current value: bagging_freq=9\n",
            "[LightGBM] [Warning] feature_fraction is set=0.27173419793579334, colsample_bytree=1.0 will be ignored. Current value: feature_fraction=0.27173419793579334\n",
            "[LightGBM] [Warning] bagging_fraction is set=0.9728631661318388, subsample=1.0 will be ignored. Current value: bagging_fraction=0.9728631661318388\n",
            "[LightGBM] [Info] Number of positive: 82925, number of negative: 404051\n",
            "[LightGBM] [Info] Auto-choosing row-wise multi-threading, the overhead of testing was 0.063279 seconds.\n",
            "You can set `force_row_wise=true` to remove the overhead.\n",
            "And if memory is not enough, you can set `force_col_wise=true`.\n",
            "[LightGBM] [Info] Total Bins 1056\n",
            "[LightGBM] [Info] Number of data points in the train set: 486976, number of used features: 29\n",
            "[LightGBM] [Info] [binary:BoostFromScore]: pavg=0.170286 -> initscore=-1.583605\n",
            "[LightGBM] [Info] Start training from score -1.583605\n",
            "[LightGBM] [Warning] feature_fraction is set=0.27173419793579334, colsample_bytree=1.0 will be ignored. Current value: feature_fraction=0.27173419793579334\n",
            "[LightGBM] [Warning] bagging_freq is set=9, subsample_freq=0 will be ignored. Current value: bagging_freq=9\n",
            "[LightGBM] [Warning] bagging_fraction is set=0.9728631661318388, subsample=1.0 will be ignored. Current value: bagging_fraction=0.9728631661318388\n"
          ]
        },
        {
          "output_type": "stream",
          "name": "stderr",
          "text": [
            "[I 2024-02-19 12:44:48,838] Trial 68 finished with value: 0.7688760564011714 and parameters: {'num_leaves': 195, 'learning_rate': 0.06514252477460278, 'feature_fraction': 0.27173419793579334, 'bagging_fraction': 0.9728631661318388, 'bagging_freq': 9, 'min_child_samples': 100}. Best is trial 41 with value: 0.771412041197344.\n"
          ]
        },
        {
          "output_type": "stream",
          "name": "stdout",
          "text": [
            "[LightGBM] [Warning] bagging_freq is set=8, subsample_freq=0 will be ignored. Current value: bagging_freq=8\n",
            "[LightGBM] [Warning] feature_fraction is set=0.3291268101006253, colsample_bytree=1.0 will be ignored. Current value: feature_fraction=0.3291268101006253\n",
            "[LightGBM] [Warning] bagging_fraction is set=0.9957832796773196, subsample=1.0 will be ignored. Current value: bagging_fraction=0.9957832796773196\n",
            "[LightGBM] [Warning] bagging_freq is set=8, subsample_freq=0 will be ignored. Current value: bagging_freq=8\n",
            "[LightGBM] [Warning] feature_fraction is set=0.3291268101006253, colsample_bytree=1.0 will be ignored. Current value: feature_fraction=0.3291268101006253\n",
            "[LightGBM] [Warning] bagging_fraction is set=0.9957832796773196, subsample=1.0 will be ignored. Current value: bagging_fraction=0.9957832796773196\n",
            "[LightGBM] [Info] Number of positive: 82925, number of negative: 404051\n",
            "[LightGBM] [Info] Auto-choosing row-wise multi-threading, the overhead of testing was 0.091304 seconds.\n",
            "You can set `force_row_wise=true` to remove the overhead.\n",
            "And if memory is not enough, you can set `force_col_wise=true`.\n",
            "[LightGBM] [Info] Total Bins 1056\n",
            "[LightGBM] [Info] Number of data points in the train set: 486976, number of used features: 29\n",
            "[LightGBM] [Info] [binary:BoostFromScore]: pavg=0.170286 -> initscore=-1.583605\n",
            "[LightGBM] [Info] Start training from score -1.583605\n",
            "[LightGBM] [Warning] feature_fraction is set=0.3291268101006253, colsample_bytree=1.0 will be ignored. Current value: feature_fraction=0.3291268101006253\n",
            "[LightGBM] [Warning] bagging_freq is set=8, subsample_freq=0 will be ignored. Current value: bagging_freq=8\n",
            "[LightGBM] [Warning] bagging_fraction is set=0.9957832796773196, subsample=1.0 will be ignored. Current value: bagging_fraction=0.9957832796773196\n"
          ]
        },
        {
          "output_type": "stream",
          "name": "stderr",
          "text": [
            "[I 2024-02-19 12:45:29,306] Trial 69 finished with value: 0.7715650724391094 and parameters: {'num_leaves': 200, 'learning_rate': 0.07801869893238422, 'feature_fraction': 0.3291268101006253, 'bagging_fraction': 0.9957832796773196, 'bagging_freq': 8, 'min_child_samples': 90}. Best is trial 69 with value: 0.7715650724391094.\n"
          ]
        },
        {
          "output_type": "stream",
          "name": "stdout",
          "text": [
            "[LightGBM] [Warning] bagging_freq is set=8, subsample_freq=0 will be ignored. Current value: bagging_freq=8\n",
            "[LightGBM] [Warning] feature_fraction is set=0.28897795808011956, colsample_bytree=1.0 will be ignored. Current value: feature_fraction=0.28897795808011956\n",
            "[LightGBM] [Warning] bagging_fraction is set=0.9966452820244205, subsample=1.0 will be ignored. Current value: bagging_fraction=0.9966452820244205\n",
            "[LightGBM] [Warning] bagging_freq is set=8, subsample_freq=0 will be ignored. Current value: bagging_freq=8\n",
            "[LightGBM] [Warning] feature_fraction is set=0.28897795808011956, colsample_bytree=1.0 will be ignored. Current value: feature_fraction=0.28897795808011956\n",
            "[LightGBM] [Warning] bagging_fraction is set=0.9966452820244205, subsample=1.0 will be ignored. Current value: bagging_fraction=0.9966452820244205\n",
            "[LightGBM] [Info] Number of positive: 82925, number of negative: 404051\n",
            "[LightGBM] [Info] Auto-choosing row-wise multi-threading, the overhead of testing was 0.081719 seconds.\n",
            "You can set `force_row_wise=true` to remove the overhead.\n",
            "And if memory is not enough, you can set `force_col_wise=true`.\n",
            "[LightGBM] [Info] Total Bins 1056\n",
            "[LightGBM] [Info] Number of data points in the train set: 486976, number of used features: 29\n",
            "[LightGBM] [Info] [binary:BoostFromScore]: pavg=0.170286 -> initscore=-1.583605\n",
            "[LightGBM] [Info] Start training from score -1.583605\n",
            "[LightGBM] [Warning] feature_fraction is set=0.28897795808011956, colsample_bytree=1.0 will be ignored. Current value: feature_fraction=0.28897795808011956\n",
            "[LightGBM] [Warning] bagging_freq is set=8, subsample_freq=0 will be ignored. Current value: bagging_freq=8\n",
            "[LightGBM] [Warning] bagging_fraction is set=0.9966452820244205, subsample=1.0 will be ignored. Current value: bagging_fraction=0.9966452820244205\n"
          ]
        },
        {
          "output_type": "stream",
          "name": "stderr",
          "text": [
            "[I 2024-02-19 12:45:59,061] Trial 70 finished with value: 0.7693661420883042 and parameters: {'num_leaves': 185, 'learning_rate': 0.07798936008814218, 'feature_fraction': 0.28897795808011956, 'bagging_fraction': 0.9966452820244205, 'bagging_freq': 8, 'min_child_samples': 90}. Best is trial 69 with value: 0.7715650724391094.\n"
          ]
        },
        {
          "output_type": "stream",
          "name": "stdout",
          "text": [
            "[LightGBM] [Warning] bagging_freq is set=8, subsample_freq=0 will be ignored. Current value: bagging_freq=8\n",
            "[LightGBM] [Warning] feature_fraction is set=0.3315460078959831, colsample_bytree=1.0 will be ignored. Current value: feature_fraction=0.3315460078959831\n",
            "[LightGBM] [Warning] bagging_fraction is set=0.9623754856387192, subsample=1.0 will be ignored. Current value: bagging_fraction=0.9623754856387192\n",
            "[LightGBM] [Warning] bagging_freq is set=8, subsample_freq=0 will be ignored. Current value: bagging_freq=8\n",
            "[LightGBM] [Warning] feature_fraction is set=0.3315460078959831, colsample_bytree=1.0 will be ignored. Current value: feature_fraction=0.3315460078959831\n",
            "[LightGBM] [Warning] bagging_fraction is set=0.9623754856387192, subsample=1.0 will be ignored. Current value: bagging_fraction=0.9623754856387192\n",
            "[LightGBM] [Info] Number of positive: 82925, number of negative: 404051\n",
            "[LightGBM] [Info] Auto-choosing col-wise multi-threading, the overhead of testing was 0.315141 seconds.\n",
            "You can set `force_col_wise=true` to remove the overhead.\n",
            "[LightGBM] [Info] Total Bins 1056\n",
            "[LightGBM] [Info] Number of data points in the train set: 486976, number of used features: 29\n",
            "[LightGBM] [Info] [binary:BoostFromScore]: pavg=0.170286 -> initscore=-1.583605\n",
            "[LightGBM] [Info] Start training from score -1.583605\n",
            "[LightGBM] [Warning] feature_fraction is set=0.3315460078959831, colsample_bytree=1.0 will be ignored. Current value: feature_fraction=0.3315460078959831\n",
            "[LightGBM] [Warning] bagging_freq is set=8, subsample_freq=0 will be ignored. Current value: bagging_freq=8\n",
            "[LightGBM] [Warning] bagging_fraction is set=0.9623754856387192, subsample=1.0 will be ignored. Current value: bagging_fraction=0.9623754856387192\n"
          ]
        },
        {
          "output_type": "stream",
          "name": "stderr",
          "text": [
            "[I 2024-02-19 12:46:32,572] Trial 71 finished with value: 0.7712971483456618 and parameters: {'num_leaves': 192, 'learning_rate': 0.07281491599801033, 'feature_fraction': 0.3315460078959831, 'bagging_fraction': 0.9623754856387192, 'bagging_freq': 8, 'min_child_samples': 86}. Best is trial 69 with value: 0.7715650724391094.\n"
          ]
        },
        {
          "output_type": "stream",
          "name": "stdout",
          "text": [
            "[LightGBM] [Warning] bagging_freq is set=8, subsample_freq=0 will be ignored. Current value: bagging_freq=8\n",
            "[LightGBM] [Warning] feature_fraction is set=0.37762056370611663, colsample_bytree=1.0 will be ignored. Current value: feature_fraction=0.37762056370611663\n",
            "[LightGBM] [Warning] bagging_fraction is set=0.9357831119437857, subsample=1.0 will be ignored. Current value: bagging_fraction=0.9357831119437857\n",
            "[LightGBM] [Warning] bagging_freq is set=8, subsample_freq=0 will be ignored. Current value: bagging_freq=8\n",
            "[LightGBM] [Warning] feature_fraction is set=0.37762056370611663, colsample_bytree=1.0 will be ignored. Current value: feature_fraction=0.37762056370611663\n",
            "[LightGBM] [Warning] bagging_fraction is set=0.9357831119437857, subsample=1.0 will be ignored. Current value: bagging_fraction=0.9357831119437857\n",
            "[LightGBM] [Info] Number of positive: 82925, number of negative: 404051\n",
            "[LightGBM] [Info] Auto-choosing row-wise multi-threading, the overhead of testing was 0.118503 seconds.\n",
            "You can set `force_row_wise=true` to remove the overhead.\n",
            "And if memory is not enough, you can set `force_col_wise=true`.\n",
            "[LightGBM] [Info] Total Bins 1056\n",
            "[LightGBM] [Info] Number of data points in the train set: 486976, number of used features: 29\n",
            "[LightGBM] [Info] [binary:BoostFromScore]: pavg=0.170286 -> initscore=-1.583605\n",
            "[LightGBM] [Info] Start training from score -1.583605\n",
            "[LightGBM] [Warning] feature_fraction is set=0.37762056370611663, colsample_bytree=1.0 will be ignored. Current value: feature_fraction=0.37762056370611663\n",
            "[LightGBM] [Warning] bagging_freq is set=8, subsample_freq=0 will be ignored. Current value: bagging_freq=8\n",
            "[LightGBM] [Warning] bagging_fraction is set=0.9357831119437857, subsample=1.0 will be ignored. Current value: bagging_fraction=0.9357831119437857\n"
          ]
        },
        {
          "output_type": "stream",
          "name": "stderr",
          "text": [
            "[I 2024-02-19 12:47:00,503] Trial 72 finished with value: 0.7703924689552244 and parameters: {'num_leaves': 192, 'learning_rate': 0.07154661270754328, 'feature_fraction': 0.37762056370611663, 'bagging_fraction': 0.9357831119437857, 'bagging_freq': 8, 'min_child_samples': 5}. Best is trial 69 with value: 0.7715650724391094.\n"
          ]
        },
        {
          "output_type": "stream",
          "name": "stdout",
          "text": [
            "[LightGBM] [Warning] bagging_freq is set=9, subsample_freq=0 will be ignored. Current value: bagging_freq=9\n",
            "[LightGBM] [Warning] feature_fraction is set=0.33189189274212183, colsample_bytree=1.0 will be ignored. Current value: feature_fraction=0.33189189274212183\n",
            "[LightGBM] [Warning] bagging_fraction is set=0.9196510170747823, subsample=1.0 will be ignored. Current value: bagging_fraction=0.9196510170747823\n",
            "[LightGBM] [Warning] bagging_freq is set=9, subsample_freq=0 will be ignored. Current value: bagging_freq=9\n",
            "[LightGBM] [Warning] feature_fraction is set=0.33189189274212183, colsample_bytree=1.0 will be ignored. Current value: feature_fraction=0.33189189274212183\n",
            "[LightGBM] [Warning] bagging_fraction is set=0.9196510170747823, subsample=1.0 will be ignored. Current value: bagging_fraction=0.9196510170747823\n",
            "[LightGBM] [Info] Number of positive: 82925, number of negative: 404051\n",
            "[LightGBM] [Info] Auto-choosing row-wise multi-threading, the overhead of testing was 0.104352 seconds.\n",
            "You can set `force_row_wise=true` to remove the overhead.\n",
            "And if memory is not enough, you can set `force_col_wise=true`.\n",
            "[LightGBM] [Info] Total Bins 1056\n",
            "[LightGBM] [Info] Number of data points in the train set: 486976, number of used features: 29\n",
            "[LightGBM] [Info] [binary:BoostFromScore]: pavg=0.170286 -> initscore=-1.583605\n",
            "[LightGBM] [Info] Start training from score -1.583605\n",
            "[LightGBM] [Warning] feature_fraction is set=0.33189189274212183, colsample_bytree=1.0 will be ignored. Current value: feature_fraction=0.33189189274212183\n",
            "[LightGBM] [Warning] bagging_freq is set=9, subsample_freq=0 will be ignored. Current value: bagging_freq=9\n",
            "[LightGBM] [Warning] bagging_fraction is set=0.9196510170747823, subsample=1.0 will be ignored. Current value: bagging_fraction=0.9196510170747823\n"
          ]
        },
        {
          "output_type": "stream",
          "name": "stderr",
          "text": [
            "[I 2024-02-19 12:47:30,640] Trial 73 finished with value: 0.7703703816604137 and parameters: {'num_leaves': 198, 'learning_rate': 0.0611096144827582, 'feature_fraction': 0.33189189274212183, 'bagging_fraction': 0.9196510170747823, 'bagging_freq': 9, 'min_child_samples': 80}. Best is trial 69 with value: 0.7715650724391094.\n"
          ]
        },
        {
          "output_type": "stream",
          "name": "stdout",
          "text": [
            "[LightGBM] [Warning] bagging_freq is set=8, subsample_freq=0 will be ignored. Current value: bagging_freq=8\n",
            "[LightGBM] [Warning] feature_fraction is set=0.23338116926811198, colsample_bytree=1.0 will be ignored. Current value: feature_fraction=0.23338116926811198\n",
            "[LightGBM] [Warning] bagging_fraction is set=0.9656012044886654, subsample=1.0 will be ignored. Current value: bagging_fraction=0.9656012044886654\n",
            "[LightGBM] [Warning] bagging_freq is set=8, subsample_freq=0 will be ignored. Current value: bagging_freq=8\n",
            "[LightGBM] [Warning] feature_fraction is set=0.23338116926811198, colsample_bytree=1.0 will be ignored. Current value: feature_fraction=0.23338116926811198\n",
            "[LightGBM] [Warning] bagging_fraction is set=0.9656012044886654, subsample=1.0 will be ignored. Current value: bagging_fraction=0.9656012044886654\n",
            "[LightGBM] [Info] Number of positive: 82925, number of negative: 404051\n",
            "[LightGBM] [Info] Auto-choosing col-wise multi-threading, the overhead of testing was 0.288121 seconds.\n",
            "You can set `force_col_wise=true` to remove the overhead.\n",
            "[LightGBM] [Info] Total Bins 1056\n",
            "[LightGBM] [Info] Number of data points in the train set: 486976, number of used features: 29\n",
            "[LightGBM] [Info] [binary:BoostFromScore]: pavg=0.170286 -> initscore=-1.583605\n",
            "[LightGBM] [Info] Start training from score -1.583605\n",
            "[LightGBM] [Warning] feature_fraction is set=0.23338116926811198, colsample_bytree=1.0 will be ignored. Current value: feature_fraction=0.23338116926811198\n",
            "[LightGBM] [Warning] bagging_freq is set=8, subsample_freq=0 will be ignored. Current value: bagging_freq=8\n",
            "[LightGBM] [Warning] bagging_fraction is set=0.9656012044886654, subsample=1.0 will be ignored. Current value: bagging_fraction=0.9656012044886654\n"
          ]
        },
        {
          "output_type": "stream",
          "name": "stderr",
          "text": [
            "[I 2024-02-19 12:48:00,239] Trial 74 finished with value: 0.7678927125370716 and parameters: {'num_leaves': 181, 'learning_rate': 0.07430547319776011, 'feature_fraction': 0.23338116926811198, 'bagging_fraction': 0.9656012044886654, 'bagging_freq': 8, 'min_child_samples': 85}. Best is trial 69 with value: 0.7715650724391094.\n"
          ]
        },
        {
          "output_type": "stream",
          "name": "stdout",
          "text": [
            "[LightGBM] [Warning] bagging_freq is set=7, subsample_freq=0 will be ignored. Current value: bagging_freq=7\n",
            "[LightGBM] [Warning] feature_fraction is set=0.18935879148819637, colsample_bytree=1.0 will be ignored. Current value: feature_fraction=0.18935879148819637\n",
            "[LightGBM] [Warning] bagging_fraction is set=0.998920205604762, subsample=1.0 will be ignored. Current value: bagging_fraction=0.998920205604762\n",
            "[LightGBM] [Warning] bagging_freq is set=7, subsample_freq=0 will be ignored. Current value: bagging_freq=7\n",
            "[LightGBM] [Warning] feature_fraction is set=0.18935879148819637, colsample_bytree=1.0 will be ignored. Current value: feature_fraction=0.18935879148819637\n",
            "[LightGBM] [Warning] bagging_fraction is set=0.998920205604762, subsample=1.0 will be ignored. Current value: bagging_fraction=0.998920205604762\n",
            "[LightGBM] [Info] Number of positive: 82925, number of negative: 404051\n",
            "[LightGBM] [Info] Auto-choosing col-wise multi-threading, the overhead of testing was 0.295649 seconds.\n",
            "You can set `force_col_wise=true` to remove the overhead.\n",
            "[LightGBM] [Info] Total Bins 1056\n",
            "[LightGBM] [Info] Number of data points in the train set: 486976, number of used features: 29\n",
            "[LightGBM] [Info] [binary:BoostFromScore]: pavg=0.170286 -> initscore=-1.583605\n",
            "[LightGBM] [Info] Start training from score -1.583605\n",
            "[LightGBM] [Warning] No further splits with positive gain, best gain: -inf\n",
            "[LightGBM] [Warning] feature_fraction is set=0.18935879148819637, colsample_bytree=1.0 will be ignored. Current value: feature_fraction=0.18935879148819637\n",
            "[LightGBM] [Warning] bagging_freq is set=7, subsample_freq=0 will be ignored. Current value: bagging_freq=7\n",
            "[LightGBM] [Warning] bagging_fraction is set=0.998920205604762, subsample=1.0 will be ignored. Current value: bagging_fraction=0.998920205604762\n"
          ]
        },
        {
          "output_type": "stream",
          "name": "stderr",
          "text": [
            "[I 2024-02-19 12:48:24,213] Trial 75 finished with value: 0.7635406623888341 and parameters: {'num_leaves': 199, 'learning_rate': 0.06860290865671965, 'feature_fraction': 0.18935879148819637, 'bagging_fraction': 0.998920205604762, 'bagging_freq': 7, 'min_child_samples': 97}. Best is trial 69 with value: 0.7715650724391094.\n"
          ]
        },
        {
          "output_type": "stream",
          "name": "stdout",
          "text": [
            "[LightGBM] [Warning] bagging_freq is set=8, subsample_freq=0 will be ignored. Current value: bagging_freq=8\n",
            "[LightGBM] [Warning] feature_fraction is set=0.41808049895092453, colsample_bytree=1.0 will be ignored. Current value: feature_fraction=0.41808049895092453\n",
            "[LightGBM] [Warning] bagging_fraction is set=0.9136078265768711, subsample=1.0 will be ignored. Current value: bagging_fraction=0.9136078265768711\n",
            "[LightGBM] [Warning] bagging_freq is set=8, subsample_freq=0 will be ignored. Current value: bagging_freq=8\n",
            "[LightGBM] [Warning] feature_fraction is set=0.41808049895092453, colsample_bytree=1.0 will be ignored. Current value: feature_fraction=0.41808049895092453\n",
            "[LightGBM] [Warning] bagging_fraction is set=0.9136078265768711, subsample=1.0 will be ignored. Current value: bagging_fraction=0.9136078265768711\n",
            "[LightGBM] [Info] Number of positive: 82925, number of negative: 404051\n",
            "[LightGBM] [Info] Auto-choosing row-wise multi-threading, the overhead of testing was 0.105935 seconds.\n",
            "You can set `force_row_wise=true` to remove the overhead.\n",
            "And if memory is not enough, you can set `force_col_wise=true`.\n",
            "[LightGBM] [Info] Total Bins 1056\n",
            "[LightGBM] [Info] Number of data points in the train set: 486976, number of used features: 29\n",
            "[LightGBM] [Info] [binary:BoostFromScore]: pavg=0.170286 -> initscore=-1.583605\n",
            "[LightGBM] [Info] Start training from score -1.583605\n",
            "[LightGBM] [Warning] feature_fraction is set=0.41808049895092453, colsample_bytree=1.0 will be ignored. Current value: feature_fraction=0.41808049895092453\n",
            "[LightGBM] [Warning] bagging_freq is set=8, subsample_freq=0 will be ignored. Current value: bagging_freq=8\n",
            "[LightGBM] [Warning] bagging_fraction is set=0.9136078265768711, subsample=1.0 will be ignored. Current value: bagging_fraction=0.9136078265768711\n"
          ]
        },
        {
          "output_type": "stream",
          "name": "stderr",
          "text": [
            "[I 2024-02-19 12:49:01,534] Trial 76 finished with value: 0.7712770110282932 and parameters: {'num_leaves': 177, 'learning_rate': 0.08302435621315692, 'feature_fraction': 0.41808049895092453, 'bagging_fraction': 0.9136078265768711, 'bagging_freq': 8, 'min_child_samples': 90}. Best is trial 69 with value: 0.7715650724391094.\n"
          ]
        },
        {
          "output_type": "stream",
          "name": "stdout",
          "text": [
            "[LightGBM] [Warning] bagging_freq is set=9, subsample_freq=0 will be ignored. Current value: bagging_freq=9\n",
            "[LightGBM] [Warning] feature_fraction is set=0.41724547360460873, colsample_bytree=1.0 will be ignored. Current value: feature_fraction=0.41724547360460873\n",
            "[LightGBM] [Warning] bagging_fraction is set=0.9241617611638286, subsample=1.0 will be ignored. Current value: bagging_fraction=0.9241617611638286\n",
            "[LightGBM] [Warning] bagging_freq is set=9, subsample_freq=0 will be ignored. Current value: bagging_freq=9\n",
            "[LightGBM] [Warning] feature_fraction is set=0.41724547360460873, colsample_bytree=1.0 will be ignored. Current value: feature_fraction=0.41724547360460873\n",
            "[LightGBM] [Warning] bagging_fraction is set=0.9241617611638286, subsample=1.0 will be ignored. Current value: bagging_fraction=0.9241617611638286\n",
            "[LightGBM] [Info] Number of positive: 82925, number of negative: 404051\n",
            "[LightGBM] [Info] Auto-choosing row-wise multi-threading, the overhead of testing was 0.113844 seconds.\n",
            "You can set `force_row_wise=true` to remove the overhead.\n",
            "And if memory is not enough, you can set `force_col_wise=true`.\n",
            "[LightGBM] [Info] Total Bins 1056\n",
            "[LightGBM] [Info] Number of data points in the train set: 486976, number of used features: 29\n",
            "[LightGBM] [Info] [binary:BoostFromScore]: pavg=0.170286 -> initscore=-1.583605\n",
            "[LightGBM] [Info] Start training from score -1.583605\n",
            "[LightGBM] [Warning] feature_fraction is set=0.41724547360460873, colsample_bytree=1.0 will be ignored. Current value: feature_fraction=0.41724547360460873\n",
            "[LightGBM] [Warning] bagging_freq is set=9, subsample_freq=0 will be ignored. Current value: bagging_freq=9\n",
            "[LightGBM] [Warning] bagging_fraction is set=0.9241617611638286, subsample=1.0 will be ignored. Current value: bagging_fraction=0.9241617611638286\n"
          ]
        },
        {
          "output_type": "stream",
          "name": "stderr",
          "text": [
            "[I 2024-02-19 12:49:29,055] Trial 77 finished with value: 0.771101332500635 and parameters: {'num_leaves': 183, 'learning_rate': 0.0844620429717437, 'feature_fraction': 0.41724547360460873, 'bagging_fraction': 0.9241617611638286, 'bagging_freq': 9, 'min_child_samples': 81}. Best is trial 69 with value: 0.7715650724391094.\n"
          ]
        },
        {
          "output_type": "stream",
          "name": "stdout",
          "text": [
            "[LightGBM] [Warning] bagging_freq is set=7, subsample_freq=0 will be ignored. Current value: bagging_freq=7\n",
            "[LightGBM] [Warning] feature_fraction is set=0.538470505826925, colsample_bytree=1.0 will be ignored. Current value: feature_fraction=0.538470505826925\n",
            "[LightGBM] [Warning] bagging_fraction is set=0.8558028906828229, subsample=1.0 will be ignored. Current value: bagging_fraction=0.8558028906828229\n",
            "[LightGBM] [Warning] bagging_freq is set=7, subsample_freq=0 will be ignored. Current value: bagging_freq=7\n",
            "[LightGBM] [Warning] feature_fraction is set=0.538470505826925, colsample_bytree=1.0 will be ignored. Current value: feature_fraction=0.538470505826925\n",
            "[LightGBM] [Warning] bagging_fraction is set=0.8558028906828229, subsample=1.0 will be ignored. Current value: bagging_fraction=0.8558028906828229\n",
            "[LightGBM] [Info] Number of positive: 82925, number of negative: 404051\n",
            "[LightGBM] [Info] Auto-choosing col-wise multi-threading, the overhead of testing was 0.214270 seconds.\n",
            "You can set `force_col_wise=true` to remove the overhead.\n",
            "[LightGBM] [Info] Total Bins 1056\n",
            "[LightGBM] [Info] Number of data points in the train set: 486976, number of used features: 29\n",
            "[LightGBM] [Info] [binary:BoostFromScore]: pavg=0.170286 -> initscore=-1.583605\n",
            "[LightGBM] [Info] Start training from score -1.583605\n",
            "[LightGBM] [Warning] feature_fraction is set=0.538470505826925, colsample_bytree=1.0 will be ignored. Current value: feature_fraction=0.538470505826925\n",
            "[LightGBM] [Warning] bagging_freq is set=7, subsample_freq=0 will be ignored. Current value: bagging_freq=7\n",
            "[LightGBM] [Warning] bagging_fraction is set=0.8558028906828229, subsample=1.0 will be ignored. Current value: bagging_fraction=0.8558028906828229\n"
          ]
        },
        {
          "output_type": "stream",
          "name": "stderr",
          "text": [
            "[I 2024-02-19 12:50:00,461] Trial 78 finished with value: 0.7704585264928683 and parameters: {'num_leaves': 175, 'learning_rate': 0.08127082664446042, 'feature_fraction': 0.538470505826925, 'bagging_fraction': 0.8558028906828229, 'bagging_freq': 7, 'min_child_samples': 87}. Best is trial 69 with value: 0.7715650724391094.\n"
          ]
        },
        {
          "output_type": "stream",
          "name": "stdout",
          "text": [
            "[LightGBM] [Warning] bagging_freq is set=8, subsample_freq=0 will be ignored. Current value: bagging_freq=8\n",
            "[LightGBM] [Warning] feature_fraction is set=0.46419705597925154, colsample_bytree=1.0 will be ignored. Current value: feature_fraction=0.46419705597925154\n",
            "[LightGBM] [Warning] bagging_fraction is set=0.9084797114095176, subsample=1.0 will be ignored. Current value: bagging_fraction=0.9084797114095176\n",
            "[LightGBM] [Warning] bagging_freq is set=8, subsample_freq=0 will be ignored. Current value: bagging_freq=8\n",
            "[LightGBM] [Warning] feature_fraction is set=0.46419705597925154, colsample_bytree=1.0 will be ignored. Current value: feature_fraction=0.46419705597925154\n",
            "[LightGBM] [Warning] bagging_fraction is set=0.9084797114095176, subsample=1.0 will be ignored. Current value: bagging_fraction=0.9084797114095176\n",
            "[LightGBM] [Info] Number of positive: 82925, number of negative: 404051\n",
            "[LightGBM] [Info] Auto-choosing row-wise multi-threading, the overhead of testing was 0.103653 seconds.\n",
            "You can set `force_row_wise=true` to remove the overhead.\n",
            "And if memory is not enough, you can set `force_col_wise=true`.\n",
            "[LightGBM] [Info] Total Bins 1056\n",
            "[LightGBM] [Info] Number of data points in the train set: 486976, number of used features: 29\n",
            "[LightGBM] [Info] [binary:BoostFromScore]: pavg=0.170286 -> initscore=-1.583605\n",
            "[LightGBM] [Info] Start training from score -1.583605\n",
            "[LightGBM] [Warning] feature_fraction is set=0.46419705597925154, colsample_bytree=1.0 will be ignored. Current value: feature_fraction=0.46419705597925154\n",
            "[LightGBM] [Warning] bagging_freq is set=8, subsample_freq=0 will be ignored. Current value: bagging_freq=8\n",
            "[LightGBM] [Warning] bagging_fraction is set=0.9084797114095176, subsample=1.0 will be ignored. Current value: bagging_fraction=0.9084797114095176\n"
          ]
        },
        {
          "output_type": "stream",
          "name": "stderr",
          "text": [
            "[I 2024-02-19 12:50:35,049] Trial 79 finished with value: 0.7711062508590117 and parameters: {'num_leaves': 192, 'learning_rate': 0.05757795940212626, 'feature_fraction': 0.46419705597925154, 'bagging_fraction': 0.9084797114095176, 'bagging_freq': 8, 'min_child_samples': 90}. Best is trial 69 with value: 0.7715650724391094.\n"
          ]
        },
        {
          "output_type": "stream",
          "name": "stdout",
          "text": [
            "[LightGBM] [Warning] bagging_freq is set=8, subsample_freq=0 will be ignored. Current value: bagging_freq=8\n",
            "[LightGBM] [Warning] feature_fraction is set=0.10299586131198546, colsample_bytree=1.0 will be ignored. Current value: feature_fraction=0.10299586131198546\n",
            "[LightGBM] [Warning] bagging_fraction is set=0.9476837296878218, subsample=1.0 will be ignored. Current value: bagging_fraction=0.9476837296878218\n",
            "[LightGBM] [Warning] bagging_freq is set=8, subsample_freq=0 will be ignored. Current value: bagging_freq=8\n",
            "[LightGBM] [Warning] feature_fraction is set=0.10299586131198546, colsample_bytree=1.0 will be ignored. Current value: feature_fraction=0.10299586131198546\n",
            "[LightGBM] [Warning] bagging_fraction is set=0.9476837296878218, subsample=1.0 will be ignored. Current value: bagging_fraction=0.9476837296878218\n",
            "[LightGBM] [Info] Number of positive: 82925, number of negative: 404051\n",
            "[LightGBM] [Info] Auto-choosing col-wise multi-threading, the overhead of testing was 0.340710 seconds.\n",
            "You can set `force_col_wise=true` to remove the overhead.\n",
            "[LightGBM] [Info] Total Bins 1056\n",
            "[LightGBM] [Info] Number of data points in the train set: 486976, number of used features: 29\n",
            "[LightGBM] [Info] [binary:BoostFromScore]: pavg=0.170286 -> initscore=-1.583605\n",
            "[LightGBM] [Info] Start training from score -1.583605\n",
            "[LightGBM] [Warning] No further splits with positive gain, best gain: -inf\n",
            "[LightGBM] [Warning] No further splits with positive gain, best gain: -inf\n",
            "[LightGBM] [Warning] No further splits with positive gain, best gain: -inf\n",
            "[LightGBM] [Warning] No further splits with positive gain, best gain: -inf\n",
            "[LightGBM] [Warning] No further splits with positive gain, best gain: -inf\n",
            "[LightGBM] [Warning] No further splits with positive gain, best gain: -inf\n",
            "[LightGBM] [Warning] No further splits with positive gain, best gain: -inf\n",
            "[LightGBM] [Warning] No further splits with positive gain, best gain: -inf\n",
            "[LightGBM] [Warning] No further splits with positive gain, best gain: -inf\n",
            "[LightGBM] [Warning] No further splits with positive gain, best gain: -inf\n",
            "[LightGBM] [Warning] No further splits with positive gain, best gain: -inf\n",
            "[LightGBM] [Warning] No further splits with positive gain, best gain: -inf\n",
            "[LightGBM] [Warning] No further splits with positive gain, best gain: -inf\n",
            "[LightGBM] [Warning] No further splits with positive gain, best gain: -inf\n",
            "[LightGBM] [Warning] No further splits with positive gain, best gain: -inf\n",
            "[LightGBM] [Warning] No further splits with positive gain, best gain: -inf\n",
            "[LightGBM] [Warning] No further splits with positive gain, best gain: -inf\n",
            "[LightGBM] [Warning] No further splits with positive gain, best gain: -inf\n",
            "[LightGBM] [Warning] No further splits with positive gain, best gain: -inf\n",
            "[LightGBM] [Warning] No further splits with positive gain, best gain: -inf\n",
            "[LightGBM] [Warning] No further splits with positive gain, best gain: -inf\n",
            "[LightGBM] [Warning] No further splits with positive gain, best gain: -inf\n",
            "[LightGBM] [Warning] No further splits with positive gain, best gain: -inf\n",
            "[LightGBM] [Warning] No further splits with positive gain, best gain: -inf\n",
            "[LightGBM] [Warning] No further splits with positive gain, best gain: -inf\n",
            "[LightGBM] [Warning] No further splits with positive gain, best gain: -inf\n",
            "[LightGBM] [Warning] No further splits with positive gain, best gain: -inf\n",
            "[LightGBM] [Warning] No further splits with positive gain, best gain: -inf\n",
            "[LightGBM] [Warning] No further splits with positive gain, best gain: -inf\n",
            "[LightGBM] [Warning] No further splits with positive gain, best gain: -inf\n",
            "[LightGBM] [Warning] No further splits with positive gain, best gain: -inf\n",
            "[LightGBM] [Warning] No further splits with positive gain, best gain: -inf\n",
            "[LightGBM] [Warning] No further splits with positive gain, best gain: -inf\n",
            "[LightGBM] [Warning] No further splits with positive gain, best gain: -inf\n",
            "[LightGBM] [Warning] No further splits with positive gain, best gain: -inf\n",
            "[LightGBM] [Warning] No further splits with positive gain, best gain: -inf\n",
            "[LightGBM] [Warning] No further splits with positive gain, best gain: -inf\n",
            "[LightGBM] [Warning] No further splits with positive gain, best gain: -inf\n",
            "[LightGBM] [Warning] No further splits with positive gain, best gain: -inf\n",
            "[LightGBM] [Warning] No further splits with positive gain, best gain: -inf\n",
            "[LightGBM] [Warning] No further splits with positive gain, best gain: -inf\n",
            "[LightGBM] [Warning] feature_fraction is set=0.10299586131198546, colsample_bytree=1.0 will be ignored. Current value: feature_fraction=0.10299586131198546\n",
            "[LightGBM] [Warning] bagging_freq is set=8, subsample_freq=0 will be ignored. Current value: bagging_freq=8\n",
            "[LightGBM] [Warning] bagging_fraction is set=0.9476837296878218, subsample=1.0 will be ignored. Current value: bagging_fraction=0.9476837296878218\n"
          ]
        },
        {
          "output_type": "stream",
          "name": "stderr",
          "text": [
            "[I 2024-02-19 12:50:57,891] Trial 80 finished with value: 0.7519185579934087 and parameters: {'num_leaves': 168, 'learning_rate': 0.044850907961530406, 'feature_fraction': 0.10299586131198546, 'bagging_fraction': 0.9476837296878218, 'bagging_freq': 8, 'min_child_samples': 84}. Best is trial 69 with value: 0.7715650724391094.\n"
          ]
        },
        {
          "output_type": "stream",
          "name": "stdout",
          "text": [
            "[LightGBM] [Warning] bagging_freq is set=10, subsample_freq=0 will be ignored. Current value: bagging_freq=10\n",
            "[LightGBM] [Warning] feature_fraction is set=0.36406730355535105, colsample_bytree=1.0 will be ignored. Current value: feature_fraction=0.36406730355535105\n",
            "[LightGBM] [Warning] bagging_fraction is set=0.9751168531205284, subsample=1.0 will be ignored. Current value: bagging_fraction=0.9751168531205284\n",
            "[LightGBM] [Warning] bagging_freq is set=10, subsample_freq=0 will be ignored. Current value: bagging_freq=10\n",
            "[LightGBM] [Warning] feature_fraction is set=0.36406730355535105, colsample_bytree=1.0 will be ignored. Current value: feature_fraction=0.36406730355535105\n",
            "[LightGBM] [Warning] bagging_fraction is set=0.9751168531205284, subsample=1.0 will be ignored. Current value: bagging_fraction=0.9751168531205284\n",
            "[LightGBM] [Info] Number of positive: 82925, number of negative: 404051\n",
            "[LightGBM] [Info] Auto-choosing row-wise multi-threading, the overhead of testing was 0.095672 seconds.\n",
            "You can set `force_row_wise=true` to remove the overhead.\n",
            "And if memory is not enough, you can set `force_col_wise=true`.\n",
            "[LightGBM] [Info] Total Bins 1056\n",
            "[LightGBM] [Info] Number of data points in the train set: 486976, number of used features: 29\n",
            "[LightGBM] [Info] [binary:BoostFromScore]: pavg=0.170286 -> initscore=-1.583605\n",
            "[LightGBM] [Info] Start training from score -1.583605\n",
            "[LightGBM] [Warning] feature_fraction is set=0.36406730355535105, colsample_bytree=1.0 will be ignored. Current value: feature_fraction=0.36406730355535105\n",
            "[LightGBM] [Warning] bagging_freq is set=10, subsample_freq=0 will be ignored. Current value: bagging_freq=10\n",
            "[LightGBM] [Warning] bagging_fraction is set=0.9751168531205284, subsample=1.0 will be ignored. Current value: bagging_fraction=0.9751168531205284\n"
          ]
        },
        {
          "output_type": "stream",
          "name": "stderr",
          "text": [
            "[I 2024-02-19 12:51:30,601] Trial 81 finished with value: 0.7710623367580203 and parameters: {'num_leaves': 200, 'learning_rate': 0.0829768276546357, 'feature_fraction': 0.36406730355535105, 'bagging_fraction': 0.9751168531205284, 'bagging_freq': 10, 'min_child_samples': 90}. Best is trial 69 with value: 0.7715650724391094.\n"
          ]
        },
        {
          "output_type": "stream",
          "name": "stdout",
          "text": [
            "[LightGBM] [Warning] bagging_freq is set=8, subsample_freq=0 will be ignored. Current value: bagging_freq=8\n",
            "[LightGBM] [Warning] feature_fraction is set=0.3436483652468924, colsample_bytree=1.0 will be ignored. Current value: feature_fraction=0.3436483652468924\n",
            "[LightGBM] [Warning] bagging_fraction is set=0.9023678163818438, subsample=1.0 will be ignored. Current value: bagging_fraction=0.9023678163818438\n",
            "[LightGBM] [Warning] bagging_freq is set=8, subsample_freq=0 will be ignored. Current value: bagging_freq=8\n",
            "[LightGBM] [Warning] feature_fraction is set=0.3436483652468924, colsample_bytree=1.0 will be ignored. Current value: feature_fraction=0.3436483652468924\n",
            "[LightGBM] [Warning] bagging_fraction is set=0.9023678163818438, subsample=1.0 will be ignored. Current value: bagging_fraction=0.9023678163818438\n",
            "[LightGBM] [Info] Number of positive: 82925, number of negative: 404051\n",
            "[LightGBM] [Info] Auto-choosing row-wise multi-threading, the overhead of testing was 0.090275 seconds.\n",
            "You can set `force_row_wise=true` to remove the overhead.\n",
            "And if memory is not enough, you can set `force_col_wise=true`.\n",
            "[LightGBM] [Info] Total Bins 1056\n",
            "[LightGBM] [Info] Number of data points in the train set: 486976, number of used features: 29\n",
            "[LightGBM] [Info] [binary:BoostFromScore]: pavg=0.170286 -> initscore=-1.583605\n",
            "[LightGBM] [Info] Start training from score -1.583605\n",
            "[LightGBM] [Warning] feature_fraction is set=0.3436483652468924, colsample_bytree=1.0 will be ignored. Current value: feature_fraction=0.3436483652468924\n",
            "[LightGBM] [Warning] bagging_freq is set=8, subsample_freq=0 will be ignored. Current value: bagging_freq=8\n",
            "[LightGBM] [Warning] bagging_fraction is set=0.9023678163818438, subsample=1.0 will be ignored. Current value: bagging_fraction=0.9023678163818438\n"
          ]
        },
        {
          "output_type": "stream",
          "name": "stderr",
          "text": [
            "[I 2024-02-19 12:51:58,547] Trial 82 finished with value: 0.7708825755766033 and parameters: {'num_leaves': 187, 'learning_rate': 0.07847484347020003, 'feature_fraction': 0.3436483652468924, 'bagging_fraction': 0.9023678163818438, 'bagging_freq': 8, 'min_child_samples': 95}. Best is trial 69 with value: 0.7715650724391094.\n"
          ]
        },
        {
          "output_type": "stream",
          "name": "stdout",
          "text": [
            "[LightGBM] [Warning] bagging_freq is set=9, subsample_freq=0 will be ignored. Current value: bagging_freq=9\n",
            "[LightGBM] [Warning] feature_fraction is set=0.30296082908520916, colsample_bytree=1.0 will be ignored. Current value: feature_fraction=0.30296082908520916\n",
            "[LightGBM] [Warning] bagging_fraction is set=0.9422119168771318, subsample=1.0 will be ignored. Current value: bagging_fraction=0.9422119168771318\n",
            "[LightGBM] [Warning] bagging_freq is set=9, subsample_freq=0 will be ignored. Current value: bagging_freq=9\n",
            "[LightGBM] [Warning] feature_fraction is set=0.30296082908520916, colsample_bytree=1.0 will be ignored. Current value: feature_fraction=0.30296082908520916\n",
            "[LightGBM] [Warning] bagging_fraction is set=0.9422119168771318, subsample=1.0 will be ignored. Current value: bagging_fraction=0.9422119168771318\n",
            "[LightGBM] [Info] Number of positive: 82925, number of negative: 404051\n",
            "[LightGBM] [Info] Auto-choosing row-wise multi-threading, the overhead of testing was 0.063461 seconds.\n",
            "You can set `force_row_wise=true` to remove the overhead.\n",
            "And if memory is not enough, you can set `force_col_wise=true`.\n",
            "[LightGBM] [Info] Total Bins 1056\n",
            "[LightGBM] [Info] Number of data points in the train set: 486976, number of used features: 29\n",
            "[LightGBM] [Info] [binary:BoostFromScore]: pavg=0.170286 -> initscore=-1.583605\n",
            "[LightGBM] [Info] Start training from score -1.583605\n",
            "[LightGBM] [Warning] feature_fraction is set=0.30296082908520916, colsample_bytree=1.0 will be ignored. Current value: feature_fraction=0.30296082908520916\n",
            "[LightGBM] [Warning] bagging_freq is set=9, subsample_freq=0 will be ignored. Current value: bagging_freq=9\n",
            "[LightGBM] [Warning] bagging_fraction is set=0.9422119168771318, subsample=1.0 will be ignored. Current value: bagging_fraction=0.9422119168771318\n"
          ]
        },
        {
          "output_type": "stream",
          "name": "stderr",
          "text": [
            "[I 2024-02-19 12:52:25,752] Trial 83 finished with value: 0.7704743489766583 and parameters: {'num_leaves': 180, 'learning_rate': 0.08587662551208927, 'feature_fraction': 0.30296082908520916, 'bagging_fraction': 0.9422119168771318, 'bagging_freq': 9, 'min_child_samples': 99}. Best is trial 69 with value: 0.7715650724391094.\n"
          ]
        },
        {
          "output_type": "stream",
          "name": "stdout",
          "text": [
            "[LightGBM] [Warning] bagging_freq is set=7, subsample_freq=0 will be ignored. Current value: bagging_freq=7\n",
            "[LightGBM] [Warning] feature_fraction is set=0.4117147269801176, colsample_bytree=1.0 will be ignored. Current value: feature_fraction=0.4117147269801176\n",
            "[LightGBM] [Warning] bagging_fraction is set=0.9759306708196307, subsample=1.0 will be ignored. Current value: bagging_fraction=0.9759306708196307\n",
            "[LightGBM] [Warning] bagging_freq is set=7, subsample_freq=0 will be ignored. Current value: bagging_freq=7\n",
            "[LightGBM] [Warning] feature_fraction is set=0.4117147269801176, colsample_bytree=1.0 will be ignored. Current value: feature_fraction=0.4117147269801176\n",
            "[LightGBM] [Warning] bagging_fraction is set=0.9759306708196307, subsample=1.0 will be ignored. Current value: bagging_fraction=0.9759306708196307\n",
            "[LightGBM] [Info] Number of positive: 82925, number of negative: 404051\n",
            "[LightGBM] [Info] Auto-choosing col-wise multi-threading, the overhead of testing was 0.188980 seconds.\n",
            "You can set `force_col_wise=true` to remove the overhead.\n",
            "[LightGBM] [Info] Total Bins 1056\n",
            "[LightGBM] [Info] Number of data points in the train set: 486976, number of used features: 29\n",
            "[LightGBM] [Info] [binary:BoostFromScore]: pavg=0.170286 -> initscore=-1.583605\n",
            "[LightGBM] [Info] Start training from score -1.583605\n",
            "[LightGBM] [Warning] feature_fraction is set=0.4117147269801176, colsample_bytree=1.0 will be ignored. Current value: feature_fraction=0.4117147269801176\n",
            "[LightGBM] [Warning] bagging_freq is set=7, subsample_freq=0 will be ignored. Current value: bagging_freq=7\n",
            "[LightGBM] [Warning] bagging_fraction is set=0.9759306708196307, subsample=1.0 will be ignored. Current value: bagging_fraction=0.9759306708196307\n"
          ]
        },
        {
          "output_type": "stream",
          "name": "stderr",
          "text": [
            "[I 2024-02-19 12:52:55,966] Trial 84 finished with value: 0.7712051687399527 and parameters: {'num_leaves': 192, 'learning_rate': 0.08744193031452985, 'feature_fraction': 0.4117147269801176, 'bagging_fraction': 0.9759306708196307, 'bagging_freq': 7, 'min_child_samples': 91}. Best is trial 69 with value: 0.7715650724391094.\n"
          ]
        },
        {
          "output_type": "stream",
          "name": "stdout",
          "text": [
            "[LightGBM] [Warning] bagging_freq is set=7, subsample_freq=0 will be ignored. Current value: bagging_freq=7\n",
            "[LightGBM] [Warning] feature_fraction is set=0.40664060072479985, colsample_bytree=1.0 will be ignored. Current value: feature_fraction=0.40664060072479985\n",
            "[LightGBM] [Warning] bagging_fraction is set=0.866270575485688, subsample=1.0 will be ignored. Current value: bagging_fraction=0.866270575485688\n",
            "[LightGBM] [Warning] bagging_freq is set=7, subsample_freq=0 will be ignored. Current value: bagging_freq=7\n",
            "[LightGBM] [Warning] feature_fraction is set=0.40664060072479985, colsample_bytree=1.0 will be ignored. Current value: feature_fraction=0.40664060072479985\n",
            "[LightGBM] [Warning] bagging_fraction is set=0.866270575485688, subsample=1.0 will be ignored. Current value: bagging_fraction=0.866270575485688\n",
            "[LightGBM] [Info] Number of positive: 82925, number of negative: 404051\n",
            "[LightGBM] [Info] Auto-choosing col-wise multi-threading, the overhead of testing was 0.365985 seconds.\n",
            "You can set `force_col_wise=true` to remove the overhead.\n",
            "[LightGBM] [Info] Total Bins 1056\n",
            "[LightGBM] [Info] Number of data points in the train set: 486976, number of used features: 29\n",
            "[LightGBM] [Info] [binary:BoostFromScore]: pavg=0.170286 -> initscore=-1.583605\n",
            "[LightGBM] [Info] Start training from score -1.583605\n",
            "[LightGBM] [Warning] feature_fraction is set=0.40664060072479985, colsample_bytree=1.0 will be ignored. Current value: feature_fraction=0.40664060072479985\n",
            "[LightGBM] [Warning] bagging_freq is set=7, subsample_freq=0 will be ignored. Current value: bagging_freq=7\n",
            "[LightGBM] [Warning] bagging_fraction is set=0.866270575485688, subsample=1.0 will be ignored. Current value: bagging_fraction=0.866270575485688\n"
          ]
        },
        {
          "output_type": "stream",
          "name": "stderr",
          "text": [
            "[I 2024-02-19 12:53:24,200] Trial 85 finished with value: 0.7710560110473746 and parameters: {'num_leaves': 189, 'learning_rate': 0.09436136653831337, 'feature_fraction': 0.40664060072479985, 'bagging_fraction': 0.866270575485688, 'bagging_freq': 7, 'min_child_samples': 97}. Best is trial 69 with value: 0.7715650724391094.\n"
          ]
        },
        {
          "output_type": "stream",
          "name": "stdout",
          "text": [
            "[LightGBM] [Warning] bagging_freq is set=7, subsample_freq=0 will be ignored. Current value: bagging_freq=7\n",
            "[LightGBM] [Warning] feature_fraction is set=0.4513094582367029, colsample_bytree=1.0 will be ignored. Current value: feature_fraction=0.4513094582367029\n",
            "[LightGBM] [Warning] bagging_fraction is set=0.22230267495611544, subsample=1.0 will be ignored. Current value: bagging_fraction=0.22230267495611544\n",
            "[LightGBM] [Warning] bagging_freq is set=7, subsample_freq=0 will be ignored. Current value: bagging_freq=7\n",
            "[LightGBM] [Warning] feature_fraction is set=0.4513094582367029, colsample_bytree=1.0 will be ignored. Current value: feature_fraction=0.4513094582367029\n",
            "[LightGBM] [Warning] bagging_fraction is set=0.22230267495611544, subsample=1.0 will be ignored. Current value: bagging_fraction=0.22230267495611544\n",
            "[LightGBM] [Info] Number of positive: 82925, number of negative: 404051\n",
            "[LightGBM] [Info] Auto-choosing row-wise multi-threading, the overhead of testing was 0.148097 seconds.\n",
            "You can set `force_row_wise=true` to remove the overhead.\n",
            "And if memory is not enough, you can set `force_col_wise=true`.\n",
            "[LightGBM] [Info] Total Bins 1056\n",
            "[LightGBM] [Info] Number of data points in the train set: 486976, number of used features: 29\n",
            "[LightGBM] [Info] [binary:BoostFromScore]: pavg=0.170286 -> initscore=-1.583605\n",
            "[LightGBM] [Info] Start training from score -1.583605\n",
            "[LightGBM] [Warning] feature_fraction is set=0.4513094582367029, colsample_bytree=1.0 will be ignored. Current value: feature_fraction=0.4513094582367029\n",
            "[LightGBM] [Warning] bagging_freq is set=7, subsample_freq=0 will be ignored. Current value: bagging_freq=7\n",
            "[LightGBM] [Warning] bagging_fraction is set=0.22230267495611544, subsample=1.0 will be ignored. Current value: bagging_fraction=0.22230267495611544\n"
          ]
        },
        {
          "output_type": "stream",
          "name": "stderr",
          "text": [
            "[I 2024-02-19 12:53:43,707] Trial 86 finished with value: 0.7653260604977654 and parameters: {'num_leaves': 174, 'learning_rate': 0.08771336293861463, 'feature_fraction': 0.4513094582367029, 'bagging_fraction': 0.22230267495611544, 'bagging_freq': 7, 'min_child_samples': 88}. Best is trial 69 with value: 0.7715650724391094.\n"
          ]
        },
        {
          "output_type": "stream",
          "name": "stdout",
          "text": [
            "[LightGBM] [Warning] bagging_freq is set=8, subsample_freq=0 will be ignored. Current value: bagging_freq=8\n",
            "[LightGBM] [Warning] feature_fraction is set=0.496137385645701, colsample_bytree=1.0 will be ignored. Current value: feature_fraction=0.496137385645701\n",
            "[LightGBM] [Warning] bagging_fraction is set=0.9281096009418008, subsample=1.0 will be ignored. Current value: bagging_fraction=0.9281096009418008\n",
            "[LightGBM] [Warning] bagging_freq is set=8, subsample_freq=0 will be ignored. Current value: bagging_freq=8\n",
            "[LightGBM] [Warning] feature_fraction is set=0.496137385645701, colsample_bytree=1.0 will be ignored. Current value: feature_fraction=0.496137385645701\n",
            "[LightGBM] [Warning] bagging_fraction is set=0.9281096009418008, subsample=1.0 will be ignored. Current value: bagging_fraction=0.9281096009418008\n",
            "[LightGBM] [Info] Number of positive: 82925, number of negative: 404051\n",
            "[LightGBM] [Info] Auto-choosing row-wise multi-threading, the overhead of testing was 0.085638 seconds.\n",
            "You can set `force_row_wise=true` to remove the overhead.\n",
            "And if memory is not enough, you can set `force_col_wise=true`.\n",
            "[LightGBM] [Info] Total Bins 1056\n",
            "[LightGBM] [Info] Number of data points in the train set: 486976, number of used features: 29\n",
            "[LightGBM] [Info] [binary:BoostFromScore]: pavg=0.170286 -> initscore=-1.583605\n",
            "[LightGBM] [Info] Start training from score -1.583605\n",
            "[LightGBM] [Warning] feature_fraction is set=0.496137385645701, colsample_bytree=1.0 will be ignored. Current value: feature_fraction=0.496137385645701\n",
            "[LightGBM] [Warning] bagging_freq is set=8, subsample_freq=0 will be ignored. Current value: bagging_freq=8\n",
            "[LightGBM] [Warning] bagging_fraction is set=0.9281096009418008, subsample=1.0 will be ignored. Current value: bagging_fraction=0.9281096009418008\n"
          ]
        },
        {
          "output_type": "stream",
          "name": "stderr",
          "text": [
            "[I 2024-02-19 12:54:03,005] Trial 87 finished with value: 0.7631129462437023 and parameters: {'num_leaves': 11, 'learning_rate': 0.08257630552984953, 'feature_fraction': 0.496137385645701, 'bagging_fraction': 0.9281096009418008, 'bagging_freq': 8, 'min_child_samples': 73}. Best is trial 69 with value: 0.7715650724391094.\n"
          ]
        },
        {
          "output_type": "stream",
          "name": "stdout",
          "text": [
            "[LightGBM] [Warning] bagging_freq is set=9, subsample_freq=0 will be ignored. Current value: bagging_freq=9\n",
            "[LightGBM] [Warning] feature_fraction is set=0.425233986114044, colsample_bytree=1.0 will be ignored. Current value: feature_fraction=0.425233986114044\n",
            "[LightGBM] [Warning] bagging_fraction is set=0.9772667183060619, subsample=1.0 will be ignored. Current value: bagging_fraction=0.9772667183060619\n",
            "[LightGBM] [Warning] bagging_freq is set=9, subsample_freq=0 will be ignored. Current value: bagging_freq=9\n",
            "[LightGBM] [Warning] feature_fraction is set=0.425233986114044, colsample_bytree=1.0 will be ignored. Current value: feature_fraction=0.425233986114044\n",
            "[LightGBM] [Warning] bagging_fraction is set=0.9772667183060619, subsample=1.0 will be ignored. Current value: bagging_fraction=0.9772667183060619\n",
            "[LightGBM] [Info] Number of positive: 82925, number of negative: 404051\n",
            "[LightGBM] [Info] Auto-choosing row-wise multi-threading, the overhead of testing was 0.077697 seconds.\n",
            "You can set `force_row_wise=true` to remove the overhead.\n",
            "And if memory is not enough, you can set `force_col_wise=true`.\n",
            "[LightGBM] [Info] Total Bins 1056\n",
            "[LightGBM] [Info] Number of data points in the train set: 486976, number of used features: 29\n",
            "[LightGBM] [Info] [binary:BoostFromScore]: pavg=0.170286 -> initscore=-1.583605\n",
            "[LightGBM] [Info] Start training from score -1.583605\n",
            "[LightGBM] [Warning] feature_fraction is set=0.425233986114044, colsample_bytree=1.0 will be ignored. Current value: feature_fraction=0.425233986114044\n",
            "[LightGBM] [Warning] bagging_freq is set=9, subsample_freq=0 will be ignored. Current value: bagging_freq=9\n",
            "[LightGBM] [Warning] bagging_fraction is set=0.9772667183060619, subsample=1.0 will be ignored. Current value: bagging_fraction=0.9772667183060619\n"
          ]
        },
        {
          "output_type": "stream",
          "name": "stderr",
          "text": [
            "[I 2024-02-19 12:54:34,538] Trial 88 finished with value: 0.771323520500017 and parameters: {'num_leaves': 193, 'learning_rate': 0.09012096486235488, 'feature_fraction': 0.425233986114044, 'bagging_fraction': 0.9772667183060619, 'bagging_freq': 9, 'min_child_samples': 82}. Best is trial 69 with value: 0.7715650724391094.\n"
          ]
        },
        {
          "output_type": "stream",
          "name": "stdout",
          "text": [
            "[LightGBM] [Warning] bagging_freq is set=9, subsample_freq=0 will be ignored. Current value: bagging_freq=9\n",
            "[LightGBM] [Warning] feature_fraction is set=0.5314989561919641, colsample_bytree=1.0 will be ignored. Current value: feature_fraction=0.5314989561919641\n",
            "[LightGBM] [Warning] bagging_fraction is set=0.8241912363159514, subsample=1.0 will be ignored. Current value: bagging_fraction=0.8241912363159514\n",
            "[LightGBM] [Warning] bagging_freq is set=9, subsample_freq=0 will be ignored. Current value: bagging_freq=9\n",
            "[LightGBM] [Warning] feature_fraction is set=0.5314989561919641, colsample_bytree=1.0 will be ignored. Current value: feature_fraction=0.5314989561919641\n",
            "[LightGBM] [Warning] bagging_fraction is set=0.8241912363159514, subsample=1.0 will be ignored. Current value: bagging_fraction=0.8241912363159514\n",
            "[LightGBM] [Info] Number of positive: 82925, number of negative: 404051\n",
            "[LightGBM] [Info] Auto-choosing col-wise multi-threading, the overhead of testing was 0.357304 seconds.\n",
            "You can set `force_col_wise=true` to remove the overhead.\n",
            "[LightGBM] [Info] Total Bins 1056\n",
            "[LightGBM] [Info] Number of data points in the train set: 486976, number of used features: 29\n",
            "[LightGBM] [Info] [binary:BoostFromScore]: pavg=0.170286 -> initscore=-1.583605\n",
            "[LightGBM] [Info] Start training from score -1.583605\n",
            "[LightGBM] [Warning] feature_fraction is set=0.5314989561919641, colsample_bytree=1.0 will be ignored. Current value: feature_fraction=0.5314989561919641\n",
            "[LightGBM] [Warning] bagging_freq is set=9, subsample_freq=0 will be ignored. Current value: bagging_freq=9\n",
            "[LightGBM] [Warning] bagging_fraction is set=0.8241912363159514, subsample=1.0 will be ignored. Current value: bagging_fraction=0.8241912363159514\n"
          ]
        },
        {
          "output_type": "stream",
          "name": "stderr",
          "text": [
            "[I 2024-02-19 12:55:00,442] Trial 89 finished with value: 0.7710254744053897 and parameters: {'num_leaves': 147, 'learning_rate': 0.08981102797277399, 'feature_fraction': 0.5314989561919641, 'bagging_fraction': 0.8241912363159514, 'bagging_freq': 9, 'min_child_samples': 82}. Best is trial 69 with value: 0.7715650724391094.\n"
          ]
        },
        {
          "output_type": "stream",
          "name": "stdout",
          "text": [
            "[LightGBM] [Warning] bagging_freq is set=10, subsample_freq=0 will be ignored. Current value: bagging_freq=10\n",
            "[LightGBM] [Warning] feature_fraction is set=0.4659008738658193, colsample_bytree=1.0 will be ignored. Current value: feature_fraction=0.4659008738658193\n",
            "[LightGBM] [Warning] bagging_fraction is set=0.7977932895097195, subsample=1.0 will be ignored. Current value: bagging_fraction=0.7977932895097195\n",
            "[LightGBM] [Warning] bagging_freq is set=10, subsample_freq=0 will be ignored. Current value: bagging_freq=10\n",
            "[LightGBM] [Warning] feature_fraction is set=0.4659008738658193, colsample_bytree=1.0 will be ignored. Current value: feature_fraction=0.4659008738658193\n",
            "[LightGBM] [Warning] bagging_fraction is set=0.7977932895097195, subsample=1.0 will be ignored. Current value: bagging_fraction=0.7977932895097195\n",
            "[LightGBM] [Info] Number of positive: 82925, number of negative: 404051\n",
            "[LightGBM] [Info] Auto-choosing row-wise multi-threading, the overhead of testing was 0.071014 seconds.\n",
            "You can set `force_row_wise=true` to remove the overhead.\n",
            "And if memory is not enough, you can set `force_col_wise=true`.\n",
            "[LightGBM] [Info] Total Bins 1056\n",
            "[LightGBM] [Info] Number of data points in the train set: 486976, number of used features: 29\n",
            "[LightGBM] [Info] [binary:BoostFromScore]: pavg=0.170286 -> initscore=-1.583605\n",
            "[LightGBM] [Info] Start training from score -1.583605\n",
            "[LightGBM] [Warning] feature_fraction is set=0.4659008738658193, colsample_bytree=1.0 will be ignored. Current value: feature_fraction=0.4659008738658193\n",
            "[LightGBM] [Warning] bagging_freq is set=10, subsample_freq=0 will be ignored. Current value: bagging_freq=10\n",
            "[LightGBM] [Warning] bagging_fraction is set=0.7977932895097195, subsample=1.0 will be ignored. Current value: bagging_fraction=0.7977932895097195\n"
          ]
        },
        {
          "output_type": "stream",
          "name": "stderr",
          "text": [
            "[I 2024-02-19 12:55:27,379] Trial 90 finished with value: 0.763563156711997 and parameters: {'num_leaves': 166, 'learning_rate': 0.010059426101905071, 'feature_fraction': 0.4659008738658193, 'bagging_fraction': 0.7977932895097195, 'bagging_freq': 10, 'min_child_samples': 78}. Best is trial 69 with value: 0.7715650724391094.\n"
          ]
        },
        {
          "output_type": "stream",
          "name": "stdout",
          "text": [
            "[LightGBM] [Warning] bagging_freq is set=8, subsample_freq=0 will be ignored. Current value: bagging_freq=8\n",
            "[LightGBM] [Warning] feature_fraction is set=0.44112837457831533, colsample_bytree=1.0 will be ignored. Current value: feature_fraction=0.44112837457831533\n",
            "[LightGBM] [Warning] bagging_fraction is set=0.9787109401509758, subsample=1.0 will be ignored. Current value: bagging_fraction=0.9787109401509758\n",
            "[LightGBM] [Warning] bagging_freq is set=8, subsample_freq=0 will be ignored. Current value: bagging_freq=8\n",
            "[LightGBM] [Warning] feature_fraction is set=0.44112837457831533, colsample_bytree=1.0 will be ignored. Current value: feature_fraction=0.44112837457831533\n",
            "[LightGBM] [Warning] bagging_fraction is set=0.9787109401509758, subsample=1.0 will be ignored. Current value: bagging_fraction=0.9787109401509758\n",
            "[LightGBM] [Info] Number of positive: 82925, number of negative: 404051\n",
            "[LightGBM] [Info] Auto-choosing row-wise multi-threading, the overhead of testing was 0.072108 seconds.\n",
            "You can set `force_row_wise=true` to remove the overhead.\n",
            "And if memory is not enough, you can set `force_col_wise=true`.\n",
            "[LightGBM] [Info] Total Bins 1056\n",
            "[LightGBM] [Info] Number of data points in the train set: 486976, number of used features: 29\n",
            "[LightGBM] [Info] [binary:BoostFromScore]: pavg=0.170286 -> initscore=-1.583605\n",
            "[LightGBM] [Info] Start training from score -1.583605\n",
            "[LightGBM] [Warning] feature_fraction is set=0.44112837457831533, colsample_bytree=1.0 will be ignored. Current value: feature_fraction=0.44112837457831533\n",
            "[LightGBM] [Warning] bagging_freq is set=8, subsample_freq=0 will be ignored. Current value: bagging_freq=8\n",
            "[LightGBM] [Warning] bagging_fraction is set=0.9787109401509758, subsample=1.0 will be ignored. Current value: bagging_fraction=0.9787109401509758\n"
          ]
        },
        {
          "output_type": "stream",
          "name": "stderr",
          "text": [
            "[I 2024-02-19 12:55:52,522] Trial 91 finished with value: 0.7716488505781487 and parameters: {'num_leaves': 192, 'learning_rate': 0.09500029851018146, 'feature_fraction': 0.44112837457831533, 'bagging_fraction': 0.9787109401509758, 'bagging_freq': 8, 'min_child_samples': 69}. Best is trial 91 with value: 0.7716488505781487.\n"
          ]
        },
        {
          "output_type": "stream",
          "name": "stdout",
          "text": [
            "[LightGBM] [Warning] bagging_freq is set=9, subsample_freq=0 will be ignored. Current value: bagging_freq=9\n",
            "[LightGBM] [Warning] feature_fraction is set=0.4344342613409064, colsample_bytree=1.0 will be ignored. Current value: feature_fraction=0.4344342613409064\n",
            "[LightGBM] [Warning] bagging_fraction is set=0.9547077232184578, subsample=1.0 will be ignored. Current value: bagging_fraction=0.9547077232184578\n",
            "[LightGBM] [Warning] bagging_freq is set=9, subsample_freq=0 will be ignored. Current value: bagging_freq=9\n",
            "[LightGBM] [Warning] feature_fraction is set=0.4344342613409064, colsample_bytree=1.0 will be ignored. Current value: feature_fraction=0.4344342613409064\n",
            "[LightGBM] [Warning] bagging_fraction is set=0.9547077232184578, subsample=1.0 will be ignored. Current value: bagging_fraction=0.9547077232184578\n",
            "[LightGBM] [Info] Number of positive: 82925, number of negative: 404051\n",
            "[LightGBM] [Info] Auto-choosing row-wise multi-threading, the overhead of testing was 0.068682 seconds.\n",
            "You can set `force_row_wise=true` to remove the overhead.\n",
            "And if memory is not enough, you can set `force_col_wise=true`.\n",
            "[LightGBM] [Info] Total Bins 1056\n",
            "[LightGBM] [Info] Number of data points in the train set: 486976, number of used features: 29\n",
            "[LightGBM] [Info] [binary:BoostFromScore]: pavg=0.170286 -> initscore=-1.583605\n",
            "[LightGBM] [Info] Start training from score -1.583605\n",
            "[LightGBM] [Warning] feature_fraction is set=0.4344342613409064, colsample_bytree=1.0 will be ignored. Current value: feature_fraction=0.4344342613409064\n",
            "[LightGBM] [Warning] bagging_freq is set=9, subsample_freq=0 will be ignored. Current value: bagging_freq=9\n",
            "[LightGBM] [Warning] bagging_fraction is set=0.9547077232184578, subsample=1.0 will be ignored. Current value: bagging_fraction=0.9547077232184578\n"
          ]
        },
        {
          "output_type": "stream",
          "name": "stderr",
          "text": [
            "[I 2024-02-19 12:56:16,141] Trial 92 finished with value: 0.7707397535860155 and parameters: {'num_leaves': 180, 'learning_rate': 0.09514299616615532, 'feature_fraction': 0.4344342613409064, 'bagging_fraction': 0.9547077232184578, 'bagging_freq': 9, 'min_child_samples': 69}. Best is trial 91 with value: 0.7716488505781487.\n"
          ]
        },
        {
          "output_type": "stream",
          "name": "stdout",
          "text": [
            "[LightGBM] [Warning] bagging_freq is set=8, subsample_freq=0 will be ignored. Current value: bagging_freq=8\n",
            "[LightGBM] [Warning] feature_fraction is set=0.37496454543973395, colsample_bytree=1.0 will be ignored. Current value: feature_fraction=0.37496454543973395\n",
            "[LightGBM] [Warning] bagging_fraction is set=0.9867135540183866, subsample=1.0 will be ignored. Current value: bagging_fraction=0.9867135540183866\n",
            "[LightGBM] [Warning] bagging_freq is set=8, subsample_freq=0 will be ignored. Current value: bagging_freq=8\n",
            "[LightGBM] [Warning] feature_fraction is set=0.37496454543973395, colsample_bytree=1.0 will be ignored. Current value: feature_fraction=0.37496454543973395\n",
            "[LightGBM] [Warning] bagging_fraction is set=0.9867135540183866, subsample=1.0 will be ignored. Current value: bagging_fraction=0.9867135540183866\n",
            "[LightGBM] [Info] Number of positive: 82925, number of negative: 404051\n",
            "[LightGBM] [Info] Auto-choosing row-wise multi-threading, the overhead of testing was 0.064158 seconds.\n",
            "You can set `force_row_wise=true` to remove the overhead.\n",
            "And if memory is not enough, you can set `force_col_wise=true`.\n",
            "[LightGBM] [Info] Total Bins 1056\n",
            "[LightGBM] [Info] Number of data points in the train set: 486976, number of used features: 29\n",
            "[LightGBM] [Info] [binary:BoostFromScore]: pavg=0.170286 -> initscore=-1.583605\n",
            "[LightGBM] [Info] Start training from score -1.583605\n",
            "[LightGBM] [Warning] feature_fraction is set=0.37496454543973395, colsample_bytree=1.0 will be ignored. Current value: feature_fraction=0.37496454543973395\n",
            "[LightGBM] [Warning] bagging_freq is set=8, subsample_freq=0 will be ignored. Current value: bagging_freq=8\n",
            "[LightGBM] [Warning] bagging_fraction is set=0.9867135540183866, subsample=1.0 will be ignored. Current value: bagging_fraction=0.9867135540183866\n"
          ]
        },
        {
          "output_type": "stream",
          "name": "stderr",
          "text": [
            "[I 2024-02-19 12:56:48,368] Trial 93 finished with value: 0.7710249969618461 and parameters: {'num_leaves': 172, 'learning_rate': 0.09187706531225599, 'feature_fraction': 0.37496454543973395, 'bagging_fraction': 0.9867135540183866, 'bagging_freq': 8, 'min_child_samples': 64}. Best is trial 91 with value: 0.7716488505781487.\n"
          ]
        },
        {
          "output_type": "stream",
          "name": "stdout",
          "text": [
            "[LightGBM] [Warning] bagging_freq is set=8, subsample_freq=0 will be ignored. Current value: bagging_freq=8\n",
            "[LightGBM] [Warning] feature_fraction is set=0.505862855659689, colsample_bytree=1.0 will be ignored. Current value: feature_fraction=0.505862855659689\n",
            "[LightGBM] [Warning] bagging_fraction is set=0.9034999396113546, subsample=1.0 will be ignored. Current value: bagging_fraction=0.9034999396113546\n",
            "[LightGBM] [Warning] bagging_freq is set=8, subsample_freq=0 will be ignored. Current value: bagging_freq=8\n",
            "[LightGBM] [Warning] feature_fraction is set=0.505862855659689, colsample_bytree=1.0 will be ignored. Current value: feature_fraction=0.505862855659689\n",
            "[LightGBM] [Warning] bagging_fraction is set=0.9034999396113546, subsample=1.0 will be ignored. Current value: bagging_fraction=0.9034999396113546\n",
            "[LightGBM] [Info] Number of positive: 82925, number of negative: 404051\n",
            "[LightGBM] [Info] Auto-choosing col-wise multi-threading, the overhead of testing was 0.229267 seconds.\n",
            "You can set `force_col_wise=true` to remove the overhead.\n",
            "[LightGBM] [Info] Total Bins 1056\n",
            "[LightGBM] [Info] Number of data points in the train set: 486976, number of used features: 29\n",
            "[LightGBM] [Info] [binary:BoostFromScore]: pavg=0.170286 -> initscore=-1.583605\n",
            "[LightGBM] [Info] Start training from score -1.583605\n",
            "[LightGBM] [Warning] feature_fraction is set=0.505862855659689, colsample_bytree=1.0 will be ignored. Current value: feature_fraction=0.505862855659689\n",
            "[LightGBM] [Warning] bagging_freq is set=8, subsample_freq=0 will be ignored. Current value: bagging_freq=8\n",
            "[LightGBM] [Warning] bagging_fraction is set=0.9034999396113546, subsample=1.0 will be ignored. Current value: bagging_fraction=0.9034999396113546\n"
          ]
        },
        {
          "output_type": "stream",
          "name": "stderr",
          "text": [
            "[I 2024-02-19 12:57:14,836] Trial 94 finished with value: 0.7706187441282591 and parameters: {'num_leaves': 192, 'learning_rate': 0.09745037673329288, 'feature_fraction': 0.505862855659689, 'bagging_fraction': 0.9034999396113546, 'bagging_freq': 8, 'min_child_samples': 71}. Best is trial 91 with value: 0.7716488505781487.\n"
          ]
        },
        {
          "output_type": "stream",
          "name": "stdout",
          "text": [
            "[LightGBM] [Warning] bagging_freq is set=9, subsample_freq=0 will be ignored. Current value: bagging_freq=9\n",
            "[LightGBM] [Warning] feature_fraction is set=0.5533921260233479, colsample_bytree=1.0 will be ignored. Current value: feature_fraction=0.5533921260233479\n",
            "[LightGBM] [Warning] bagging_fraction is set=0.9341604117155382, subsample=1.0 will be ignored. Current value: bagging_fraction=0.9341604117155382\n",
            "[LightGBM] [Warning] bagging_freq is set=9, subsample_freq=0 will be ignored. Current value: bagging_freq=9\n",
            "[LightGBM] [Warning] feature_fraction is set=0.5533921260233479, colsample_bytree=1.0 will be ignored. Current value: feature_fraction=0.5533921260233479\n",
            "[LightGBM] [Warning] bagging_fraction is set=0.9341604117155382, subsample=1.0 will be ignored. Current value: bagging_fraction=0.9341604117155382\n",
            "[LightGBM] [Info] Number of positive: 82925, number of negative: 404051\n",
            "[LightGBM] [Info] Auto-choosing col-wise multi-threading, the overhead of testing was 0.316113 seconds.\n",
            "You can set `force_col_wise=true` to remove the overhead.\n",
            "[LightGBM] [Info] Total Bins 1056\n",
            "[LightGBM] [Info] Number of data points in the train set: 486976, number of used features: 29\n",
            "[LightGBM] [Info] [binary:BoostFromScore]: pavg=0.170286 -> initscore=-1.583605\n",
            "[LightGBM] [Info] Start training from score -1.583605\n",
            "[LightGBM] [Warning] feature_fraction is set=0.5533921260233479, colsample_bytree=1.0 will be ignored. Current value: feature_fraction=0.5533921260233479\n",
            "[LightGBM] [Warning] bagging_freq is set=9, subsample_freq=0 will be ignored. Current value: bagging_freq=9\n",
            "[LightGBM] [Warning] bagging_fraction is set=0.9341604117155382, subsample=1.0 will be ignored. Current value: bagging_fraction=0.9341604117155382\n"
          ]
        },
        {
          "output_type": "stream",
          "name": "stderr",
          "text": [
            "[I 2024-02-19 12:57:45,354] Trial 95 finished with value: 0.7706230180449023 and parameters: {'num_leaves': 185, 'learning_rate': 0.09000076184902624, 'feature_fraction': 0.5533921260233479, 'bagging_fraction': 0.9341604117155382, 'bagging_freq': 9, 'min_child_samples': 74}. Best is trial 91 with value: 0.7716488505781487.\n"
          ]
        },
        {
          "output_type": "stream",
          "name": "stdout",
          "text": [
            "[LightGBM] [Warning] bagging_freq is set=4, subsample_freq=0 will be ignored. Current value: bagging_freq=4\n",
            "[LightGBM] [Warning] feature_fraction is set=0.6057543670175692, colsample_bytree=1.0 will be ignored. Current value: feature_fraction=0.6057543670175692\n",
            "[LightGBM] [Warning] bagging_fraction is set=0.4713018988924846, subsample=1.0 will be ignored. Current value: bagging_fraction=0.4713018988924846\n",
            "[LightGBM] [Warning] bagging_freq is set=4, subsample_freq=0 will be ignored. Current value: bagging_freq=4\n",
            "[LightGBM] [Warning] feature_fraction is set=0.6057543670175692, colsample_bytree=1.0 will be ignored. Current value: feature_fraction=0.6057543670175692\n",
            "[LightGBM] [Warning] bagging_fraction is set=0.4713018988924846, subsample=1.0 will be ignored. Current value: bagging_fraction=0.4713018988924846\n",
            "[LightGBM] [Info] Number of positive: 82925, number of negative: 404051\n",
            "[LightGBM] [Info] Auto-choosing col-wise multi-threading, the overhead of testing was 0.214649 seconds.\n",
            "You can set `force_col_wise=true` to remove the overhead.\n",
            "[LightGBM] [Info] Total Bins 1056\n",
            "[LightGBM] [Info] Number of data points in the train set: 486976, number of used features: 29\n",
            "[LightGBM] [Info] [binary:BoostFromScore]: pavg=0.170286 -> initscore=-1.583605\n",
            "[LightGBM] [Info] Start training from score -1.583605\n",
            "[LightGBM] [Warning] feature_fraction is set=0.6057543670175692, colsample_bytree=1.0 will be ignored. Current value: feature_fraction=0.6057543670175692\n",
            "[LightGBM] [Warning] bagging_freq is set=4, subsample_freq=0 will be ignored. Current value: bagging_freq=4\n",
            "[LightGBM] [Warning] bagging_fraction is set=0.4713018988924846, subsample=1.0 will be ignored. Current value: bagging_fraction=0.4713018988924846\n"
          ]
        },
        {
          "output_type": "stream",
          "name": "stderr",
          "text": [
            "[I 2024-02-19 12:58:07,953] Trial 96 finished with value: 0.7693745552763263 and parameters: {'num_leaves': 179, 'learning_rate': 0.07441720834752387, 'feature_fraction': 0.6057543670175692, 'bagging_fraction': 0.4713018988924846, 'bagging_freq': 4, 'min_child_samples': 84}. Best is trial 91 with value: 0.7716488505781487.\n"
          ]
        },
        {
          "output_type": "stream",
          "name": "stdout",
          "text": [
            "[LightGBM] [Warning] bagging_freq is set=8, subsample_freq=0 will be ignored. Current value: bagging_freq=8\n",
            "[LightGBM] [Warning] feature_fraction is set=0.46977858592094557, colsample_bytree=1.0 will be ignored. Current value: feature_fraction=0.46977858592094557\n",
            "[LightGBM] [Warning] bagging_fraction is set=0.9520403844584319, subsample=1.0 will be ignored. Current value: bagging_fraction=0.9520403844584319\n",
            "[LightGBM] [Warning] bagging_freq is set=8, subsample_freq=0 will be ignored. Current value: bagging_freq=8\n",
            "[LightGBM] [Warning] feature_fraction is set=0.46977858592094557, colsample_bytree=1.0 will be ignored. Current value: feature_fraction=0.46977858592094557\n",
            "[LightGBM] [Warning] bagging_fraction is set=0.9520403844584319, subsample=1.0 will be ignored. Current value: bagging_fraction=0.9520403844584319\n",
            "[LightGBM] [Info] Number of positive: 82925, number of negative: 404051\n",
            "[LightGBM] [Info] Auto-choosing row-wise multi-threading, the overhead of testing was 0.090078 seconds.\n",
            "You can set `force_row_wise=true` to remove the overhead.\n",
            "And if memory is not enough, you can set `force_col_wise=true`.\n",
            "[LightGBM] [Info] Total Bins 1056\n",
            "[LightGBM] [Info] Number of data points in the train set: 486976, number of used features: 29\n",
            "[LightGBM] [Info] [binary:BoostFromScore]: pavg=0.170286 -> initscore=-1.583605\n",
            "[LightGBM] [Info] Start training from score -1.583605\n",
            "[LightGBM] [Warning] feature_fraction is set=0.46977858592094557, colsample_bytree=1.0 will be ignored. Current value: feature_fraction=0.46977858592094557\n",
            "[LightGBM] [Warning] bagging_freq is set=8, subsample_freq=0 will be ignored. Current value: bagging_freq=8\n",
            "[LightGBM] [Warning] bagging_fraction is set=0.9520403844584319, subsample=1.0 will be ignored. Current value: bagging_fraction=0.9520403844584319\n"
          ]
        },
        {
          "output_type": "stream",
          "name": "stderr",
          "text": [
            "[I 2024-02-19 12:58:31,269] Trial 97 finished with value: 0.7709387416829869 and parameters: {'num_leaves': 154, 'learning_rate': 0.0929084458430467, 'feature_fraction': 0.46977858592094557, 'bagging_fraction': 0.9520403844584319, 'bagging_freq': 8, 'min_child_samples': 77}. Best is trial 91 with value: 0.7716488505781487.\n"
          ]
        },
        {
          "output_type": "stream",
          "name": "stdout",
          "text": [
            "[LightGBM] [Warning] bagging_freq is set=10, subsample_freq=0 will be ignored. Current value: bagging_freq=10\n",
            "[LightGBM] [Warning] feature_fraction is set=0.4235626377874142, colsample_bytree=1.0 will be ignored. Current value: feature_fraction=0.4235626377874142\n",
            "[LightGBM] [Warning] bagging_fraction is set=0.9794103717263772, subsample=1.0 will be ignored. Current value: bagging_fraction=0.9794103717263772\n",
            "[LightGBM] [Warning] bagging_freq is set=10, subsample_freq=0 will be ignored. Current value: bagging_freq=10\n",
            "[LightGBM] [Warning] feature_fraction is set=0.4235626377874142, colsample_bytree=1.0 will be ignored. Current value: feature_fraction=0.4235626377874142\n",
            "[LightGBM] [Warning] bagging_fraction is set=0.9794103717263772, subsample=1.0 will be ignored. Current value: bagging_fraction=0.9794103717263772\n",
            "[LightGBM] [Info] Number of positive: 82925, number of negative: 404051\n",
            "[LightGBM] [Info] Auto-choosing row-wise multi-threading, the overhead of testing was 0.067298 seconds.\n",
            "You can set `force_row_wise=true` to remove the overhead.\n",
            "And if memory is not enough, you can set `force_col_wise=true`.\n",
            "[LightGBM] [Info] Total Bins 1056\n",
            "[LightGBM] [Info] Number of data points in the train set: 486976, number of used features: 29\n",
            "[LightGBM] [Info] [binary:BoostFromScore]: pavg=0.170286 -> initscore=-1.583605\n",
            "[LightGBM] [Info] Start training from score -1.583605\n",
            "[LightGBM] [Warning] feature_fraction is set=0.4235626377874142, colsample_bytree=1.0 will be ignored. Current value: feature_fraction=0.4235626377874142\n",
            "[LightGBM] [Warning] bagging_freq is set=10, subsample_freq=0 will be ignored. Current value: bagging_freq=10\n",
            "[LightGBM] [Warning] bagging_fraction is set=0.9794103717263772, subsample=1.0 will be ignored. Current value: bagging_fraction=0.9794103717263772\n"
          ]
        },
        {
          "output_type": "stream",
          "name": "stderr",
          "text": [
            "[I 2024-02-19 12:58:53,633] Trial 98 finished with value: 0.7719287205136398 and parameters: {'num_leaves': 195, 'learning_rate': 0.09754119273058563, 'feature_fraction': 0.4235626377874142, 'bagging_fraction': 0.9794103717263772, 'bagging_freq': 10, 'min_child_samples': 95}. Best is trial 98 with value: 0.7719287205136398.\n"
          ]
        },
        {
          "output_type": "stream",
          "name": "stdout",
          "text": [
            "[LightGBM] [Warning] bagging_freq is set=10, subsample_freq=0 will be ignored. Current value: bagging_freq=10\n",
            "[LightGBM] [Warning] feature_fraction is set=0.4211968860514655, colsample_bytree=1.0 will be ignored. Current value: feature_fraction=0.4211968860514655\n",
            "[LightGBM] [Warning] bagging_fraction is set=0.9755149277708609, subsample=1.0 will be ignored. Current value: bagging_fraction=0.9755149277708609\n",
            "[LightGBM] [Warning] bagging_freq is set=10, subsample_freq=0 will be ignored. Current value: bagging_freq=10\n",
            "[LightGBM] [Warning] feature_fraction is set=0.4211968860514655, colsample_bytree=1.0 will be ignored. Current value: feature_fraction=0.4211968860514655\n",
            "[LightGBM] [Warning] bagging_fraction is set=0.9755149277708609, subsample=1.0 will be ignored. Current value: bagging_fraction=0.9755149277708609\n",
            "[LightGBM] [Info] Number of positive: 82925, number of negative: 404051\n",
            "[LightGBM] [Info] Auto-choosing row-wise multi-threading, the overhead of testing was 0.067467 seconds.\n",
            "You can set `force_row_wise=true` to remove the overhead.\n",
            "And if memory is not enough, you can set `force_col_wise=true`.\n",
            "[LightGBM] [Info] Total Bins 1056\n",
            "[LightGBM] [Info] Number of data points in the train set: 486976, number of used features: 29\n",
            "[LightGBM] [Info] [binary:BoostFromScore]: pavg=0.170286 -> initscore=-1.583605\n",
            "[LightGBM] [Info] Start training from score -1.583605\n",
            "[LightGBM] [Warning] feature_fraction is set=0.4211968860514655, colsample_bytree=1.0 will be ignored. Current value: feature_fraction=0.4211968860514655\n",
            "[LightGBM] [Warning] bagging_freq is set=10, subsample_freq=0 will be ignored. Current value: bagging_freq=10\n",
            "[LightGBM] [Warning] bagging_fraction is set=0.9755149277708609, subsample=1.0 will be ignored. Current value: bagging_fraction=0.9755149277708609\n"
          ]
        },
        {
          "output_type": "stream",
          "name": "stderr",
          "text": [
            "[I 2024-02-19 12:59:14,928] Trial 99 finished with value: 0.7713304442640101 and parameters: {'num_leaves': 196, 'learning_rate': 0.09846472118382728, 'feature_fraction': 0.4211968860514655, 'bagging_fraction': 0.9755149277708609, 'bagging_freq': 10, 'min_child_samples': 98}. Best is trial 98 with value: 0.7719287205136398.\n"
          ]
        },
        {
          "output_type": "stream",
          "name": "stdout",
          "text": [
            "Best trial:\n",
            "ROC-AUC: 0.7719\n",
            "Params: {'num_leaves': 195, 'learning_rate': 0.09754119273058563, 'feature_fraction': 0.4235626377874142, 'bagging_fraction': 0.9794103717263772, 'bagging_freq': 10, 'min_child_samples': 95}\n"
          ]
        }
      ],
      "source": [
        "def objective(trial):\n",
        "    params = {\n",
        "        'objective': 'binary',\n",
        "        'metric': 'binary_logloss',\n",
        "        'boosting_type': 'gbdt',\n",
        "        'num_leaves': trial.suggest_int('num_leaves', 10, 200),\n",
        "        'learning_rate': trial.suggest_float('learning_rate', 0.001, 0.1),\n",
        "        'feature_fraction': trial.suggest_float('feature_fraction', 0.1, 1),\n",
        "        'bagging_fraction': trial.suggest_float('bagging_fraction', 0.1, 1),\n",
        "        'bagging_freq': trial.suggest_int('bagging_freq', 1, 10),\n",
        "        'min_child_samples': trial.suggest_int('min_child_samples', 5, 100)\n",
        "    }\n",
        "\n",
        "    model = lgb.LGBMClassifier(**params, random_state=42)\n",
        "    model.fit(X_train, y_train)\n",
        "    predictions = model.predict_proba(X_test)[:, 1]\n",
        "    roc_auc = roc_auc_score(y_test, predictions)\n",
        "\n",
        "    return roc_auc\n",
        "\n",
        "study = optuna.create_study(direction='maximize')\n",
        "study.optimize(objective, n_trials=100)\n",
        "\n",
        "print('Best trial:')\n",
        "trial = study.best_trial\n",
        "print('ROC-AUC: {:.4f}'.format(trial.value))\n",
        "print('Params: {}'.format(trial.params))"
      ]
    },
    {
      "cell_type": "markdown",
      "source": [
        "У LightGBM  показатели метрики лучше, чем у модели Случайного леса, они равняются 0.7719. Обучим последнюю модель и посмотрим какие результаты даст нам она. Обучаем модель CatBoost"
      ],
      "metadata": {
        "id": "5W0sAM0MjRrW"
      }
    },
    {
      "cell_type": "code",
      "execution_count": 99,
      "metadata": {
        "colab": {
          "base_uri": "https://localhost:8080/"
        },
        "id": "L-uwQJAyy57c",
        "outputId": "9d7f8ad1-1e32-486f-c17e-3a825c61d7c3"
      },
      "outputs": [
        {
          "output_type": "stream",
          "name": "stderr",
          "text": [
            "[I 2024-02-19 12:59:23,403] A new study created in memory with name: no-name-38afe357-07d6-4d0a-b56b-0f834be1a3a0\n",
            "[I 2024-02-19 12:59:49,283] Trial 0 finished with value: 0.7524172500345613 and parameters: {'iterations': 139, 'depth': 4, 'learning_rate': 0.026930847038184852, 'bagging_temperature': 0.2572147501457623, 'border_count': 168}. Best is trial 0 with value: 0.7524172500345613.\n",
            "[I 2024-02-19 13:00:27,166] Trial 1 finished with value: 0.766913548385508 and parameters: {'iterations': 156, 'depth': 8, 'learning_rate': 0.07792840881286921, 'bagging_temperature': 0.4163301971833856, 'border_count': 196}. Best is trial 1 with value: 0.766913548385508.\n",
            "[I 2024-02-19 13:03:10,282] Trial 2 finished with value: 0.7672731682828973 and parameters: {'iterations': 458, 'depth': 10, 'learning_rate': 0.096546536203, 'bagging_temperature': 0.46545785329597633, 'border_count': 151}. Best is trial 2 with value: 0.7672731682828973.\n",
            "[I 2024-02-19 13:03:22,414] Trial 3 finished with value: 0.7560210041302763 and parameters: {'iterations': 67, 'depth': 8, 'learning_rate': 0.04080133561129384, 'bagging_temperature': 0.4770192200938471, 'border_count': 167}. Best is trial 2 with value: 0.7672731682828973.\n",
            "[I 2024-02-19 13:06:07,603] Trial 4 finished with value: 0.7694271175998296 and parameters: {'iterations': 463, 'depth': 10, 'learning_rate': 0.03525892740383363, 'bagging_temperature': 0.23770134962083012, 'border_count': 197}. Best is trial 4 with value: 0.7694271175998296.\n",
            "[I 2024-02-19 13:07:10,420] Trial 5 finished with value: 0.7691348993138365 and parameters: {'iterations': 492, 'depth': 5, 'learning_rate': 0.06753888542471909, 'bagging_temperature': 0.8947099222429514, 'border_count': 192}. Best is trial 4 with value: 0.7694271175998296.\n",
            "[I 2024-02-19 13:07:26,045] Trial 6 finished with value: 0.7508966984470185 and parameters: {'iterations': 78, 'depth': 9, 'learning_rate': 0.015860376119478232, 'bagging_temperature': 0.4531054807289453, 'border_count': 251}. Best is trial 4 with value: 0.7694271175998296.\n",
            "[I 2024-02-19 13:08:29,456] Trial 7 finished with value: 0.7705381934314497 and parameters: {'iterations': 355, 'depth': 8, 'learning_rate': 0.09978757635656839, 'bagging_temperature': 0.7111301972288496, 'border_count': 227}. Best is trial 7 with value: 0.7705381934314497.\n",
            "[I 2024-02-19 13:09:32,432] Trial 8 finished with value: 0.7693089542479796 and parameters: {'iterations': 482, 'depth': 5, 'learning_rate': 0.07571340159424093, 'bagging_temperature': 0.5046789412837333, 'border_count': 211}. Best is trial 7 with value: 0.7705381934314497.\n",
            "[I 2024-02-19 13:10:18,945] Trial 9 finished with value: 0.7628550130191837 and parameters: {'iterations': 266, 'depth': 7, 'learning_rate': 0.026890387491597216, 'bagging_temperature': 0.6820630506969494, 'border_count': 187}. Best is trial 7 with value: 0.7705381934314497.\n",
            "[I 2024-02-19 13:11:13,763] Trial 10 finished with value: 0.7698933915336331 and parameters: {'iterations': 344, 'depth': 7, 'learning_rate': 0.09943603250127803, 'bagging_temperature': 0.9726452860190187, 'border_count': 77}. Best is trial 7 with value: 0.7705381934314497.\n",
            "[I 2024-02-19 13:12:09,751] Trial 11 finished with value: 0.7701836596042948 and parameters: {'iterations': 346, 'depth': 7, 'learning_rate': 0.09668181280426533, 'bagging_temperature': 0.9935176739423239, 'border_count': 72}. Best is trial 7 with value: 0.7705381934314497.\n",
            "[I 2024-02-19 13:12:59,449] Trial 12 finished with value: 0.7681278859541251 and parameters: {'iterations': 345, 'depth': 6, 'learning_rate': 0.059127571372172, 'bagging_temperature': 0.7813192626880643, 'border_count': 8}. Best is trial 7 with value: 0.7705381934314497.\n",
            "[I 2024-02-19 13:14:00,795] Trial 13 finished with value: 0.7703687973186102 and parameters: {'iterations': 363, 'depth': 8, 'learning_rate': 0.08668856707586572, 'bagging_temperature': 0.6946406433615652, 'border_count': 85}. Best is trial 7 with value: 0.7705381934314497.\n",
            "[I 2024-02-19 13:14:52,879] Trial 14 finished with value: 0.7705511479235303 and parameters: {'iterations': 271, 'depth': 9, 'learning_rate': 0.084710471306019, 'bagging_temperature': 0.6539766044048829, 'border_count': 100}. Best is trial 14 with value: 0.7705511479235303.\n",
            "[I 2024-02-19 13:15:39,542] Trial 15 finished with value: 0.7679210468012161 and parameters: {'iterations': 243, 'depth': 9, 'learning_rate': 0.053722333014501814, 'bagging_temperature': 0.6540630525053676, 'border_count': 116}. Best is trial 14 with value: 0.7705511479235303.\n",
            "[I 2024-02-19 13:16:24,321] Trial 16 finished with value: 0.7463272754138803 and parameters: {'iterations': 221, 'depth': 9, 'learning_rate': 0.0017402502631414657, 'bagging_temperature': 0.8231721635587027, 'border_count': 249}. Best is trial 14 with value: 0.7705511479235303.\n",
            "[I 2024-02-19 13:17:44,669] Trial 17 finished with value: 0.7706268425889229 and parameters: {'iterations': 412, 'depth': 9, 'learning_rate': 0.08120207924874578, 'bagging_temperature': 0.6071568173692848, 'border_count': 110}. Best is trial 17 with value: 0.7706268425889229.\n",
            "[I 2024-02-19 13:20:01,501] Trial 18 finished with value: 0.7693516601099292 and parameters: {'iterations': 392, 'depth': 10, 'learning_rate': 0.08446086239331001, 'bagging_temperature': 0.5895823253782786, 'border_count': 114}. Best is trial 17 with value: 0.7706268425889229.\n",
            "[I 2024-02-19 13:21:00,439] Trial 19 finished with value: 0.7699809680488853 and parameters: {'iterations': 304, 'depth': 9, 'learning_rate': 0.07147733991473211, 'bagging_temperature': 0.3573943985409001, 'border_count': 41}. Best is trial 17 with value: 0.7706268425889229.\n",
            "[I 2024-02-19 13:23:25,654] Trial 20 finished with value: 0.7700168053371266 and parameters: {'iterations': 412, 'depth': 10, 'learning_rate': 0.06238265669321776, 'bagging_temperature': 0.5784768737161329, 'border_count': 128}. Best is trial 17 with value: 0.7706268425889229.\n",
            "[I 2024-02-19 13:24:37,522] Trial 21 finished with value: 0.7703210584357087 and parameters: {'iterations': 421, 'depth': 8, 'learning_rate': 0.08769300850028922, 'bagging_temperature': 0.7764780342739496, 'border_count': 98}. Best is trial 17 with value: 0.7706268425889229.\n",
            "[I 2024-02-19 13:25:37,141] Trial 22 finished with value: 0.769855855003124 and parameters: {'iterations': 306, 'depth': 9, 'learning_rate': 0.08840154996359893, 'bagging_temperature': 0.11325057750099654, 'border_count': 49}. Best is trial 17 with value: 0.7706268425889229.\n",
            "[I 2024-02-19 13:26:14,716] Trial 23 finished with value: 0.7685843721763419 and parameters: {'iterations': 217, 'depth': 8, 'learning_rate': 0.08024832081410367, 'bagging_temperature': 0.628669712033714, 'border_count': 145}. Best is trial 17 with value: 0.7706268425889229.\n",
            "[I 2024-02-19 13:27:13,139] Trial 24 finished with value: 0.7702400785868552 and parameters: {'iterations': 300, 'depth': 9, 'learning_rate': 0.09162175535673639, 'bagging_temperature': 0.737883065180674, 'border_count': 99}. Best is trial 17 with value: 0.7706268425889229.\n",
            "[I 2024-02-19 13:28:06,879] Trial 25 finished with value: 0.7694777135315387 and parameters: {'iterations': 383, 'depth': 6, 'learning_rate': 0.07406771360089004, 'bagging_temperature': 0.8432828260522778, 'border_count': 228}. Best is trial 17 with value: 0.7706268425889229.\n",
            "[I 2024-02-19 13:29:19,737] Trial 26 finished with value: 0.7701196907334731 and parameters: {'iterations': 434, 'depth': 8, 'learning_rate': 0.04841706395927836, 'bagging_temperature': 0.5611257690081477, 'border_count': 47}. Best is trial 17 with value: 0.7706268425889229.\n",
            "[I 2024-02-19 13:29:56,798] Trial 27 finished with value: 0.7690316597005314 and parameters: {'iterations': 187, 'depth': 9, 'learning_rate': 0.09238974915621616, 'bagging_temperature': 0.7339926823598772, 'border_count': 137}. Best is trial 17 with value: 0.7706268425889229.\n",
            "[I 2024-02-19 13:31:32,628] Trial 28 finished with value: 0.7694269396587381 and parameters: {'iterations': 270, 'depth': 10, 'learning_rate': 0.06842622030326104, 'bagging_temperature': 0.8921528667670797, 'border_count': 118}. Best is trial 17 with value: 0.7706268425889229.\n",
            "[I 2024-02-19 13:32:08,841] Trial 29 finished with value: 0.7658064495848598 and parameters: {'iterations': 320, 'depth': 4, 'learning_rate': 0.08173507836414619, 'bagging_temperature': 0.3718178496606504, 'border_count': 174}. Best is trial 17 with value: 0.7706268425889229.\n",
            "[I 2024-02-19 13:33:08,744] Trial 30 finished with value: 0.7702123316710461 and parameters: {'iterations': 380, 'depth': 7, 'learning_rate': 0.09919110105986731, 'bagging_temperature': 0.629116430728039, 'border_count': 159}. Best is trial 17 with value: 0.7706268425889229.\n",
            "[I 2024-02-19 13:34:10,178] Trial 31 finished with value: 0.7702370792803297 and parameters: {'iterations': 366, 'depth': 8, 'learning_rate': 0.08618660834416601, 'bagging_temperature': 0.6575798438217374, 'border_count': 92}. Best is trial 17 with value: 0.7706268425889229.\n",
            "[I 2024-02-19 13:35:26,554] Trial 32 finished with value: 0.7704328382698473 and parameters: {'iterations': 443, 'depth': 8, 'learning_rate': 0.07870822982088453, 'bagging_temperature': 0.7148901019730244, 'border_count': 66}. Best is trial 17 with value: 0.7706268425889229.\n",
            "[I 2024-02-19 13:36:33,028] Trial 33 finished with value: 0.7703386370172758 and parameters: {'iterations': 437, 'depth': 7, 'learning_rate': 0.07887442982380974, 'bagging_temperature': 0.5271942951907143, 'border_count': 63}. Best is trial 17 with value: 0.7706268425889229.\n",
            "[I 2024-02-19 13:37:41,850] Trial 34 finished with value: 0.7706983746697991 and parameters: {'iterations': 405, 'depth': 8, 'learning_rate': 0.09315317846144429, 'bagging_temperature': 0.7152639840537339, 'border_count': 61}. Best is trial 34 with value: 0.7706983746697991.\n",
            "[I 2024-02-19 13:38:59,279] Trial 35 finished with value: 0.7693267471676795 and parameters: {'iterations': 403, 'depth': 9, 'learning_rate': 0.09245785419465727, 'bagging_temperature': 0.5990255292436482, 'border_count': 23}. Best is trial 34 with value: 0.7706983746697991.\n",
            "[I 2024-02-19 13:41:43,683] Trial 36 finished with value: 0.7676967475355418 and parameters: {'iterations': 471, 'depth': 10, 'learning_rate': 0.09406451457597272, 'bagging_temperature': 0.7837046556430572, 'border_count': 106}. Best is trial 34 with value: 0.7706983746697991.\n",
            "[I 2024-02-19 13:42:38,967] Trial 37 finished with value: 0.7698732668243898 and parameters: {'iterations': 326, 'depth': 8, 'learning_rate': 0.06341831087041461, 'bagging_temperature': 0.41827283257775977, 'border_count': 130}. Best is trial 34 with value: 0.7706983746697991.\n",
            "[I 2024-02-19 13:43:06,205] Trial 38 finished with value: 0.7680202870219683 and parameters: {'iterations': 140, 'depth': 9, 'learning_rate': 0.0901232723633561, 'bagging_temperature': 0.5181212764161834, 'border_count': 88}. Best is trial 34 with value: 0.7706983746697991.\n",
            "[I 2024-02-19 13:43:50,146] Trial 39 finished with value: 0.7694305351154977 and parameters: {'iterations': 282, 'depth': 7, 'learning_rate': 0.08302636362483934, 'bagging_temperature': 0.8646075577251887, 'border_count': 217}. Best is trial 34 with value: 0.7706983746697991.\n",
            "[I 2024-02-19 13:45:00,891] Trial 40 finished with value: 0.7681122012081585 and parameters: {'iterations': 497, 'depth': 6, 'learning_rate': 0.04090184057187055, 'bagging_temperature': 0.9296623567409387, 'border_count': 31}. Best is trial 34 with value: 0.7706983746697991.\n",
            "[I 2024-02-19 13:46:22,555] Trial 41 finished with value: 0.7706924928603256 and parameters: {'iterations': 456, 'depth': 8, 'learning_rate': 0.07679939628516283, 'bagging_temperature': 0.6989490155135826, 'border_count': 66}. Best is trial 34 with value: 0.7706983746697991.\n",
            "[I 2024-02-19 13:47:37,259] Trial 42 finished with value: 0.7704256376028723 and parameters: {'iterations': 418, 'depth': 8, 'learning_rate': 0.07452794816196598, 'bagging_temperature': 0.7416439317251349, 'border_count': 55}. Best is trial 34 with value: 0.7706983746697991.\n",
            "[I 2024-02-19 13:48:58,783] Trial 43 finished with value: 0.7703297076097773 and parameters: {'iterations': 465, 'depth': 8, 'learning_rate': 0.0960784640816221, 'bagging_temperature': 0.679164954934593, 'border_count': 74}. Best is trial 34 with value: 0.7706983746697991.\n",
            "[I 2024-02-19 13:50:25,670] Trial 44 finished with value: 0.7702470135316387 and parameters: {'iterations': 454, 'depth': 9, 'learning_rate': 0.0682059911000101, 'bagging_temperature': 0.8114119059436569, 'border_count': 81}. Best is trial 34 with value: 0.7706983746697991.\n",
            "[I 2024-02-19 13:50:43,164] Trial 45 finished with value: 0.765225990519624 and parameters: {'iterations': 93, 'depth': 8, 'learning_rate': 0.09960637503994323, 'bagging_temperature': 0.6185330378309903, 'border_count': 61}. Best is trial 34 with value: 0.7706983746697991.\n",
            "[I 2024-02-19 13:51:42,587] Trial 46 finished with value: 0.7701827917846402 and parameters: {'iterations': 371, 'depth': 7, 'learning_rate': 0.09536707147931467, 'bagging_temperature': 0.48443520742329715, 'border_count': 33}. Best is trial 34 with value: 0.7706983746697991.\n",
            "[I 2024-02-19 13:53:45,568] Trial 47 finished with value: 0.7691327416591581 and parameters: {'iterations': 349, 'depth': 10, 'learning_rate': 0.08415717676709387, 'bagging_temperature': 0.6990092496390613, 'border_count': 104}. Best is trial 34 with value: 0.7706983746697991.\n",
            "[I 2024-02-19 13:54:30,148] Trial 48 finished with value: 0.7678628862321176 and parameters: {'iterations': 248, 'depth': 9, 'learning_rate': 0.05452835946411586, 'bagging_temperature': 0.6612332609325874, 'border_count': 6}. Best is trial 34 with value: 0.7706983746697991.\n",
            "[I 2024-02-19 13:55:44,203] Trial 49 finished with value: 0.7706654929164777 and parameters: {'iterations': 397, 'depth': 9, 'learning_rate': 0.07187193255873023, 'bagging_temperature': 0.7722960330263041, 'border_count': 176}. Best is trial 34 with value: 0.7706983746697991.\n",
            "[I 2024-02-19 13:56:55,378] Trial 50 finished with value: 0.7704504482527832 and parameters: {'iterations': 393, 'depth': 9, 'learning_rate': 0.07036272317632113, 'bagging_temperature': 0.7671293297038593, 'border_count': 180}. Best is trial 34 with value: 0.7706983746697991.\n",
            "[I 2024-02-19 13:58:04,012] Trial 51 finished with value: 0.7704556939466438 and parameters: {'iterations': 425, 'depth': 8, 'learning_rate': 0.07822040166663893, 'bagging_temperature': 0.7137681278516176, 'border_count': 199}. Best is trial 34 with value: 0.7706983746697991.\n",
            "[I 2024-02-19 13:59:18,042] Trial 52 finished with value: 0.7705723521737803 and parameters: {'iterations': 401, 'depth': 9, 'learning_rate': 0.06332486438044184, 'bagging_temperature': 0.7579503305176704, 'border_count': 158}. Best is trial 34 with value: 0.7706983746697991.\n",
            "[I 2024-02-19 14:01:52,637] Trial 53 finished with value: 0.77011373517836 and parameters: {'iterations': 477, 'depth': 10, 'learning_rate': 0.06372917514912496, 'bagging_temperature': 0.8117439487835735, 'border_count': 157}. Best is trial 34 with value: 0.7706983746697991.\n",
            "[I 2024-02-19 14:03:13,077] Trial 54 finished with value: 0.7702014415810933 and parameters: {'iterations': 447, 'depth': 9, 'learning_rate': 0.07374492127645711, 'bagging_temperature': 0.5472487991642156, 'border_count': 145}. Best is trial 34 with value: 0.7706983746697991.\n",
            "[I 2024-02-19 14:04:25,615] Trial 55 finished with value: 0.7700957314888647 and parameters: {'iterations': 402, 'depth': 9, 'learning_rate': 0.0578520123472141, 'bagging_temperature': 0.7668368329807804, 'border_count': 163}. Best is trial 34 with value: 0.7706983746697991.\n",
            "[I 2024-02-19 14:05:25,393] Trial 56 finished with value: 0.769173058876055 and parameters: {'iterations': 331, 'depth': 9, 'learning_rate': 0.04829139918835043, 'bagging_temperature': 0.6511936833533011, 'border_count': 122}. Best is trial 34 with value: 0.7706983746697991.\n",
            "[I 2024-02-19 14:07:58,345] Trial 57 finished with value: 0.7697822030919457 and parameters: {'iterations': 457, 'depth': 10, 'learning_rate': 0.06495619834641507, 'bagging_temperature': 0.9241836266330871, 'border_count': 189}. Best is trial 34 with value: 0.7706983746697991.\n",
            "[I 2024-02-19 14:09:14,252] Trial 58 finished with value: 0.7704135573534535 and parameters: {'iterations': 411, 'depth': 9, 'learning_rate': 0.07668869257241075, 'bagging_temperature': 0.852566391341436, 'border_count': 173}. Best is trial 34 with value: 0.7706983746697991.\n",
            "[I 2024-02-19 14:11:49,783] Trial 59 finished with value: 0.7686583538018956 and parameters: {'iterations': 487, 'depth': 10, 'learning_rate': 0.07205915476098536, 'bagging_temperature': 0.6021168136478593, 'border_count': 139}. Best is trial 34 with value: 0.7706983746697991.\n",
            "[I 2024-02-19 14:12:23,537] Trial 60 finished with value: 0.767320799402009 and parameters: {'iterations': 187, 'depth': 9, 'learning_rate': 0.0596315828898933, 'bagging_temperature': 0.6863472130496832, 'border_count': 108}. Best is trial 34 with value: 0.7706983746697991.\n",
            "[I 2024-02-19 14:13:19,565] Trial 61 finished with value: 0.7700854197074591 and parameters: {'iterations': 357, 'depth': 8, 'learning_rate': 0.08847006926146415, 'bagging_temperature': 0.7499410656159952, 'border_count': 237}. Best is trial 34 with value: 0.7706983746697991.\n",
            "[I 2024-02-19 14:14:21,174] Trial 62 finished with value: 0.7701878752380937 and parameters: {'iterations': 386, 'depth': 8, 'learning_rate': 0.0812240046357817, 'bagging_temperature': 0.7203218495218344, 'border_count': 199}. Best is trial 34 with value: 0.7706983746697991.\n",
            "[I 2024-02-19 14:15:15,368] Trial 63 finished with value: 0.7634705474136823 and parameters: {'iterations': 374, 'depth': 7, 'learning_rate': 0.020479516437106524, 'bagging_temperature': 0.806049777595853, 'border_count': 210}. Best is trial 34 with value: 0.7706983746697991.\n",
            "[I 2024-02-19 14:16:00,589] Trial 64 finished with value: 0.7701082958427232 and parameters: {'iterations': 289, 'depth': 8, 'learning_rate': 0.08522986152165066, 'bagging_temperature': 0.6356537904871693, 'border_count': 240}. Best is trial 34 with value: 0.7706983746697991.\n",
            "[I 2024-02-19 14:17:15,790] Trial 65 finished with value: 0.7699797541005033 and parameters: {'iterations': 429, 'depth': 9, 'learning_rate': 0.08957171456431152, 'bagging_temperature': 0.5614518577449893, 'border_count': 95}. Best is trial 34 with value: 0.7706983746697991.\n",
            "[I 2024-02-19 14:18:00,154] Trial 66 finished with value: 0.7694410648033736 and parameters: {'iterations': 255, 'depth': 9, 'learning_rate': 0.06643922135640608, 'bagging_temperature': 0.10534957758764713, 'border_count': 151}. Best is trial 34 with value: 0.7706983746697991.\n",
            "[I 2024-02-19 14:18:52,920] Trial 67 finished with value: 0.770270409216828 and parameters: {'iterations': 337, 'depth': 8, 'learning_rate': 0.09652624071728952, 'bagging_temperature': 0.6825714760950643, 'border_count': 124}. Best is trial 34 with value: 0.7706983746697991.\n",
            "[I 2024-02-19 14:20:01,597] Trial 68 finished with value: 0.7702063872967235 and parameters: {'iterations': 401, 'depth': 9, 'learning_rate': 0.08160853175180346, 'bagging_temperature': 0.7874608433532095, 'border_count': 83}. Best is trial 34 with value: 0.7706983746697991.\n",
            "[I 2024-02-19 14:20:38,066] Trial 69 finished with value: 0.7686530671910995 and parameters: {'iterations': 229, 'depth': 8, 'learning_rate': 0.07600382425174285, 'bagging_temperature': 0.1752155851302729, 'border_count': 135}. Best is trial 34 with value: 0.7706983746697991.\n",
            "[I 2024-02-19 14:22:30,747] Trial 70 finished with value: 0.7686569286079398 and parameters: {'iterations': 354, 'depth': 10, 'learning_rate': 0.09340285092250653, 'bagging_temperature': 0.7519330325866136, 'border_count': 181}. Best is trial 34 with value: 0.7706983746697991.\n",
            "[I 2024-02-19 14:23:31,618] Trial 71 finished with value: 0.7703802136193841 and parameters: {'iterations': 420, 'depth': 7, 'learning_rate': 0.07854490018832125, 'bagging_temperature': 0.7072252723158099, 'border_count': 204}. Best is trial 34 with value: 0.7706983746697991.\n",
            "[I 2024-02-19 14:24:38,417] Trial 72 finished with value: 0.7706187814768573 and parameters: {'iterations': 428, 'depth': 8, 'learning_rate': 0.0868609984324071, 'bagging_temperature': 0.7274677734210206, 'border_count': 226}. Best is trial 34 with value: 0.7706983746697991.\n",
            "[I 2024-02-19 14:25:47,840] Trial 73 finished with value: 0.7503391818881227 and parameters: {'iterations': 437, 'depth': 8, 'learning_rate': 0.0030183208105347345, 'bagging_temperature': 0.7296383880222788, 'border_count': 228}. Best is trial 34 with value: 0.7706983746697991.\n",
            "[I 2024-02-19 14:26:37,077] Trial 74 finished with value: 0.7697925691120795 and parameters: {'iterations': 312, 'depth': 8, 'learning_rate': 0.08530763038427505, 'bagging_temperature': 0.8337451107975911, 'border_count': 220}. Best is trial 34 with value: 0.7706983746697991.\n",
            "[I 2024-02-19 14:27:29,957] Trial 75 finished with value: 0.7701333167866515 and parameters: {'iterations': 408, 'depth': 6, 'learning_rate': 0.09089632360041947, 'bagging_temperature': 0.6753364338623619, 'border_count': 244}. Best is trial 34 with value: 0.7706983746697991.\n",
            "[I 2024-02-19 14:28:44,319] Trial 76 finished with value: 0.7699505779466227 and parameters: {'iterations': 441, 'depth': 9, 'learning_rate': 0.07070398007665887, 'bagging_temperature': 0.6446458032108667, 'border_count': 113}. Best is trial 34 with value: 0.7706983746697991.\n",
            "[I 2024-02-19 14:29:26,204] Trial 77 finished with value: 0.767248546516979 and parameters: {'iterations': 393, 'depth': 4, 'learning_rate': 0.08695248000612925, 'bagging_temperature': 0.6091886803746842, 'border_count': 67}. Best is trial 34 with value: 0.7706983746697991.\n",
            "[I 2024-02-19 14:30:31,194] Trial 78 finished with value: 0.7704210618048855 and parameters: {'iterations': 467, 'depth': 7, 'learning_rate': 0.0981622242981084, 'bagging_temperature': 0.8734167249110136, 'border_count': 54}. Best is trial 34 with value: 0.7706983746697991.\n",
            "[I 2024-02-19 14:31:49,322] Trial 79 finished with value: 0.7701335894076284 and parameters: {'iterations': 453, 'depth': 9, 'learning_rate': 0.0830364236766276, 'bagging_temperature': 0.5742113369110543, 'border_count': 228}. Best is trial 34 with value: 0.7706983746697991.\n",
            "[I 2024-02-19 14:32:46,826] Trial 80 finished with value: 0.7703514673312151 and parameters: {'iterations': 365, 'depth': 8, 'learning_rate': 0.09282846990593012, 'bagging_temperature': 0.7906229902019185, 'border_count': 252}. Best is trial 34 with value: 0.7706983746697991.\n",
            "[I 2024-02-19 14:33:51,128] Trial 81 finished with value: 0.7703291050365357 and parameters: {'iterations': 422, 'depth': 8, 'learning_rate': 0.07816911848634216, 'bagging_temperature': 0.7111914350698498, 'border_count': 201}. Best is trial 34 with value: 0.7706983746697991.\n",
            "[I 2024-02-19 14:34:57,023] Trial 82 finished with value: 0.7705601318076463 and parameters: {'iterations': 426, 'depth': 8, 'learning_rate': 0.08060908653614642, 'bagging_temperature': 0.7615502153442468, 'border_count': 193}. Best is trial 34 with value: 0.7706983746697991.\n",
            "[I 2024-02-19 14:35:57,454] Trial 83 finished with value: 0.770250010935051 and parameters: {'iterations': 384, 'depth': 8, 'learning_rate': 0.07256391484499923, 'bagging_temperature': 0.7490892919057834, 'border_count': 221}. Best is trial 34 with value: 0.7706983746697991.\n",
            "[I 2024-02-19 14:37:05,740] Trial 84 finished with value: 0.7705334625297307 and parameters: {'iterations': 397, 'depth': 9, 'learning_rate': 0.08082461448470235, 'bagging_temperature': 0.6688388152961527, 'border_count': 169}. Best is trial 34 with value: 0.7706983746697991.\n",
            "[I 2024-02-19 14:38:07,222] Trial 85 finished with value: 0.7706241235158275 and parameters: {'iterations': 433, 'depth': 7, 'learning_rate': 0.08885658517814002, 'bagging_temperature': 0.7662017529077655, 'border_count': 190}. Best is trial 34 with value: 0.7706983746697991.\n",
            "[I 2024-02-19 14:39:07,600] Trial 86 finished with value: 0.7704594740053914 and parameters: {'iterations': 429, 'depth': 7, 'learning_rate': 0.08701614098397846, 'bagging_temperature': 0.7628807340989737, 'border_count': 183}. Best is trial 34 with value: 0.7706983746697991.\n",
            "[I 2024-02-19 14:40:15,800] Trial 87 finished with value: 0.7703040403210022 and parameters: {'iterations': 476, 'depth': 7, 'learning_rate': 0.07542745752467238, 'bagging_temperature': 0.7916027059213621, 'border_count': 189}. Best is trial 34 with value: 0.7706983746697991.\n",
            "[I 2024-02-19 14:41:15,584] Trial 88 finished with value: 0.769600163170268 and parameters: {'iterations': 447, 'depth': 6, 'learning_rate': 0.0685882088932338, 'bagging_temperature': 0.7320029083507843, 'border_count': 193}. Best is trial 34 with value: 0.7706983746697991.\n",
            "[I 2024-02-19 14:42:14,413] Trial 89 finished with value: 0.7707434199337448 and parameters: {'iterations': 416, 'depth': 7, 'learning_rate': 0.08416930329270515, 'bagging_temperature': 0.8221722399171321, 'border_count': 42}. Best is trial 89 with value: 0.7707434199337448.\n",
            "[I 2024-02-19 14:43:13,873] Trial 90 finished with value: 0.7702269516251338 and parameters: {'iterations': 413, 'depth': 7, 'learning_rate': 0.08338755204086842, 'bagging_temperature': 0.8504862846993794, 'border_count': 35}. Best is trial 89 with value: 0.7707434199337448.\n",
            "[I 2024-02-19 14:44:14,846] Trial 91 finished with value: 0.7703237016221622 and parameters: {'iterations': 434, 'depth': 7, 'learning_rate': 0.08901428949486657, 'bagging_temperature': 0.8313926353508689, 'border_count': 21}. Best is trial 89 with value: 0.7707434199337448.\n",
            "[I 2024-02-19 14:45:15,331] Trial 92 finished with value: 0.7700887794160616 and parameters: {'iterations': 457, 'depth': 6, 'learning_rate': 0.0800727127272231, 'bagging_temperature': 0.8168256790138373, 'border_count': 45}. Best is trial 89 with value: 0.7707434199337448.\n",
            "[I 2024-02-19 14:46:13,294] Trial 93 finished with value: 0.7704186410447964 and parameters: {'iterations': 413, 'depth': 7, 'learning_rate': 0.08473170567392878, 'bagging_temperature': 0.8949666584445113, 'border_count': 71}. Best is trial 89 with value: 0.7707434199337448.\n",
            "[I 2024-02-19 14:47:28,903] Trial 94 finished with value: 0.7703688912848281 and parameters: {'iterations': 485, 'depth': 8, 'learning_rate': 0.09103512738938574, 'bagging_temperature': 0.696993682152547, 'border_count': 60}. Best is trial 89 with value: 0.7707434199337448.\n",
            "[I 2024-02-19 14:48:35,208] Trial 95 finished with value: 0.7701431618295257 and parameters: {'iterations': 377, 'depth': 9, 'learning_rate': 0.07651968799406596, 'bagging_temperature': 0.7807300359737813, 'border_count': 174}. Best is trial 89 with value: 0.7707434199337448.\n",
            "[I 2024-02-19 14:49:42,337] Trial 96 finished with value: 0.7708790557685965 and parameters: {'iterations': 466, 'depth': 7, 'learning_rate': 0.09455518002541793, 'bagging_temperature': 0.7600220780667979, 'border_count': 207}. Best is trial 96 with value: 0.7708790557685965.\n",
            "[I 2024-02-19 14:50:52,987] Trial 97 finished with value: 0.7703060357352738 and parameters: {'iterations': 494, 'depth': 7, 'learning_rate': 0.09541342164576352, 'bagging_temperature': 0.7657663253415659, 'border_count': 208}. Best is trial 96 with value: 0.7708790557685965.\n",
            "[I 2024-02-19 14:52:01,291] Trial 98 finished with value: 0.7703375006207598 and parameters: {'iterations': 466, 'depth': 7, 'learning_rate': 0.06140113440497257, 'bagging_temperature': 0.8022471808234205, 'border_count': 214}. Best is trial 96 with value: 0.7708790557685965.\n",
            "[I 2024-02-19 14:53:04,229] Trial 99 finished with value: 0.7705253117334518 and parameters: {'iterations': 428, 'depth': 7, 'learning_rate': 0.08770506435047454, 'bagging_temperature': 0.8832980924484124, 'border_count': 156}. Best is trial 96 with value: 0.7708790557685965.\n"
          ]
        },
        {
          "output_type": "stream",
          "name": "stdout",
          "text": [
            "Best trial:\n",
            "ROC-AUC: 0.7709\n",
            "Params: {'iterations': 466, 'depth': 7, 'learning_rate': 0.09455518002541793, 'bagging_temperature': 0.7600220780667979, 'border_count': 207}\n"
          ]
        }
      ],
      "source": [
        "def objective(trial):\n",
        "    params = {\n",
        "        'iterations': trial.suggest_int('iterations', 50, 500),\n",
        "        'depth': trial.suggest_int('depth', 4, 10),\n",
        "        'learning_rate': trial.suggest_float('learning_rate', 0.001, 0.1),\n",
        "        'bagging_temperature': trial.suggest_float('bagging_temperature', 0.1, 1.0),\n",
        "        'border_count': trial.suggest_int('border_count', 5, 255)\n",
        "    }\n",
        "\n",
        "    model = CatBoostClassifier(**params, random_state=42, silent=True)\n",
        "    model.fit(X_train, y_train)\n",
        "    predictions = model.predict_proba(X_test)[:, 1]\n",
        "    roc_auc = roc_auc_score(y_test, predictions)\n",
        "\n",
        "    return roc_auc\n",
        "\n",
        "study = optuna.create_study(direction='maximize')\n",
        "study.optimize(objective, n_trials=100)\n",
        "\n",
        "print('Best trial:')\n",
        "trial = study.best_trial\n",
        "print('ROC-AUC: {:.4f}'.format(trial.value))\n",
        "print('Params: {}'.format(trial.params))\n"
      ]
    },
    {
      "cell_type": "markdown",
      "source": [
        "Самый лучший показатель метрики дала модель CatBoost. Сохраним лучшую модель с подобранными оптимальными параметрами. А также посмотрим как и какие параметры влияли на результат предсказания модели."
      ],
      "metadata": {
        "id": "A8R3DkND4z_t"
      }
    },
    {
      "cell_type": "code",
      "source": [
        "best_params = trial.params\n",
        "best_model = CatBoostClassifier(**best_params, random_state=42, silent=True)\n",
        "best_model.fit(X_train, y_train)\n",
        "best_model.save_model('best_model.cbm')"
      ],
      "metadata": {
        "id": "f0Sqvk9YAsU1"
      },
      "execution_count": 100,
      "outputs": []
    },
    {
      "cell_type": "code",
      "source": [
        "test_pool = Pool(X_test, y_test)\n",
        "feature_importance = best_model.get_feature_importance(data=test_pool, type='LossFunctionChange')\n",
        "\n",
        "feature_importance_df = pd.DataFrame({'Feature': X_test.columns, 'Importance': feature_importance})\n",
        "feature_importance_df = feature_importance_df.sort_values(by='Importance', ascending=False)\n",
        "\n",
        "plt.figure(figsize=(10, 6))\n",
        "plt.barh(feature_importance_df['Feature'], feature_importance_df['Importance'])\n",
        "plt.xlabel('Importance')\n",
        "plt.title('Feature Importance')\n",
        "plt.show()"
      ],
      "metadata": {
        "colab": {
          "base_uri": "https://localhost:8080/",
          "height": 564
        },
        "id": "CBTOcTKl3oaM",
        "outputId": "54905089-ec49-41be-8ba0-9aa6a26b2e90"
      },
      "execution_count": 104,
      "outputs": [
        {
          "output_type": "display_data",
          "data": {
            "text/plain": [
              "<Figure size 1000x600 with 1 Axes>"
            ],
            "image/png": "[encoded data removed]"
          },
          "metadata": {}
        }
      ]
    },
    {
      "cell_type": "markdown",
      "source": [
        "Опыт преподавателя и день недели, в который была подана заявка имеют околонулевое влияние на обучение. Самое же большое влияние имеет имеет параметр отсутвия на заявку подходящих репетиторов. Мне кажется этот параметр достаточно показательным, поэтому я не стану его удалять из выборки."
      ],
      "metadata": {
        "id": "TC6ft-Bl5NUM"
      }
    },
    {
      "cell_type": "markdown",
      "source": [
        "Построим таблицу и оценим показатели целевых метрик"
      ],
      "metadata": {
        "id": "9J2HK6MR55uD"
      }
    },
    {
      "cell_type": "code",
      "source": [
        "report = classification_report(y_test, predictions, target_names=['0', '1'], output_dict=True)\n",
        "metrics_df = pd.DataFrame({\n",
        "    'Label': ['0', '1'],\n",
        "    'Precision': [report['0']['precision'], report['1']['precision']],\n",
        "    'Recall': [report['0']['recall'], report['1']['recall']],\n",
        "    'F1-Score': [report['0']['f1-score'], report['1']['f1-score']],\n",
        "    'Support': [report['0']['support'], report['1']['support']]\n",
        "})\n",
        "\n",
        "display(metrics_df)"
      ],
      "metadata": {
        "colab": {
          "base_uri": "https://localhost:8080/",
          "height": 125
        },
        "id": "AibsmhDN4Hdz",
        "outputId": "9c4be3d4-348d-4daa-a43a-ccded4a6e71b"
      },
      "execution_count": 106,
      "outputs": [
        {
          "output_type": "display_data",
          "data": {
            "text/plain": [
              "  Label  Precision    Recall  F1-Score  Support\n",
              "0     0   0.831688  0.995045  0.906062   100918\n",
              "1     1   0.502488  0.024247  0.046262    20827"
            ],
            "text/html": [
              "\n",
              "  <div id=\"df-57079032-f861-4ab0-b240-abedd6d917cc\" class=\"colab-df-container\">\n",
              "    <div>\n",
              "<style scoped>\n",
              "    .dataframe tbody tr th:only-of-type {\n",
              "        vertical-align: middle;\n",
              "    }\n",
              "\n",
              "    .dataframe tbody tr th {\n",
              "        vertical-align: top;\n",
              "    }\n",
              "\n",
              "    .dataframe thead th {\n",
              "        text-align: right;\n",
              "    }\n",
              "</style>\n",
              "<table border=\"1\" class=\"dataframe\">\n",
              "  <thead>\n",
              "    <tr style=\"text-align: right;\">\n",
              "      <th></th>\n",
              "      <th>Label</th>\n",
              "      <th>Precision</th>\n",
              "      <th>Recall</th>\n",
              "      <th>F1-Score</th>\n",
              "      <th>Support</th>\n",
              "    </tr>\n",
              "  </thead>\n",
              "  <tbody>\n",
              "    <tr>\n",
              "      <th>0</th>\n",
              "      <td>0</td>\n",
              "      <td>0.831688</td>\n",
              "      <td>0.995045</td>\n",
              "      <td>0.906062</td>\n",
              "      <td>100918</td>\n",
              "    </tr>\n",
              "    <tr>\n",
              "      <th>1</th>\n",
              "      <td>1</td>\n",
              "      <td>0.502488</td>\n",
              "      <td>0.024247</td>\n",
              "      <td>0.046262</td>\n",
              "      <td>20827</td>\n",
              "    </tr>\n",
              "  </tbody>\n",
              "</table>\n",
              "</div>\n",
              "    <div class=\"colab-df-buttons\">\n",
              "\n",
              "  <div class=\"colab-df-container\">\n",
              "    <button class=\"colab-df-convert\" onclick=\"convertToInteractive('df-57079032-f861-4ab0-b240-abedd6d917cc')\"\n",
              "            title=\"Convert this dataframe to an interactive table.\"\n",
              "            style=\"display:none;\">\n",
              "\n",
              "  <svg xmlns=\"http://www.w3.org/2000/svg\" height=\"24px\" viewBox=\"0 -960 960 960\">\n",
              "    <path d=\"M120-120v-720h720v720H120Zm60-500h600v-160H180v160Zm220 220h160v-160H400v160Zm0 220h160v-160H400v160ZM180-400h160v-160H180v160Zm440 0h160v-160H620v160ZM180-180h160v-160H180v160Zm440 0h160v-160H620v160Z\"/>\n",
              "  </svg>\n",
              "    </button>\n",
              "\n",
              "  <style>\n",
              "    .colab-df-container {\n",
              "      display:flex;\n",
              "      gap: 12px;\n",
              "    }\n",
              "\n",
              "    .colab-df-convert {\n",
              "      background-color: #E8F0FE;\n",
              "      border: none;\n",
              "      border-radius: 50%;\n",
              "      cursor: pointer;\n",
              "      display: none;\n",
              "      fill: #1967D2;\n",
              "      height: 32px;\n",
              "      padding: 0 0 0 0;\n",
              "      width: 32px;\n",
              "    }\n",
              "\n",
              "    .colab-df-convert:hover {\n",
              "      background-color: #E2EBFA;\n",
              "      box-shadow: 0px 1px 2px rgba(60, 64, 67, 0.3), 0px 1px 3px 1px rgba(60, 64, 67, 0.15);\n",
              "      fill: #174EA6;\n",
              "    }\n",
              "\n",
              "    .colab-df-buttons div {\n",
              "      margin-bottom: 4px;\n",
              "    }\n",
              "\n",
              "    [theme=dark] .colab-df-convert {\n",
              "      background-color: #3B4455;\n",
              "      fill: #D2E3FC;\n",
              "    }\n",
              "\n",
              "    [theme=dark] .colab-df-convert:hover {\n",
              "      background-color: #434B5C;\n",
              "      box-shadow: 0px 1px 3px 1px rgba(0, 0, 0, 0.15);\n",
              "      filter: drop-shadow(0px 1px 2px rgba(0, 0, 0, 0.3));\n",
              "      fill: #FFFFFF;\n",
              "    }\n",
              "  </style>\n",
              "\n",
              "    <script>\n",
              "      const buttonEl =\n",
              "        document.querySelector('#df-57079032-f861-4ab0-b240-abedd6d917cc button.colab-df-convert');\n",
              "      buttonEl.style.display =\n",
              "        google.colab.kernel.accessAllowed ? 'block' : 'none';\n",
              "\n",
              "      async function convertToInteractive(key) {\n",
              "        const element = document.querySelector('#df-57079032-f861-4ab0-b240-abedd6d917cc');\n",
              "        const dataTable =\n",
              "          await google.colab.kernel.invokeFunction('convertToInteractive',\n",
              "                                                    [key], {});\n",
              "        if (!dataTable) return;\n",
              "\n",
              "        const docLinkHtml = 'Like what you see? Visit the ' +\n",
              "          '<a target=\"_blank\" href=https://colab.research.google.com/notebooks/data_table.ipynb>data table notebook</a>'\n",
              "          + ' to learn more about interactive tables.';\n",
              "        element.innerHTML = '';\n",
              "        dataTable['output_type'] = 'display_data';\n",
              "        await google.colab.output.renderOutput(dataTable, element);\n",
              "        const docLink = document.createElement('div');\n",
              "        docLink.innerHTML = docLinkHtml;\n",
              "        element.appendChild(docLink);\n",
              "      }\n",
              "    </script>\n",
              "  </div>\n",
              "\n",
              "\n",
              "<div id=\"df-bf870ef8-c7f8-4fb2-843b-ddcd6d26a14e\">\n",
              "  <button class=\"colab-df-quickchart\" onclick=\"quickchart('df-bf870ef8-c7f8-4fb2-843b-ddcd6d26a14e')\"\n",
              "            title=\"Suggest charts\"\n",
              "            style=\"display:none;\">\n",
              "\n",
              "<svg xmlns=\"http://www.w3.org/2000/svg\" height=\"24px\"viewBox=\"0 0 24 24\"\n",
              "     width=\"24px\">\n",
              "    <g>\n",
              "        <path d=\"M19 3H5c-1.1 0-2 .9-2 2v14c0 1.1.9 2 2 2h14c1.1 0 2-.9 2-2V5c0-1.1-.9-2-2-2zM9 17H7v-7h2v7zm4 0h-2V7h2v10zm4 0h-2v-4h2v4z\"/>\n",
              "    </g>\n",
              "</svg>\n",
              "  </button>\n",
              "\n",
              "<style>\n",
              "  .colab-df-quickchart {\n",
              "      --bg-color: #E8F0FE;\n",
              "      --fill-color: #1967D2;\n",
              "      --hover-bg-color: #E2EBFA;\n",
              "      --hover-fill-color: #174EA6;\n",
              "      --disabled-fill-color: #AAA;\n",
              "      --disabled-bg-color: #DDD;\n",
              "  }\n",
              "\n",
              "  [theme=dark] .colab-df-quickchart {\n",
              "      --bg-color: #3B4455;\n",
              "      --fill-color: #D2E3FC;\n",
              "      --hover-bg-color: #434B5C;\n",
              "      --hover-fill-color: #FFFFFF;\n",
              "      --disabled-bg-color: #3B4455;\n",
              "      --disabled-fill-color: #666;\n",
              "  }\n",
              "\n",
              "  .colab-df-quickchart {\n",
              "    background-color: var(--bg-color);\n",
              "    border: none;\n",
              "    border-radius: 50%;\n",
              "    cursor: pointer;\n",
              "    display: none;\n",
              "    fill: var(--fill-color);\n",
              "    height: 32px;\n",
              "    padding: 0;\n",
              "    width: 32px;\n",
              "  }\n",
              "\n",
              "  .colab-df-quickchart:hover {\n",
              "    background-color: var(--hover-bg-color);\n",
              "    box-shadow: 0 1px 2px rgba(60, 64, 67, 0.3), 0 1px 3px 1px rgba(60, 64, 67, 0.15);\n",
              "    fill: var(--button-hover-fill-color);\n",
              "  }\n",
              "\n",
              "  .colab-df-quickchart-complete:disabled,\n",
              "  .colab-df-quickchart-complete:disabled:hover {\n",
              "    background-color: var(--disabled-bg-color);\n",
              "    fill: var(--disabled-fill-color);\n",
              "    box-shadow: none;\n",
              "  }\n",
              "\n",
              "  .colab-df-spinner {\n",
              "    border: 2px solid var(--fill-color);\n",
              "    border-color: transparent;\n",
              "    border-bottom-color: var(--fill-color);\n",
              "    animation:\n",
              "      spin 1s steps(1) infinite;\n",
              "  }\n",
              "\n",
              "  @keyframes spin {\n",
              "    0% {\n",
              "      border-color: transparent;\n",
              "      border-bottom-color: var(--fill-color);\n",
              "      border-left-color: var(--fill-color);\n",
              "    }\n",
              "    20% {\n",
              "      border-color: transparent;\n",
              "      border-left-color: var(--fill-color);\n",
              "      border-top-color: var(--fill-color);\n",
              "    }\n",
              "    30% {\n",
              "      border-color: transparent;\n",
              "      border-left-color: var(--fill-color);\n",
              "      border-top-color: var(--fill-color);\n",
              "      border-right-color: var(--fill-color);\n",
              "    }\n",
              "    40% {\n",
              "      border-color: transparent;\n",
              "      border-right-color: var(--fill-color);\n",
              "      border-top-color: var(--fill-color);\n",
              "    }\n",
              "    60% {\n",
              "      border-color: transparent;\n",
              "      border-right-color: var(--fill-color);\n",
              "    }\n",
              "    80% {\n",
              "      border-color: transparent;\n",
              "      border-right-color: var(--fill-color);\n",
              "      border-bottom-color: var(--fill-color);\n",
              "    }\n",
              "    90% {\n",
              "      border-color: transparent;\n",
              "      border-bottom-color: var(--fill-color);\n",
              "    }\n",
              "  }\n",
              "</style>\n",
              "\n",
              "  <script>\n",
              "    async function quickchart(key) {\n",
              "      const quickchartButtonEl =\n",
              "        document.querySelector('#' + key + ' button');\n",
              "      quickchartButtonEl.disabled = true;  // To prevent multiple clicks.\n",
              "      quickchartButtonEl.classList.add('colab-df-spinner');\n",
              "      try {\n",
              "        const charts = await google.colab.kernel.invokeFunction(\n",
              "            'suggestCharts', [key], {});\n",
              "      } catch (error) {\n",
              "        console.error('Error during call to suggestCharts:', error);\n",
              "      }\n",
              "      quickchartButtonEl.classList.remove('colab-df-spinner');\n",
              "      quickchartButtonEl.classList.add('colab-df-quickchart-complete');\n",
              "    }\n",
              "    (() => {\n",
              "      let quickchartButtonEl =\n",
              "        document.querySelector('#df-bf870ef8-c7f8-4fb2-843b-ddcd6d26a14e button');\n",
              "      quickchartButtonEl.style.display =\n",
              "        google.colab.kernel.accessAllowed ? 'block' : 'none';\n",
              "    })();\n",
              "  </script>\n",
              "</div>\n",
              "\n",
              "  <div id=\"id_f4107777-177e-4734-84c5-ccbfee6f7045\">\n",
              "    <style>\n",
              "      .colab-df-generate {\n",
              "        background-color: #E8F0FE;\n",
              "        border: none;\n",
              "        border-radius: 50%;\n",
              "        cursor: pointer;\n",
              "        display: none;\n",
              "        fill: #1967D2;\n",
              "        height: 32px;\n",
              "        padding: 0 0 0 0;\n",
              "        width: 32px;\n",
              "      }\n",
              "\n",
              "      .colab-df-generate:hover {\n",
              "        background-color: #E2EBFA;\n",
              "        box-shadow: 0px 1px 2px rgba(60, 64, 67, 0.3), 0px 1px 3px 1px rgba(60, 64, 67, 0.15);\n",
              "        fill: #174EA6;\n",
              "      }\n",
              "\n",
              "      [theme=dark] .colab-df-generate {\n",
              "        background-color: #3B4455;\n",
              "        fill: #D2E3FC;\n",
              "      }\n",
              "\n",
              "      [theme=dark] .colab-df-generate:hover {\n",
              "        background-color: #434B5C;\n",
              "        box-shadow: 0px 1px 3px 1px rgba(0, 0, 0, 0.15);\n",
              "        filter: drop-shadow(0px 1px 2px rgba(0, 0, 0, 0.3));\n",
              "        fill: #FFFFFF;\n",
              "      }\n",
              "    </style>\n",
              "    <button class=\"colab-df-generate\" onclick=\"generateWithVariable('metrics_df')\"\n",
              "            title=\"Generate code using this dataframe.\"\n",
              "            style=\"display:none;\">\n",
              "\n",
              "  <svg xmlns=\"http://www.w3.org/2000/svg\" height=\"24px\"viewBox=\"0 0 24 24\"\n",
              "       width=\"24px\">\n",
              "    <path d=\"M7,19H8.4L18.45,9,17,7.55,7,17.6ZM5,21V16.75L18.45,3.32a2,2,0,0,1,2.83,0l1.4,1.43a1.91,1.91,0,0,1,.58,1.4,1.91,1.91,0,0,1-.58,1.4L9.25,21ZM18.45,9,17,7.55Zm-12,3A5.31,5.31,0,0,0,4.9,8.1,5.31,5.31,0,0,0,1,6.5,5.31,5.31,0,0,0,4.9,4.9,5.31,5.31,0,0,0,6.5,1,5.31,5.31,0,0,0,8.1,4.9,5.31,5.31,0,0,0,12,6.5,5.46,5.46,0,0,0,6.5,12Z\"/>\n",
              "  </svg>\n",
              "    </button>\n",
              "    <script>\n",
              "      (() => {\n",
              "      const buttonEl =\n",
              "        document.querySelector('#id_f4107777-177e-4734-84c5-ccbfee6f7045 button.colab-df-generate');\n",
              "      buttonEl.style.display =\n",
              "        google.colab.kernel.accessAllowed ? 'block' : 'none';\n",
              "\n",
              "      buttonEl.onclick = () => {\n",
              "        google.colab.notebook.generateWithVariable('metrics_df');\n",
              "      }\n",
              "      })();\n",
              "    </script>\n",
              "  </div>\n",
              "\n",
              "    </div>\n",
              "  </div>\n"
            ],
            "application/vnd.google.colaboratory.intrinsic+json": {
              "type": "dataframe",
              "variable_name": "metrics_df",
              "summary": "{\n  \"name\": \"metrics_df\",\n  \"rows\": 2,\n  \"fields\": [\n    {\n      \"column\": \"Label\",\n      \"properties\": {\n        \"dtype\": \"string\",\n        \"samples\": [\n          \"1\",\n          \"0\"\n        ],\n        \"num_unique_values\": 2,\n        \"semantic_type\": \"\",\n        \"description\": \"\"\n      }\n    },\n    {\n      \"column\": \"Precision\",\n      \"properties\": {\n        \"dtype\": \"number\",\n        \"std\": 0.23277980853495064,\n        \"min\": 0.5024875621890548,\n        \"max\": 0.8316879244657943,\n        \"samples\": [\n          0.5024875621890548,\n          0.8316879244657943\n        ],\n        \"num_unique_values\": 2,\n        \"semantic_type\": \"\",\n        \"description\": \"\"\n      }\n    },\n    {\n      \"column\": \"Recall\",\n      \"properties\": {\n        \"dtype\": \"number\",\n        \"std\": 0.6864579276421603,\n        \"min\": 0.024247371200845056,\n        \"max\": 0.995045482470917,\n        \"samples\": [\n          0.024247371200845056,\n          0.995045482470917\n        ],\n        \"num_unique_values\": 2,\n        \"semantic_type\": \"\",\n        \"description\": \"\"\n      }\n    },\n    {\n      \"column\": \"F1-Score\",\n      \"properties\": {\n        \"dtype\": \"number\",\n        \"std\": 0.6079704992071027,\n        \"min\": 0.04626236716746061,\n        \"max\": 0.9060624926688863,\n        \"samples\": [\n          0.04626236716746061,\n          0.9060624926688863\n        ],\n        \"num_unique_values\": 2,\n        \"semantic_type\": \"\",\n        \"description\": \"\"\n      }\n    },\n    {\n      \"column\": \"Support\",\n      \"properties\": {\n        \"dtype\": \"number\",\n        \"std\": 56632,\n        \"min\": 20827,\n        \"max\": 100918,\n        \"samples\": [\n          20827,\n          100918\n        ],\n        \"num_unique_values\": 2,\n        \"semantic_type\": \"\",\n        \"description\": \"\"\n      }\n    }\n  ]\n}"
            }
          },
          "metadata": {}
        }
      ]
    },
    {
      "cell_type": "markdown",
      "source": [
        "Модель хорошо справляется с предсказанием объектов класса 0, но у нее есть проблемы с классом 1, что может требовать дополнительных улучшений, таких как балансировка классов или тюнинг параметров."
      ],
      "metadata": {
        "id": "p4Lqn05I6ZzX"
      }
    },
    {
      "cell_type": "markdown",
      "source": [
        "## Подведение итогов"
      ],
      "metadata": {
        "id": "SXpZeLlF6l2d"
      }
    },
    {
      "cell_type": "markdown",
      "source": [
        "Аналитическая работа включала в себя тщательную обработку и анализ предоставленных данных с целью подготовки их к обучению моделей машинного обучения. Процесс предварительной обработки данных включал в себя преобразование, очистку, и приведение к соответствующим типам данных. Также были созданы новые признаки для лучшего отражения структуры данных и лучшего понимания взаимосвязей между переменными.\n",
        "\n",
        "В рамках анализа данных были выявлены ключевые характеристики, влияющие на целевую переменную. Это включало в себя выявление корреляций, аномалий и важности признаков. Были выявлены и исправлены ошибки в данных, такие как отрицательные значения и выбросы.\n",
        "\n",
        "Далее, проведено обучение трех различных моделей машинного обучения: Случайного леса, LightGBM и CatBoost. После тщательного тюнинга гиперпараметров, CatBoost показал лучшие результаты, достигнув ROC-AUC равного 0.77. Это свидетельствует о хорошей способности модели к разделению классов и обобщению на новые данные.\n",
        "\n",
        "Несмотря на общие удовлетворительные метрики, модель CatBoost все же выявила определенные трудности в предсказании оплаченных заявок. Дополнительный анализ ошибок модели указывает на возможные причины таких неточностей, возможно, вызванных несбалансированным распределением классов или наличием шума в данных.\n",
        "\n",
        "Для улучшения предсказательной способности модели в отношении оплаченных заявок, рекомендуется:\n",
        "\n",
        "1.   НБалансировка классов: Применение техник балансировки классов, таких как взвешивание классов или использование методов сэмплирования, может помочь модели лучше обучиться на классе с меньшим количеством экземпляров.\n",
        "2.   Дополнительный тюнинг: Проведение дополнительного тюнинга гиперпараметров модели CatBoost для улучшения ее чувствительности к особенностям данных.\n",
        "3.   Feature Engineering: Дальнейшее исследование и создание новых признаков для более глубокого понимания структуры данных и улучшения качества предсказаний.\n",
        "\n",
        "\n",
        "\n",
        "Эти рекомендации могут способствовать повышению точности модели в отношении предсказания оплаченных заявок и улучшить ее обобщающую способность."
      ],
      "metadata": {
        "id": "7wYl-wW86uPA"
      }
    }
  ],
  "metadata": {
    "kernelspec": {
      "display_name": "base",
      "language": "python",
      "name": "python3"
    },
    "language_info": {
      "codemirror_mode": {
        "name": "ipython",
        "version": 3
      },
      "file_extension": ".py",
      "mimetype": "text/x-python",
      "name": "python",
      "nbconvert_exporter": "python",
      "pygments_lexer": "ipython3",
      "version": "3.9.13"
    },
    "colab": {
      "provenance": []
    }
  },
  "nbformat": 4,
  "nbformat_minor": 0
}